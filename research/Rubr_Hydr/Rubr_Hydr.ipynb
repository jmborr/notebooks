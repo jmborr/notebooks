{
 "metadata": {
  "name": "",
  "signature": "sha256:61c0fbfd656da0101a745e69b0bd7a5f1e2631a7f05f20bfd277773d1996e736"
 },
 "nbformat": 3,
 "nbformat_minor": 0,
 "worksheets": [
  {
   "cells": [
    {
     "cell_type": "markdown",
     "metadata": {},
     "source": [
      "<h1>Rubr_Hydr</h1>\n",
      "<a id='Table of Contents'></a><h3>Table of Contents</h3>\n",
      "<a href='#Syntax'>HTML and MARKDOWN SYNTAX EXAMPLES</a></br>\n",
      "<a href='#Serialize'>Serialize trajectory into single unsolvated protein</a></br>\n",
      "<a href='#tyrosine'>Visualizing the conformational space of the two tyrosines</a></br>\n",
      "<a href='#emaps'>Calculating electron density maps with cpptraj</a></br>\n"
     ]
    },
    {
     "cell_type": "markdown",
     "metadata": {},
     "source": [
      "(<a href='#Table of Contents'>Top</a>)<a id='Syntax'></a><h3>Syntax Examples</h3>\n",
      "local link: [link](files/link)</br>\n",
      "remote link: <a href=\"http://ambermd.org/\">http://ambermd.org</a>\n",
      "<font face=\"courier new\"> font face=\"courier new\" </font><br/>\n",
      "$$S_{model}(Q,E)=A(Q)\\cdot S_{elastic}(E) + B(Q)\\cdot S_{simulation}(Q,E)\\otimes S_{elastic}(E) + C(Q)+D(Q)\\cdot E$$\n",
      "<pre> Quoted text </pre>\n",
      "<center><table><tr>\n",
      "<td><center><a href=\"files/image.png\"><img src=\"files/image.png\" width=\"300\" height=\"250\" alt=\"image here\"></a> <br/>\n",
      "    <i>image caption</i></center></td>\n",
      "<td>some text</td>\n",
      "</tr></table></center>"
     ]
    },
    {
     "cell_type": "markdown",
     "metadata": {},
     "source": [
      "(<a href='#Table of Contents'>Top</a>)<a id='Serialize'></a><h3>Serialize trajectory into single unsolvated protein</h3>\n",
      "Given a trajectory containing the four Rubredoxins and whatever water molecules, we create a trajectory for each protein and then merge them together. Then, we find the centroid and average structure, and create a trajectory by doing RMS to the average structure.</br>\n",
      "We use python script [unsolv_serial.py](files/python/unsolv_serial.py), e.g</br>\n",
      "<pre>cd $PROJD/out/D-Rub_H2O/h_37/T_300/solv/electrondensity/\n",
      "python $PROJD/python/unsolv_serial.py ../final_snapshot.pdb ../dcd serial.dcd centroid.pdb average.pdb rms2avg.dat</pre>\n",
      "<center><table><tr>\n",
      "<td><center><a href=\"files/out/D-Rub_H2O/h_37/T_300/solv/electrondensity/average.png\"><img src=\"files/out/D-Rub_H2O/h_37/T_300/solv/electrondensity/average.png\" width=\"200\" height=\"150\" alt=\"out/D-Rub_H2O/h_37/T_300/solv/electrondensity/average.png\"></a> <br/><i>out/D-Rub_H2O/h_37/T_300/solv/electrondensity/average.png</i></center></td>\n",
      "</tr></table></center>\n",
      "Trajectory serial.dcd will contain 40,000 frames that were superimposed to average.pdb. This trajectory can be used to calculate atomic mean square displacements of average electron density maps for the protein."
     ]
    },
    {
     "cell_type": "markdown",
     "metadata": {},
     "source": [
      "(<a href='#Table of Contents'>Top</a>)<a id='tyrosine'></a><h3>Visualizing the conformational space of the two tyrosines</h3>\n",
      "We use the serialized trajectory <i>$PROJD/out/D-Rub_H2O/h_37/T_300/solv/electrondensity/serial.dcd</i> to visualize the flexibility of the two tyrosines. TYR 10 has two preferred conformations, where the whole chain has rotated. TYR 12 has one conformation.</br>\n",
      "<center><table><tr>\n",
      "<td><center><a href=\"files/out/D-Rub_H2O/h_37/T_300/solv/electrondensity/TYR.png\"><img src=\"files/out/D-Rub_H2O/h_37/T_300/solv/electrondensity/TYR.png\" width=\"200\" height=\"150\" alt=\"out/D-Rub_H2O/h_37/T_300/solv/electrondensity/TYR.png\"></a> <br/><i>out/D-Rub_H2O/h_37/T_300/solv/electrondensity/TYR.vmd(.png)</i></center></td>\n",
      "</tr></table></center>"
     ]
    },
    {
     "cell_type": "markdown",
     "metadata": {},
     "source": [
      "(<a href='#Table of Contents'>Top</a>)<a id='emaps'></a><h3>Calculating electron density maps with cpptraj</h3>\n",
      "David Case sent me an email giving me some pointers on how to calculate average electron density maps with <b>cpptraj</b>:\n",
      "<font size=\"1\"><pre>Here is the approach we use: run cpptraj with the \"pdb multi\" option on the trajout line.  This will create a set of PDB files.  You then have to add the \"CRYST1\" record from the experimental file at the top.  Then you can feed this pdb file to SFALL (from CCP4; other xray programs might work) to create the electron density map for that snapshot.  Do this for each snapshot, and average all the resulting maps to get an averaged electron density.\n",
      "This procedure is automated in the \"md2map.sh\" script which is in $AMBERHOME/AmberTools/src/xtalutil/Analysis.  Look at the comments at the top of this file.  It requires CCP4 programs to be in your PATH, and may require some work to make things work (this is all pretty new, even to us.)\n",
      "If your simulations is a constant volume one (using, presumably, the experimental unit cell parameters), you can try the somewhat simpler mdv2map.sh script in the same directory.\n",
      "...hope this helps...note that \"support\" for these scripts may be weaker than for other parts of Amber...so far as I know, only a very few people have used these.  We'll try to answer questions, but you may have to fiddle with things.\n",
      "I'll bet there must be other approaches that take a set of PDB files and compute electron density maps from them...doesn't have to have anything to do with Amber.  But I have to admit I didn't find anything with a simple Google search.  You might post a question on the CCP4 mailing list -- James Holton might reply, but he is the main author of md2map.sh.\n",
      "[Aside: sander knows how to deal with electron density maps, and how to create them from coordinates.  But this is in the context of cryo-EM maps, and does not know about crystal symmetry.  So that seems not much help for you, but just to point out to other readers an approach for the non-periodic problem.]\n",
      "</pre></font>\n"
     ]
    },
    {
     "cell_type": "code",
     "collapsed": false,
     "input": [],
     "language": "python",
     "metadata": {},
     "outputs": []
    }
   ],
   "metadata": {}
  }
 ]
}