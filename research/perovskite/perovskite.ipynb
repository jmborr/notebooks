{
 "metadata": {
  "name": "",
  "signature": "sha256:839cee29b0fa9119f19c8bc04e14b39d78f60c39927acfbe7c9f0a4a8ee84b77"
 },
 "nbformat": 3,
 "nbformat_minor": 0,
 "worksheets": [
  {
   "cells": [
    {
     "cell_type": "markdown",
     "metadata": {},
     "source": [
      "<h1>Methyl Ammonium Lead Halides Hybrid Perovskite</h1>\n",
      "<a id='Table of Contents'></a><h3>Table of Contents</h3>\n",
      "<a href='#Syntax'>HTML and MARKDOWN SYNTAX EXAMPLES ; </a></br>\n",
      "<a href='#people'>People</a></br>\n",
      "<a href='#goal'>Goal</a></br>\n",
      "\n",
      "<a href='#PS'>Presentations ; </a></br>\n"
     ]
    },
    {
     "cell_type": "markdown",
     "metadata": {},
     "source": [
      "(<a href='#Table of Contents'>Top</a>)<a id='people'></a><h3>People</h3>\n",
      "\n",
      "* Mike Crawford\n",
      "* Niina Jalarvo"
     ]
    },
    {
     "cell_type": "markdown",
     "metadata": {},
     "source": [
      "(<a href='#Table of Contents'>Top</a>)<a id='goal'></a><h3>Goal</h3>\n",
      "Study of dynamics of methyl ammonium lead halides hybrid perovskites.</br>\n",
      "Chemical composition: $CH_3NH_3X_fY_{3-f}$</br>\n",
      "Some intro to the field that Mike sent me:\n",
      "\n",
      "* [Snaith13](files/docs/Snaith13.pdf) An author's perspective on the state-of-the-art perovskite appliation to photovoltail cells.\n",
      "* [Crawford_PV_group_meeting_presentation_November_25_2014](files/docs/Crawford_PV_group_meeting_presentation_November_25_2014.pptx)\n",
      "* [Crawford_PV_group_meeting_presentation_October_21_2014](files/docs/Crawford_PV_group_meeting_presentation_October_21_2014.pptx)"
     ]
    },
    {
     "cell_type": "markdown",
     "metadata": {},
     "source": [
      "(<a href='#Table of Contents'>Top</a>)<a id='PS'></a><h3>Presentations</h3>"
     ]
    }
   ],
   "metadata": {}
  }
 ]
}