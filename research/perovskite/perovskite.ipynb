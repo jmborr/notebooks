{
 "metadata": {
  "name": "",
  "signature": "sha256:839cee29b0fa9119f19c8bc04e14b39d78f60c39927acfbe7c9f0a4a8ee84b77"
 },
 "nbformat": 3,
 "nbformat_minor": 0,
 "worksheets": [
  {
   "cells": [
    {
     "cell_type": "markdown",
     "metadata": {},
     "source": [
      "<h1>Methyl Ammonium Lead Halides Hybrid Perovskite</h1>\n",
      "<a id='Table of Contents'></a><h3>Table of Contents</h3>\n",
      "<a href='#Syntax'>HTML and MARKDOWN SYNTAX EXAMPLES ; </a></br>\n",
      "<a href='#people'>People</a></br>\n",
      "<a href='#goal'>Goal</a></br>\n",
      "<a href='#MAPbCl3'>MAPbCl3</a></br>\n",
      "<a href='#MAPbI3'>MAPbI3</a></br>\n",
      "<a href='#MAPbBr3'>MAPbBr3</a></br>\n",
      "<a href='#PS'>Presentations ; </a></br>\n"
     ]
    },
    {
     "cell_type": "markdown",
     "metadata": {},
     "source": [
      "(<a href='#Table of Contents'>Top</a>)<a id='people'></a><h3>People</h3>\n",
      "\n",
      "* Mike Crawford\n",
      "* Niina Jalarvo\n",
      "* Ivan Milas (Ivan.Milas@dupont.com)"
     ]
    },
    {
     "cell_type": "markdown",
     "metadata": {},
     "source": [
      "(<a href='#Table of Contents'>Top</a>)<a id='goal'></a><h3>Goal</h3>\n",
      "Study of dynamics of methyl ammonium lead halides hybrid perovskites.</br>\n",
      "Chemical composition: $CH_3NH_3X_fY_{3-f}$</br>\n",
      "Some intro to the field that Mike sent me:\n",
      "\n",
      "* [Snaith13](files/docs/Snaith13.pdf) An author's perspective on the state-of-the-art perovskite appliation to photovoltail cells.\n",
      "* [Crawford_PV_group_meeting_presentation_November_25_2014](files/docs/Crawford_PV_group_meeting_presentation_November_25_2014.pptx)\n",
      "* [Crawford_PV_group_meeting_presentation_October_21_2014](files/docs/Crawford_PV_group_meeting_presentation_October_21_2014.pptx)\n",
      "\n",
      "Papers explaining the crystal structures that Mike sent me:\n",
      "\n",
      "* [Swainson_et_al_J_Solid_State_Chem_176_97-104_2003_phase_transitions_in_CH3ND3PbBr3.pdf](files/docs/Swainson_et_al_J_Solid_State_Chem_176_97-104_2003_phase_transitions_in_CH3ND3PbBr3.pdf)\n",
      "* [Chi_Swainson_et_al_J_Solid_State_Chem_178_1376_2005_neutron_structure_of_ordered_phase_of_CH3NH3PbCl3.pdf](files/docs/Chi_Swainson_et_al_J_Solid_State_Chem_178_1376_2005_neutron_structure_of_ordered_phase_of_CH3NH3PbCl3.pdf)"
     ]
    },
    {
     "cell_type": "markdown",
     "metadata": {},
     "source": [
      "(<a href='#Table of Contents'>Top</a>)<a id='MAPbCl3'></a><h2>MAPbCl3</h2>\n",
      "Crystal structure obtained by neutron scattering at 80K: [CH3ND3PbCl3_80K_Pnma_neutron_structure.cif](files/MAPbCl3/CH3ND3PbCl3_80K_Pnma_neutron_structure.cif)"
     ]
    },
    {
     "cell_type": "markdown",
     "metadata": {},
     "source": [
      "(<a href='#Table of Contents'>Top</a>)<a id='MAPbI3'></a><h2>MAPbI3</h2>\n",
      "\"Disordered\" phase crystal structure obtained from neutron scattering at 220K in [MAPbI3_220K_XRD.cif](files/MAPbI3/MAPbI3_220K_XRD.cif)"
     ]
    },
    {
     "cell_type": "markdown",
     "metadata": {},
     "source": [
      "(<a href='#Table of Contents'>Top</a>)<a id='MAPbBr3'></a><h2>MAPbBr3</h2>\n",
      "Crystal structure obtained by neutron scattering at 11K in [CH3ND3PbBr3_11K_Pnma_neutron_structure.CIF](files/MAPbBr3/CH3ND3PbBr3_11K_Pnma_neutron_structure.CIF)"
     ]
    },
    {
     "cell_type": "markdown",
     "metadata": {},
     "source": [
      "(<a href='#Table of Contents'>Top</a>)<a id='PS'></a><h3>Presentations</h3>"
     ]
    }
   ],
   "metadata": {}
  }
 ]
}