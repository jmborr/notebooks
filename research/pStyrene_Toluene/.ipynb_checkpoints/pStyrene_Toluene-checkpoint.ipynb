{
 "metadata": {
  "name": "",
  "signature": "sha256:11c0882488ba672aa5fc4cd5788800817f287a20507f3f6e00fede6165d0930c"
 },
 "nbformat": 3,
 "nbformat_minor": 0,
 "worksheets": [
  {
   "cells": [
    {
     "cell_type": "markdown",
     "metadata": {},
     "source": [
      "<h1>Papers Notes</h1>  \n",
      "<a id='papernotes.Vrentas76'></a><h3>Vrentas76</h3>  \n",
      "\n",
      "<h1>pStyrene_Toluene</h1>  \n",
      "<a id='Table of Contents'></a><h3>Table of Contents</h3>  \n",
      "<a href='#Syntax'>HTML and MARKDOWN SYNTAX EXAMPLES</a>  \n",
      "<a href='#Goal'>Goal</a>  \n",
      "<a href='#People'>People</a>  \n",
      "<a href='#IEI'>Integrated elastic intensity</a>  \n",
      "<a href='#experiments'><h3>Experiments</h3></a>  \n",
      "\n",
      "* <a href='#HFBS'>HFBS</a>   \n",
      "    - <a href='#HFBS.carryExp'>Steps to carrying out the elasti scans</a>  \n",
      "        + <a href='#HFBS.CanReplacement'>Exchanging samples</a>  \n",
      "        + <a href='#HFBS.CoolingSetup'>Setup of the Cooling phase in the GUI's</a>  \n",
      "        + <a href='#HFBS.Heremoval'>He removal prior to the elastic scan</a>  \n",
      "        + <a href='#HFBS.ScanSetupGUI'>Elastic Scan Setup in the GUIs</a>  \n",
      "    - <a href='#HFBS.monitoring'>Scan and Temperature monitoring</a>  \n",
      "    - <a href='#HFBS.data'>Experimental Data</a>  \n",
      "* <a href='#BASIS'>BASIS</a>  \n",
      "    - <a href='#BASIS.data'>Experimental Data</a>  \n",
      "\n",
      "<a href='#singlePolymer'><h3>Single Polymer</h3></a>  \n",
      "\n",
      "* <a href='#PICT'>Preparing Initial Conformation for Toluene</a>  \n",
      "* <a href='#SPCT'>Single Polystyrene Chain in Toluene</a>  \n",
      "* <a href='#CLDFSP'>Create Lammps Data File for Single Polymer</a>  \n",
      "* <a href='#1MSD'>Mean Square Displacements</a>  \n",
      "* <a href='#1RDF'>Radial distribution function</a>  \n",
      "* <a href='#1solvshell'>Solvent shell</a>  \n",
      "* <a href='#1thermoaverage'>Thermodynamic averages</a>  \n",
      "* <a href='#Legacy'>DISCARDED</a>  \n",
      "    - <a href='#Legacy.1MSD'>Mean Square Displacements at 1.22ns and 7.64ns</a>  \n",
      "\n",
      "<a id='eightPolymer'></a>\n",
      "<a href='#eightPolymer'><h3>Eight Polymers</h3></a>\n",
      "\n",
      "* <a href='#PCP'>Preparing Cell of Polystyrenes</a>  \n",
      "* <a href='#PTCP'>Packing the Cell of Polystyrenes</a>  \n",
      "* <a href='#MPS'>Minimizing the Polystyrene System</a>  \n",
      "* <a href='#LIF'>Creating initial lammps input files</a>  \n",
      "* <a href='#SEP'>Semi-equilibration protocol</a>  \n",
      "* <a href='#EP'>Equilibration and production</a>  \n",
      "* <a href='#rms2first'>Removal of global rotations and traslations</a>   \n",
      "* <a href='#clustering'>Find centroid and average structure</a>  \n",
      "* <a href='#8MSD'>Mean Square Displacements</a>  \n",
      "* <a href='#lastconf'>Create a visualization state for last conformation</a>  \n",
      "* <a href='#RDF'>Radial distribution function</a>  \n",
      "* <a href='#8solvshell'>Solvent shell</a>  \n",
      "* <a href='#8thermoaverage'>Thermodynamic averages</a>  \n",
      "\n",
      "* <a href='#8Legacy'>DISCARDED</a>  \n",
      "    - <a href='#8Legacy.1MSD'>Mean Square Displacements at 1.22ns and 7.64ns</a>  \n",
      "\n",
      "<a id='r0.5'></a>\n",
      "<a href='#r0.5'><h3>Analysis of the Eight Polymers at r=0.5</h3></a>\n",
      "\n",
      "* <a href='#r0.5.system_diffusion'>Diffusion of the CM of the whole system</a>  \n",
      "* <a href='#r0.5.cropped'>Cropped trajectories</a>  \n",
      "  <b>Dynamics of hydrogens in Toluene rings</b>\n",
      "* <a href='#r0.5.told3'>MSD(t) for hydrogens in toluene rings</a>  \n",
      "* <a href='#r0.5.tol3MSD'>MSD for hydrogens in toluene rings in the time resolution of HFBS and BASIS</a>  \n",
      "* <a href='#r0.5.fqttold3'>Calculate $I(q,t)$ for hydrogens in toluene rings</a>  \n",
      "* <a href='#r0.5.sqetold3'>Calculate $S(Q,E)$ for hydrogens in toluene rings</a>  \n",
      "* <a href='#r0.5.msdsqetold3'>Calculate MSD from simulated $S(Q,E)$ for hydrogens in toluene rings</a>  \n",
      "  <b>Dynamics of the center of mass of hydrogens in Toluene rings</b>  \n",
      "* <a href='#r0.5.CMtol'>Trajectories for center of mass of hydrogens in toluene rings</a> \n",
      "* <a href='#r0.5.CMtolMSD'>MSD(t) for center of masses of hydrogens in toluene rings</a> \n",
      "* <a href='#r0.5.MSD'>MSD for center of masses of hydrogens in toluene rings in the time resolution of HFBS and BASIS</a>\n",
      "* <a href='#r0.5.fqttold3CM'>Calculate $I(q,t)$ for center of mass of hydrogens in toluene rings</a>  \n",
      "* <a href='#r0.5.sqeCMtold3'>Calculate $S(Q,E)$ for CoM of hydrogens in toluene rings</a>  \n",
      "* <a href='#r0.5.msdsqetold3CoM'>Calculate MSD from simulated $S(Q,E)$ for Center of Mass of hydrogens in toluene rings</a>  \n",
      "  <b>Dynamics of internal motions of hydrogens in Toluene rings</b>  \n",
      "* <a href='#r0.5.internaltolMSDt'>MSD(t) for internal motions of hydrogens in toluene rings</a> \n",
      "* <a href='#r0.5.internaltolMSD'>MSD for internal motions of hydrogens in toluene rings in the time resolution of HFBS and BASIS</a>\n",
      "* <a href='#r0.5.alltolMSD'>Compare MSD of internal and center-of-mass motions of hydrogens in toluene rings in the time resolution of HFBS</a>  \n",
      "  <b>Dynamics of hydrogens in Styrene rings</b>\n",
      "* <a href='#r0.5.fqtstyd3'>Calculate $I(q,t)$ for hydrogens in styrene rings</a>  \n",
      "* <a href='#r0.5.sqestyd3'>Calculate $S(Q,E)$ for hydrogens in styrene rings</a>  \n",
      "* <a href='#r0.5.msdsqestyd3'>Calculate MSD from simulated $S(Q,E)$ for hydrogens in styrene rings</a>  \n",
      "  <b>Dynamics of center of mass of hydrogens in Styrene rings</b>\n",
      "* <a href='#r0.5.styd3CoM'>Trajectories for center of mass of hydrogens in styrene rings</a>  \n",
      "* <a href='#r0.5.fqtstyd3CoM'>Calculate $I(q,t)$ for center of mass of hydrogens in styrene rings</a>  \n",
      "* <a href='#r0.5.sqeCMstyd3'>Calculate $S(Q,E)$ for CoM of hydrogens in styrene rings</a>  \n",
      "* <a href='#r0.5.msdsqestyd3CoM'>Calculate MSD from simulated $S(Q,E)$ for Center of Mass of hydrogens in styrene rings</a>  \n",
      "  <a id='r0.5.styd5'></a><b>Dynamics of hydrogens in Styrene backbone</b>\n",
      "* <a href='#r0.5.fqtstyd5'>Calculate $I(q,t)$ for hydrogens in styrene backbone</a>  \n",
      "* <a href='#r0.5.sqestyd5'>Calculate $S(Q,E)$ for hydrogens in styrene backbone</a>  \n",
      "* <a href='#r0.5.msdsqestyd5'>Calculate MSD from simulated $S(Q,E)$ for hydrogens in styrene backbone</a>  \n",
      "  <a id='r0.5.styd5CoM'></a><b>Dynamics of center of mass of hydrogens in Styrene backbone</b>\n",
      "* <a href='#r0.5.styd5CoMtrj'>Trajectories for center of mass of hydrogens in styrene rings</a>  \n",
      "* <a href='#r0.5.fqtstyd5CoM'>Calculate $I(q,t)$ for center of mass of hydrogens in styrene backbone</a>  \n",
      "* <a href='#r0.5.sqestyd5CoM'>Calculate $S(Q,E)$ for center of mass of hydrogens in styrene backbone</a>  \n",
      "* <a href='#r0.5.msdsqestyd5CoM'>Calculate MSD from simulated $S(Q,E)$ for center of mass hydrogens in styrene backbone</a>  \n",
      "\n",
      "* <a href='#r0.5.autocorrNormalVelRingTol'>Auto-correlation of vector normal to toluene ring</a>  \n"
     ]
    },
    {
     "cell_type": "markdown",
     "metadata": {},
     "source": [
      "(<a href='#Table of Contents'>Top</a>)<a id='Syntax'></a><h3>Syntax Examples</h3>\n",
      "local link: [link](files/link)</br>\n",
      "remote link: <a href=\"http://ambermd.org/\">http://ambermd.org</a>\n",
      "<font face=\"courier new\"> font face=\"courier new\" </font><br/>\n",
      "$$S_{model}(Q,E)=A(Q)\\cdot S_{elastic}(E) + B(Q)\\cdot S_{simulation}(Q,E)\\otimes S_{elastic}(E) + C(Q)+D(Q)\\cdot E$$\n",
      "<pre> Quoted text </pre>\n",
      "<center><table><tr>\n",
      "<td><a href=\"files/image.png\"><img src=\"files/image.png\" width=\"300\" height=\"250\" alt=\"image here\"></a> <br/>\n",
      "    <i>image caption</i></td>\n",
      "<td>some text</td>\n",
      "</tr></table></center>"
     ]
    },
    {
     "cell_type": "markdown",
     "metadata": {},
     "source": [
      "(<a href='#Table of Contents'>Top</a>)<a id='Goal'></a><h3>Goal</h3>\n",
      "To show the dynamical transition when the solvent is fundamentally different than water. The solvent is toluene and the solute is polyStyrene<br/>\n",
      "Toluene has a Tg~150K, while pStyrene has a Tg~370K (in the melt, for extremely long chains)<br/>\n",
      "How does the dynamical transition temperature Td changes with solvation level?"
     ]
    },
    {
     "cell_type": "markdown",
     "metadata": {},
     "source": [
      "(<a href='#Table of Contents'>Top</a>)<a id='People'></a><h3>People</h3>\n",
      "\n",
      "* Eugene Mamontov\n",
      "* Veerendra K. Sharma"
     ]
    },
    {
     "cell_type": "markdown",
     "metadata": {},
     "source": [
      "(<a href='#Table of Contents'>Top</a>)<a id='IEI'></a><h3>Integrated elastic intensity</h3>  \n",
      "We obtain the integrated elasctic intensity from the simulations in a manner analogous to the experiments.\n",
      "\n",
      "In experiments, given the structure factor $S(Q,E)$, we integrate the signal in the range [-FWHM, FWHM] to obtain the integrated elastic intensity ( $IEI(Q)$ ). For HFBS instrument, FWHM=4.562ns.\n",
      "\n",
      "We can derive a expression for $IEI(Q)$ using the <i>intermediate</i> elastic incoherent structure factor $I(Q,t)$, more appropriate for our simulations.\n",
      "\n",
      "<center>$IEI(Q) = \\int_{-F}^{F} dE S_{exp}(Q,E) = \\int_{-F}^{F} dE S_{\\infty}(Q,E) \\bigotimes R_E(E)=\n",
      "\\int_{-F}^{F} dE \\int_{-\\infty}^{\\infty} \\frac{dt}{\\hbar} e^{-itE/\\hbar} I(Q,t) \\cdot R_t(t)$</center>\n",
      "\n",
      "Here, $S_{\\infty}$ is the structure factor at infinite resolution. $R_E(E)$ and $R_t(t)$ are the resolution functions in the energy and time domain, respectively.\n",
      "\n",
      "The energy integral is carried out right away, leaving\n",
      "\n",
      "<center>$IEI(Q) = \\int_{-\\infty}^{\\infty} \\frac{dt}{\\hbar} \\frac{sin(Ft/\\hbar)}{t/\\hbar} I(Q,t) \\cdot R_t(t)$</center>\n",
      "\n",
      "We model the time-resolved resolution function as a Gaussian. Its standard deviation $\\sigma_t$ is related to the FHWM of the instrument:\n",
      "\n",
      "<center>$F_E\\cdot F_t = 8 ln(2) \\hbar$</center>\n",
      "<center>$F_t = 2 \\sqrt{2 ln(2)} \\sigma_t$</center>\n",
      "\n",
      "Where $F_t$ is the FHWM in the time domain. For the HFBS instrument, we have $\\sigma_t=$1.937ns. Pluggin everything:\n",
      "\n",
      "<center>$IEI(Q) = \\int_{-\\infty}^{\\infty} \\frac{dt}{\\sigma_t } \\frac{sin(2\\sqrt{2 ln(2)}t/\\sigma_t)}{t/\\sigma_t}e^{-t^2/2\\sigma_t^2}I(Q,t) = \\int_{-\\infty}^{\\infty} \\frac{dt}{\\sigma_t } R'(t/\\sigma_t)I(Q,t)$</center>\n",
      "\n",
      "A plot of the modified resolution function $R'$ shows that it becomes negligible for $t>4\\sigma_t \\approx$ 7.75ns for HFBS instrument. Our shortest simulations are 10ns, so we are safe.\n",
      "\n",
      "<center><a href=\"files/analysis/modified_resolution_function.png\"><img src=\"files/analysis/modified_resolution_function.png\" width=\"400\" height=\"400\" alt=\"analysis/modified_resolution_function.png\"></a> <br/><i>analysis/modified_resolution_function.agr(.png)</i></center>\n"
     ]
    },
    {
     "cell_type": "markdown",
     "metadata": {},
     "source": [
      "(<a href='#Table of Contents'>Top</a>)<a id='experiments'></a><h2>Experiments</h2>"
     ]
    },
    {
     "cell_type": "markdown",
     "metadata": {},
     "source": [
      "(<a href='#Table of Contents'>Top</a>)<a id='HFBS'></a><h3>HFBS</h3>\n",
      "HFBS has a resolution $FWHM_E \\cdot FWHM_t = 0.8 \\mu eV \\cdot 4.562 ns$ </br>\n",
      "Experimental plan: [The_plan_for_the_polystyrene.docx](files/experiment/NIST/The_plan_for_the_polystyrene.docx)\n",
      "Proposal for beamtime: [Proposal_PS_and_Toluene_23Sep_jb.pdf](files/experiment/NIST/Proposal_PS_and_Toluene_23Sep_jb.pdf)</br>\n",
      "Reviews to the submitted proposal for beamtime: [proposal_NIST_reviews.pdf](files/experiment/NIST/proposal_NIST_reviews.pdf)</br>\n",
      "Information for users with approved experiments: [beamtime_information.pdf](files/experiment/NIST/beamtime_information.pdf)"
     ]
    },
    {
     "cell_type": "markdown",
     "metadata": {},
     "source": [
      "(<a href='#Table of Contents'>Top</a>)<a id='HFBS.carryExp'></a><h3>Steps to carrying out the elastic scans</h3>\n",
      "This is a complex protocol (if you are new to this) which involves four major steps:</br>\n",
      "\n",
      "<ol>\n",
      "<li>Exchange samples</li>\n",
      "<li>Cooling phase</li>\n",
      "<li>Removal of He gas</li>\n",
      "<li>Elastic scan while heating the sample</li>\n",
      "</ol>\n",
      "\n",
      "I detail each of these steps below"
     ]
    },
    {
     "cell_type": "markdown",
     "metadata": {},
     "source": [
      "(<a href='#Table of Contents'>Top</a>)<a id='HFBS.CanReplacement'></a><h3>Exchanging samples</h3>\n",
      "\n",
      "<b>Caution!</b>: This step involves opening the well, thus you should have turned the beam off at least 15 minutes before attempting to open the well.</br>\n",
      "\n",
      "We assume that there is vacuum within the well. Follow these initial steps:\n",
      "\n",
      "<ol>\n",
      "<li>Open the clamp and remove it</li>\n",
      "<li>Remove the top sensor</li>\n",
      "<li>Remove the sensor for temperature of the sample</li>\n",
      "</ol>\n",
      "\n",
      "Now that the stick has no constraints, is time to fill the chamber with He gas and remove the stick\n",
      "\n",
      "<ol>\n",
      "<li>Close the knob of the second vacuum pump</li>\n",
      "<li>Turn the blue valve to the position of He intake</li>\n",
      "<li>When pressure gauges reads zero (means 1atmosphere inside the well), raise the stick and place it in the bench</li>\n",
      "<li>Place the stainless steel cap on top of the well hole</li>\n",
      "<li>Turn the blue valve to the position of vacuum</li>\n",
      "</ol>\n",
      "\n",
      "The vacuum will effectively seal the cap, preventing air from flowing into the well. Now we can turn out attention onto the stick that we placed in the bench.\n",
      "\n",
      "The next step is exchange samples in the stick\n",
      "The stick is in the bench with the old can. Because in the previous step we filled the well with He, the He has condensed into the stick. The stick is cold and moisture condenses in the stick. While the can and shielding cylinder cool down to room temperature, we apply the blow drier (use hot air) to the stick. We slowly go along the stick. Be careful and avoid blowing away the stuff that is in the bench!</br>\n",
      "\n",
      "After a few minutes, set aside the blower and change the sample. Just in case, put on the thermal-protective globes. Remove the screws that attach the shielding cylinder to the can, then remove the cylinder and unscrew the can from the stick.</br>\n",
      "\n",
      "Screw the can containing the new sample onto the stick, then reatach the cyliner, which is tricky. Make sure the holes on the side of the cyliner align with the holes of the can where the screws will go. The diameter of the cylinder is very slightly bigger than the diameter of the can, thus in order to slide the cylinder onto the can push gently the cylinder and at the same time do some oscillatory motions (oscilations perpendicular to the can axis). Once the cylinder is in place, place the screws to attach if firmly to the can. Finished with this step, take a look to the stick and throughly dry any moisture with the paper towels. Rotate the stick 180 degrees along its axis to make sure you dry the underside.</br>\n",
      "\n",
      "Go back to the well and proceed to next step, insert the stick in the well:</br>\n",
      "\n",
      "<ol>\n",
      "<li>Turn the blue valve to the He intake position</li>\n",
      "<li>When the pressure different gauge reads zero, remove the stainless steel cap and then introduce the stick in the well. Immediately set the blue valve to the vertical position to prevent more He in the well and prevent vacuum</li>\n",
      "<li>Make sure the stick is well aligned and attach the clamp. Then, turn the blue valve to vacuum position.</li>\n",
      "<li> Attach the sample temperature sensor (D sensor) and the top sensor.</li>\n",
      "<li>Once the difference-pressure gauge steadies at lowest reading, open the knob for the second pump</li>\n",
      "</ol>\n",
      "\n",
      "The final setup should look like this (view from the top:)</br>\n",
      "\n",
      "<center><a href=\"files/experiment/NIST/carrying_out_experiments/top_view.jpg\"><img src=\"files/experiment/NIST/carrying_out_experiments/top_view.jpg\" width=\"500\" height=\"500\" alt=\"top_view.jpg\"></a></center></br>\n",
      "\n",
      "The sample has been changed. Now we are ready for the next step: Seting up the Cooling phase."
     ]
    },
    {
     "cell_type": "markdown",
     "metadata": {},
     "source": [
      "(<a href='#Table of Contents'>Top</a>)<a id='HFBS.CoolingSetup'></a><h3>Setup of the Cooling phase in the GUI's</h3>\n",
      "\n",
      "Three steps are required to create and set all the options in the software that will fire up an elastic scan:\n",
      "\n",
      "* A scan setup file\n",
      "* A sequence of options\n",
      "* Submit the start command for the scan\n",
      "\n",
      "From the HFBS Controls GUI, open the Scan Setup GUI<br/>\n",
      "\n",
      "<center><a href=\"files/experiment/NIST/carrying_out_experiments/HFBSControls_gui_open_scan_setup_gui.jpg\"><img src=\"files/experiment/NIST/carrying_out_experiments/HFBSControls_gui_open_scan_setup_gui.jpg\" width=\"500\" height=\"500\" alt=\"HFBSControls_gui_open_scan_setup_gui.jpg\"></a></center> <br/>\n",
      "\n",
      "In the Scan Setup GUI, select the \"Sample # 6 Cooling...\" set of options, although this particular choice is not neccessary.</br>\n",
      "The options that are neccessary and sufficient are the following:<br/>\n",
      "\n",
      "<ul>\n",
      "<li>Comment (Sample # 6 Cooling in our case). This is a description of the run</li>\n",
      "<li>User: name of the user</li>\n",
      "<li>Npts: number of intensity points to be recorded</li>\n",
      "<li>Time/pt (sec): number of seconds per recorded point. During this time, all the intensity (all the neutrons recorded) will be piled up to produce a value of the intensity.</li>\n",
      "</ul>\n",
      "\n",
      "The rest of the options are irrelevant, thus you can leave whatever values are showing.<br />\n",
      "\n",
      "<center><a href=\"files/experiment/NIST/carrying_out_experiments/scan_setup_options_for_cooling.jpg\"><img src=\"files/experiment/NIST/carrying_out_experiments/scan_setup_options_for_cooling.jpg\" width=\"400\" height=\"400\" alt=\"scan_setup_options_for_cooling.jpg\"></a></center><br/>\n",
      "\n",
      "We are going to record an intensity point every 60seconds. This means all recorded neutrons scattered elastically within a minute will be piled up to provide a particular value of the intensity. We will record 120 points, thus a total running time of 2 hours. Click the \"Accept\" button after settings these options.<br/>\n",
      "\n",
      "The next step is to define the sequence options. From the HFBS Controls GUI, open the sequence GUI<br/>\n",
      "\n",
      "<center><a href=\"files/experiment/NIST/carrying_out_experiments/HFBSControls_gui_open_sequence_gui.jpg\"><img src=\"files/experiment/NIST/carrying_out_experiments/HFBSControls_gui_open_sequence_gui.jpg\" width=\"500\" height=\"500\" alt=\"HFBSControls_gui_open_sequence_gui.jpg\"></a></center></br>\n",
      "\n",
      "Enter the following comands <b><i>in the following strict order</i></b>:<br />\n",
      "\n",
      "<ol>\n",
      "<li>Temperature ramp during the scan (0 K/min).</li>\n",
      "<li>Final target temperature (30K).</li>\n",
      "<li>Buffer number for the previous scan setup.</li>\n",
      "</ol>\n",
      "\n",
      "A temperature ramp of zero means that the sample will cool at whatever rate is defined by the heat transfer between the sample and the well, mediated by the He gas.<br />\n",
      "\n",
      "<center><a href=\"files/experiment/NIST/carrying_out_experiments/sequence_options_for_cooling.jpg\"><img src=\"files/experiment/NIST/carrying_out_experiments/sequence_options_for_cooling.jpg\" width=\"400\" height=\"400\" alt=\"sequence_options_for_cooling.jpg\"></a></center>\n",
      "\n",
      "In order for the commands to be shown in the left panel of the GUI, we have to click on the \"Insert\" buttons on the right.<br />\n",
      "\n",
      "Once we are finished with the list of commands, we click on the \"Apply\" button. Now the commands are loaded in memory and ready to execute.<br />\n",
      "\n",
      "Now make sure the beam is on :)\n",
      "\n",
      "In the HFBS Controls GUI, start the scan:\n",
      "<center><a href=\"files/experiment/NIST/carrying_out_experiments/HFBSControls_setup_start.jpg\"><img src=\"files/experiment/NIST/carrying_out_experiments/HFBSControls_setup_start.jpg\" width=\"500\" height=\"500\" alt=\"HFBSControls_setup_start.jpg\"></a></center>\n",
      "\n",
      "That's it! We have provided a total running time of two hours, but in fact the sample will cool down to 30K in a shorter time, typically one hour. Thus, we have to monitor the temperature from time to time and then stop the cooling when the temperature reaches the 30K. From the HFBS Controls GUI:<br />\n",
      "\n",
      "<center><a href=\"files/experiment/NIST/carrying_out_experiments/HFBSControls_gui_sequence_stop.jpg\"><img src=\"files/experiment/NIST/carrying_out_experiments/HFBSControls_gui_sequence_stop.jpg\" width=\"500\" height=\"500\" alt=\"HFBSControls_gui_sequence_stop.jpg\"></a></center>\n",
      "\n",
      "Now we are ready to proceed to the next step: Removal of the He gas prior to the elastic scan."
     ]
    },
    {
     "cell_type": "markdown",
     "metadata": {},
     "source": [
      "(<a href='#Table of Contents'>Top</a>)<a id='HFBS.Heremoval'></a><h3>He removal prior to the elastic scan</h3>\n",
      "After the cooling phase has finished (make sure the sample temperature reads ~30K), we have to remove the He that was use to transfer head between the well and the sample. Set the blue valve to the position for vacuum pump. The pressure will decay, and when the pressure gauge steadies, open the second pump to further reduce the amount of helium in the well.\n",
      "\n",
      "Leave the two pumps running, make sure the bean is on, and proceed to the next step: the setup of the elastic scan in the Graphical Interfaces (GUI's)"
     ]
    },
    {
     "cell_type": "markdown",
     "metadata": {},
     "source": [
      "(<a href='#Table of Contents'>Top</a>)<a id='HFBS.ScanSetupGUI'></a><h3>Elastic Scan Setup in the GUIs</h3>\n",
      "\n",
      "Three steps are required to create and set all the options in the software that will fire up an elastic scan:\n",
      "\n",
      "* A scan setup file\n",
      "* A sequence of options\n",
      "* Submit the start command for the scan\n",
      "\n",
      "From the HFBS Controls GUI, open the Scan Setup GUI<br/>\n",
      "\n",
      "<center><a href=\"files/experiment/NIST/carrying_out_experiments/HFBSControls_gui_open_scan_setup_gui.jpg\"><img src=\"files/experiment/NIST/carrying_out_experiments/HFBSControls_gui_open_scan_setup_gui.jpg\" width=\"400\" height=\"400\" alt=\"HFBSControls_gui_open_scan_setup_gui.jpg\"></a></center> <br/>\n",
      "\n",
      "In the Scan Setup GUI, select the \"Sample # 6 Heating...\" set of options, although this particular choice is not neccessary.</br>\n",
      "The options that are neccessary and sufficient are the following:<br/>\n",
      "\n",
      "<ul>\n",
      "<li>Comment (Sample # 6 Heating in our case). This is a description of the run</li>\n",
      "<li>User: name of the user</li>\n",
      "<li>Npts: number of intensity points to be recorded</li>\n",
      "<li>Time/pt (sec): number of seconds per recorded point. During this time, all the intensity (all the neutrons recorded) will be piled up to produce a value of the intensity.</li>\n",
      "\n",
      "<center><a href=\"files/experiment/NIST/carrying_out_experiments/scan_setup_options_for_heating.jpg\"><img src=\"files/experiment/NIST/carrying_out_experiments/scan_setup_options_for_heating.jpg\" width=\"400\" height=\"400\" alt=\"scan_setup_options_for_heating.jpg\"></a></center><br/>\n",
      "\n",
      "For the solvated samples, the initial temperature is 30K and the final temperature is 360K. Thus the temperature change is 330K. We are going to increase the temperature at a rate of 0.6K/minute. Thus, the scan will take a total time of 330/0.6 = 550minutes = 33000 seconds. Now, we are going to record an intensity point every 150seconds, thus we will record a total of 33000/150 = 220 points. Thus, we enter 221 in the field \"Npts\" (one extra point to be sure). In the case of the dry sample, the final temperature is 430K so the temperature change is 400K. The scan will take a total time of 400/0.6 = 666.7 minutos. Again, recording an intensity point every 150seconds, we will need 271 points instead of the 221 points for the solvated sample.<br/>\n",
      "\n",
      "From the HFBS Controls GUI, open the sequence GUI<br/>\n",
      "\n",
      "<center><a href=\"files/experiment/NIST/carrying_out_experiments/HFBSControls_gui_open_sequence_gui.jpg\"><img src=\"files/experiment/NIST/carrying_out_experiments/HFBSControls_gui_open_sequence_gui.jpg\" width=\"500\" height=\"500\" alt=\"HFBSControls_gui_open_sequence_gui.jpg\"></a></center></br>\n",
      "\n",
      "Enter the following comands <b><i>in the following strict order</i></b> when running a dry sample (no toluene):<br />\n",
      "\n",
      "<ol>\n",
      "<li>Temperature ramp during the scan (0.6K/min).</li>\n",
      "<li>Final target temperature (430K for the dry samples, and 360K for the samples with toluene).</li>\n",
      "<li>Buffer number for the previous scan setup.</li>\n",
      "<li>Temperature ramp of zero.</li>\n",
      "<li>Final target temperature of 50K.</li>\n",
      "</ol>\n",
      "\n",
      "The Last two points are necessary for the cooling of the sample when running a dry sample. One the scan is finished, the temperature of the sample has to lower from 430K to a temperature closer to room temperature. T~370K is \"cold\" enough to remove the stick from the well. Becase there is no He gas, the cooling will proceed by heat transfer from the sample to the holding stick. Remember that the top of the holding stick is at room temperature. A temperature ramp of zero means that the sample will cool at whatever rate is defined by the heat transfer through the stick. The final target temperature of 50K is only a reference temperature low enough so that the heater will not switch on during this cooling phase. These last two points are not neccessary when running a solvated sample, because the final temperature of 360K is low enough for the stick to be removed from the well after the scan is finished.<br />\n",
      "\n",
      "<center><a href=\"files/experiment/NIST/carrying_out_experiments/sequence_gui_scan_options.jpg\"><img src=\"files/experiment/NIST/carrying_out_experiments/sequence_gui_scan_options.jpg\" width=\"400\" height=\"400\" alt=\"sequence_gui_scan_options.jpg\"></a></center>\n",
      "\n",
      "In order for the commands to be shown in the left panel of the GUI, we have to click on the \"Insert\" buttons on the right.<br />\n",
      "\n",
      "Once we are finished with the list of commands, we click on the \"Apply\" button. Now the commands are loaded in memory and ready to execute.<br />\n",
      "\n",
      "Now make sure the beam is on :)\n",
      "\n",
      "In the HFBS Controls GUI, start the scan:\n",
      "<center><a href=\"files/experiment/NIST/carrying_out_experiments/HFBSControls_setup_start.jpg\"><img src=\"files/experiment/NIST/carrying_out_experiments/HFBSControls_setup_start.jpg\" width=\"500\" height=\"500\" alt=\"HFBSControls_setup_start.jpg\"></a></center>\n",
      "\n",
      "That's it! Monitor the temperature during the next 10 minutes or so to make sure heating is proceeding as planned.<br />\n",
      "\n",
      "Turn the beam off as soon as the elastic scan is finished. This way the sample will loose any radioactivity while the ensuing cooling of the sample takes place (only for dry samples). When the sample temperature reaches ~370K or lower, stop the commands for the cooling sequence (again, this only for the dry samples) from the HFBS Controls GUI:<br />\n",
      "\n",
      "<center><a href=\"files/experiment/NIST/carrying_out_experiments/HFBSControls_gui_sequence_stop.jpg\"><img src=\"files/experiment/NIST/carrying_out_experiments/HFBSControls_gui_sequence_stop.jpg\" width=\"500\" height=\"500\" alt=\"HFBSControls_gui_sequence_stop.jpg\"></a></center><br />\n",
      "\n",
      "If we are dealing with a solvated sample that does not require the cooling down phase, then turn the beam off and wait for 15 minutes before proceeding to the next step.</br>\n",
      "\n",
      "\n",
      "Now we have completed the whole protocol. If we have more samples to probe, go back to the step <a href='#HFBS.CanReplacement'>Exchanging samples</a>.</br>"
     ]
    },
    {
     "cell_type": "markdown",
     "metadata": {},
     "source": [
      "(<a href='#Table of Contents'>Top</a>)<a id='HFBS.monitoring'></a><h3>Scan and Temperature monitoring</h3>\n",
      "Temperature and other quantities can be monitored from the computer controlling the instrument or from the \"live\" status accesible from the web.\n",
      "\n",
      "At the intrument, use the HFBS Controls GUI to monitor the temperature:</br>\n",
      "\n",
      "<center><a href=\"files/experiment/NIST/carrying_out_experiments/HFBSControls_Status_Temperature.jpg\"><img src=\"files/experiment/NIST/carrying_out_experiments/HFBSControls_Status_Temperature.jpg\" width=\"500\" height=\"500\" alt=\"HFBSControls_Status_Temperature.jpg\"></a></center></br>\n",
      "\n",
      "or what is call the \"general status\", whifch shows the name of the run file, among other things:</br>\n",
      "\n",
      "<center><a href=\"files/experiment/NIST/carrying_out_experiments/HFBSControls_status_general.jpg\"><img src=\"files/experiment/NIST/carrying_out_experiments/HFBSControls_status_general.jpg\" width=\"500\" height=\"500\" alt=\"HFBSControls_status_general.jpg\"></a></center></br>\n",
      "\n",
      "From the web, go to \n",
      "remote link: <a href=\"http://www.ncnr.nist.gov/ipeek/\">NCNR live monitoring</a> and select \"NG2\" instrument."
     ]
    },
    {
     "cell_type": "markdown",
     "metadata": {},
     "source": [
      "(<a href='#Table of Contents'>Top</a>)<a id='HFBS.data'></a><h3>Experimental Data</h3>\n",
      "Files containing the temperature scans under subdirectory <i>experiment/NIST/data</i>. The \"rosetta stone\" tranlating sample number to polymer+solvent system is file [Sample_details.docx](files/experiment/NIST/data/Sample_details.docx), of which a screenshot is shown below\n",
      "\n",
      "<center><a href=\"files/experiment/NIST/data/Sample_details.png\"><img src=\"files/experiment/NIST/data/Sample_details.png\" width=\"500\" height=\"500\" alt=\"Sample_details.png\"></a></center></br>\n",
      "\n",
      "We did soft links under subdirectory <i>experiment/NIST/data</i> with physically meaningful names, for instance:\n",
      "\n",
      "<code>ln -s ./Sample10/20150504_02.hscn PSd8_TOLd8_r0.37.hscn</code>.\n",
      "\n",
      "We can use DAVE to import and plot these <i>*.hscn</i> files. The appropriate widget is <i>FWS Analysis</i>. FWS stands for Fixed Window Scan. See below picture:\n",
      "\n",
      "<center><a href=\"files/experiment/NIST/data/using_dave.png\"><img src=\"files/experiment/NIST/data/using_dave.png\" width=\"500\" height=\"500\" alt=\"using_dave.png\"></a></center></br>\n",
      "\n",
      "Loading the PSd3_TOLd8 systems we can plot their decaying intensities with increasing temperature:\n",
      "\n",
      "<center><a href=\"files/experiment/NIST/data/PSd3_TOLd8.v2.png\"><img src=\"files/experiment/NIST/data/PSd3_TOLd8.v2.png\" width=\"500\" height=\"500\" alt=\"PSd3_TOLd8.v2.png\"></a></br>PSd3_TOLd8.pptx, PSd3_TOLd8.png, PSd3_TOLd8.v2.png</br>Legend refers to ratio of toluene molecules per styrene monomer</center></br>\n",
      "\n",
      "Eugene calculated the MSD from the previous data:\n",
      "<center><a href=\"files/experiment/NIST/data/MSD_Version02.JPG\"><img src=\"files/experiment/NIST/data/MSD_Version02.JPG\" width=\"400\" height=\"700\" alt=\"MSD_Version02.JPG\"></a></br>MSD_Version02.JPG</center></br>\n",
      "\n"
     ]
    },
    {
     "cell_type": "markdown",
     "metadata": {},
     "source": [
      "(<a href='#Table of Contents'>Top</a>)<a id='BASIS'></a><h3>BASIS</h3>\n",
      "HFBS has a resolution $FWHM_E \\cdot FWHM_t = 3.40 \\mu eV \\cdot 1.0735 ns$ </br>"
     ]
    },
    {
     "cell_type": "markdown",
     "metadata": {},
     "source": [
      "(<a href='#Table of Contents'>Top</a>)<a id='BASIS.data'></a><h3>Experimental Data</h3>\n",
      "Eugene performed QENS runs of <b>hydrated toluene</b> only at hydration r=0.44, in $\\Delta T=$40K increments starting from $T_0=$97K up to 337K. The Q-range is [0.3, 1.9] with $\\Delta Q=$  0.2\n",
      "Reduced files <i>BASIS_5091?.dat</i> are located under subdirectory <i>experiment/SNS/BASIS/data/</i>. The relation between temperature and run number is as follows:  \n",
      "<center><table>\n",
      "<tr><td>10K (resolution)</td><td>50911</td></tr>\n",
      "<tr><td>97K</td><td>50912</td></tr>\n",
      "<tr><td>137K</td><td>50913</td></tr>\n",
      "<tr><td>177K</td><td>50914</td></tr>\n",
      "<tr><td>217K</td><td>50915</td></tr>\n",
      "<tr><td>257K</td><td>50916</td></tr>\n",
      "<tr><td>297K</td><td>50917</td></tr>\n",
      "<tr><td>337K</td><td>50918</td></tr>\n",
      "</table></center>\n",
      "We translate the file format from Dave group to Nexus running [run2T.py](files/python/run2T.py) in MantidPlot. Also, we create symbolic link <i>resolution.nxs</i> which points to 10K run <i>BASIS_10.nxs</i>.\n",
      "\n",
      "<center><a href=\"files/experiment/SNS/BASIS/sample_sqe.jpg\"><img src=\"files/experiment/SNS/BASIS/sample_sqe.jpg\" width=\"400\" height=\"400\" alt=\"experiment/SNS/BASIS/sample_sqe.jpg\"></a><i>experiment/SNS/BASIS/sample_sqe.jpg</i></center>"
     ]
    },
    {
     "cell_type": "markdown",
     "metadata": {},
     "source": [
      "(<a href='#Table of Contents'>Top</a>)<a id='singlePolymer'></a><h2>Single Polymer</h2>"
     ]
    },
    {
     "cell_type": "markdown",
     "metadata": {},
     "source": [
      "(<a href='#Table of Contents'>Top</a>)<a id='PICT'></a><h3>Preparing Initial Conformation for Toluene</h3>\n",
      "We use Materials Studio to create a <a href=\"en.wikipedia.org/wiki/Toluene\">Toluene</a> molecule. The steps are:\n",
      "\n",
      "* Sketch the molecule (sketch tool)\n",
      "\n",
      "* \"Clean Structure\" buttom (quick geometry check)\n",
      "\n",
      "* Minimize structure with Forcite (PCFF force-field, 200 steps)\n",
      "\n",
      "An alternative, faster way to sketching the molecule is to use the polymer builder:\n",
      "\n",
      "* Tools --> Build Polymer\n",
      "\n",
      "* Go to the vynils library and select styrene. Construct a \"polymer\" having only one unit.\n",
      "\n",
      "* Delete the methyl group\n",
      "\n",
      "* Click in the complete with hydrogens \"H\" button\n",
      "\n",
      "* Click in the \"Clean Structure\" button (quick geometry check)\n",
      "\n",
      "* Minimize structure with Forcite (PCFF force-field, 200 steps)\n",
      "\n",
      "The materials studio project is polystyrene.stp within subdirectory XXXXXXX"
     ]
    },
    {
     "cell_type": "markdown",
     "metadata": {},
     "source": [
      "(<a href='#Table of Contents'>Top</a>)<a id='SPCT'></a><h3>Single Polystyrene Chain in Toluene</h3>\n",
      "We prepare a system resembling polystyrene in infinite dilution in Toluene. For this, we first create a polystyrene polymer:\n",
      "\n",
      "* Build --> Build Polymers --> Homopolymer\n",
      "\n",
      "* Select the vinyls library, select styrene as repeat unit, atactic in tacticity, Chain length 32, number of chains 1.\n",
      "\n",
      "* In advanced, select orientation head-to-tail, torsion 120 degrees.\n",
      "\n",
      "* \"Clean Structure\" button\n",
      "\n",
      "* Minimize with Forcite and cvff force-field for 200 steps.\n",
      "\n",
      "The next steps is to create a primitive cell with the chain in the center.\n",
      "\n",
      "* Select all, then click in the \"centroid\" button\n",
      "\n",
      "* In the properties browser, select centroid, edit centroidXYZ coordinates and set to x=60 y=60 z=60. The centroid will seat in the center of a 120x120x120 (Angstroms) cube.\n",
      "\n",
      "* Build --> Crystals --> Build Crystals\n",
      "\n",
      "* Select Group 1P1\n",
      "\n",
      "* In \"Lattice Parameters\" tab, set X=120, Y=120, Z=120. Click on build\n",
      "\n",
      "This cube is enough for th number of toluenes we want to include, which is about 128 toluenes per styrene repeat.\n",
      "\n",
      "The next step is to define the free volume that will be available to the toluene molecules. For this, we have to exclude the volume occupied by the polymer.\n",
      "\n",
      "* Select all, then Tools --> Atom volumes & surfaces. Leave the default options and just press \"Create\". A surface envelopping the polymer is created, and the associated volume enclosed by the surface.\n",
      "\n",
      "* We do not want the volume enclosed by the surface, rather we want the volume that is left in the cell. Right-click anywhere in the polymer, then select \"Display Style\".\n",
      "\n",
      "* Select tab \"Isosurface\", then click in \"High values inside\". This will redefine the volume as the free volume in the cell.\n",
      "\n",
      "Now it's time to add the toluenes. We begin by adding toluenes up to a density=0.1gr/cc. This will help us later to come up with the number of toluenes we want in order to have 128 toluenes per styrene repeat.\n",
      "\n",
      "* Modules --> Amorphous Cell -> Calculation.\n",
      "\n",
      "* Task=packing. Click in \"More...\" next to Task, then click in \"Pack in isosurface enclosed volume\". Our enclosed volume is actually the free volume in the cell because we redefined as such.\n",
      "\n",
      "* Set Quality=Medium, Density=0.1g/cm3.\n",
      "\n",
      "* In Composition, find the minimized structure for the toluene molecule.\n",
      "\n",
      "* Click in \"Options..\" button. In the popup, make sure that \"Calculate Automatically\", \"Check ring spearing\", \"Check close contacts\", and \"Check energies\" are clicked. Make sure that \"Optimized geometry\" is unclicked.\n",
      "\n",
      "* Go to the Energy tab, then set Forcefield=cvff. Finished, then click in \"Run\"\n",
      "\n",
      "After the packing is finished, open the \"txt\" file. There were 1128 toluenes included. We want 4096 toluenes if we are to have 128 toluenes per styrene, thus we have two equations in order to arrive to our desired density:\n",
      "\n",
      "* 0.1 = 1128/v\n",
      "\n",
      "* d = 4000/v\n",
      "\n",
      "The density is d=0.364g/cm3. We set another packing job, this time with d=0.364. It takes 7 hours! Opening the txt file we see we have now 4107 toluenes, which is reasonably close to the 4096 target. We leave it at that.\n",
      "\n",
      "We export the xtd file into CAR format (.cat and .mdf files will be generated) and open in vmd for inspection. We saved the visualization state, so just do <font face=\"courier new\"> vmd -e  1styrene32.vmd</font>.\n",
      "\n",
      "subWe render a picture with Tachyon, and in the render command, insert at the end -res 600 600 to get a good resolution picture. Files vmdscene.dat.tga and vmdscene.dat.tga are created. Then <font face=\"courier new\">convert vmdscene.dat.tga vmdscene.png</font>. In subdirectory <i>1styrene32/1styrene32_4017toluene</i>.\n",
      "\n",
      "<center><table><tr>\n",
      "<td><a href=\"files/1styrene32/1styrene32_4017toluene/vmdscene.png\"><img src=\"files/1styrene32/1styrene32_4017toluene/vmdscene.png\" width=\"200\" height=\"200\" alt=\"vmdscene.png\"></a> <br/>\n",
      "    <i>vmdscene.png (.vmd, .dat, .dat.tga)</i></td>\n",
      "</tr></table></center>"
     ]
    },
    {
     "cell_type": "markdown",
     "metadata": {},
     "source": [
      "(<a href='#Table of Contents'>Top</a>)<a id='CLDFSP'></a><h3>Create Lammps Data File for Single Polymer</h3>\n",
      "We use msi2lmp tool. In subdirectory <i>1styrene32/1styrene32_4017toluene/</i>\n",
      "\n",
      "<font face=\"courier new\">msi2lmp 1styrene32 -class I -frc cvff > 1styrene32.data</font>\n",
      "\n",
      "will read input files 1styrene32.car and 1styrene32.mdf and produce 1styrene32.data."
     ]
    },
    {
     "cell_type": "markdown",
     "metadata": {},
     "source": [
      "(<a href='#Table of Contents'>Top</a>)<a id='1MSD'></a><h3>Mean Square Displacements</h3>\n",
      "Computed from deviations from the average position in the:  $MSD=\\frac{1}{N}\\sum_i <(\\vec{r_i(t)}-\\bar{\\vec{r_i}})^2>_t$\n",
      "\n",
      "MSD were computed following the following procedure:\n",
      "\n",
      "* Remove global translations and rotations by doing RMS to first trajectory with script [rms2first.tcl](files/vmd/rms2first.tcl), generating trajectory <i>equil_rms2first.dcd</i>.\n",
      "<pre> vmd -dispdev win -eofexit -e $PROJD/vmd/rms2first.tcl</pre>\n",
      "\n",
      "* Calculate the mean squared displacements (MSD) for polymer hydrogens by chopping the trajectory into chunks of size $\\Gamma_t$=1.073ns (with $\\Gamma_t$ the FWHM of the BASIS resolution function in the time domain). We calculate MSD for each chunk and then average the resulting values, to get better statistics. We use the previouly generated average structure with script [atomic_fluct_t0average.py](files/python/atomic_fluct_t0average.py), creating (i) file <i>atomicfluct_BASIS_sty_series.dat</i> containing the MSD for all the chunks; and (ii) file <i>atomicfluct_BASIS_sty.dat</i> which contains the MSD averaged over all the chunk MSD values.\n",
      "<pre>atomic_fluct_t0average.py pdb equil_rms2first.dcd 10000 1073 30 '(:1-32)&(@H*)' atomicfluct_BASIS_sty.dat --seriesfile  atomicfluct_BASIS_sty_series.dat --msd yes</pre>\n",
      "\n",
      "* We apply the previous procedure for the simulations at different temperatures, and print all the MSD values in the terminal, which we then copy to file <i>1styrene32/1styrene32_4017toluene/analysis/atomicfluct_BASIS_styH_vs_T.dat</i>.\n",
      "<pre>for T in T90 T100 T110 T120 T130 T140 T150 T160 T170 T180 T190 T200 T210 T230 T250 T270 T290 T310;do\n",
      "  cd $WD/$T\n",
      "  echo -n \"$T \"; cat atomicfluct_7.64ns_styH.dat\n",
      "done</pre>\n",
      "\n",
      "We also use the same procedure to calculate MSD for the backbone (mask (:1-32)&(@H61,H62,H71,H72,H73) ), the sidechains (mask (:1-32)&(@H1,H2,H3,H4,H5) ), and the toluene hydrogens (mask (!(:1-32))&(@H=) ) \n",
      "<pre>atomic_fluct_t0average.py pdb equil_rms2first.dcd 10000 1073 30 '(:1-32)&(@H61,H62,H71,H72,H73)' atomicfluct_BASIS_bk.dat --seriesfile  atomicfluct_BASIS_bk_series.dat --msd yes\n",
      "atomic_fluct_t0average.py pdb equil_rms2first.dcd 10000 1073 30 '(:1-32)&(@H1,H2,H3,H4,H5)' atomicfluct_BASIS_sc.dat --seriesfile  atomicfluct_BASIS_sc_series.dat --msd yes\n",
      "atomic_fluct_t0average.py pdb equil_rms2first.dcd 10000 1073 30 '(!(:1-32))&(@H=)' atomicfluct_BASIS_tol.dat --seriesfile  atomicfluct_BASIS_tol_series.dat --msd yes\n",
      "</pre>\n",
      "\n",
      "<center><a href=\"files/1styrene32/1styrene32_4017toluene/analysis/atomicfluct_BASIS_vs_T.png\"><img src=\"files/1styrene32/1styrene32_4017toluene/analysis/atomicfluct_BASIS_vs_T.png\" width=\"400\" height=\"400\" alt=\"1styrene32/1styrene32_4017toluene/analysis/atomicfluct_BASIS_vs_T.png\"></a> <br/><i>1styrene32/1styrene32_4017toluene/analysis/atomicfluct_BASIS_vs_T.agr(.png)</i></center>\n",
      "\n",
      "The MSD shows linearity at low T, and exponential at high T. The dynamic temperature for the transition is smaller for toluene than for styrene. Remarkably, both backbone and sidechain hydrogens show similar transition temperature in the BASIS timescale."
     ]
    },
    {
     "cell_type": "markdown",
     "metadata": {},
     "source": [
      "(<a href='#Table of Contents'>Top</a>)<a id='1EP'></a><h3>Equilibration and production</h3>\n",
      "The Semi-equilibration protocol does not provide enough time for equilibration of the polymeric system. We attempt to fully equilibrate the system by simulation in the NPT ensemble for 5ns at 310K, and then contiute to simulate for 10ns as the production run. Thus the trajectory is 15ns long total.\n",
      "\n",
      "To simulate at a lower temperature $T'$, we retrieve an equilibrated conformation from a simulation at a higher temperature $T$ (with a temperature difference $T-T'<20K$) as initial conformation for the simulation at $T'$. We deem a conformation as equilibrated after 5ns or more elapsed from the start of the simulation. We follow this process iteratively, every time simulating a lower temperature, until we reach the lowest temperature we want to simulate."
     ]
    },
    {
     "cell_type": "markdown",
     "metadata": {},
     "source": [
      "(<a href='#Table of Contents'>Top</a>)<a id='1RDF'></a><h3>Radial distribution function</h3>\n",
      "Calculate the RDF between styrene and toluene. We select atom \"$C$\" in the toluene and two different atoms in styrene: atom \"$C_3$\" at the tip of the bencene ring and atom \"$C_7$\" in the backbone.\n",
      "<center><table><tr>\n",
      "<td><a href=\"files/analysis/radial/atom_selection_radial_styrene_toluene_molecule.png\"><img src=\"files/analysis/radial/atom_selection_radial_styrene_toluene_molecule.png\" width=\"200\" height=\"200\" alt=\"analysis/radial/atom_selection_radial_styrene_toluene_molecule.png\"></a> <br/><i>[atom_selection_radial_styrene_toluene_molecule.png](files/analysis/radial/atom_selection_radial_styrene_toluene_molecule.png)</i></td>\n",
      "<td><a href=\"files/analysis/radial/atom_selection_radial_styrene_fragment.png\"><img src=\"files/analysis/radial/atom_selection_radial_styrene_fragment.png\" width=\"250\" height=\"250\" alt=\"analysis/radial/atom_selection_radial_styrene_fragment.png\"></a> <br/><i>[atom_selection_radial_styrene_toluene_molecule.png](files/analysis/radial/atom_selection_radial_styrene_toluene_molecule.png)</i></td>\n",
      "</tr></table></center>\n",
      "Helper files to create the previous figures are images [toluene_molecule.png](files/analysis/radial/toluene_molecule.png), [styrene_fragment.png](files/analysis/radial/styrene_fragment.png), as well as PowerPoint [atom_selection_for_radials.pptx](files/analysis/radial/).\n",
      "\n",
      "Use command <i>radial</i> from cpptraj in python script [rdf.py](files/pythyon/rdf.py). For instance, in <i>1styrene32/1styrene32_4017toluene/T200</i>:\n",
      "<pre>python $PROJD/python/rdf.py pdb equil_rms2first.dcd C3 C --npol 1 --spacing 0.1 --maximum 30.0</pre>\n",
      "Creates files <i>rdf_styC3_tolC.dat</i>, <i>rawrdf_styC3_tolC.dat</i>, and <i>intrdf_styC3_tolC.dat</i>.\n",
      "\n",
      "<center><a href=\"files/1styrene32/1styrene32_4017toluene/analysis/rdf_styC3_tolC.png\"><img src=\"files/1styrene32/1styrene32_4017toluene/analysis/rdf_styC3_tolC.png\" width=\"400\" height=\"400\" alt=\"1styrene32/1styrene32_4017toluene/analysis/rdf_styC3_tolC.png\"></a> <br/><i>1styrene32/1styrene32_4017toluene/analysis/rdf_styC3_tolC.png</i></center>\n",
      "\n",
      "For details on the asytotic value, consult the AMBER-14 manual, command <i>radial</i> from cpptraj."
     ]
    },
    {
     "cell_type": "markdown",
     "metadata": {},
     "source": [
      "\n",
      "(<a href='#Table of Contents'>Top</a>)<a id='1solvshell'></a><h3>Solvent shell</h3>\n",
      "\n",
      "Calculate the number of toluene molecules around the styrenes within a given distance, that is, the solvation shell. We normalize this number by the number of styrenes, so that the asymptotic value as the distance tends to infinity is the ratio of toluenes per styrene.\n",
      "\n",
      "Command <i>watershell</i> of <i>cpptraj</i> calculatest the solvation shell. We select atom \"C\" in the toluene and two different atoms in styrene: atom \"C3\" at the tip of the bencene ring and atom \"C7\" in the backbone For details refer to <a href='#1RDF'>Radial distribution function</a>.\n",
      "\n",
      "Python script [toluene_shell.py](files/python/toluene_shell.py) uses command <i>watershell</i> of <i>cpptraj</i>. For instance, in <i>1styrene32/1styrene32_4017toluene/T200</i>:\n",
      "<pre>python $PROJD/python/toluene_shell.py pdb equil_rms2first.dcd C3 C toluene_shell_around_C3.dat --npol 1 --spacing 0.1 --minimum 3.0 --maximum 9.0</pre>\n",
      "Creates file <i>toluene_shell_around_C3.dat</i>. For more details, see [bash_commands.sh](files/bash_commands.sh).\n",
      "\n",
      "<center><a href=\"files/1styrene32/1styrene32_4017toluene/analysis/toluene_shell.png\"><img src=\"files/1styrene32/1styrene32_4017toluene/analysis/toluene_shell.png\" width=\"400\" height=\"400\" alt=\"1styrene32/1styrene32_4017toluene/analysis/toluene_shell.png\"></a> <br/><i>1styrene32/1styrene32_4017toluene/analysis/toluene_shell.png</i></center>\n",
      "\n",
      "As expected, there are more toluenes closer to the tip (\"C3\" atoms) of the styrenes than to the backbone (\"C7\" atoms). Increasing temperature has a desolvation effect, as the tolene shell decreases."
     ]
    },
    {
     "cell_type": "markdown",
     "metadata": {},
     "source": [
      "(<a href='#Table of Contents'>Top</a>)<a id='1thermoaverage'></a><h3>Thermodynamic averages</h3>\n",
      "We plot here the average of typical thermodynamic quantities such as temperature, pressure, volume, density, and such. We use python script [thermo_averages.py](files/python/thermo_averages.py):\n",
      "<pre>python $PROJD/python/thermo_averages.py  equil.log</pre>\n",
      "\n",
      "<center><table><tr>\n",
      "<td><a href=\"files/1styrene32/1styrene32_4017toluene/analysis/thermo_averages_density.png\"><img src=\"files/1styrene32/1styrene32_4017toluene/analysis/thermo_averages_density.png\" width=\"400\" height=\"400\" alt=\"1styrene32/1styrene32_4017toluene/analysis/thermo_averages_density.png\"></a> <br/><i>analysis/thermo_averages_density.agr(png)</i></td>\n",
      "<td><a href=\"files/1styrene32/1styrene32_4017toluene/analysis/thermo_averages_energies.png\"><img src=\"files/1styrene32/1styrene32_4017toluene/analysis/thermo_averages_energies.png\" width=\"400\" height=\"400\" alt=\"1styrene32/1styrene32_4017toluene/analysis/thermo_averages_energies.png\"></a> <br/><i>analysis/thermo_averages_energies.agr(png)</i></td>\n",
      "</tr></table></center>\n",
      "\n",
      "As expected, the density decreases with increasing temperature, thus leaving more free volume for motions. There is a change in slope after the dynamical transition, with the density decreasing faster.</br>\n",
      "Energy terms are rescaled according to $e_i = (E_i-E_{i,min})/(E_{i,max}-E_{i,min})$. This way all energy values vary from zero to one so that they can be compared on the same scale. The energy term 'molecular' includeds all bonded interactions.</br>\n",
      "As expected, all energy terms increase with temperature.  The Van deer Waals interaction changes slope slightly, becoming more steep with increasing temperatures. Striking is the sudden increase in electrostatic energy upon crossing over the dynamical transition from 160K to 170K. <b>Note</b>: the simulation at 160K was started using restart file ./T170/equil.partial.rst.9000000, so in principle it was started with an electrostatic energy value corresponding to T=170K."
     ]
    },
    {
     "cell_type": "markdown",
     "metadata": {},
     "source": [
      "(<a href='#Table of Contents'>Top</a>)<a id='Legacy'></a><h3>DISCARDED</h3>"
     ]
    },
    {
     "cell_type": "markdown",
     "metadata": {},
     "source": [
      "(<a href='#Table of Contents'>Top</a>)<a id='Legacy.1MSD'></a><h3>Mean Square Displacements at 1.22ns and 7.64ns</h3>\n",
      "\n",
      "Computed from deviations from the average position in the:  $MSD=\\frac{1}{N}\\sum_i <(\\vec{r_i(t)}-\\bar{\\vec{r_i}})^2>_t$\n",
      "\n",
      "MSD were computed following the following procedure:\n",
      "\n",
      "* Remove global translations and rotations by doing RMS to first trajectory with script [rms2first.tcl](files/vmd/rms2first.tcl), generating trajectory <i>equil_rms2first.dcd</i>.\n",
      "<pre> vmd -dispdev win -eofexit -e $PROJD/vmd/rms2first.tcl</pre>\n",
      "\n",
      "* Calculate the mean squared displacements (MSD) for polymer hydrogens by chopping the trajectory into chunks of size t=7.64ns (which I <i>erroneously</i> took to be $2\\pi \\Gamma_t$, with $\\Gamma_t$ the FWHM of the BASIS resolution function in the time domain). We calculate MSD for each chunk and then average the resulting values, to get better statistics. We use the previouly generated average structure with script [atomic_fluct_t0average.py](files/python/atomic_fluct_t0average.py), creating (i) file <i>atomicfluct_7.64ns_styH_series.dat</i> containing the MSD for all the chunks; and (ii) file <i>atomicfluct_7.64ns_styH.dat</i> which contains the MSD averaged over all the chunk MSD values.\n",
      "<pre>atomic_fluct_t0average.py pdb equil_rms2first.dcd 10000 7640 100 '(:1-32)&(@H*)' atomicfluct_7.64ns_styH.dat --seriesfile  atomicfluct_7.64ns_styH_series.dat --msd yes</pre>\n",
      "\n",
      "* We apply the previous procedure for the simulations at different temperatures, and print all the MSD values in the terminal, which we then copy to file <i>1styrene32/1styrene32_4017toluene/analysis/atomicfluct_7.64_styH_vs_T.dat</i>.\n",
      "<pre>for T in T90 T100 T110 T120 T130 T140 T150 T160 T170 T180 T190 T200 T210 T230 T250 T270 T290 T310;do\n",
      "  cd $WD/$T\n",
      "  \n",
      "  echo -n \"$T \"; cat atomicfluct_7.64ns_styH.dat;  echo ''\n",
      "done</pre>\n",
      "\n",
      "We also calculate the MSD taking now chunks of length t=1.22ns (which I <i>erroneously</i> took to be $\\Gamma_t$).\n",
      "<pre>atomic_fluct_t0average.py pdb equil_rms2first.dcd 10000 1220 100 '(:1-32)&(@H*)' atomicfluct_1.22ns_styH.dat --seriesfile  atomicfluct_7.64ns_styH_series.dat --msd yes</pre>\n",
      "\n",
      "Below compare the MSD for polistyrene \"infinitely diluted\" in toluene (actually 128 toluenes per styrene monomer) compared to polistyrene diluted in two toluenes per styrene</br>\n",
      "<center><table><tr>\n",
      "<td><a href=\"files/1styrene32/1styrene32_4017toluene/analysis/atomicfluct_styH_vs_T.png\"><img src=\"files/1styrene32/1styrene32_4017toluene/analysis/atomicfluct_styH_vs_T.png\" width=\"400\" height=\"300\" alt=\"analysis/atomicfluct_styH_vs_T.png\"></a> <br/><i>analysis/atomicfluct_styH_vs_T.agr (.png)</i></td>\n",
      "<td><a href=\"files/8styrene32/r2/analysis/atomicfluct_styH_vs_T.png\"><img src=\"files/8styrene32/r2/analysis/atomicfluct_styH_vs_T.png\" width=\"400\" height=\"300\" alt=\"analysis/atomicfluct_styH_vs_T.png\"></a> <br/><i>r2/analysis/atomicfluct_styH_vs_T.agr (.png)</i></td>\n",
      "</tr></table></center>"
     ]
    },
    {
     "cell_type": "markdown",
     "metadata": {},
     "source": [
      "(<a href='#Table of Contents'>Top</a>)<a id='eightPolymer'></a><h2>Eight Polymers</h2>"
     ]
    },
    {
     "cell_type": "markdown",
     "metadata": {},
     "source": [
      "(<a href='#Table of Contents'>Top</a>)<a id='PCP'></a><h3>Preparing Cell of Polystyrenes</h3>\n",
      "Using Materials Studio, we will prepare a 2x2x2 cubic cell, each cell site occupied with a <a href=\"http://en.wikipedia.org/wiki/Polystyrene\">polystyrene</a> (PS) polymer, each containing 32 <a href=\"en.wikipedia.org/wiki/Styrene\">styrenes</a>. Thus the cell contains 8 PS polymers</br>\n",
      "The separation betwen PS's must be big enough to accomodate whatever number of toluenes we want to include. We plan to simulate this cell with different solvation levels. We select the following levels:\n",
      "\n",
      "* 0 toluenes per styrene (dry, control system)\n",
      "* 0.2 toluenes per styrene\n",
      "* 0.3 toluenes per styrene\n",
      "* 0.4 toluenes per styrene\n",
      "* 0.5 toluenes per styrene\n",
      "* 1 toluenes per styrene\n",
      "* 2 toluenes per styrene\n",
      "* $2^2=4$ toluenes per styrene\n",
      "* $2^3=8$ toluenes per styrene\n",
      "* $2^4=16$ toluenes per styrene\n",
      "* $2^5=32$ toluenes per styrene\n",
      "* $2^7=128$ toluenes per styrene  **This simulation includes only one PS polymer. It is the system previously discussed\n",
      "\n",
      "The molar mass of toluene is 92.14 g/mol and its density at room conditions is 866.90 kg/m\u00b3. We will assume that a mix of toluenes and styrene units have the same molar mass and density.</br>\n",
      "The cell system with the highest solvation is 32 toluenes per styrene. Thus we have $32\\cdot 8=256$ styrenes and $256\\cdot 32=8192$ toluenes, for a total of $256+8192=8848$ molecules. With the previous molar mass and density, we arrive at a cell of L=11.50nm.\n",
      "\n",
      "Using the polymer builder tool in Materials Studio, we construct 8 atactic polystyrenes, each 32-units long. This creates the polymers but it does not place them in a cell. The polymers are about 6.5nm long. We select the size of the primitive cubic cell to have size of 10nm to ensure polymers will not clash and a relatively easy packing procedure when filling the void with toluene molecules\n",
      "\n",
      "To construct the cell in Materials Studio, we first create a 2x2x2 cubic lattice containing one Nitrogen atom at the center of each primitive cell. We selected Nitrogen because it has a big radius when represented as sphere\n",
      "\n",
      "* create a new atomistic document containing a single Nytrogen atom\n",
      "* Right-click -> Display Style -> Ball and Stick -> Ball radius and set to 2.5 for a big atom display\n",
      "* Place the atom at X=50, Y=50, Z=50 (Angstroms) by editing the XYZ field in the \"properties\" explorer (right-lower corner in the Material Studio window)\n",
      "* Build -> Crystals -> Build Crystal, then select \"P1\" from the \"enter group\" list (triclinic primitive cell). Then click in the \"Lattice Parameters\" tab and enter 100 for size of \"a\", \"b\", and \"C\". This will bild the primitive cell of hydrogen atoms.\n",
      "* Build -> Symmetry -> Supercell, then create a 2x2x2 supercell (A=2, B=2, C=2)\n",
      "\n",
      "Now we will manually place each of the polystyrenes on top of each of the Nitrogens in the super cube. For this, we:\n",
      "\n",
      "* Open the atomistic file containing the 8 polystyrenes you created before, click on any atom and then Right-click -> select fragment -> Ctrl-X. This will remove one of the polymers and commit it to memory.\n",
      "* Click on the atomistic file containing the hydrogen cube, then Ctrl-V. This will place the polymer you removed somewhere close to the super cube.\n",
      "* Select the \"move to\" button in the \"3D movement\" toolbar, then click on any one atom of the polysterene chain, with the condition that the atom should be more or less in the middle of the chain. Next, click on any of the hydrogens in the cube. The polystyrene chain will move on top of the hydrogen atom you selected.\n",
      "* Repeat the previous steps for each of the remaining 7 polystyrenes.\n",
      "* Manually select each of the 8 nitrogens and delete them.\n",
      "\n",
      "You just ended up with a 2x2x2 cube of polystyrenes! The size of the cube is $10nm\\cdot2=20nm$, which is well above the 11.50nm we have previously calculated to accomodate the system with the highest solvation.\n",
      "\n",
      "Run a minimization with Forcite, selecting the CVFF force-field and 400 steps.\n",
      "\n",
      "<center><table><tr>\n",
      "<td><a href=\"files/27Styrene32/optimized.png\"><img src=\"files/27Styrene32/optimized.png\" width=\"200\" height=\"200\" alt=\"optimized.png\"></a> <br/>\n",
      "    <i>optimized.png (.vmd, .mdf, .car)</i></td>\n",
      "</tr></table></center>"
     ]
    },
    {
     "cell_type": "markdown",
     "metadata": {},
     "source": [
      "(<a href='#Table of Contents'>Top</a>)<a id='PTCP'></a><h3>Packing the Cell of Polystyrenes</h3>\n",
      "As in the case of the single polystyrene, we need to pack the toluenes within the free volume, which is the volume of the box minus the volume occupied by the polymer chains.\n",
      "\n",
      "The target density of the system has contributions from the toluenes and the styrene:\n",
      "<center>$\\rho = \\rho_{tol} + \\rho_{sty} $</center>\n",
      "\n",
      "The toluene density is proportional to the number of inserted toluenes, the styrene density is constant. thus we can write\n",
      "\n",
      "<center>$\\rho = a \\cdot N_{tol} + b$ (<b>Eq. I</b>)</center>\n",
      "\n",
      "with $a$ and $b$ to be determined. For ratios 1 and 2 (256 and 512 toluenes, respectively) we have the following system of equations:\n",
      "\n",
      "$0.010425 = 256a + b$</br>\n",
      "$0.015321 = 512a + b$\n",
      "\n",
      "This gives a=0.000019125 and b=0.005529. Below is the table of needed toluenes for each \"solution ratio\":\n",
      "\n",
      "<pre>Ratio  #toluenes  dens(gr/cm3)\n",
      " 0.25       64      0.006753\n",
      " 0.2        51      0.006504375\n",
      " 0.3        77      0.007001625\n",
      " 0.4       102      0.00747975\n",
      " 0.5       128      0.007976\n",
      " 1         256      0.010\n",
      " 1.5       384      0.012873\n",
      " 2         512      0.015\n",
      " 4        1024      0.025\n",
      " 8        2048      0.045\n",
      "16        4096      0.084\n",
      "32        8192      0.162</pre>"
     ]
    },
    {
     "cell_type": "markdown",
     "metadata": {},
     "source": [
      "(<a href='#Table of Contents'>Top</a>)<a id='MPS'></a><h3>Minimizing the Polystyrene System</h3>\n",
      "\n",
      "Since we inserted the toluenes without energetic considerations, a minimization is desirable. Plus we endow the system with a force-field. The output of the packing job is a \"trajectory\" file containing only one frame. It is better to extract the frame as a structure file. The reason being the information that materials studio outputs on a minimization of a structure file is more detailed than the information it outputs when minimizing a trajectory frame, even if those refer to the same conformation.\n",
      "\n",
      "* Select the output of the packing job, then File --> \"Save as\" and select structure file (*.xsd).\n",
      "\n",
      "* Open the saved file and select Modules -> Forcite -> Calculation, then select geometry optimization, Quality=Coarse. Select CVFF force-field and Max.Iteration=200. Select four cores too.\n",
      "\n",
      "<center><table><tr><td><a href=\"files/27Styrene32/solratio2/minimized.png\"><img src=\"files/27Styrene32/solratio2/minimized.png\" width=\"200\" height=\"200\" alt=\"minimized.png\"></a> <br/>\n",
      "    <i>minimized.png (car,mdf)</i></td>\n",
      "</tr></table></center>\n"
     ]
    },
    {
     "cell_type": "markdown",
     "metadata": {},
     "source": [
      "(<a href='#Table of Contents'>Top</a>)<a id='LIF'></a><h3>Creating initial lammps input files</h3>\n",
      "\n",
      "First we need to create a <i>data</i> file containing the system, the bounding box, and the force-field parameters.\n",
      "\n",
      "* In Materials studio, <i>Export</i> the minimized system as CAR file, thus creating 8styrene.car and 8styrene.mdf files.\n",
      "\n",
      "* Invoke msi2lmp to create 8styrene.data input file: <font face=\"courier new\">msi2lmp 8styrene32 -class I -frc cvff.frc</font>. You need force field file [cvff.frc](files/msi2lmp/cvff.frc)\n",
      "\n",
      "* Comment the first line of file 8styrene.data by prepending a '#' symbol\n",
      "\n",
      "* (Optional) Add a comment line (<font face=\"courier new\"># Box Dimensions</font>) before the section describing the box dimensions\n",
      "\n",
      "In addition to the <i>data</i> file, and <i>input</i> file is needed describing the environment of the system (temperature, pressure) as well as other characteristics of the simulations (set of physical units, non-bonded forces cutoff and calculations, run time). Here's an [example input file](files/8styrene32/r1/minimize/minimize.in) for minimization of the system."
     ]
    },
    {
     "cell_type": "markdown",
     "metadata": {},
     "source": [
      "(<a href='#Table of Contents'>Top</a>)<a id='SEP'></a><h3>Semi-equilibration protocol</h3>\n",
      "After creating the initial lammps input files, we carry the following steps:\n",
      "\n",
      "* Minimization\n",
      "* Compression\n",
      "* Heatup\n",
      "\n",
      "Tipical minimization file: [minimize.in](files/8styrene32/r0/minimize/minimize.in)\n",
      "\n",
      "I divided the compression into several consecutive simulations done at different timesteps, pressures, pressure fluctuations relaxation rate, and temperature fluctuation relaxation rate. For instance: [compress.1.in](files/8styrene32/r0.5/compress/compress.1.in), [compress.2.in](files/8styrene32/r0.5/compress/compress.2.in), [compress.3.in](files/8styrene32/r0.5/compress/compress.3.in), [compress.4.in](files/8styrene32/r0.5/compress/compress.4.in), [compress.5.in](files/8styrene32/r0.5/compress/compress.5.in), and [compress.6.in](files/8styrene32/r0.5/compress/compress.6.in). At the end, one has the system at 10K in a simulation box that is approximately the equilibrated box size\n",
      "\n",
      "The heatup step increases the temperature from 10K to ~450K in discrete jumps of 20K every 100ps. A typical input is [heatup.in](files/8styrene32/r0.5/heatup/heatup.in).\n"
     ]
    },
    {
     "cell_type": "markdown",
     "metadata": {},
     "source": [
      "(<a href='#Table of Contents'>Top</a>)<a id='EP'></a><h3>Equilibration and production</h3>\n",
      "The Semi-equilibration protocol does not provide enough time for equilibration of the polymeric system. We attempt to fully equilibrate the system by simulation in the NPT ensemble for 5ns, and then simulate for 10ns or 100ns as the production run.\n",
      " \n",
      "Temperature range: 90K to 490K every 10K. Runs from 90K to 370K are 15ns long (5ns equilibration plus 10ns production), and runs from 380K to 500K are 105ns long. The 100ns production step is made up of a series of runs, each 10ns long.\n",
      "\n",
      "To simulate at a lower temperature $T'$, we retrieve an equilibrated conformation from a simulation at a higher temperature $T$ (with a temperature difference $T-T'<20K$) as initial conformation for the 5ns equilibration simulation, to be followed by the 10ns or 100ns run. We follow this process iteratively, every time simulating a lower temperature, until we reach the lowest temperature we want to simulate.\n",
      "\n",
      "We ran simulations at hopper.nersc.gov. Typical LAMMPS input file and PBS submission script for the 15ns runs are [equil.1.in](files/8styrene32/r0/T500/equil.1.in) and [equil_hopper.1.pbs](files/8styrene32/r0/T0/equil_hopper.1.pbs). Subsequent LAMMPS input file and PBS submission scripts to comple the 100ns prodution steps (for the 370K to 500K temperatures) are generated with templates [equil.I.in](files/8styrene32/r0/T500/equil.I.in) and [equil_hopper_I.pbs](files/8styrene32/r0/T500/equil_hopper_I.pbs), which are used by bash script [submit_chain_job.sh](files/8styrene32/r0/T500/submit_chain_job.sh). All these files are slightly different for each temperature.\n",
      "\n",
      "Jobs are run under scratch directory <i>hopper.nersc.gov:/scratch/scratchdirs/jmborr/pStyrene_Toluene/8styrene32/r0</i>, and files are saved to project directory <i>hopper.nersc.gov:/project/projectdirs/m1503/jmborr/pStyrene_Toluene/8styrene32/r0</i>"
     ]
    },
    {
     "cell_type": "markdown",
     "metadata": {},
     "source": [
      "(<a href='#Table of Contents'>Top</a>)<a id='clustering'></a><h3>Find centroid and average structure</h3>\n",
      "We cluster the trajectories in order to find the centroid and average structures. We do this to later plot the RMS to average versus time.</br>\n",
      "We use the hydrogens in the styrenes for the clustering. This is useful when plotting the RMS of the styrene hydrogens versus time. We use script [cluster_trajectory.py](files/python/cluster_trajectory.py) to find the centroid and average. The following example uses the styrene hydrogens (mask @1-4133&@H*) from 500 equidistant frames within trajectory <i>equil_rms2first.dcd</i> to produce files <i>centroid_styH.pdb</i> and <i>average_styH.pdb</i>. Using all frames would take too long.\n",
      "\n",
      "<pre>python $PROJD/python/cluster_trajectory.py ./8styrene32.pdb ./equil_rms2first.dcd 500 '@1-4133&@H*' centroid_styH.pdb average_styH.pdb</pre>\n",
      "\n",
      "After obtaining the average structure, we can calculate RMS to such structure versus time with ptraj input script [rms2avg_styH.in](files/cpptraj/rms2avg_styH.in), producing file <i>rms2avg_styH.dat</i> at each temperature.</br> The command line is:\n",
      "\n",
      "<pre>ptraj 8styrene32.pdb < $PROJD/cpptraj/rms2avg_styH.in</pre>"
     ]
    },
    {
     "cell_type": "markdown",
     "metadata": {},
     "source": [
      "(<a href='#Table of Contents'>Top</a>)<a id='rms2first'></a><h3>Removal of global rotations and traslations</h3>\n",
      "Transfer all contents of directory <i>hopper.nersc.gov:/project/projectdirs/m1503/jmborr/pStyrene_Toluene/8styrene32/r0</i> to <i>camm2.sns.gov:/SNSlocal/projects/jbq/pStyrene_Toluene/8styrene32/r0</i>\n",
      "\n",
      "For the 100ns runs (380K to 500K), merge the trajectories into a single file with script [coalesce_trajectories.tcl](files/vmd/coalesce_trajectories.tcl). Produces file <i>equil.dcd</i>. For the 10ns runs (90K to 370K) we simply drop the first frame with script [drop_first_frame.tcl](files/vmd/drop_first_frame.tcl) because the trajectory has one extra, additional frame. See [bash_commands.sh](files/bash_commands.sh) for implementation details. Check number of frames stored in <i>equil.dcd</i> with command <pre>dumpdcd equil_rms2first.dcd |head -1</pre>\n",
      "\n",
      "Remove possible translations and rotations of the whole system with script [rms2first.tcl](files/vmd/rms2first.tcl). In additions, it expunge the first 5ns that is considered the equilibration step. See [bash_commands.sh](files/bash_commands.sh) for implementation details. Produces <i>equil_rms2first.dcd</i>."
     ]
    },
    {
     "cell_type": "markdown",
     "metadata": {},
     "source": [
      "(<a href='#Table of Contents'>Top</a>)<a id='8MSD'></a><h3>Mean Square Displacements</h3>\n",
      "Computed from deviations from the average position in the:  $MSD=\\frac{1}{N}\\sum_i <(\\vec{r_i(t)}-\\bar{\\vec{r_i}})^2>_t$\n",
      "\n",
      "MSD were computed following the following procedure:\n",
      "\n",
      "* Remove global translations and rotations by doing RMS to first trajectory with script [rms2first.tcl](files/vmd/rms2first.tcl), generating trajectory <i>equil_rms2first.dcd</i>.\n",
      "<pre> vmd -dispdev win -eofexit -e $PROJD/vmd/rms2first.tcl</pre>\n",
      "\n",
      "* Calculate the mean squared displacements (MSD) for polymer hydrogens by chopping the trajectory into chunks of size $\\Gamma_t$=1.073ns (with $\\Gamma_t$ the FWHM of the BASIS resolution function in the time domain). We calculate MSD for each chunk and then average the resulting values, to get better statistics. We use the previouly generated average structure with script [atomic_fluct_t0average.py](files/python/atomic_fluct_t0average.py), creating (i) file <i>atomicfluct_BASIS_sty_series.dat</i> containing the MSD for all the chunks; and (ii) file <i>atomicfluct_BASIS_sty.dat</i> which contains the MSD averaged over all the chunk MSD values.\n",
      "<pre>atomic_fluct_t0average.py pdb equil_rms2first.dcd 10000 1073 100 '(:1-256)&(@H*)' atomicfluct_BASIS_sty.dat --seriesfile  atomicfluct_BASIS_sty_series.dat --msd yes</pre>\n",
      "\n",
      "* We apply the previous procedure for the simulations at different temperatures, and print all the MSD values in the terminal, which we then copy to file <i>1styrene32/1styrene32_4017toluene/analysis/atomicfluct_BASIS_styH_vs_T.dat</i>.\n",
      "<pre>for T in T90 T100 T110 T120 T130 T140 T150 T160 T170 T180 T190 T200 T210 T230 T250 T270 T290 T310;do\n",
      "  cd $WD/$T\n",
      "  echo -n \"$T \"; cat atomicfluct_7.64ns_styH.dat\n",
      "done</pre>\n",
      "\n",
      "We also use the same procedure to calculate MSD for the backbone (mask (:1-32)&(@H61,H62,H71,H72,H73) ), the sidechains (mask (:1-32)&(@H1,H2,H3,H4,H5) ), and the toluene hydrogens (mask (!(:1-256))&(@H=) ) \n",
      "<pre>atomic_fluct_t0average.py pdb equil_rms2first.dcd 10000 1073 30 '(:1-32)&(@H61,H62,H71,H72,H73)' atomicfluct_BASIS_bk.dat --seriesfile  atomicfluct_BASIS_bk_series.dat --msd yes\n",
      "atomic_fluct_t0average.py pdb equil_rms2first.dcd 10000 1073 30 '(:1-256)&(@H1,H2,H3,H4,H5)' atomicfluct_BASIS_sc.dat --seriesfile  atomicfluct_BASIS_sc_series.dat --msd yes\n",
      "atomic_fluct_t0average.py pdb equil_rms2first.dcd 10000 1073 30 '(!(:1-256))&(@H=)' atomicfluct_BASIS_tol.dat --seriesfile  atomicfluct_BASIS_tol_series.dat --msd yes\n",
      "</pre>\n",
      "\n",
      "<center><a href=\"files/1styrene32/1styrene32_4017toluene/analysis/atomicfluct_BASIS_vs_T.png\"><img src=\"files/1styrene32/1styrene32_4017toluene/analysis/atomicfluct_BASIS_vs_T.png\" width=\"400\" height=\"400\" alt=\"1styrene32/1styrene32_4017toluene/analysis/atomicfluct_BASIS_vs_T.png\"></a> <br/><i>1styrene32/1styrene32_4017toluene/analysis/atomicfluct_BASIS_vs_T.agr(.png)</i></center>\n",
      "\n",
      "The MSD shows linearity at low T, and exponential at high T. The dynamic temperature for the transition is smaller for toluene than for styrene. Remarkably, both backbone and sidechain hydrogens show similar transition temperature in the BASIS timescale."
     ]
    },
    {
     "cell_type": "markdown",
     "metadata": {},
     "source": [
      "(<a href='#Table of Contents'>Top</a>)<a id='lastconf'></a><h3>Create a visualization state for last conformation</h3>\n",
      "Eugene wants to take a look at how the toluenes solvate the poly-styrenes at different solvation ratios. Because the trajectories are saved with unwrapped coordinates, we need to wrap the coordinates. We select a relatively low temperature (270K) because toluenes will not have diffused so much as if we select a high temperature. Then we take the following steps.\n",
      "\n",
      "* <font face=\"courier new\">vmd ../8styrene32.car ../8styrene32.mdf</font><br/>\n",
      "* \"Load Data Into Molecule\", then select equil_rmsd2first.dcd and load only the last ten frames (First=9990, Last=-1, Stride=1).\n",
      "* In the terminal, wrap the coordinates with command: pbc wrap -compound res -all\n",
      "* \"Save Coordinates\" in PDB format and select the last conformation (First=10, Last=10, Stride=1). Save to file [<i>last_conformation.pdb</i>](files/8styrene32/r2/T270/last_conformation.pdb).\n",
      "\n",
      "Now that we have the last conformation in PDB file, we create a visualization state that can later be loaded with VMD:\n",
      "\n",
      "* <font face=\"courier new\">vmd last_conformation.pdb</font><br/>\n",
      "* In Graphics -> Representations, create a representation with Selection=\"residue 0 to 255\" and select \"Coloring Method\"=ColorID, \"Drawing Method\"=QuickSurf and Material=BrushedMetal.\n",
      "* In Graphics -> Representations, create a second representation with Selection=\"not residue 0 to 255\" and select \"Drawing Method\"=Bonds.\n",
      "* File -> \"Save Visualization State...\" and save to file [<i>last_conformation.vmd</i>](files/8styrene32/r2/T270/last_conformation.vmd)\n",
      "\n",
      "<center><a href=\"files/8styrene32/r2/T270/last_conformation.png\"><img src=\"files/8styrene32/r2/T270/last_conformation.png\" width=\"300\" height=\"200\" alt=\"8styrene32/r2/T270/last_conformation.png\"></a> <br/><i>8styrene32/r2/T270/last_conformation.png(pdb, vmd)</i></center>\n",
      "\n",
      "We created a composite with the <i>last_conformation.png</i> files from r0.5, r1, and r2 as powerpoint [last_conformations.pptx](files/8styrene32/analysis/last_conformations.pptx)\n",
      "\n",
      "<center><a href=\"files/8styrene32/analysis/last_conformations.png\"><img src=\"files/8styrene32/analysis/last_conformations.png\" width=\"600\" height=\"200\" alt=\"8styrene32/analysis/last_conformations.png\"></a> <br/><i>8styrene32/analysis/last_conformations.png(pptx)</i></center>\n"
     ]
    },
    {
     "cell_type": "markdown",
     "metadata": {},
     "source": [
      "(<a href='#Table of Contents'>Top</a>)<a id='RDF'></a><h3>Radial distribution function</h3>\n",
      "Calculate the RDF between styrene and toluene. We select atom \"$C$\" in the toluene and two different atoms in styrene: atom \"$C_3$\" at the tip of the bencene ring and atom \"$C_7$\" in the backbone.\n",
      "<center><table><tr>\n",
      "<td><a href=\"files/analysis/radial/atom_selection_radial_styrene_toluene_molecule.png\"><img src=\"files/analysis/radial/atom_selection_radial_styrene_toluene_molecule.png\" width=\"200\" height=\"200\" alt=\"analysis/radial/atom_selection_radial_styrene_toluene_molecule.png\"></a> <br/><i>[atom_selection_radial_styrene_toluene_molecule.png](files/analysis/radial/atom_selection_radial_styrene_toluene_molecule.png)</i></td>\n",
      "<td><a href=\"files/analysis/radial/atom_selection_radial_styrene_fragment.png\"><img src=\"files/analysis/radial/atom_selection_radial_styrene_fragment.png\" width=\"250\" height=\"250\" alt=\"analysis/radial/atom_selection_radial_styrene_fragment.png\"></a> <br/><i>[atom_selection_radial_styrene_toluene_molecule.png](files/analysis/radial/atom_selection_radial_styrene_toluene_molecule.png)</i></td>\n",
      "</tr></table></center>\n",
      "Helper files to create the previous figures are images [toluene_molecule.png](files/analysis/radial/toluene_molecule.png), [styrene_fragment.png](files/analysis/radial/styrene_fragment.png), as well as PowerPoint [atom_selection_for_radials.pptx](files/analysis/radial/).\n",
      "\n",
      "Use command <i>radial</i> from cpptraj in python script [rdf.py](files/pythyon/rdf.py). For instance, in <i>8styrene32/r2/T170</i>:\n",
      "<pre>python $PROJD/python/rdf.py pdb equil_rms2first.dcd C3 C --npol 8 --spacing 0.1 --maximum 30.0</pre>\n",
      "Creates files <i>rdf_styC3_tolC.dat</i>, <i>rawrdf_styC3_tolC.dat</i>, and <i>intrdf_styC3_tolC.dat</i>.</br>\n",
      "For details on the asytotic value, consult the AMBER-14 manual, command <i>radial</i> from cpptraj.\n",
      "\n",
      "<center><a href=\"files/analysis/rdf_styC3_tolC.png\"><img src=\"files/analysis/rdf_styC3_tolC.png\" width=\"400\" height=\"400\" alt=\"analysis/rdf_styC3_tolC.png\"></a> <br/><i>analysis/rdf_styC3_tolC.agr(.png)</i></center>\n",
      "\n",
      "The radial function at T=270K is remarkably similar at different solvation levels below 2nm distance!\n"
     ]
    },
    {
     "cell_type": "markdown",
     "metadata": {},
     "source": [
      "\n",
      "(<a href='#Table of Contents'>Top</a>)<a id='8solvshell'></a><h3>Solvent shell</h3>\n",
      "\n",
      "Calculate the number of toluene molecules around the styrenes within a given distance, that is, the solvation shell. We normalize this number by the number of styrenes, so that the asymptotic value as the distance tends to infinity is the ratio of toluenes per styrene.\n",
      "\n",
      "Command <i>watershell</i> of <i>cpptraj</i> calculatest the solvation shell. We select atom \"C\" in the toluene and two different atoms in styrene: atom \"C3\" at the tip of the bencene ring and atom \"C7\" in the backbone For details refer to <a href='#1RDF'>Radial distribution function</a>.\n",
      "\n",
      "Python script [toluene_shell.py](files/python/toluene_shell.py) uses command <i>watershell</i> of <i>cpptraj</i>. For instance, in <i>1styrene32/1styrene32_4017toluene/T200</i>:\n",
      "<pre>python $PROJD/python/toluene_shell.py pdb equil_rms2first.dcd C3 C toluene_shell_around_C3.dat --npol 8 --spacing 0.1 --minimum 3.0 --maximum 9.0</pre>\n",
      "Creates file <i>toluene_shell_around_C3.dat</i>. For more details, see [bash_commands.sh](files/bash_commands.sh).\n",
      "\n",
      "We compare the toluene shell around the styrene tips (atom \"C3\") for different solvation levels.\n",
      "<center><a href=\"files/analysis/toluene_shell_around_C3.png\"><img src=\"files/analysis/toluene_shell_around_C3.png\" width=\"400\" height=\"400\" alt=\"analysis/toluene_shell_around_C3.png\"></a> <br/><i>analysis/toluene_shell_around_C3.agr(png)</i></center>\n",
      "\n",
      "We also compare the effect of temperature on the solvation shell:\n",
      "<center><table><tr>\n",
      "<td><center><a href=\"files/8styrene32/r0.5/analysis/toluene_shell.png\"><img src=\"files/8styrene32/r0.5/analysis/toluene_shell.png\" width=\"300\" height=\"300\" alt=\"8styrene32/r0.5/analysis/toluene_shell.png\"></a> <br/><i>[toluene_shell.agr](files/8styrene32/r0.5/analysis/toluene_shell.agr)</i></center></td>\n",
      "<td><center><a href=\"files/8styrene32/r1/analysis/toluene_shell.png\"><img src=\"files/8styrene32/r1/analysis/toluene_shell.png\" width=\"300\" height=\"300\" alt=\"8styrene32/r1/analysis/toluene_shell.png\"></a> <br/><i>[toluene_shell.agr](files/8styrene32/r1/analysis/toluene_shell.agr)</i></center></td>\n",
      "<td><center><a href=\"files/8styrene32/r2/analysis/toluene_shell.png\"><img src=\"files/8styrene32/r2/analysis/toluene_shell.png\" width=\"300\" height=\"300\" alt=\"8styrene32/r2/analysis/toluene_shell.png\"></a> <br/><i>[toluene_shell.agr](files/8styrene32/r2/analysis/toluene_shell.agr)</i></center></td>\n",
      "<td><center><a href=\"files/1styrene32/1styrene32_4017toluene/analysis/toluene_shell.v2.png\"><img src=\"files/1styrene32/1styrene32_4017toluene/analysis/toluene_shell.v2.png\" width=\"300\" height=\"300\" alt=\"1styrene32/1styrene32_4017toluene/analysis/toluene_shell.v2.png\"></a> <br/><i>[toluene_shell.v2.agr](files/1styrene32/1styrene32_4017toluene/analysis/toluene_shell.v2.agr)</i></center></td>\n",
      "</tr></table></center>\n",
      "\n",
      "As expected, there are more toluenes closer to the tip (\"C3\" atoms) of the styrenes than to the backbone (\"C7\" atoms). Increasing temperature has a desolvation effect, as the tolene shell decreases. Also, notice that as temperature increases, some of the toluenes get closer (in the 0.3 to 0.4 nm) along wiht a partial desolvation (in the 0.54 to 0.65 nm range). It may be that now the polymer has more free volume where to move. The same desolvation is observed when using the atom \"C7\" in the backbone of the polymer."
     ]
    },
    {
     "cell_type": "markdown",
     "metadata": {},
     "source": [
      "(<a href='#Table of Contents'>Top</a>)<a id='8thermoaverage'></a><h3>Thermodynamic averages</h3>\n",
      "We plot here the average of typical thermodynamic quantities such as temperature, pressure, volume, density, and such. We use python script [thermo_averages.py](files/python/thermo_averages.py):\n",
      "<pre>python $PROJD/python/thermo_averages.py  equil.log</pre>\n",
      "\n",
      "<center><a href=\"files/analysis/thermo_averages_density.png\"><img src=\"files/analysis/thermo_averages_density.png\" width=\"400\" height=\"400\" alt=\"analysis/thermo_averages_density.png\"></a> <br/><i>analysis/thermo_averages_density.agr(png)</i></center>\n",
      "\n",
      "As expected, the density decreases with increasing temperature, thus leaving more free volume for motions. There is a change in slope after the dynamical transition, with the density decreasing faster.</br>\n",
      "\n",
      "\n",
      "* Energy terms are rescaled according to $e_i = (E_i-E_{i,min})/(E_{i,max}-E_{i,min})$. This way all energy values vary from zero to one so that they can be compared on the same scale. The energy term 'molecular' includeds all bonded interactions. \n",
      "* The Van deer Waals interaction changes slope slightly for 128 tol/sty, no significan slope change for the other ratios.\n",
      "* The electrostatic energy shows wild fluctuation, but it seems to be the best marker to signal the onset of the dynamical transition, as it is flatter a low temperatures and then increases.\n",
      "\n",
      "<center><table><tr>\n",
      "<td><a href=\"files/analysis/thermo_averages_electrostatic.png\"><img src=\"files/analysis/thermo_averages_electrostatic.png\" width=\"600\" height=\"400\" alt=\"analysis/thermo_averages_electrostatic.png\"></a> <br/><i>analysis/thermo_averages_electrostatic.agr(png)</i></td>\n",
      "<td><a href=\"files/analysis/thermo_averages_VanderWaals.png\"><img src=\"files/analysis/thermo_averages_VanderWaals.png\" width=\"400\" height=\"400\" alt=\"analysis/thermo_averages_VanderWaals.png\"></a> <br/><i>analysis/thermo_averages_VanderWaals.agr(png)</i></td>\n",
      "</tr></table></center>"
     ]
    },
    {
     "cell_type": "markdown",
     "metadata": {},
     "source": [
      "(<a href='#Table of Contents'>Top</a>)<a id='8Legacy'></a><h3>DISCARDED</h3>"
     ]
    },
    {
     "cell_type": "markdown",
     "metadata": {},
     "source": [
      "(<a href='#Table of Contents'>Top</a>)<a id='8Legacy.1MSD'></a><h3>Mean Square Displacements at 1.22ns and 7.64ns</h3>\n",
      "\n",
      "Computed from deviations from the average position in the:  $MSD=\\frac{1}{N}\\sum_i <(\\vec{r_i(t)}-\\bar{\\vec{r_i}})^2>_t$\n",
      "\n",
      "MSD were computed following the following procedure:\n",
      "\n",
      "* For low hydration (r0 and r0.5) and at high temperature (T>=380 for r0 and T>=400 for r0.5), 30ns simulations were performed instead of 10ns to get better statistics. We use script [coalesce_trajectories.tcl](files/vmd/coalesce_trajectories.tcl)</br>, generating trajectory <i>equil.dcd</i>.\n",
      "<pre>vmd -dispdev text -eofexit -e $PROJD/vmd/coalesce_trajectories.tcl</pre>\n",
      "\n",
      "* Remove global translations and rotations by doing RMS to first trajectory with script [rms2first.tcl](files/vmd/rms2first.tcl), generating trajectory <i>equil_rms2first.dcd</i>.\n",
      "<pre> vmd -dispdev win -eofexit -e $PROJD/vmd/rms2first.tcl</pre>\n",
      "\n",
      "* Calculate the mean squared displacements (MSD) for polymer hydrogens by chopping the trajectory into chunks of size t=7.64ns (which I <i>erroneously</i> took to be $2\\pi \\Gamma_t$, with $\\Gamma_t$ the FWHM of the BASIS resolution function in the time domain. We calculate MSD for each chunk and then average the resulting values, to get better statistics. We use the previouly generated average structure with script [atomic_fluct_t0average.py](files/python/atomic_fluct_t0average.py), creating file <i>atomicfluct_7.64ns_styH.dat</i> which contains only a number, the MSD averaged over the chunk trajectories.\n",
      "<pre>atomic_fluct_t0average.py 8styrene32.pdb equil_rms2first.dcd $nframes 7640 100 '@1-4133&@H*' atomicfluct_7.64ns_styH.dat --msd yes</pre>\n",
      "\n",
      "* We also calculate the MSD taking now chunks of length t=1.22ns (which I <i>erroneously</i> took to be $\\Gamma_t$).\n",
      "<pre>atomic_fluct_t0average.py 8styrene32.pdb equil_rms2first.dcd $nframes 1220 100 '@1-4133&@H*' atomicfluct_1.22ns_styH.dat --msd yes</pre>\n",
      "\n",
      "We apply the previous procedure for the simulations at different temperatures, and print all the MSD values in the terminal, which we then copy to file <i>8styrene32/r0/atomicfluct_7.64_styH_vs_T.dat</i>.\n",
      "\n",
      "<pre>PROJD=/SNSlocal/projects/jbq/pStyrene_Toluene\n",
      "for T in T150 T170 T190 T210 T220 T230 T250 T270 T290 T310 T330 T360 T370 T380 T390 T400 T405 T410 T420 T430 T440 T450 T460 T470;do\n",
      "  cd $PROJD/8styrene32/r0/$T/;  echo -n \"$T \";  cat atomicfluct_7.64ns_styH.dat;  echo ''\n",
      "done</pre>\n",
      "\n",
      "<center><table><tr>\n",
      "<td><center><a href=\"files/8styrene32/r0/analysis/atomicfluct_7.64_styH_vs_T.png\"><img src=\"files/8styrene32/r0/analysis/atomicfluct_7.64_styH_vs_T.png\" width=\"400\" height=\"300\" alt=\"8styrene32/r0/analysis/atomicfluct_7.64_styH_vs_T.png\"></a> <br/><i>8styrene32/r0/analysis/atomicfluct_7.64_styH_vs_T.png (agr)</i></center></td>\n",
      "<td><center><a href=\"files/8styrene32/r0.5/analysis/atomicfluct_7.64_styH_vs_T.png\"><img src=\"files/8styrene32/r0.5/analysis/atomicfluct_7.64_styH_vs_T.png\" width=\"400\" height=\"300\" alt=\"8styrene32/r0.5/analysis/atomicfluct_7.64_styH_vs_T.png\"></a> <br/><i>8styrene32/r0.5/analysis/atomicfluct_7.64_styH_vs_T.png (agr)</i></center>\n",
      "</td>\n",
      "</tr></table></center>\n",
      "    \n",
      "For r0, there is a change in the slope at $T^*$~365K, with vibrations for $T<T^*$ and some tipe of diffusion at $T>T^*$. From the fluctuations in MSD versus time, it seems that 30ns might by to low a time to have reliable values. We will have to do a local interpolation taking values from neighboring temperatures.<br/>\n",
      "For r0.5, the diffussion processes begin at a lower temperature, and the slope grows faster than for r0.\n",
      "\n",
      "At high temperatures, systems containing little or no toluenes (r0 and r0.5) need to be simulated for longer times than 10ns in order to capture the <MSD> in the ns lenght-scale. The reason is that there are rare fluctuations in the ~10ns scale involving most of a polymeric chain, giving rise to sharp spikes in the MSD(t). The presence of one or two of these fluctuations dominate the <MSD> signal.\n",
      "\n",
      "<center><table><tr>\n",
      "<td><center><a href=\"files/analysis/atomicfluct_1.22_styH_vs_T.png\"><img src=\"files/analysis/atomicfluct_1.22_styH_vs_T.png\" width=\"400\" height=\"400\" alt=\"analysis/atomicfluct_1.22_styH_vs_T.png\"></a> <br/><i>analysis/atomicfluct_1.22_styH_vs_T.png (agr)</i></center></td>\n",
      "<td><center><a href=\"files/analysis/atomicfluct_1.22_styH_vs_T.logPlot.png\"><img src=\"files/analysis/atomicfluct_1.22_styH_vs_T.logPlot.png\" width=\"400\" height=\"400\" alt=\"analysis/atomicfluct_1.22_styH_vs_T.logPlot.png\"></a> <br/><i>analysis/atomicfluct_1.22_styH_vs_T.logPlot.png (agr)</i></center></td>\n",
      "<td><center><a href=\"files/analysis/atomicfluct_7.64_styH_vs_T.png\"><img src=\"files/analysis/atomicfluct_7.64_styH_vs_T.png\" width=\"400\" height=\"400\" alt=\"analysis/atomicfluct_7.64_styH_vs_T.png\"></a> <br/><i>analysis/atomicfluct_7.64_styH_vs_T.png (agr)</i></center></td>\n",
      "</tr></table></center>"
     ]
    },
    {
     "cell_type": "markdown",
     "metadata": {},
     "source": [
      "(<a href='#r0.5'>Top</a>)<a id='r0.5'></a><h2>Analysis of the Eight Polymers at r=0.5</h2>\n"
     ]
    },
    {
     "cell_type": "markdown",
     "metadata": {},
     "source": [
      "(<a href='#r0.5'>Top</a>)<a id='r0.5.system_diffusion'></a><h3>Diffusion of the CM of the whole system</h3>  \n",
      "We find out if the center of mass of the whole system is undergoin diffusion by calculating the trajectory of the center of mass\n",
      "\n",
      "<pre>python $PROJD/python/CMsystemTrajectory.py 8styrene32.pdb equil.dcd cm.pdb cm.crd</pre>"
     ]
    },
    {
     "cell_type": "markdown",
     "metadata": {},
     "source": [
      "Creates <code>cm.pdb</code>, which is just the first ATOM line of <code>8styrene32.pdb</code>, and creates <code>cm.crd</code>. A peek to <code>cm.crd</code> reveals that the CM is not moving"
     ]
    },
    {
     "cell_type": "code",
     "collapsed": false,
     "input": [
      "%%bash\n",
      "head -2 cm.crd\n",
      "Cpptraj Generated trajectory\n",
      " 104.014  97.923  90.422\n",
      "tail --lines=2 cm.crd\n",
      " 104.014  97.923  90.422\n",
      " 104.014  97.923  90.422"
     ],
     "language": "python",
     "metadata": {},
     "outputs": []
    },
    {
     "cell_type": "markdown",
     "metadata": {},
     "source": [
      "This was true for simulations at all temperatures. Thus we do not need to remove global translations and rotations."
     ]
    },
    {
     "cell_type": "markdown",
     "metadata": {},
     "source": [
      "(<a href='#r0.5'>Top</a>)<a id='r0.5.cropped'></a><h3>Cropped trajectories</h3>  \n",
      "We remove the first 5ns of the trajectory, which we deem as &#34;non-equilibrium&#34;. We use script [crop_equil.tcl](files/vmd/crop_equil.tcl) to create file <code>equil_cropped.dcd</code>.\n",
      "\n",
      "<pre>vmd -dispdev text -e $PROJD/vmd/crop_equil.tcl</pre>"
     ]
    },
    {
     "cell_type": "markdown",
     "metadata": {},
     "source": [
      "(<a href='#r0.5'>Top</a>)<a id='r0.5.told3'></a><h3>MSD(t) for hydrogens in toluene rings</h3> \n",
      "\n",
      "Script [diffusion_t0average.py](files/python/diffusion_t0average.py) calculates MSD(t) into file <code>diffusion_styd3.dat</code>.\n",
      "\n",
      "<pre>python $PROJD/python/diffusion_t0average.py pdb equil_cropped.dcd $nframes 1.0 8000 100 \\\n",
      "'(!:1-256)&(@H1,@H2,@H3,@H4,@H5)' diffusion_told3.dat</pre>"
     ]
    },
    {
     "cell_type": "markdown",
     "metadata": {},
     "source": [
      "<center><a href=\"files/8styrene32/r0.5/analysis/diffusion_told3.png\"><img src=\"files/8styrene32/r0.5/analysis/diffusion_told3.png\" width=\"400\" height=\"400\" alt=\"8styrene32/r0.5/analysis/diffusion_told3.png\"></a>  <i>8styrene32/r0.5/analysis/diffusion_told3.png(agr)</i></center>"
     ]
    },
    {
     "cell_type": "markdown",
     "metadata": {},
     "source": [
      "(<a href='#r0.5'>Top</a>)<a id='r0.5.tol3MSD'></a><h3>MSD for hydrogens in toluene rings in the time resolution of HFBS and BASIS</h3> \n",
      "\n",
      "Given the time-resolution function $R(t)$ normalized in the $[-\\infty,  \\infty]$ time-range describing and instrument, and MSD(t) the time-dependend mean square displacement from a simulation, the corresponding MSD in the time-resolution of the instrument is ([Benedetto12](files/papers/Benedetto12.pdf)):  \n",
      "\n",
      "<center>$MSD = \\int_{-\\infty}^{\\infty}MSD(t)\\cdot R(t) = 2 \\int_{0}^{\\infty}MSD(t)\\cdot R(t)$</center>\n",
      "\n",
      "We assume Gaussian resolutions with the following standard deviations:\n",
      "\n",
      "* $\\sigma_t=1.94ns$ for HFBS\n",
      "* $\\sigma_t=0.46ns$ for BASIS\n",
      "\n",
      "Script [benedettoMSD](files/python/benedettoMSD.py) outputs the MSD value. We collect these values versus temperatures and save in files:\n",
      "\n",
      "* <code>8styrene32/r0.5/analysis/benedettoMSD_HFBS_told3.dat</code>\n",
      "* <code>8styrene32/r0.5/analysis/benedettoMSD_BASIS_told3.dat</code>\n",
      "\n",
      "<pre>python $PROJD/python/benedettoMSD.py diffusion_told3.dat BASIS</pre>"
     ]
    },
    {
     "cell_type": "markdown",
     "metadata": {},
     "source": [
      "<center><a href=\"files/8styrene32/r0.5/analysis/benedettoMSD_told3.png\"><img src=\"files/8styrene32/r0.5/analysis/benedettoMSD_told3.png\" width=\"400\" height=\"400\" alt=\"8styrene32/r0.5/analysis/benedettoMSD_told3.png\"></a>  <i>8styrene32/r0.5/analysis/benedettoMSD_told3.png(agr)</i></center>"
     ]
    },
    {
     "cell_type": "markdown",
     "metadata": {},
     "source": [
      "(<a href='#r0.5'>Top</a>)<a id='r0.5.fqttold3'></a><h3>Calculate $I(q,t)$ for hydrogens in toluene rings</h3>\n",
      "\n",
      "Carry out sassena simulations in hopper. Calculate $I(Q,t)$ in the Q-range $[0.3, 2.1]A^{-1}$. Output files are <code>fqt_inc_told3.h5</code>.\n"
     ]
    },
    {
     "cell_type": "markdown",
     "metadata": {},
     "source": [
      "(<a href='#r0.5'>Top</a>)<a id='r0.5.sqetold3'></a><h3>Calculate $S(Q,E)$ for hydrogens in toluene rings</h3>\n",
      "\n",
      "Script [genSQE.py](files/python/genSQE.py) generates S(Q,E) from sassena output, and convolve with model resolution\n",
      "function for HFBS instrument.\n",
      "\n",
      "<pre>python $PROJD/python/genSQE.py 300 told3   #for T=300K simulation</pre>\n",
      "\n",
      "will create subdirectory <code>mantid_sqe/</code> and stores nexus files for HFBS resolution function (<code>resolution_HFBS.nxs</code>), simulated S(Q,E) (<code>told3_sqw.nxs</code>), and S(Q,E) convolved with the resolution (<code>told3_sqw_HFBS.nxs</code>)."
     ]
    },
    {
     "cell_type": "markdown",
     "metadata": {},
     "source": [
      "(<a href='#r0.5'>Top</a>)<a id='r0.5.msdsqetold3'></a><h3>Calculate MSD from simulated $S(Q,E)$ for hydrogens in toluene rings</h3>\n",
      "\n",
      "Script [MSDfromSQE.py](files/python/MSDfromSQE.py) reads in the output from script [genSQE.py](files/python/genSQE.py) (file <code>told3_sqw_HFBS.nxs</code> which is the S(Q,E) convolved with the resolution of HFBS) and calculates the elastic intensity $IEI$ (integration of S(Q,E) in the [-FWHM,FWHM] energy range) versus $Q^2$. It does the fit $IEI=IEI(0)e^{-MSD\\cdot Q^2}$, where $IEI(0)$ is $I(Q,t=0)$.\n",
      "\n",
      "<pre>python $PROJD/python/MSDfromSQE.py told3</pre>\n",
      "\n",
      "will create file <code>told3_MSD_from_SQE.dat</code> containing just the MDS value, and file <code>told3_IEI_from_SQE.dat</code> containing $IEI$ versus $Q^2$.\n",
      "\n",
      "We collect the MSD for the different temperatures and save as file <code>told3_msd_from_SQE.dat</code> under <code>analysis/</code> subdirectory.\n",
      "\n",
      "<center><a href=\"files/8styrene32/r0.5/analysis/told3_MSD_from_SQE.png\"><img src=\"files/8styrene32/r0.5/analysis/told3_MSD_from_SQE.png\" width=\"400\" height=\"400\" alt=\"8styrene32/r0.5/analysis/told3_MSD_from_SQE.png\"></a> <br/><i>8styrene32/r0.5/analysis/told3_MSD_from_SQE.png(agr)</i></center>"
     ]
    },
    {
     "cell_type": "markdown",
     "metadata": {},
     "source": [
      "(<a href='#r0.5'>Top</a>)<a id='r0.5.CMtol'></a><h3>Trajectories for center of mass of hydrogens in toluene rings</h3>  \n",
      "Script [CMtraj.py](files/python/CMtraj.py) creates trajectory <code>ringH.dcd</code> and accompanying \"topology\" file <code>ringH.pdb</code> for the CoM of the hydrogens in toluene rings.\n",
      "\n",
      "<center><a href=\"files/8styrene32/r0.5/analysis/vector_normal_to_toluene_ring.png\"><img src=\"files/8styrene32/r0.5/analysis/vector_normal_to_toluene_ring.png\" width=\"200\" height=\"200\" alt=\"8styrene32/r0.5/analysis/vector_normal_to_toluene_ring.png\"></a> <br/><i>8styrene32/r0.5/analysis/vector_normal_to_toluene_ring.png(pptx)</i></center>\n",
      "\n",
      "<pre>python $PROJD/python/CMtraj.py pdb equil_cropped.dcd '(!:1-256)&(@H1,@H2,@H3,@H4,@H5)' \\\n",
      "told3CoM.pdb told3CoM.dcd --aggregate byres</pre>"
     ]
    },
    {
     "cell_type": "markdown",
     "metadata": {},
     "source": [
      "(<a href='#r0.5'>Top</a>)<a id='r0.5.CMtolMSD'></a><h3>MSD(t) for center of masses of hydrogens in toluene rings</h3>\n",
      "\n",
      "Script [diffusion_t0average.py](files/python/diffusion_t0average.py) reads in the trajectory af all the center of masses for each of the hydrogens in the toluene rings, and calculates MSD(t) into file <code>diffusion_told3CoM.dat</code>.\n",
      "\n",
      "<center><a href=\"files/8styrene32/r0.5/analysis/diffusion_told3CoM.png\"><img src=\"files/8styrene32/r0.5/analysis/diffusion_told3CoM.png\" width=\"400\" height=\"400\" alt=\"8styrene32/r0.5/analysis/diffusion_told3CoM.png\"></a>  <i>8styrene32/r0.5/analysis/diffusion_told3CoM.png(agr)</i></center>\n",
      "\n",
      "According to the plot, diffusion kicks in between 300K and 400K, in the time scale up to 8ns. \n",
      "\n",
      "<pre>python $PROJD/python/diffusion_t0average.py told3CoM.pdb told3CoM.dcd $nframes 1.0 8000 100 '@*' diffusion_styd3CoM.dat</pre>"
     ]
    },
    {
     "cell_type": "markdown",
     "metadata": {},
     "source": [
      "(<a href='#r0.5'>Top</a>)<a id='r0.5.MSD'></a><h3>MSD for center of masses of hydrogens in toluene rings in the time resolution of HFBS and BASIS</h3>\n",
      "\n",
      "Given the time-resolution function $R(t)$ normalized in the $[-\\infty,  \\infty]$ time-range describing and instrument, and MSD(t) the time-dependend mean square displacement from a simulation, the corresponding MSD in the time-resolution of the instrument is ([Benedetto12](files/papers/Benedetto12.pdf)):  \n",
      "\n",
      "<center>$MSD = \\int_{-\\infty}^{\\infty}MSD(t)\\cdot R(t) = 2 \\int_{0}^{\\infty}MSD(t)\\cdot R(t)$</center>\n",
      "\n",
      "We assume Gaussian resolutions with the following standard deviations:\n",
      "\n",
      "* $\\sigma_t=1.94ns$ for HFBS\n",
      "* $\\sigma_t=0.46ns$ for BASIS\n",
      "\n",
      "Script [benedettoMSD](files/python/benedettoMSD.py) outputs the MSD value. We collect these values versus temperatures and save in files:\n",
      "\n",
      "* <code>8styrene32/r0.5/analysis/benedettoMSD_HFBS_told3CoM.dat</code>\n",
      "* <code>8styrene32/r0.5/analysis/benedettoMSD_BASIS_told3CoM.dat</code>\n",
      "\n",
      "<pre>python $PROJD/python/benedettoMSD.py diffusion_told3CoM.dat BASIS</pre>"
     ]
    },
    {
     "cell_type": "markdown",
     "metadata": {},
     "source": [
      "<center><a href=\"files/8styrene32/r0.5/analysis/benedettoMSD_told3CoM.png\"><img src=\"files/8styrene32/r0.5/analysis/benedettoMSD_told3CoM.png\" width=\"400\" height=\"400\" alt=\"8styrene32/r0.5/analysis/benedettoMSD_told3CoM.png\"></a>  <i>8styrene32/r0.5/analysis/benedettoMSD_told3CoM.png(agr)</i></center>"
     ]
    },
    {
     "cell_type": "markdown",
     "metadata": {},
     "source": [
      "(<a href='#r0.5'>Top</a>)<a id='r0.5.fqttold3CM'></a><h3>Calculate $I(q,t)$ for center of mass of hydrogens in toluene rings</h3>\n",
      "\n",
      "Carry out sassena simulations in hopper. Calculate $I(Q,t)$ in the Q-range $[0.3, 2.1]A^{-1}$. Output files are <code>fqt_inc_told3CM.h5</code>.\n"
     ]
    },
    {
     "cell_type": "markdown",
     "metadata": {},
     "source": [
      "(<a href='#eightPolymer'>Top</a>)\n",
      "<a id='r0.5.sqeCMtold3'></a><h3>Calculate $S(Q,E)$ for CoM of hydrogens in toluene rings</h3>\n",
      "\n",
      "Script [genSQE.py](files/python/genSQE.py) generates S(Q,E) from sassena output, and convolve with model resolution\n",
      "function for HFBS instrument.\n",
      "\n",
      "<pre>python $PROJD/python/genSQE.py 300 told3CoM   #for T=300K simulation</pre>\n",
      "\n",
      "will create subdirectory <code>mantid_sqe/</code> (if non-existent) and stores nexus files for HFBS resolution function (<code>resolution_HFBS.nxs</code>), simulated S(Q,E) (<code>told3CoM_sqw.nxs</code>), and S(Q,E) convolved with the resolution (<code>told3CoM_sqw_HFBS.nxs</code>). "
     ]
    },
    {
     "cell_type": "markdown",
     "metadata": {},
     "source": [
      "(<a href='#r0.5'>Top</a>)<a id='r0.5.msdsqetold3CoM'></a><h3>Calculate MSD from simulated $S(Q,E)$ for Center of Mass of hydrogens in toluene rings</h3>\n",
      "\n",
      "Script [MSDfromSQE.py](files/python/MSDfromSQE.py) reads in the output from script [genSQE.py](files/python/genSQE.py) (file <code>told3CoM_sqw_HFBS.nxs</code> which is the S(Q,E) convolved with the resolution of HFBS) and calculates the elastic intensity $IEI$ (integration of S(Q,E) in the [-FWHM,FWHM] energy range) versus $Q^2$. It does the fit $IEI=IEI(0)e^{-MSD\\cdot Q^2}$, where $IEI(0)$ is $I(Q,t=0)$.\n",
      "\n",
      "<pre>python $PROJD/python/MSDfromSQE.py told3CoM</pre>\n",
      "\n",
      "will create file <code>told3CoM_msd_from_SQE.dat</code> containing just the MDS value, and file <code>told3CoM_IEI_from_SQE.dat</code> containing $IEI$ versus $Q^2$.\n",
      "\n",
      "We collect the MSD for the different temperatures and save as file <code>told3CoM_MSD_from_SQE.dat</code> under <code>analysis/</code> subdirectory.\n",
      "\n",
      "<center><a href=\"files/8styrene32/r0.5/analysis/told3CoM_MSD_from_SQE.png\"><img src=\"files/8styrene32/r0.5/analysis/told3CoM_MSD_from_SQE.png\" width=\"400\" height=\"400\" alt=\"8styrene32/r0.5/analysis/told3CoM_MSD_from_SQE.png\"></a> <br/><i>8styrene32/r0.5/analysis/told3CoM_MSD_from_SQE.png(agr)</i></center>\n",
      "\n",
      "We calculate the ratio of MSD from CoM versus ratio of total MSD: $\\frac{MSD_{told3CoM}}{MSD_{told3}}$\n",
      "\n",
      "<center><a href=\"files/8styrene32/r0.5/analysis/told3CoM_over_told3.png\"><img src=\"files/8styrene32/r0.5/analysis/told3CoM_over_told3.png\" width=\"400\" height=\"400\" alt=\"8styrene32/r0.5/analysis/told3CoM_over_told3.png\"></a> <br/><i>8styrene32/r0.5/analysis/told3CoM_over_told3.png(agr)</i></center>\n",
      "\n",
      "We see that diffusion of CoM begins to be relevant above 300K."
     ]
    },
    {
     "cell_type": "markdown",
     "metadata": {},
     "source": [
      "(<a href='#r0.5'>Top</a>)<a id='r0.5.internaltolMSDt'></a><h3>MSD(t) for internal motions of hydrogens in toluene rings</h3>\n",
      "\n",
      "Assuming that internal motions of the hydrogens in the ring ot toluene are decorrelated from center of mass motion, we can write:  \n",
      "\n",
      "<center>$MSD^2=MSD_{internal}^2+MSD_{CoM}^2$</center>  \n",
      "\n",
      "We already have total $MSD(t)$ (files <code>diffusion_told3.dat</code>) and $MSD_{CoM}^2(t)$ (files <code>diffusion_styd3CoM.dat</code>), so it is easy to retrieve $MSD_{internal}^2(t)$.\n",
      "\n",
      "Script [internalMSD.py](files/python/internalMSD.py) substracts $MSD_{CoM}^2(t)$ from $MSD(t)$.\n",
      "\n",
      "<pre>python $PROJD/python/internalMSD.py diffusion_told3.dat diffusion_tolstyd3CoM.dat diffusion_told3int.dat</pre>"
     ]
    },
    {
     "cell_type": "markdown",
     "metadata": {},
     "source": [
      "<center><a href=\"files/8styrene32/r0.5/analysis/diffusion_told3int.png\"><img src=\"files/8styrene32/r0.5/analysis/diffusion_told3int.png\" width=\"400\" height=\"400\" alt=\"8styrene32/r0.5/analysis/diffusion_told3int.png\"></a>  <i>8styrene32/r0.5/analysis/diffusion_told3int.png(agr)</i></center>"
     ]
    },
    {
     "cell_type": "markdown",
     "metadata": {},
     "source": [
      "(<a href='#r0.5'>Top</a>)<a id='r0.5.internaltolMSD'></a><h3>MSD for internal motions of hydrogens in toluene rings in the time resolution of HFBS and BASIS</h3>\n",
      "\n",
      "Given the time-resolution function $R(t)$ normalized in the $[-\\infty,  \\infty]$ time-range describing and instrument, and MSD(t) the time-dependend mean square displacement from a simulation, the corresponding MSD in the time-resolution of the instrument is ([Benedetto12](files/papers/Benedetto12.pdf)):  \n",
      "\n",
      "<center>$MSD = \\int_{-\\infty}^{\\infty}MSD(t)\\cdot R(t) = 2 \\int_{0}^{\\infty}MSD(t)\\cdot R(t)$</center>\n",
      "\n",
      "We assume Gaussian resolutions with the following standard deviations:\n",
      "\n",
      "* $\\sigma_t=1.94ns$ for HFBS\n",
      "* $\\sigma_t=0.46ns$ for BASIS\n",
      "\n",
      "Script [benedettoMSD](files/python/benedettoMSD.py) outputs the MSD value\n",
      "\n",
      "<pre>python $PROJD/python/benedettoMSD.py diffusion_told3int.dat BASIS</pre>"
     ]
    },
    {
     "cell_type": "markdown",
     "metadata": {},
     "source": [
      "We collect these values versus temperatures and save in files:\n",
      "\n",
      "* <code>8styrene32/r0.5/analysis/benedettoMSD_HFBS_told3int.dat</code>\n",
      "* <code>8styrene32/r0.5/analysis/benedettoMSD_BASIS_told3int.dat</code>\n",
      "\n",
      "<center><a href=\"files/8styrene32/r0.5/analysis/benedettoMSD_told3int.png\"><img src=\"files/8styrene32/r0.5/analysis/benedettoMSD_told3int.png\" width=\"400\" height=\"400\" alt=\"8styrene32/r0.5/analysis/benedettoMSD_told3int.png\"></a>  <i>8styrene32/r0.5/analysis/benedettoMSD_told3int.png(agr)</i></center>\n",
      "\n",
      "MDS of internal motions saturates to $MDS_{max} \\simeq 11 A^2$.BASIS needs a higher temperature than HFBS to observe the saturated MDS."
     ]
    },
    {
     "cell_type": "markdown",
     "metadata": {},
     "source": [
      "(<a href='#r0.5'>Top</a>)<a id='r0.5.alltolMSD'></a><h3>Compare MSD of internal and center-of-mass motions of hydrogens in toluene rings in the time resolution of HFBS</h3>\n",
      "\n",
      "<center><a href=\"files/8styrene32/r0.5/analysis/benedettoMSD_told3_composite.png\"><img src=\"files/8styrene32/r0.5/analysis/benedettoMSD_told3_composite.png\" width=\"400\" height=\"400\" alt=\"8styrene32/r0.5/analysis/benedettoMSD_told3_composite.png\"></a>  <i>8styrene32/r0.5/analysis/benedettoMSD_told3_composite.png(agr)</i></center>\n",
      "\n",
      "$MSD$ due to internal motions is higher up to a cross-over temperature of $T_{cross} \\simeq 370K$, which is $T_g$ of polystyrene."
     ]
    },
    {
     "cell_type": "markdown",
     "metadata": {},
     "source": [
      "(<a href='#r0.5'>Top</a>)<a id='r0.5.fqtstyd3'></a><h3>Calculate $I(q,t)$ for hydrogens in styrene rings</h3>\n",
      "\n",
      "Carry out sassena simulations in hopper. Calculate $I(Q,t)$ in the Q-range $[0.3, 2.1]A^{-1}$. Output files are <code>fqt_inc_styd3.h5</code>."
     ]
    },
    {
     "cell_type": "markdown",
     "metadata": {},
     "source": [
      "(<a href='#r0.5'>Top</a>)<a id='r0.5.sqestyd3'></a><h3>Calculate $S(Q,E)$ for hydrogens in styrene rings</h3>\n",
      "\n",
      "Script [genSQE.py](files/python/genSQE.py) generates S(Q,E) from sassena output, and convolve with model resolution\n",
      "function for HFBS instrument.\n",
      "\n",
      "<pre>python $PROJD/python/genSQE.py 300 styd3   #for T=300K simulation</pre>"
     ]
    },
    {
     "cell_type": "markdown",
     "metadata": {},
     "source": [
      "will create subdirectory <code>mantid_sqe/</code> (if non-existent) and stores nexus files for HFBS resolution function (<code>resolution_HFBS.nxs</code>), simulated S(Q,E) (<code>styd3_sqw.nxs</code>), and S(Q,E) convolved with the resolution (<code>styd3_sqw_HFBS.nxs</code>)."
     ]
    },
    {
     "cell_type": "markdown",
     "metadata": {},
     "source": [
      "(<a href='#r0.5'>Top</a>)<a id='r0.5.msdsqestyd3'></a><h3>Calculate MSD from simulated $S(Q,E)$ for hydrogens in styrene rings</h3>\n",
      "\n",
      "Script [MSDfromSQE.py](files/python/MSDfromSQE.py) reads in the output from script [genSQE.py](files/python/genSQE.py) (file <code>styd3_sqw_HFBS.nxs</code> which is the S(Q,E) convolved with the resolution of HFBS) and calculates the elastic intensity $IEI$ (integration of S(Q,E) in the [-FWHM,FWHM] energy range) versus $Q^2$. It does the fit $IEI=IEI(0)e^{-MSD\\cdot Q^2}$, where $IEI(0)$ is $I(Q,t=0)$.\n",
      "\n",
      "<pre>python $PROJD/python/MSDfromSQE.py styd3</pre>"
     ]
    },
    {
     "cell_type": "markdown",
     "metadata": {},
     "source": [
      "will create file <code>styd3_msd_from_SQE.dat</code> containing just the MDS value, and file <code>styd3_IEI_from_SQE.dat</code> containing $IEI$ versus $Q^2$.\n",
      "\n",
      "We collect the MSD for the different temperatures and save as file <code>styd3_MSD_from_SQE.dat</code> under <code>analysis/</code> subdirectory.\n",
      "\n",
      "<center><a href=\"files/8styrene32/r0.5/analysis/styd3_MSD_from_SQE.png\"><img src=\"files/8styrene32/r0.5/analysis/styd3_MSD_from_SQE.png\" width=\"400\" height=\"400\" alt=\"8styrene32/r0.5/analysis/styd3_MSD_from_SQE.png\"></a><i>8styrene32/r0.5/analysis/styd3_MSD_from_SQE.png(agr)</i></center>\n",
      "\n",
      "The styrene rings move less than the toluene, which was expected"
     ]
    },
    {
     "cell_type": "markdown",
     "metadata": {},
     "source": [
      "(<a href='#r0.5'>Top</a>)<a id='r0.5.styd3CoM'></a><h3>Trajectories for center of mass of hydrogens in styrene rings</h3> \n",
      "\n",
      "Script [CMtraj.py](files/python/CMtraj.py) creates trajectory <code>ringH.dcd</code> and accompanying \"topology\" file <code>ringH.pdb</code> for the CoM of the hydrogens in toluene rings.\n",
      "\n",
      "<center><a href=\"files/8styrene32/r0.5/analysis/styrene.png\"><img src=\"files/8styrene32/r0.5/analysis/styrene.png\" width=\"200\" height=\"200\" alt=\"8styrene32/r0.5/analysis/styrene.png\"></a> <br/><i>8styrene32/r0.5/analysis/styrene.png</i></center>\n",
      "\n",
      "<pre>python $PROJD/python/CMtraj.py pdb equil_cropped.dcd '(:1-256)&(@H1,@H2,@H3,@H4,@H5)' \\\n",
      "styd3CoM.pdb styd3CoM.dcd --aggregate byres</pre>"
     ]
    },
    {
     "cell_type": "markdown",
     "metadata": {},
     "source": [
      "(<a href='#r0.5'>Top</a>)<a id='r0.5.fqtstyd3CoM'></a><h3>Calculate $I(q,t)$ for center of mass of hydrogens in styrene rings</h3>\n",
      "\n",
      "Carry out sassena simulations in hopper. Calculate $I(Q,t)$ in the Q-range $[0.3, 2.1]A^{-1}$. Output files are <code>fqt_inc_styd3CoM.h5</code>."
     ]
    },
    {
     "cell_type": "markdown",
     "metadata": {},
     "source": [
      "(<a href='#eightPolymer'>Top</a>)\n",
      "<a id='r0.5.sqeCMstyd3'></a><h3>Calculate $S(Q,E)$ for CoM of hydrogens in styrene rings</h3>\n",
      "\n",
      "Script [genSQE.py](files/python/genSQE.py) generates S(Q,E) from sassena output, and convolve with model resolution\n",
      "function for HFBS instrument.\n",
      "\n",
      "<pre>python $PROJD/python/genSQE.py 300 styd3CoM   #for T=300K simulation</pre>\n",
      "\n",
      "will create subdirectory <code>mantid_sqe/</code> (if non-existent) and stores nexus files for HFBS resolution function (<code>resolution_HFBS.nxs</code>), simulated S(Q,E) (<code>styd3CoM_sqw.nxs</code>), and S(Q,E) convolved with the resolution (<code>styd3CoM_sqw_HFBS.nxs</code>). "
     ]
    },
    {
     "cell_type": "markdown",
     "metadata": {},
     "source": [
      "(<a href='#r0.5'>Top</a>)<a id='r0.5.msdsqestyd3CoM'></a><h3>Calculate MSD from simulated $S(Q,E)$ for Center of Mass of hydrogens in styrene rings</h3>\n",
      "\n",
      "Script [MSDfromSQE.py](files/python/MSDfromSQE.py) reads in the output from script [genSQE.py](files/python/genSQE.py) (file <code>styd3CoM_sqw_HFBS.nxs</code> which is the S(Q,E) convolved with the resolution of HFBS) and calculates the elastic intensity $IEI$ (integration of S(Q,E) in the [-FWHM,FWHM] energy range) versus $Q^2$. It does the fit $IEI=IEI(0)e^{-MSD\\cdot Q^2}$, where $IEI(0)$ is $I(Q,t=0)$.\n",
      "\n",
      "<pre>python $PROJD/python/MSDfromSQE.py styd3CoM</pre>\n",
      "\n",
      "will create file <code>styd3CoM_msd_from_SQE.dat</code> containing just the MDS value, and file <code>styd3CoM_IEI_from_SQE.dat</code> containing $IEI$ versus $Q^2$.\n",
      "\n",
      "We collect the MSD for the different temperatures and save as file <code>styd3CoM_MSD_from_SQE.dat</code> under <code>analysis/</code> subdirectory.\n",
      "\n",
      "<center><a href=\"files/8styrene32/r0.5/analysis/styd3CoM_MSD_from_SQE.png\"><img src=\"files/8styrene32/r0.5/analysis/styd3CoM_MSD_from_SQE.png\" width=\"400\" height=\"400\" alt=\"8styrene32/r0.5/analysis/styd3CoM_MSD_from_SQE.png\"></a><i>8styrene3CoM2/r0.5/analysis/styd3CoM_MSD_from_SQE.png(agr)</i></center>\n",
      "\n",
      "We calculate the ratio of MSD from CoM versus ratio of total MSD: $\\frac{MSD_{styd3CoM}}{MSD_{styd3}}$\n",
      "\n",
      "<center><a href=\"files/8styrene32/r0.5/analysis/styd3CoM_over_styd3.png\"><img src=\"files/8styrene32/r0.5/analysis/styd3CoM_over_styd3.png\" width=\"400\" height=\"400\" alt=\"8styrene32/r0.5/analysis/styd3CoM_over_styd3.png\"></a> <br/><i>8styrene32/r0.5/analysis/styd3CoM_over_styd3.png(agr)</i></center>\n",
      "\n",
      "We see that diffusion of CoM begins to be relevant above 300K."
     ]
    },
    {
     "cell_type": "markdown",
     "metadata": {},
     "source": [
      "(<a href='#r0.5.styd5'>Top</a>)<a id='r0.5.fqtstyd5'></a><h3>Calculate $I(q,t)$ for hydrogens in styrene backbone</h3>\n",
      "\n",
      "<center><a href=\"files/8styrene32/r0.5/analysis/styrene.png\"><img src=\"files/8styrene32/r0.5/analysis/styrene.png\" width=\"200\" height=\"200\" alt=\"8styrene32/r0.5/analysis/styrene.png\"></a> <br/><i>8styrene32/r0.5/analysis/styrene.png</i></center>\n",
      "\n",
      "Carry out sassena simulations in hopper. Calculate $I(Q,t)$ in the Q-range $[0.3, 2.1]A^{-1}$. Output files are <code>fqt_inc_styd5.h5</code>."
     ]
    },
    {
     "cell_type": "markdown",
     "metadata": {},
     "source": [
      "(<a href='#r0.5.styd5'>Top</a>)<a id='r0.5.sqestyd5'></a><h3>Calculate $S(Q,E)$ for hydrogens in styrene backbone</h3>\n",
      "\n",
      "Script [genSQE.py](files/python/genSQE.py) generates S(Q,E) from sassena output, and convolve with model resolution\n",
      "function for HFBS instrument.\n",
      "\n",
      "<pre>python $PROJD/python/genSQE.py 300 styd5   #for T=300K simulation</pre>\n",
      "\n",
      "will create subdirectory <code>mantid_sqe/</code> (if non-existent) and stores nexus files for HFBS resolution function (<code>resolution_HFBS.nxs</code>), simulated S(Q,E) (<code>styd5_sqw.nxs</code>), and S(Q,E) convolved with the resolution (<code>styd5_sqw_HFBS.nxs</code>)."
     ]
    },
    {
     "cell_type": "markdown",
     "metadata": {},
     "source": [
      "(<a href='#r0.5.styd5'>Top</a>)<a id='r0.5.msdsqestyd5'></a><h3>Calculate MSD from simulated $S(Q,E)$ for hydrogens in styrene backbone</h3>\n",
      "\n",
      "Script [MSDfromSQE.py](files/python/MSDfromSQE.py) reads in the output from script [genSQE.py](files/python/genSQE.py) (file <code>styd3_sqw_HFBS.nxs</code> which is the S(Q,E) convolved with the resolution of HFBS) and calculates the elastic intensity $IEI$ (integration of S(Q,E) in the [-FWHM,FWHM] energy range) versus $Q^2$. It does the fit $IEI=IEI(0)e^{-MSD\\cdot Q^2}$, where $IEI(0)$ is $I(Q,t=0)$.\n",
      "\n",
      "<pre>python $PROJD/python/MSDfromSQE.py styd5</pre>\n",
      "\n",
      "will create file <code>styd5_msd_from_SQE.dat</code> containing just the MDS value, and file <code>styd5_IEI_from_SQE.dat</code> containing $IEI$ versus $Q^2$.\n",
      "\n",
      "We collect the MSD for the different temperatures and save as file <code>styd5_MSD_from_SQE.dat</code> under <code>analysis/</code> subdirectory.\n",
      "\n",
      "<center><a href=\"files/8styrene32/r0.5/analysis/styd5_MSD_from_SQE.png\"><img src=\"files/8styrene32/r0.5/analysis/styd5_MSD_from_SQE.png\" width=\"400\" height=\"400\" alt=\"8styrene32/r0.5/analysis/styd5_MSD_from_SQE.png\"></a><i>8styrene32/r0.5/analysis/styd5_MSD_from_SQE.png(agr)</i></center>\n",
      "\n",
      "The styrene rings move less than the toluene, which was expected.\n",
      "\n",
      "\n",
      "We calculate the ratio of MSD from backbone to MSD of sidechain: $\\frac{MSD_{styd5}}{MSD_{styd3}}$\n",
      "\n",
      "<center><a href=\"files/8styrene32/r0.5/analysis/styd5_over_styd3.png\"><img src=\"files/8styrene32/r0.5/analysis/styd5_over_styd3.png\" width=\"400\" height=\"400\" alt=\"8styrene32/r0.5/analysis/styd5_over_styd3.png\"></a> <br/><i>8styrene32/r0.5/analysis/styd5_over_styd3.png(agr)</i></center>\n",
      "\n",
      "We see that diffusion of backbone begins to be relevant above 400K, which is much higher than the 300K obtained for the toluene. This begs a few questions:\n",
      "\n",
      "* Instead of the hydrogens in the styrene backbone, should we use the center of mass of the hydrogens in the styrene rings for this comparison?\n",
      "* How is this ratio in the case of styrene without toluene?"
     ]
    },
    {
     "cell_type": "markdown",
     "metadata": {},
     "source": [
      "(<a href='#r0.5.styd5CoM'>Top</a>)<a id='r0.5.styd5CoMtrj'></a><h3>Trajectories for center of mass of hydrogens in styrene backbone</h3> \n",
      "\n",
      "Script [CMtraj.py](files/python/CMtraj.py) creates trajectory <code>styd5CoM.dcd</code> and accompanying \"topology\" file <code>styd5CoM.pdb</code> for the CoM of the hydrogens in backbone of styrene.\n",
      "\n",
      "<center><a href=\"files/8styrene32/r0.5/analysis/styrene.png\"><img src=\"files/8styrene32/r0.5/analysis/styrene.png\" width=\"200\" height=\"200\" alt=\"8styrene32/r0.5/analysis/styrene.png\"></a> <br/><i>8styrene32/r0.5/analysis/styrene.png</i></center>\n",
      "\n",
      "Note: we do not include H71 because we did not include these atoms when calculating properties for \"all\" the hydrogens in the backbone. Specifically, file styd5.pdb that flags hydrogens to be included in the $I(Q,t)$ calculation misses H71.\n",
      "\n",
      "<pre>python $PROJD/python/CMtraj.py pdb equil_cropped.dcd '(:1-256)&(@H62,@H72,@H73)' \\\n",
      "styd5CoM.pdb styd5CoM.dcd --aggregate byres</pre>"
     ]
    },
    {
     "cell_type": "markdown",
     "metadata": {},
     "source": [
      "(<a href='#r0.5.styd5CoM'>Top</a>)<a id='r0.5.fqtstyd5CoM'></a><h3>Calculate $I(q,t)$ for center of mass of hydrogens in styrene backbone</h3>\n",
      "\n",
      "Carry out sassena simulations in hopper. Calculate $I(Q,t)$ in the Q-range $[0.3, 2.1]A^{-1}$. Output files are <code>fqt_inc_styd5CoM.h5</code>."
     ]
    },
    {
     "cell_type": "markdown",
     "metadata": {},
     "source": [
      "(<a href='#r0.5.styd5CoM'>Top</a>)<a id='r0.5.sqestyd5CoM'></a><h3>Calculate $S(Q,E)$ for center of mass of hydrogens in styrene backbone</h3>\n",
      "\n",
      "Script [genSQE.py](files/python/genSQE.py) generates S(Q,E) from sassena output, and convolve with model resolution\n",
      "function for HFBS instrument.\n",
      "\n",
      "<pre>python $PROJD/python/genSQE.py 300 styd5CoM   #for T=300K simulation</pre>\n",
      "\n",
      "will create subdirectory <code>mantid_sqe/</code> (if non-existent) and stores nexus files for HFBS resolution function (<code>resolution_HFBS.nxs</code>), simulated S(Q,E) (<code>styd5CoM_sqw.nxs</code>), and S(Q,E) convolved with the resolution (<code>styd5CoM_sqw_HFBS.nxs</code>)."
     ]
    },
    {
     "cell_type": "markdown",
     "metadata": {},
     "source": [
      "(<a href='#r0.5.styd5CoM'>Top</a>)<a id='r0.5.msdsqestyd5CoM'></a><h3>Calculate MSD from simulated $S(Q,E)$ for center of mass hydrogens in styrene backbone</h3>\n",
      "\n",
      "Script [MSDfromSQE.py](files/python/MSDfromSQE.py) reads in the output from script [genSQE.py](files/python/genSQE.py) (file <code>styd3_sqw_HFBS.nxs</code> which is the S(Q,E) convolved with the resolution of HFBS) and calculates the elastic intensity $IEI$ (integration of S(Q,E) in the [-FWHM,FWHM] energy range) versus $Q^2$. It does the fit $IEI=IEI(0)e^{-MSD\\cdot Q^2}$, where $IEI(0)$ is $I(Q,t=0)$.\n",
      "\n",
      "<pre>python $PROJD/python/MSDfromSQE.py styd5CoM</pre>\n",
      "\n",
      "will create file <code>styd5CoM_msd_from_SQE.dat</code> containing just the MDS value, and file <code>styd5CoM_IEI_from_SQE.dat</code> containing $IEI$ versus $Q^2$.\n",
      "\n",
      "We collect the MSD for the different temperatures and save as file <code>styd5CoM_MSD_from_SQE.dat</code> under <code>analysis/</code> subdirectory.\n",
      "\n",
      "<center><a href=\"files/8styrene32/r0.5/analysis/styd5CoM_MSD_from_SQE.png\"><img src=\"files/8styrene32/r0.5/analysis/styd5CoM_MSD_from_SQE.png\" width=\"400\" height=\"400\" alt=\"8styrene32/r0.5/analysis/styd5CoM_MSD_from_SQE.png\"></a><i>8styrene32/r0.5/analysis/styd5CoM_MSD_from_SQE.png(agr)</i></center>\n",
      "\n",
      "We calculate the ratio of MSD from center of mass of styrene backbone hydrogens to MSD of all backbone hydrogens: $\\frac{MSD_{styd5CoM}}{MSD_{styd5}}$\n",
      "\n",
      "<center><a href=\"files/8styrene32/r0.5/analysis/styd5CoM_over_styd5.png\"><img src=\"files/8styrene32/r0.5/analysis/styd5CoM_over_styd5.png\" width=\"400\" height=\"400\" alt=\"8styrene32/r0.5/analysis/styd5CoM_over_styd5.png\"></a> <br/><i>8styrene32/r0.5/analysis/styd5CoM_over_styd5.png(agr)</i></center>\n",
      "\n",
      "There seems to be a problem: MSD of the Center of Mass should never be greater than the total MSD, as the previous plot indicates. We have to compute MSD(t) from the atomic (styd5) and the center of mass (styd5CoM) and see if we reproduce this anomalous behavior."
     ]
    },
    {
     "cell_type": "markdown",
     "metadata": {},
     "source": [
      "(<a href='#eightPolymer'>Top</a>)<a id='r0.5.autocorrNormalVelRingTol'></a><h3>Auto-correlation of vector normal to toluene ring</h3>\n",
      "\n",
      "Given the following position of hydrogens in toluene ring H1 to H5 and bond vectors $\\vec{v}_0$ to $\\vec{v}_5$, we define the vector normal to the ring, $\\vec{z}$, as  \n",
      "<center>$\\vec{z}=\\frac{1}{5}\\sum_{i=1}^5 \\vec{v}_{i-1} \\times \\vec{v}_i$</center>\n",
      "\n",
      "<center><a href=\"files/8styrene32/r0.5/analysis/vector_normal_to_toluene_ring.png\"><img src=\"files/8styrene32/r0.5/analysis/vector_normal_to_toluene_ring.png\" width=\"200\" height=\"200\" alt=\"8styrene32/r0.5/analysis/vector_normal_to_toluene_ring.png\"></a> <br/><i>8styrene32/r0.5/analysis/vector_normal_to_toluene_ring.png(pptx)</i></center>\n",
      "\n",
      "We select the autocorrelation of this vector given by the first order Legendre polynomial:  \n",
      "<center>$C(t)=\\langle P_1(\\hat{z}(t_0) \\cdot \\hat{z}(t_0+t))\\rangle_{t_0}$, where $P_1(x)=x$</center>\n",
      "\n"
     ]
    },
    {
     "cell_type": "code",
     "collapsed": false,
     "input": [],
     "language": "python",
     "metadata": {},
     "outputs": []
    }
   ],
   "metadata": {}
  }
 ]
}