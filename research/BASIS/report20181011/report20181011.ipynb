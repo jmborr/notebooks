{
 "cells": [
  {
   "cell_type": "markdown",
   "metadata": {},
   "source": [
    "<h1>BASIS: Report on the 311 bank</h1>\n",
    "\n",
    "\n",
    "\n",
    "<a id='Table of Contents'></a><h3>Table of Contents</h3>  \n",
    "\n",
    "<a href='#Setup'>Python setup (imports)</a>   \n",
    "<a href='#run_numbers'>Run numbers</a>  \n",
    "\n",
    "<a id='vanadium'></a><b>Vanadium data</b>  \n",
    "<a href='#vanadium.111'>111 Reflection</a>  \n",
    "<a href='#vanadium.311'>311 Reflection</a>  \n",
    "\n",
    "<a id='sample'></a><b>Sample + buffer + can data</b>  \n",
    "<a href='#sample.311'>311 Reflection</a>  \n",
    "\n",
    "\n",
    "<a id='Meetings'></a><b>Meetings</b>  \n",
    "\n",
    "\n",
    "<a href='#Syntax'>HTML and MARKDOWN SYNTAX EXAMPLES</a></br>"
   ]
  },
  {
   "cell_type": "markdown",
   "metadata": {},
   "source": [
    "(<a href='#Table of Contents'>Top</a>)<a id='Setup'></a><h3>Python setup (imports)</h3>"
   ]
  },
  {
   "cell_type": "code",
   "execution_count": null,
   "metadata": {},
   "outputs": [],
   "source": [
    "%matplotlib inline\n",
    "import numpy as np\n",
    "import scipy as sc\n",
    "import lmfit as lm\n",
    "import matplotlib.pyplot as plt"
   ]
  },
  {
   "cell_type": "markdown",
   "metadata": {},
   "source": [
    "(<a href='#Table of Contents'>Top</a>)<a id='run_numbers'></a><h3>Run numbers</h3>\n",
    "\n",
    "Run numbers\n",
    "\n",
    "<center><table>\n",
    "<tr>\n",
    "    <td></td>\n",
    "    <td>311 (60Hz)</td>\n",
    "    <td>111 (30Hz)</td>\n",
    "</tr>\n",
    "<tr>\n",
    "    <td>data protein and buffer</td>\n",
    "    <td>83223 - 83232</td>\n",
    "    <td>83200 - 83214</td>\n",
    "</tr>\n",
    "<tr>\n",
    "    <td>buffer (D2O)</td>\n",
    "    <td>83233 - 83243</td>\n",
    "    <td>83245 - 83260</td>\n",
    "</tr>\n",
    "    <tr>\n",
    "    <td>Empty Can</td>\n",
    "    <td>83261 - 83269</td>\n",
    "    <td>83270 - 83274</td>\n",
    "</tr>\n",
    "    <tr>\n",
    "    <td>Vanadium</td>\n",
    "    <td>83286 - 83294</td>\n",
    "    <td>83276 - 83284</td>\n",
    "</tr>\n",
    "</table></center>"
   ]
  },
  {
   "cell_type": "markdown",
   "metadata": {},
   "source": [
    "<h2>Vanadium data</h2>  \n",
    "\n",
    "We compare Vanadium data using the 111 banks, the 311 banks, and the diffraction tubes"
   ]
  },
  {
   "cell_type": "markdown",
   "metadata": {},
   "source": [
    "(<a href='#vanadium'>Top</a>)<a id='vanadium.111'></a><h3>111 Reflection</h3> \n",
    "\n",
    "Load vanadium runs 83276-83284 together into Mantid for visualization of neutron counts.\n",
    "\n",
    "A visualization of the vanadium neutron count for the diffraction tubes:  \n",
    "\n",
    "<center><table><tr>\n",
    "<td><a href=\"files/images/vanadium_111_diff.png\"><img src=\"files/images/vanadium_111_diff.png\" width=\"400\" alt=\"vanadium_111_diff.png\"></a><center><i>images/vanadium_111_diff.png</i></center></td>\n",
    "</tr></table></center>\n",
    "\n",
    "We reduced the diffraction data with `BASISPowderDiffraction`. Intensity histograms versus scattering angle and Q suggest uniform scattering. Gaps in the histogram are due to a lack of detectors at those particular values of the scattering angle.   \n",
    "\n",
    "<center><table><tr>\n",
    "<td><a href=\"files/images/vanadium_111_diff_angle.png\"><img src=\"files/images/vanadium_111_diff_angle.png\" width=\"400\" alt=\"vanadium_111_diff_angle.png\"></a><center><i>images/vanadium_111_diff_angle.png</i></center></td>\n",
    "<td><a href=\"files/images/vanadium_111_diff_Q.png\"><img src=\"files/images/vanadium_111_diff_Q.png\" width=\"400\" alt=\"vanadium_111_diff_Q.png\"></a><center><i>images/vanadium_111_diff_Q.png</i></center></td>\n",
    "</tr></table></center>\n",
    "\n",
    "A visualization of the vanadium neutron count for banks 1, 3, and 4:  \n",
    "\n",
    "<center><table><tr>\n",
    "<td><a href=\"files/images/vanadium_111.png\"><img src=\"files/images/vanadium_111.png\" width=\"400\" alt=\"vanadium_111\"></a><center><i>images/vanadium_111</i></center>\n",
    "</tr></table></center>\n",
    "\n",
    "\n",
    "For these banks we can obtain the intensity histogram as a function of scattering angle (se algorithms `GenerateGroupingPowder`, `GroupDetectors`, and `Transpose`) and also momentum transfer (use algorithms `ConvertUnits`, `Rebin`, and `SumSpectra`):\n",
    "\n",
    "<center><table><tr>\n",
    "<td><a href=\"files/images/vanadium_111_angle.png\"><img src=\"files/images/vanadium_111_angle.png\" width=\"400\" alt=\"vanadium_111_angle.png\"></a><center><i>images/vanadium_111_angle.png</i></center></td>\n",
    "<td><a href=\"files/images/vanadium_111_Q.png\"><img src=\"files/images/vanadium_111_Q.png\" width=\"400\" alt=\"vanadium_111_Q.png\"></a><center><i>images/vanadium_111_Q.png</i></center></td>\n",
    "</tr></table></center>\n",
    "\n",
    "Variation of intensity with scattering angle is uniform as expected for a vanadium sample. The variation of intensity with $Q$ increases monotonically with $Q$ also as expected ($Q \\sim sin(2\\theta)$)."
   ]
  },
  {
   "cell_type": "markdown",
   "metadata": {},
   "source": [
    "(<a href='#vanadium'>Top</a>)<a id='vanadium.311'></a><h3>311 Reflection</h3> \n",
    "\n",
    "Load vanadium runs 83286-83294 together into Mantid for visualization of neutron counts.\n",
    "\n",
    "A visualization of the vanadium neutron count for the diffraction tubes:    \n",
    "<center><table><tr>\n",
    "<td><a href=\"files/images/vanadium_311_diff.png\"><img src=\"files/images/vanadium_311_diff.png\" width=\"400\" alt=\"vanadium_311_diff.png\"></a><center><i>images/vanadium_311_diff.png</i></center></td>\n",
    "</tr></table></center>\n",
    "\n",
    "We reduced the diffraction data with `BASISPowderDiffraction`.  Intensity histograms versus scattering angle and Q suggest uniform scattering except for the Bragg peaks corresponding to Aluminum diffraction. Gaps in the histogram are due to a lack of detectors at those particular values of the scattering angle.   \n",
    "  \n",
    "<center><table><tr>\n",
    "<td><a href=\"files/images/vanadium_311_diff_angle.png\"><img src=\"files/images/vanadium_311_diff_angle.png\" width=\"400\" alt=\"vanadium_311_diff_angle.png\"></a><center><i>images/vanadium_311_diff_angle.png</i></center></td>\n",
    "<td><a href=\"files/images/vanadium_311_diff_Q.png\"><img src=\"files/images/vanadium_311_diff_Q.png\" width=\"400\" alt=\"vanadium_311_diff_Q.png\"></a><center><i>images/vanadium_311_diff_Q.png</i></center></td>\n",
    "</tr></table></center>\n",
    "\n",
    "\n",
    "A visualization of the vanadium neutron count for \"bank2\"  \n",
    "<center><table><tr>\n",
    "<td><a href=\"files/images/vanadium_311_bank2.png\"><img src=\"files/images/vanadium_311_bank2.png\" width=\"400\" alt=\"vanadium_311_bank2\"></a><center><i>images/vanadium_311_bank2</i></center></td>\n",
    "</tr></table></center>\n",
    "\n",
    "For bank3 we can obtain the intensity histogram as a function of scattering angle (use algorithms `GenerateGroupingPowder`, `GroupDetectors`, and `Transpose`) and also momentum transfer (use algorithms `ConvertUnits`, `Rebin`, and `SumSpectra`):  \n",
    "\n",
    "<center><table><tr>\n",
    "<td><a href=\"files/images/vanadium_311_bank2_angle.png\"><img src=\"files/images/vanadium_311_bank2_angle.png\" width=\"400\" alt=\"vanadium_311_bank2_angle.png\"></a><center><i>images/vanadium_311_bank2_angle.png</i></center></td>\n",
    "<td><a href=\"files/images/vanadium_311_bank2_Q.png\"><img src=\"files/images/vanadium_311_bank2_Q.png\" width=\"400\" alt=\"vanadium_311_bank2_Q.png\"></a><center><i>images/vanadium_311_bank2_Q.png</i></center></td>\n",
    "</tr></table></center>  \n",
    "\n",
    "The intensity histogram versus angle and $Q$ does <b>not</b> suggest a uniform scattering from the vanadium sample."
   ]
  },
  {
   "cell_type": "markdown",
   "metadata": {},
   "source": [
    "<h2>Sample + buffer + can data</h2>  \n"
   ]
  },
  {
   "cell_type": "markdown",
   "metadata": {},
   "source": [
    "(<a href='#sample'>Top</a>)<a id='sample.311'></a><h3>311 Reflection</h3> \n",
    "\n",
    "We reduce the sample + buffer + can data runs 83223-83232\n",
    "<center><table><tr>\n",
    "<td><a href=\"files/images/sample_reduce_notnormalized.png\"><img src=\"files/images/sample_reduce_notnormalized.png\" width=\"300\" alt=\"sample_reduce_notnormalized.png\"></a><center><i>images/sample_reduce_notnormalized.png</i></center></td>\n",
    "<td><a href=\"files/images/sample_reduce_notnormalized_2.png\"><img src=\"files/images/sample_reduce_notnormalized_2.png\" width=\"400\" alt=\"sample_reduce_notnormalized_2.png\"></a><center><i>images/sample_reduce_notnormalized_2.png</i></center></td>\n",
    "<td><a href=\"files/images/sample_reduce_notnormalized_3.png\"><img src=\"files/images/sample_reduce_notnormalized_3.png\" width=\"400\" alt=\"sample_reduce_notnormalized_3.png\"></a><center><i>images/sample_reduce_notnormalized_3.png</i></center></td>\n",
    "</tr></table></center>  \n",
    "The maxima of the peak does <b>not</b>  show a monotonic decrease. Also, a plot of the integrated intensity in the range of the elastic line [-0.0015, 0.0015] meV does <b>not</b> show a monotonous decrease up to the onset of the Aluminum diffraction peaks in the [2.5, 3.5] meV region. For this plot, we reduced with a finer $Q$ binning ($\\Delta Q=0.05$)\n",
    "<h4>Vanadium Normalization:</h4>\n",
    "\n",
    "We reduce the sample + buffer + can data runs 83223-83232 and <b>normalized by the vanadium</b> runs 83286-83294\n",
    "<center><table><tr>\n",
    "<td><a href=\"files/images/sample_reduce.png\"><img src=\"files/images/sample_reduce.png\" width=\"300\" alt=\"sample_reduce.png\"></a><center><i>images/sample_reduce.png</i></center></td>\n",
    "<td><a href=\"files/images/sample_reduced_vanadium_normalized.png\"><img src=\"files/images/sample_reduced_vanadium_normalized.png\" width=\"400\" alt=\"sample_reduced_vanadium_normalized.png\"></a><center><i>images/sample_reduced_vanadium_normalized.png</i></center></td>\n",
    "<td><a href=\"files/images/sample_reduced_vanadium_normalized_integrated_intensity.png\"><img src=\"files/images/sample_reduced_vanadium_normalized_integrated_intensity.png\" width=\"300\" alt=\"sample_reduced_vanadium_normalized_integrated_intensity\"></a><center><i>images/sample_reduced_vanadium_normalized_integrated_intensity</i></center></td>\n",
    "</tr></table></center> \n",
    "\n",
    "The maxima of the peak does <b>not</b>  show a monotonic decrease. However, a plot of the integrated intensity in the range of the elastic line [-0.0015, 0.0015] meV shows a monotonous decrease up to the onset of the Aluminum diffraction peaks. For this plot, we reduced with a finer $Q$ binning ($\\Delta Q=0.05$)\n",
    "\n",
    "\n"
   ]
  },
  {
   "cell_type": "markdown",
   "metadata": {},
   "source": [
    "<a id='Meetings'></a><h2>Meetings</h2>"
   ]
  },
  {
   "cell_type": "markdown",
   "metadata": {},
   "source": [
    "(<a href='#Table of Contents'>Top</a>)<a id='Syntax'></a><h3>Syntax Examples</h3>\n",
    "local link: [link](files/link)</br>\n",
    "remote link: <a href=\"http://ambermd.org/\">http://ambermd.org</a>\n",
    "<font face=\"courier new\"> font face=\"courier new\" </font><br/>\n",
    "$$S_{model}(Q,E)=A(Q)\\cdot S_{elastic}(E) + B(Q)\\cdot S_{simulation}(Q,E)\\otimes S_{elastic}(E) + C(Q)+D(Q)\\cdot E$$\n",
    "<pre> Quoted text </pre>\n",
    "<center><table><tr>\n",
    "<td><a href=\"files/image.png\"><img src=\"files/image.png\" width=\"300\" height=\"250\" alt=\"image here\"></a> <br/>\n",
    "    <i>image caption</i></td>\n",
    "<td>some text</td>\n",
    "</tr></table></center>"
   ]
  },
  {
   "cell_type": "code",
   "execution_count": null,
   "metadata": {},
   "outputs": [],
   "source": []
  }
 ],
 "metadata": {
  "kernelspec": {
   "display_name": "Python 2",
   "language": "python",
   "name": "python2"
  },
  "language_info": {
   "codemirror_mode": {
    "name": "ipython",
    "version": 2
   },
   "file_extension": ".py",
   "mimetype": "text/x-python",
   "name": "python",
   "nbconvert_exporter": "python",
   "pygments_lexer": "ipython2",
   "version": "2.7.15rc1"
  }
 },
 "nbformat": 4,
 "nbformat_minor": 1
}
