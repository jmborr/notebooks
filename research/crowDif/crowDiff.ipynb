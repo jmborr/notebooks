{
 "metadata": {
  "name": "",
  "signature": "sha256:61c0fbfd656da0101a745e69b0bd7a5f1e2631a7f05f20bfd277773d1996e736"
 },
 "nbformat": 3,
 "nbformat_minor": 0,
 "worksheets": [
  {
   "cells": [
    {
     "cell_type": "markdown",
     "metadata": {},
     "source": [
      "<h1>PEBlocak</h1>\n",
      "<a id='Table of Contents'></a><h3>Table of Contents</h3>\n",
      "<a href='#People'>People</a></br>\n",
      "<a href='#Goal'>Goal</a></br>\n",
      "\n",
      "<a href='#Experiment'><h4>Experiment</h4></a>\n",
      "\n",
      "* <a href='#Experiment.reducedData'>Reduced data files</a></br>\n",
      "\n",
      "\n",
      "<a href='#Section'><h4>Section</h4></a>\n",
      "\n",
      "* <a href='#Section.subsection'>subsection</a></br>\n",
      "    - <a href='#Section.subsection.subsubsection'>Subsubsetion</a></br>\n",
      "        + <a href='#Section.subsection.subsubsection.subsubsubsection'>sub-sub-subsection</a></br>\n"
     ]
    },
    {
     "cell_type": "markdown",
     "metadata": {},
     "source": [
      "(<a href='#Table of Contents'>Top</a>)<a id='People'></a><h3>People</h3>\n",
      "\n",
      "* William T. Heller\n",
      "* Eugene Mamontov"
     ]
    },
    {
     "cell_type": "markdown",
     "metadata": {},
     "source": [
      "(<a href='#Table of Contents'>Top</a>)<a id='Goal'></a><h3>Goal</h3>\n",
      "From my part, the goal is to help William with the interpretation of the experimental and simulation of the system. The system consists of the deuterated Serum Albumin Protein (SAP) in hydrogenated water. The dynamics of water is investigated with different concentrations of SAP, from no protein to a maximum [SAP]=15% (meaning SAP occupies 15% of the system volume).\n",
      "\n",
      "According to fits done by Eugene, the diffussion constant of water grows with increasing [SAP], up to ~5%, and then saturates up to the maximum [SAP] measured. On the other hand, molecular dynamics simulations done by William in two systems (no SAP and [SAP]=15%) shows that the water diffusion constant decreases with [SAP]. Thus, there is a contradiction between experiment and simulation.\n",
      "\n",
      "SAP serves as a concentration agent. If a different experiment, GFP protein was diluted to low concentration in a mixture of SAP and water. The goal here was to determine changes in GFP when in the presence of the crowding agent. GFP is a dimer in water, but the presence of SAP makes the dimer less stable."
     ]
    },
    {
     "cell_type": "markdown",
     "metadata": {},
     "source": [
      "(<a href='#Table of Contents'>Top</a>)<a id='Experiment'></a><h2>Experiment</h2>\n",
      "Experiments were carried out in BASIS at room temperature (also there were other experiments at higher temperatures, which for the moment does not concern us) at different concentrations of SAP."
     ]
    },
    {
     "cell_type": "markdown",
     "metadata": {},
     "source": [
      "(<a href='#Table of Contents'>Top</a>)<a id='Experiment.reducedData'></a><h3>Reduced data files</h3>\n",
      "In subdirectory <i>experiment/data/</i> are the Dave group files."
     ]
    },
    {
     "cell_type": "markdown",
     "metadata": {},
     "source": [
      "(<a href='#Table of Contents'>Top</a>)<a id='Experiment.EugeneModel'></a><h3>Eugene's model for S(Q,E)</h3>\n",
      "Eugene used a version of the Cole-Cole model to fit S(Q,E)  \n",
      "<center>$S(Q,E)=\\frac{(E/E_0)^{-\\alpha}cos\\frac{\\pi\\alpha}{2}}{1+2(E/E_0)^{-\\alpha}sin\\frac{\\pi\\alpha}{2}+(E/E_0)^{2(1-\\alpha)}}$</center>  "
     ]
    },
    {
     "cell_type": "markdown",
     "metadata": {},
     "source": [
      "(<a href='#Table of Contents'>Top</a>)<a id='Section'></a><h2>Section</h2>"
     ]
    },
    {
     "cell_type": "markdown",
     "metadata": {},
     "source": [
      "(<a href='#Table of Contents'>Top</a>)<a id='Section.subsection'></a><h3>Subsection</h3>\n"
     ]
    },
    {
     "cell_type": "markdown",
     "metadata": {},
     "source": [
      "(<a href='#Table of Contents'>Top</a>)<a id='Section.subsection.subsubsection'></a><h3>Sub-subsection</h3>\n"
     ]
    },
    {
     "cell_type": "markdown",
     "metadata": {},
     "source": [
      "(<a href='#Table of Contents'>Top</a>)<a id='Section.subsection.subsubsection.subsubsubsection'></a><h3>Sub-sub-subsection</h3>\n"
     ]
    }
   ],
   "metadata": {}
  }
 ]
}