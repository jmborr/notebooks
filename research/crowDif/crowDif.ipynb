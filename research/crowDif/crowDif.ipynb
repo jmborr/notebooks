{
 "metadata": {
  "name": "",
  "signature": "sha256:4ec4fa8571282e8d48bba245db89f4af0727c4a9546db62cecdbea174a6811eb"
 },
 "nbformat": 3,
 "nbformat_minor": 0,
 "worksheets": [
  {
   "cells": [
    {
     "cell_type": "markdown",
     "metadata": {},
     "source": [
      "<h1>crowDif</h1>\n",
      "<a id='Table of Contents'></a><h3>Table of Contents</h3>\n",
      "<a href='#People'>People</a>  \n",
      "<a href='#Goal'>Goal</a>  \n",
      "\n",
      "<a id='Experiment'></a><b>Experiment</b>  \n",
      "<a href='#Experiment.reducedData'>Reduced data files</a>  \n",
      "<a href='#Experiment.EugeneModel'>Eugene's model for S(Q,E)</a>  \n",
      "<a href='#Experiment.singleLol'>Fits to single Lorentzian</a>  \n",
      "\n",
      "<a id='expAsModel'></a><b>Experiment with no protein taken as model of bulk water</b>  \n",
      "<a href='#expAsModel.waterModel'>Constructing the model for bulk water</a>  \n",
      "<a href='#expAsModel.applyModel'>Apply the model for bulk water to experiments containing protein</a>  \n",
      "\n",
      "<a id='Simulations'></a><b>Simulations</b>  \n",
      "<a href='#simulations.description'>Description of Will's simulations</a>  \n",
      "<a href='#simulations.surface_water_g(r)'>Pair protein-water density function</a>\n",
      "\n",
      "<a id='SFS'></a><b>Structure factor from simulations</b>  \n",
      "<a href='#SFS.sassena'>Sassena calculations</a>  \n",
      "<a href='#SFS.fitToExp'>Fits to Experiment</a>  \n",
      "\n",
      "<a href='#Section'><h4>Section</h4></a>\n",
      "\n",
      "* <a href='#Section.subsection'>subsection</a>  \n",
      "    - <a href='#Section.subsection.subsubsection'>Subsubsetion</a>  \n",
      "        + <a href='#Section.subsection.subsubsection.subsubsubsection'>sub-sub-subsection</a>  \n"
     ]
    },
    {
     "cell_type": "markdown",
     "metadata": {},
     "source": [
      "(<a href='#Table of Contents'>Top</a>)<a id='People'></a><h3>People</h3>\n",
      "\n",
      "* William T. Heller\n",
      "* Eugene Mamontov"
     ]
    },
    {
     "cell_type": "markdown",
     "metadata": {},
     "source": [
      "(<a href='#Table of Contents'>Top</a>)<a id='Goal'></a><h3>Goal</h3>\n",
      "From my part, the goal is to help William with the interpretation of the experimental and simulation of the system. The system consists of the deuterated Serum Albumin Protein (SAP) in hydrogenated water. The dynamics of water is investigated with different concentrations of SAP, from no protein to a maximum [SAP]=15% (meaning SAP occupies 15% of the system volume).\n",
      "\n",
      "According to fits done by Eugene, the diffussion constant of water grows with increasing [SAP], up to ~5%, and then saturates up to the maximum [SAP] measured. On the other hand, molecular dynamics simulations done by William in two systems (no SAP and [SAP]=15%) shows that the water diffusion constant decreases with [SAP]. Thus, there is a contradiction between experiment and simulation.\n",
      "\n",
      "SAP serves as a concentration agent. If a different experiment, GFP protein was diluted to low concentration in a mixture of SAP and water. The goal here was to determine changes in GFP when in the presence of the crowding agent. GFP is a dimer in water, but the presence of SAP makes the dimer less stable."
     ]
    },
    {
     "cell_type": "markdown",
     "metadata": {},
     "source": [
      "(<a href='#Table of Contents'>Top</a>)<a id='Experiment'></a><h2>Experiment</h2>\n",
      "Experiments were carried out in BASIS (<b>IPTS-8651</b>) at 298K (also there were other experiments at higher temperatures, which for the moment does not concern us) at different concentrations of SAP."
     ]
    },
    {
     "cell_type": "markdown",
     "metadata": {},
     "source": [
      "(<a href='#Experiment'>Top</a>)<a id='Experiment.reducedData'></a><h3>Reduced data files</h3> \n",
      "In subdirectory <i>experiment/data/</i> are the Dave group files.\n",
      "The relation between run number and experimental conditions is as follows:\n",
      "<pre>26518 and 26587 are from the protein-free buffer (0mg/mL) and T=300, 15K, respectively\n",
      "26588 and 26653 are from the 200 mg/mL HSA sample and T=300, 15K, respectively\n",
      "26654 and 26723 are from the 10 mg/mL HSA sample and T=300, 15K, respectively\n",
      "26728 is the empty can.\n",
      "26733 and 26802 are from the 100 mg/mL HSA sample and T=300, 15K, respectively\n",
      "26804 and 26873 are from the 25 mg/mL HSA sample and T=300, 15K, respectively</pre>\n",
      "\n",
      "We translate format to Nexus with the help of [run2rT.py](files/python/run2rT.py). Here's the renaming convention:\n",
      "\n",
      "<pre>BASIS_26518_1run_divided.dat --> r000_T300.nxs\n",
      "BASIS_26587_1run_divided.dat --> r000_T015.nxs\n",
      "BASIS_26588_1run_divided.dat --> r200_T300.nxs\n",
      "BASIS_26653_1run_divided.dat --> r200_T015.nxs\n",
      "BASIS_26654_1run_divided.dat --> r010_T300.nxs\n",
      "BASIS_26723_1run_divided.dat --> r010_T015.nxs\n",
      "BASIS_26728_1run_divided.dat --> empty_can.nxs\n",
      "BASIS_26733_1run_divided.dat --> r100_T300.nxs\n",
      "BASIS_26802_1run_divided.dat --> r100_T015.nxs\n",
      "BASIS_26804_1run_divided.dat --> r025_T300.nxs\n",
      "BASIS_26873_1run_divided.dat --> r025_T015.nxs</pre>"
     ]
    },
    {
     "cell_type": "markdown",
     "metadata": {},
     "source": [
      "(<a href='#Experiment'>Top</a>)<a id='Experiment.EugeneModel'></a><h3>Eugene's model for S(Q,E)</h3>\n",
      "Eugene used a version of the Cole-Cole model to fit S(Q,E)  \n",
      "<center>$S(Q,E)=\\frac{(E/E_0)^{-\\alpha}cos\\frac{\\pi\\alpha}{2}}{1+2(E/E_0)^{-\\alpha}sin\\frac{\\pi\\alpha}{2}+(E/E_0)^{2(1-\\alpha)}}$</center>  "
     ]
    },
    {
     "cell_type": "markdown",
     "metadata": {},
     "source": [
      "(<a href='#Experiment'>Top</a>)<a id='Experiment.singleLol'></a><h3>Fits to single Lorentzian</h3>\n",
      "We fit the experimental data to a simple single Lorentzian model mimicking unbond diffusion of water center of mass  \n",
      "<center>\n",
      "$R(Q,E) \\otimes [A\\cdot \\delta(E)+B \\cdot L(E,\\Gamma(Q))] + (a*E+b)$  \n",
      "\n",
      "$L(Q,E,\\Gamma)=\\frac{1}{\\pi}\\frac{\\Gamma}{\\omega^2+\\Gamma^2}$  \n",
      "\n",
      "$\\Gamma(Q) \\equiv FWHM = 2\\hbar D Q^2$\n",
      "</center>\n",
      "Fitting script [fit2Lol.py](files/python/fit2Lol.py) is run in MantidPlot and we save the Mantid session in subdirectory<i>experiment/data/oneLol/</i>\n",
      "\n",
      "The FWHM(Q) plot shows linearity at low Q where unbound diffusion is expected, then there is a decrease that is expected according to measurements by Texeira (see second plot below) and finally a sudden decresae to near zero that most likely is an artifact of the fit, since other measurements of pure water does not seems to show this sharp decrease.  \n",
      "<a href=\"files/experiment/data/oneLolFWHM.png\"><img src=\"files/experiment/data/oneLolFWHM.png\" width=\"300\" height=\"300\" alt=\"experiment/data/oneLolFWHM.png\"></a> <i>experiment/data/oneLolFWHM.png(.agr)</i>   \n",
      "<a href=\"files/experiment/data/texeira_water_measurements.png\"><img src=\"files/experiment/data/texeira_water_measurements.png\" width=\"300\" height=\"300\" alt=\"experiment/data/texeira_water_measurements.png\"></a>  <i>experiment/data/texeira_water_measurements.png</i>  \n",
      "\n",
      "I did a linear fit of FWHM versus $Q^2$ in the Q-range [0.1, 0.5] to yield slope $D^*=2 \\hbar D$. We assumed FWHM(Q=0)$\\equiv$0.\n",
      "\n",
      "Units conversion: [$D^*$]=meV$\\cdot A^2$, and $\\hbar$=0.658212 meV$\\cdot$ps to yield $D^*$ [meV$\\cdot A^2$] $\\rightarrow$ D=1.51927$\\cdot D^*$ [$A^2/ps$] = 7.5963$\\cdot D^*$ [$10^{-9}m^2/s$]  \n",
      "\n",
      "The plot shows a decrease of D with increasing concentration of protein. The numeric value $2.07\\cdot 10^{-9}m^2/s$  in the absence of protein is reasonable close to the literature value of $2.3\\cdot 10^{-9}m^2/s$ (see [Holz00.pdf](files/docs/Holz00.pdf)).  \n",
      "<a href=\"files/experiment/data/oneLolFWHM.v2.png\"><img src=\"files/experiment/data/oneLolFWHM.v2.png\" width=\"400\" height=\"400\" alt=\"experiment/data/oneLolFWHM.v2.png\"></a> <i>experiment/data/oneLolFWHM.v2.png(.agr)</i> \n",
      "\n"
     ]
    },
    {
     "cell_type": "markdown",
     "metadata": {},
     "source": [
      "(<a href='#expAsModel'>Top</a>)<a id='expAsModel.waterModel'></a><h3>Constructing the model for bulk water</h3>\n",
      "Using the experiment with no protein, we do a series of fits for every Q-slice using one Lorentzian, except for the higher Q value 1.1$A^{-1}$ for which we need two lorentizans. Fits are stored in mantid session <code>experiment/data/water_model1/water_model1.mantid</code>.\n",
      "\n",
      "<center><a href=\"files/experiment/data/water_model1/fwhm.png\"><img src=\"files/experiment/data/water_model1/fwhm.png\" width=\"300\" height=\"300\" alt=\"experiment/data/water_model1/fwhm.png\"></a> <i>experiment/data/water_model1/fwhm.png(.agr)</i></center>\n",
      "\n",
      "We will use the Lorentzians as model of bulk water for the experiments containing protein."
     ]
    },
    {
     "cell_type": "markdown",
     "metadata": {},
     "source": [
      "(<a href='#expAsModel'>Top</a>)<a id='expAsModel.applyModel'></a><h3>Apply the model for bulk water to experiments containing protein</h3>\n",
      "\n",
      "Using the previous fits to the experiment with no water, we derived a model for bulk water $S_{bulk}$ consisting of one or two Lorentzians, depending on Q.\n",
      "\n",
      "Now for the experiments with protein, we will fit according to:\n",
      "\n",
      "$R(Q,E) \\otimes [\\alpha \\delta(E) + I_{bulk}S_{bulk}(Q,E) + I_{bound}L(Q,E)] + (aE+b)$\n",
      "\n",
      "Operationally we used a TabulatedFunction to represent S_{bulk}, which we retrieve from the fitting results of Mantid session experiment/data/water_model1/water_model1.mantid.\n",
      "\n",
      "We approximate the bound scattering with a single lorentzian. We do the fits in mantid sessions:\n",
      "\n",
      "* <code>experiment/data/fit_r010_to_water_model1/fit_r010_to_water_model1.mantid</code>\n",
      "* <code>experiment/data/fit_r025_to_water_model1/fit_r025_to_water_model1.mantid</code>\n",
      "* <code>experiment/data/fit_r100_to_water_model1/fit_r100_to_water_model1.mantid</code>\n",
      "* <code>experiment/data/fit_r200_to_water_model1/fit_r200_to_water_model1.mantid</code>\n",
      "\n",
      "Ideally, the width of the bound scattering Lorentzian should be independent of the protein concentration. We found some spread so we take the average over all protein concentrations. We find that the average is Q-independent over the Q range [0.5-0.9] which is what we would expect if the model represented bound water. This behavior deviates at the extremes Q=0.3 and Q=1.1.\n",
      "\n",
      "<center><a href=\"files/experiment/data/fwhm_fits_to_model_water1.png\"><img src=\"files/experiment/data/fwhm_fits_to_model_water1.png\" width=\"300\" height=\"300\" alt=\"experiment/data/fwhm_fits_to_model_water1.png\"></a> <i>experiment/data/fwhm_fits_to_model_water1.png(.agr)</i></center>\n",
      "\n",
      "By comparison, the width of the bulk water increases much faster with Q:\n",
      "\n",
      "<center><a href=\"files/experiment/data/bulk_bound_widths.png\"><img src=\"files/experiment/data/bulk_bound_widths.png\" width=\"300\" height=\"300\" alt=\"experiment/data/bulk_bound_widths.png\"></a> <i>experiment/data/bulk_bound_widths.png(.agr)</i></center>\n",
      "\n",
      "After this we plot the fraction of bound versus bulk water contributing to the scattered signal at a particular Q. There a monotonous decrease with increasing Q\n",
      "\n",
      "<center><a href=\"files/experiment/data/Ibound_over_Ibulk.png\"><img src=\"files/experiment/data/Ibound_over_Ibulk.png\" width=\"300\" height=\"300\" alt=\"experiment/data/Ibound_over_Ibulk.png\"></a> <i>experiment/data/Ibound_over_Ibulk.png(.agr)</i></center>\n",
      "\n",
      "The average over Q yields the concentration dependence of the population ratio\n",
      "\n",
      "<center><a href=\"files/experiment/data/Ibound_over_Ibulk_average.png\"><img src=\"files/experiment/data/Ibound_over_Ibulk_average.png\" width=\"300\" height=\"300\" alt=\"experiment/data/Ibound_over_Ibulk_average.png\"></a> <i>experiment/data/Ibound_over_Ibulk_average.png(.agr)</i></center>\n",
      "\n",
      "Assuming $\\frac{I_{bound}}{I_{bulk}} = \\frac{N_{bound}}{N_{bulk}}$, we can look at William's simulations, and in particular to the <a href='#simulations.surface_water_g(r)'>N(r) plots</a>  for the two different protein concentrations that he simulated. Then we can find out what is the cutoff distance $r_{cut}$ when simulations show $\\frac{N_{bound}}{N_{bulk}}$ equal to experimental $\\frac{I_{bound}}{I_{bulk}}$.\n",
      "\n",
      "<table style=\"width:100%\">\n",
      "  <tr>\n",
      "    <td>c (mg/mL)</td>\n",
      "    <td>I_{bound}/{I_{bulk}</td> \n",
      "    <td>N_{bound}/{N_{bulk}</td>\n",
      "    <td>r_{cut} (A)</td>\n",
      "  </tr>\n",
      "  <tr>\n",
      "    <td>50</td>\n",
      "    <td>0.043</td> \n",
      "    <td>2494/60503</td>\n",
      "    <td>3.72</td>\n",
      "  </tr>\n",
      "  <tr>\n",
      "    <td>200</td>\n",
      "    <td>0.147</td> \n",
      "    <td>6864/53555</td>\n",
      "    <td>3.44</td>\n",
      "  </tr>\n",
      "</table>\n",
      "\n",
      "The two values $r_{cut}(c=50mg/mL)=3.72$A and $r_{cut}(c=50mg/mL)=3.72$A, when overlay on the <a href='#simulations.surface_water_g(r)'>$g(r)$ functions</a> derived from the simulations, correspond to the end of the first hydration shell.\n",
      "\n",
      "<center>\n",
      "<table style=\"width:100%\">\n",
      "  <tr>\n",
      "    <td><a href=\"files/will/hsa1i/hsa1ave_052015ave_gr_version2.png\"><img src=\"files/will/hsa1i/hsa1ave_052015ave_gr_version2.png\" width=\"300\" height=\"300\" alt=\"will/hsa1i/hsa1ave_052015ave_gr_version2.png\"></a></td>\n",
      "    <td><a href=\"files/will/crowded1i/hsa3ave_050115ave_gr_version2.png\"><img src=\"files/will/crowded1i/hsa3ave_050115ave_gr_version2.png\" width=\"300\" height=\"300\" alt=\"will/crowded1i/hsa3ave_050115ave_gr_version2.png\"></a></td> \n",
      "  </tr>\n",
      "</table>\n",
      "</center>"
     ]
    },
    {
     "cell_type": "markdown",
     "metadata": {},
     "source": [
      "(<a href='#Simulations'>Top</a>)<a id='simulations.description'></a><h3>Description of Will's simulations</h3>\n",
      "\n",
      "William carried out three simulations with the following common properties:\n",
      "\n",
      "* 20ns long\n",
      "* elemental time steps is 2fs\n",
      "* consecutive frames separated by 16ps\n",
      "* 1250 frames long\n",
      "\n",
      "Simulations are done at different protein concentrations:  \n",
      "\n",
      "* water1h:  0.0mg/mL\n",
      "* hsa1i:  50mg/mL\n",
      "* crowded1i:  200mg/mL\n"
     ]
    },
    {
     "cell_type": "markdown",
     "metadata": {},
     "source": [
      "(<a href='#Simulations'>Top</a>)<a id='simulations.surface_water_g(r)'></a><h3>Pair protein-water density functions</h3>\n",
      "\n",
      "William sent me the following files providing information on the arrangement of water around the proteins:  \n",
      "\n",
      "File <code>will/hsa1i/hsa1ave_052015ave_gr.txt</code> is the water-to-protein surface correlation function that give an idea of how far out the bound water might go. File <code>will/hsa1i/hsa1fr052715ave_nums.txt</code> is the radial number density of water molecules (the number of water molecules in a histogram bin, divided by the bin width). This quantity has been averaged over 100 calculations, thus $N(r \\to \\infty)=\\int_{0}^{\\infty} n(r)dr \\approx N_{water}$. Analous files <code>hsa3ave_050115ave_gr.txt and <code>hsa3fr052715ave_nums.txt</code> in <code>will/crowded1i</code>\n",
      "\n",
      "<table style=\"width:100%\">\n",
      "  <tr>\n",
      "    <td><center><a href=\"files/will/hsa1i/hsa1ave_052015ave_gr.png\"><img src=\"files/will/hsa1i/hsa1ave_052015ave_gr.png\" width=\"300\" height=\"300\" alt=\"will/hsa1i/hsa1ave_052015ave_gr.png\"></a> <i>will/hsa1i/hsa1ave_052015ave_gr.png</i></center></td>\n",
      "    <td><center><a href=\"files/will/hsa1i/hsa1fr052715ave_nums.png\"><img src=\"files/will/hsa1i/hsa1fr052715ave_nums.png\" width=\"300\" height=\"300\" alt=\"will/hsa1i/hsa1fr052715ave_nums.png\"></a> <i>will/hsa1i/hsa1fr052715ave_nums.png</i></center></td>\n",
      "   </tr>\n",
      "   <tr>\n",
      "    <td><center><a href=\"files/will/crowded1i/hsa3ave_050115ave_gr.png\"><img src=\"files/will/crowded1i/hsa3ave_050115ave_gr.png\" width=\"300\" height=\"300\" alt=\"will/crowded1i/hsa3ave_050115ave_gr.png\"></a> <i>will/crowded1i/hsa3ave_050115ave_gr.png</i></center></td>\n",
      "    <td><center><a href=\"files/will/crowded1i/hsa3fr052715ave_nums.png\"><img src=\"files/will/crowded1i/hsa3fr052715ave_nums.png\" width=\"300\" height=\"300\" alt=\"will/crowded1i/hsa3fr052715ave_nums.png\"></a> <i>will/crowded1i/hsa3fr052715ave_nums.png</i></center></td> \n",
      "  </tr>\n",
      "</table>\n",
      "\n",
      "\n",
      "\n"
     ]
    },
    {
     "cell_type": "markdown",
     "metadata": {},
     "source": [
      "(<a href='#SFS'>Top</a>)<a id='SFS.sassena'></a><h3>Sassena calculations</h3>\n",
      "We compute coherent and incoherent structure factors for the three systems simulated by William (<code>crowded1i</code>, <code>hsa1i</code>, and <code>water1h</code>) using template PBS job-submission scripts [sassenaCoh_template.pbs](files/will/sassenaCoh_template.pbs) and [sassenaInc_template.pbs](files/will/sassenaInc_template.pbs) as well as input template files [sassenaCoh_template.xml](files/will/sassenaCoh_template.xml) and [sassenaInc_template.xml](files/will/sassenaInc_template.xml). These calculations results in I(q,t) files <code>fqt_coh.h5</code> and <code>fqt_inc.h5</code>."
     ]
    },
    {
     "cell_type": "markdown",
     "metadata": {},
     "source": [
      "(<a href='#SFS'>Top</a>)<a id='SFS.fitToExp'></a><h3>Fits to Experiment</h3>\n",
      "Fits are stored in a Mantid session under subdirectory <code>will/fitToExperiment/</code>. To invoque the session open the project file <code>will/fitToExperiment/fitToExperiment.mantid</code>\n",
      "\n",
      "Properties of the fit:\n",
      "\n",
      "* S(Q,E)_{model}=$R(Q,E) \\otimes [\\alpha \\delta(E) + \\beta S(Q,E)_{sim}] + (aE+b)$\n",
      "* One fit for each Q-value, no ties among fits at different Q-values\n",
      "\n",
      "I created a powerpoint slide [chisquare_versus_Q.pptx](will/fitToExperiment/chisquare_versus_Q.pptx) showing the Q-dependence of the goodness of fit $\\chi^2$ for the case of no water and the case of protein concentration 200mg/mL.\n",
      "\n",
      "<center><a href=\"files/will/fitToExperiment/chisquare_versus_Q.png\"><img src=\"files/will/fitToExperiment/chisquare_versus_Q.png\" width=\"600\" height=\"600\" alt=\"will/fitToExperiment/chisquare_versus_Q.pptx(.png)\"></a> <i>will/fitToExperiment/chisquare_versus_Q.pptx(.png)</i></center>\n",
      "\n",
      "All the plots shown in the slide reside within subdirectory <code>will/fitToExperiment/</code>."
     ]
    },
    {
     "cell_type": "markdown",
     "metadata": {},
     "source": [
      "(<a href='#Table of Contents'>Top</a>)<a id='Section'></a><h2>Section</h2>"
     ]
    },
    {
     "cell_type": "markdown",
     "metadata": {},
     "source": [
      "(<a href='#Table of Contents'>Top</a>)<a id='Section.subsection'></a><h3>Subsection</h3>\n"
     ]
    },
    {
     "cell_type": "markdown",
     "metadata": {},
     "source": [
      "(<a href='#Table of Contents'>Top</a>)<a id='Section.subsection.subsubsection'></a><h3>Sub-subsection</h3>\n"
     ]
    },
    {
     "cell_type": "markdown",
     "metadata": {},
     "source": [
      "(<a href='#Table of Contents'>Top</a>)<a id='Section.subsection.subsubsection.subsubsubsection'></a><h3>Sub-sub-subsection</h3>\n"
     ]
    }
   ],
   "metadata": {}
  }
 ]
}