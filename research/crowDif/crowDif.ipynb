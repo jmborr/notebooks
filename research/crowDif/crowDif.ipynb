{
 "metadata": {
  "name": "",
  "signature": "sha256:61c0fbfd656da0101a745e69b0bd7a5f1e2631a7f05f20bfd277773d1996e736"
 },
 "nbformat": 3,
 "nbformat_minor": 0,
 "worksheets": [
  {
   "cells": [
    {
     "cell_type": "markdown",
     "metadata": {},
     "source": [
      "<h1>crowDif</h1>\n",
      "<a id='Table of Contents'></a><h3>Table of Contents</h3>\n",
      "<a href='#People'>People</a>  \n",
      "<a href='#Goal'>Goal</a>  \n",
      "\n",
      "<a href='#Experiment'><h4>Experiment</h4></a>\n",
      "\n",
      "* <a href='#Experiment.reducedData'>Reduced data files</a>  \n",
      "* <a href='#Experiment.EugeneModel'>Eugene's model for S(Q,E)</a>  \n",
      "* <a href='#Experiment.singleLol'>Fits to single Lorentzian</a>  \n",
      "\n",
      "\n",
      "<a href='#Section'><h4>Section</h4></a>\n",
      "\n",
      "* <a href='#Section.subsection'>subsection</a>  \n",
      "    - <a href='#Section.subsection.subsubsection'>Subsubsetion</a>  \n",
      "        + <a href='#Section.subsection.subsubsection.subsubsubsection'>sub-sub-subsection</a>  \n"
     ]
    },
    {
     "cell_type": "markdown",
     "metadata": {},
     "source": [
      "(<a href='#Table of Contents'>Top</a>)<a id='People'></a><h3>People</h3>\n",
      "\n",
      "* William T. Heller\n",
      "* Eugene Mamontov"
     ]
    },
    {
     "cell_type": "markdown",
     "metadata": {},
     "source": [
      "(<a href='#Table of Contents'>Top</a>)<a id='Goal'></a><h3>Goal</h3>\n",
      "From my part, the goal is to help William with the interpretation of the experimental and simulation of the system. The system consists of the deuterated Serum Albumin Protein (SAP) in hydrogenated water. The dynamics of water is investigated with different concentrations of SAP, from no protein to a maximum [SAP]=15% (meaning SAP occupies 15% of the system volume).\n",
      "\n",
      "According to fits done by Eugene, the diffussion constant of water grows with increasing [SAP], up to ~5%, and then saturates up to the maximum [SAP] measured. On the other hand, molecular dynamics simulations done by William in two systems (no SAP and [SAP]=15%) shows that the water diffusion constant decreases with [SAP]. Thus, there is a contradiction between experiment and simulation.\n",
      "\n",
      "SAP serves as a concentration agent. If a different experiment, GFP protein was diluted to low concentration in a mixture of SAP and water. The goal here was to determine changes in GFP when in the presence of the crowding agent. GFP is a dimer in water, but the presence of SAP makes the dimer less stable."
     ]
    },
    {
     "cell_type": "markdown",
     "metadata": {},
     "source": [
      "(<a href='#Table of Contents'>Top</a>)<a id='Experiment'></a><h2>Experiment</h2>\n",
      "Experiments were carried out in BASIS (<b>IPTS-8651</b>) at 298K (also there were other experiments at higher temperatures, which for the moment does not concern us) at different concentrations of SAP."
     ]
    },
    {
     "cell_type": "markdown",
     "metadata": {},
     "source": [
      "(<a href='#Table of Contents'>Top</a>)<a id='Experiment.reducedData'></a><h3>Reduced data files</h3> \n",
      "In subdirectory <i>experiment/data/</i> are the Dave group files.\n",
      "The relation between run number and experimental conditions is as follows:\n",
      "<pre>26518 and 26587 are from the protein-free buffer (0mg/mL) and T=300, 15K, respectively\n",
      "26588 and 26653 are from the 200 mg/mL HSA sample and T=300, 15K, respectively\n",
      "26654 and 26723 are from the 10 mg/mL HSA sample and T=300, 15K, respectively\n",
      "26728 is the empty can.\n",
      "26733 and 26802 are from the 100 mg/mL HSA sample and T=300, 15K, respectively\n",
      "26804 and 26873 are from the 25 mg/mL HSA sample and T=300, 15K, respectively</pre>\n",
      "\n",
      "We translate format to Nexus with the help of [run2rT.py](files/python/run2rT.py). Here's the renaming convention:\n",
      "\n",
      "<pre>BASIS_26518_1run_divided.dat --> r000_T300.nxs\n",
      "BASIS_26587_1run_divided.dat --> r000_T015.nxs\n",
      "BASIS_26588_1run_divided.dat --> r200_T300.nxs\n",
      "BASIS_26653_1run_divided.dat --> r200_T015.nxs\n",
      "BASIS_26654_1run_divided.dat --> r010_T300.nxs\n",
      "BASIS_26723_1run_divided.dat --> r010_T015.nxs\n",
      "BASIS_26728_1run_divided.dat --> empty_can.nxs\n",
      "BASIS_26733_1run_divided.dat --> r100_T300.nxs\n",
      "BASIS_26802_1run_divided.dat --> r100_T015.nxs\n",
      "BASIS_26804_1run_divided.dat --> r025_T300.nxs\n",
      "BASIS_26873_1run_divided.dat --> r025_T015.nxs</pre>"
     ]
    },
    {
     "cell_type": "markdown",
     "metadata": {},
     "source": [
      "(<a href='#Table of Contents'>Top</a>)<a id='Experiment.EugeneModel'></a><h3>Eugene's model for S(Q,E)</h3>\n",
      "Eugene used a version of the Cole-Cole model to fit S(Q,E)  \n",
      "<center>$S(Q,E)=\\frac{(E/E_0)^{-\\alpha}cos\\frac{\\pi\\alpha}{2}}{1+2(E/E_0)^{-\\alpha}sin\\frac{\\pi\\alpha}{2}+(E/E_0)^{2(1-\\alpha)}}$</center>  "
     ]
    },
    {
     "cell_type": "markdown",
     "metadata": {},
     "source": [
      "(<a href='#Table of Contents'>Top</a>)<a id='Experiment.singleLol'></a><h3>Fits to single Lorentzian</h3>\n",
      "We fit the experimental data to a simple single Lorentzian model mimicking unbond diffusion of water center of mass  \n",
      "<center>\n",
      "$R(Q,E) \\otimes [A\\cdot \\delta(E)+B \\cdot L(E,\\Gamma(Q))] + (a*E+b)$  \n",
      "\n",
      "$L(Q,E,\\Gamma)=\\frac{1}{\\pi}\\frac{\\Gamma}{\\omega^2+\\Gamma^2}$  \n",
      "\n",
      "$\\Gamma(Q) \\equiv FWHM = 2\\hbar D Q^2$\n",
      "</center>\n",
      "Fitting script [fit2Lol.py](files/python/fit2Lol.py) is run in MantidPlot and we save the Mantid session in subdirectory<i>experiment/data/oneLol/</i>\n",
      "\n",
      "The FWHM(Q) plot shows linearity at low Q where unbound diffusion is expected, then there is a decrease that is expected according to measurements by Texeira (see second plot below) and finally a sudden decresae to near zero that most likely is an artifact of the fit, since other measurements of pure water does not seems to show this sharp decrease.  \n",
      "<a href=\"files/experiment/data/oneLolFWHM.png\"><img src=\"files/experiment/data/oneLolFWHM.png\" width=\"300\" height=\"300\" alt=\"experiment/data/oneLolFWHM.png\"></a> <i>experiment/data/oneLolFWHM.png(.agr)</i>   \n",
      "<a href=\"files/experiment/data/texeira_water_measurements.png\"><img src=\"files/experiment/data/texeira_water_measurements.png\" width=\"300\" height=\"300\" alt=\"experiment/data/texeira_water_measurements.png\"></a>  <i>experiment/data/texeira_water_measurements.png</i>  \n",
      "\n",
      "I did a linear fit of FWHM versus $Q^2$ in the Q-range [2.0, 0.5] to yield slope $D^*=2 \\hbar D$. We assumed FWHM(Q=0)$\\equiv$0.  \n",
      "Units conversion: [$D^*$]=meV$\\cdot A^2$, and $\\hbar$=0.658212 meV$\\cdot$ps to yield $D^*$ [meV$\\cdot A^2$] $\\rightarrow$ D=1.51927$\\cdot D^*$ [$A^2/ps$] = 7.5963$\\cdot D^*$ [$10^{-9}m^2/s$]  \n",
      "\n",
      "The plot shows a decrease of D with increasing concentration of protein. The numeric value $2.07\\cdot 10^{-9}m^2/s$  in the absence of protein is reasonable close to the literature value of $2.3\\cdot 10^{-9}m^2/s$ (see [Holz00.pdf](files/docs/Holz00.pdf)).  \n",
      "<a href=\"files/experiment/data/oneLolFWHM.v2.png\"><img src=\"files/experiment/data/oneLolFWHM.v2.png\" width=\"400\" height=\"400\" alt=\"experiment/data/oneLolFWHM.v2.png\"></a> <i>experiment/data/oneLolFWHM.v2.png(.agr)</i> \n",
      "\n"
     ]
    },
    {
     "cell_type": "markdown",
     "metadata": {},
     "source": [
      "(<a href='#Table of Contents'>Top</a>)<a id='Section'></a><h2>Section</h2>"
     ]
    },
    {
     "cell_type": "markdown",
     "metadata": {},
     "source": [
      "(<a href='#Table of Contents'>Top</a>)<a id='Section.subsection'></a><h3>Subsection</h3>\n"
     ]
    },
    {
     "cell_type": "markdown",
     "metadata": {},
     "source": [
      "(<a href='#Table of Contents'>Top</a>)<a id='Section.subsection.subsubsection'></a><h3>Sub-subsection</h3>\n"
     ]
    },
    {
     "cell_type": "markdown",
     "metadata": {},
     "source": [
      "(<a href='#Table of Contents'>Top</a>)<a id='Section.subsection.subsubsection.subsubsubsection'></a><h3>Sub-sub-subsection</h3>\n"
     ]
    }
   ],
   "metadata": {}
  }
 ]
}