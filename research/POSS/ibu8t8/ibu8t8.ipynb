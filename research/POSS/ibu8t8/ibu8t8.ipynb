{
 "metadata": {
  "name": "",
  "signature": "sha256:839cee29b0fa9119f19c8bc04e14b39d78f60c39927acfbe7c9f0a4a8ee84b77"
 },
 "nbformat": 3,
 "nbformat_minor": 0,
 "worksheets": [
  {
   "cells": [
    {
     "cell_type": "markdown",
     "metadata": {},
     "source": [
      "<h1>Octa Isobutyl Silsesquixane</h1>\n",
      "<a id='Table of Contents'></a><h3>Table of Contents</h3>\n",
      "<a href='#Syntax'>HTML and MARKDOWN SYNTAX EXAMPLES ; </a></br>\n",
      "<a href='#EV'>Environment variables ; </a></br>\n",
      "<a href='#IIC'>Info from the Industrial Catalog ; </a></br>\n",
      "<a href='#FCSDB'>Files From the Cambridge Structural Database ; </a></br>\n",
      "<a href='#CISMS'>Create Initial Structure in Materials Studio ; </a></br>\n",
      "<a href='#SMS'>Simulations in Materials Studio ; </a></br>\n",
      "<a href='#RGTR'>Removal of Global Translations and Rotations ; </a></br>\n",
      "<a href='#CD'>Calculation of Dihedrals ; </a></br>\n",
      "<a href='#DAF'>Dihedral Autocorrelation Functions ; </a></br>\n",
      "<a href='#CAE'>Calculaton of Activation Energies ; </a></br>\n",
      "<a href='#CSFS'>Calculation Structure Factors with Sassena ; </a></br>\n",
      "\n",
      "<a href='#NS'>New Section ; </a></br>\n"
     ]
    },
    {
     "cell_type": "markdown",
     "metadata": {},
     "source": [
      "(<a href='#Table of Contents'>Top</a>)<a id='Syntax'></a><h3>Syntax Examples</h3>\n",
      "local link: [link](files/link)</br>\n",
      "remote link: <a href=\"http://ambermd.org/\">http://ambermd.org</a>\n",
      "<font face=\"courier new\"> font face=\"courier new\" </font><br/>\n",
      "$$S_{model}(Q,E)=A(Q)\\cdot S_{elastic}(E) + B(Q)\\cdot S_{simulation}(Q,E)\\otimes S_{elastic}(E) + C(Q)+D(Q)\\cdot E$$\n",
      "<pre> Quoted text </pre>\n",
      "<center><table><tr>\n",
      "<td><a href=\"files/image.png\"><img src=\"files/image.png\" width=\"300\" height=\"250\" alt=\"image here\"></a> <br/>\n",
      "    <i>image caption</i></td>\n",
      "<td>some text</td>\n",
      "</tr></table></center>"
     ]
    },
    {
     "cell_type": "markdown",
     "metadata": {},
     "source": [
      "(<a href='#Table of Contents'>Top</a>)<a id='EV'></a><h3>Environment variables</h3>\n",
      "CODED=/home/jbq/code/projects/POSS/ibu8t8<br/>\n",
      "PROJD=/projects/research/POSS/ibu8t8"
     ]
    },
    {
     "cell_type": "markdown",
     "metadata": {},
     "source": [
      "(<a href='#Table of Contents'>Top</a>)<a id='IIC'></a><h3>Info from the Industrial Catalog</h3>\n",
      "<h3>Catalog ID</h3>\n",
      "<b>MS0825</b> from Hybrid Plastic catalog (POSS_catalog_2014.pdf)</br>\n",
      "<a href=\"files/octaIsobutyl.png\"><img src=\"files/octaIsobutyl.png\" alt=\"octaIsobutyl\"></a></br>"
     ]
    },
    {
     "cell_type": "markdown",
     "metadata": {},
     "source": [
      "(<a href='#Table of Contents'>Top</a>)<a id='FCSDB'></a><h3>Files From the Cambridge Structural Database</h3>\n",
      "The isobutyl POSS entry identifier in the Cambridge Structural Database is EKAGUS01. I downloaded files <i>EKAGUS01.cif</i>  <i>EKAGUS01.mol2</i> from the database. To get them:\n",
      "\n",
      "* Go to https://neutronsr.us/portal/\n",
      "\n",
      "* Applications --> Linux\n",
      "\n",
      "* In the menu, click in \"Cambridge SD\"\n",
      "\n",
      "* Perform a \"text/numeric\" search with the two words \"isobutyl\" and \"silsesquioxane\" to be searched in the \"compound name\". Enter the two words separated, entered one at a time and then pressing the \"add to list\"\n"
     ]
    },
    {
     "cell_type": "markdown",
     "metadata": {},
     "source": [
      "(<a href='#Table of Contents'>Top</a>)<a id='CISMS'></a><h3>Create Initial Structure in Materials Studio</h3>\n",
      "\n",
      "* Import the structure EKAGUS01.mol2 that we downloaded from the cambridge structural database and rename as <i>ibu8t8(.xsd)</i>.\n",
      "* Perform minimization with Forcite and force-field pcff, minimized structure named as <i>ibu8t8.xsd</i> within directory <i>minimization</i>.\n",
      "Resulting minimized structure is ipr8t8.xsd, in subdirectory <i>\"MateriaslStudio/ibu8t8_Files/Documents/mimimization/ibu8t8.xsd\"</i>\n"
     ]
    },
    {
     "cell_type": "markdown",
     "metadata": {},
     "source": [
      "(<a href='#Table of Contents'>Top</a>)<a id='SMS'></a><h3>Simulations in Materials Studio</h3>\n",
      "The system is so small that we carry out the simulations in the virtual Windows machine with Materials Studio.\n",
      "* Single molecule simulations.\n",
      "* Not neccessary to carry out equilibration to each temperature.\n",
      "* Production runs are 10ns with frames every 1ps, for a total of 10000 frames per simulation.\n",
      "* Runs carried out with Forcity and the pcff force-field.\n",
      "For example, trajectory ipr8t8.xtd under subdirectory <i>\"MateriaslStudio/ibu8t8_Files/Documents/mimimization/310K/\"</i>"
     ]
    },
    {
     "cell_type": "markdown",
     "metadata": {},
     "source": [
      "(<a href='#Table of Contents'>Top</a>)<a id='RGTR'></a><h3>Removal of Global Translations and Rotations</h3>\n",
      "We remove translations of the center of mass as well as rotations of the rigid body with the RMS transformation of each frame. We take as reference the first frame.<br\\>\n",
      "\n",
      "* Manual export of the trajectory into mol2 format. In Materials Studio, open each trajectory file ibu8t8.xtd and \"export\" as a mol2 file.\n",
      "\n",
      "* Translate the mol2 file to dcd file with vmd. Use python script <i>python/mol2_to_dcd.py</i>.\n",
      "\n",
      "* Load the dcd file in cpptraj and use RMS command. Save the trajectory into crd format. Use python script <i>python/dcd_to_mdcrd.py</i>.\n",
      "\n",
      "* Translate the crd format to dcd format with vmd. Use python script <i>python/mdcrd_to_dcd.py</i>.\n",
      " \n",
      "The final file ibu8t8.dcd can be used in a Sassena job.\n"
     ]
    },
    {
     "cell_type": "markdown",
     "metadata": {},
     "source": [
      "(<a href='#Table of Contents'>Top</a>)<a id='CD'></a><h3>Calculation of Dihedrals</h3>\n",
      "There are three types of torsions:\n",
      "\n",
      "* rotation of the whole sidechain (8 of them per molecule)\n",
      "* rotation of the isopropyl group (8 of them per molecule)\n",
      "* rotation of the methyl group (16 of them per molecule)\n",
      "\n",
      "Each torsion can be described by a dihedral angle, although more than one dihedral can be chosen to describe a torsion. A dihedral is uniquely specified by selecting four atoms.\n",
      "\n",
      "Within a molecule, I assigned unique atom names. File <i>ibu8t8_nd.pdb</i> contain the names, which then I used to construct the dihedrals:\n",
      "\n",
      "* sidechain rotations defined by:\n",
      "<pre>O10-Si2-C2-C4\n",
      "O2-Si4-C10-C12\n",
      "O3-Si3-C9-C11\n",
      "O4-Si6-C18-C20\n",
      "O5-Si5-C17-C19\n",
      "O7-Si7-C25-C27\n",
      "O8-Si8-C26-C28\n",
      "O9-Si1-C1-C3</pre>\n",
      "\n",
      "* isopropyl rotations defined by:\n",
      "<pre>O10-Si2-C2-C4\n",
      "O2-Si4-C10-C12\n",
      "O3-Si3-C9-C11\n",
      "O4-Si6-C18-C20\n",
      "O5-Si5-C17-C19\n",
      "O7-Si7-C25-C27\n",
      "O8-Si8-C26-C28\n",
      "O9-Si1-C1-C3</pre>\n",
      "\n",
      "* methyl rotations defined by:\n",
      "<pre>H23-C11-C13-H25\n",
      "H23-C11-C15-H31\n",
      "H24-C12-C14-H28\n",
      "H24-C12-C16-H36\n",
      "H41-C19-C21-H45\n",
      "H41-C19-C23-H49\n",
      "H42-C20-C22-H44\n",
      "H42-C20-C24-H50\n",
      "H59-C27-C29-H61\n",
      "H59-C27-C31-H67\n",
      "H5-C3-C5-H11\n",
      "H5-C3-C7-H13\n",
      "H60-C28-C30-H66\n",
      "H60-C28-C32-H68\n",
      "H6-C4-C6-H12\n",
      "H6-C4-C8-H14</pre>\n",
      "\n",
      "I used cpptraj to compute these dihedral angles. First I create the cpptraj input files with python scripts:\n",
      "\n",
      "* Use <i>python/create_sidechain_rotamer_ptraj.py</i> to create sidechain input files, stored in <i>cpptraj/dihedrals/O-Si-C-C/</i>.\n",
      "\n",
      "* Use <i>python/create_isopropyl_rotamer_ptraj.py</i>  to create isopropyl input files, stored in <i>cpptraj/dihedrals/Si-C-C-C/</i>.\n",
      "\n",
      "* Use <i>python/create_methyl_dihedrals_ptraj.py</i>  to create methyl input files, stored in <i>cpptraj/dihedrals/H-C-C-H/</i>.\n",
      "\n",
      "To use these scripts, just:\n",
      "<pre>cd python/\n",
      "python create_methyl_dihedrals_ptraj.py</pre>\n",
      "\n",
      "I travel through the temperature directories and dihedral angles, and apply cpptraj. For instance:\n",
      "<pre>for T in 10 20 30 40 50 60 70 80 90 100 110 120 130 140 150 160 170 180 190 200 210 220 230 240 250 260 270 280 290 300 310;do\n",
      " echo \"T=$T\"\n",
      " SIDECHAIN DIHEDRALS\n",
      " cd $PROJD/${T}K/\n",
      " mkdir -p dihedrals/O-Si-C-C/\n",
      " for dihedral in O4-Si6-C18-C20 O9-Si1-C1-C3 O7-Si7-C25-C27 O2-Si4-C10-C12 O5-Si5-C17-C19 O3-Si3-C9-C11 O10-Si2-C2-C4 O8-Si8-C26-C28;do\n",
      "  cpptraj -p ibu8t8.pdb -i ../cpptraj/dihedrals/O-Si-C-C/${dihedral}.ptraj;\n",
      " done\n",
      "done</pre>\n",
      "\n",
      "See <i>bash_commands.txt</i> for the other torsions."
     ]
    },
    {
     "cell_type": "markdown",
     "metadata": {},
     "source": [
      "(<a href='#Table of Contents'>Top</a>)<a id='DAF'></a><h3>Dihedral Autocorrelation Functions</h3>\n",
      "For every file containing the trajectory of a dihedral angle, we calculate the autocorrelation function. We have 8(sidechain) + 8(isopropyl) + 16(methyl)  = 32 such files for every temperature.\n",
      "\n",
      "Given one dihedral trajectory file, script <i>python/dihedral_autocorrelation.py</i> calculates the first and second order autocorrelation functions in the theory of spherical harmonics:\n",
      "\n",
      "* First order $C_1(t)=<cos(\\phi(t)-\\phi(t+t_0)>_{t_0}$\n",
      "\n",
      "* Second order $C_2(t)=<1/2(3cos^2(\\phi(t)-\\phi(t+t_0)-1)>_{t_0}$\n",
      "\n",
      "I travel through the temperature directories and dihedral angles, and apply cpptraj. For instance:\n",
      "<pre>for T in 10 20 30 40 50 60 70 80 90 100 110 120 130 140 150 160 170 180 190 200 210 220 230 240 250 260 270 280 290 300 310;do\n",
      " echo \"T=$T\"\n",
      " SIDECHAIN DIHEDRALS\n",
      " cd $PROJD/${T}K/\n",
      " for dihedral in O4-Si6-C18-C20 O9-Si1-C1-C3 O7-Si7-C25-C27 O2-Si4-C10-C12 O5-Si5-C17-C19 O3-Si3-C9-C11 O10-Si2-C2-C4 O8-Si8-C26-C28;do\n",
      "  python $PROJD/python/dihedral_autocorrelation.py --infile ./dihedrals/O-Si-C-C/${dihedral}.dat --outfile ./dihedrals/O-Si-C-C/${dihedral}.corr.dat\n",
      " done\n",
      "done</pre>\n",
      "\n",
      "See <i>bash_commands.txt</i> for the other torsions.\n",
      "\n",
      "We are interested in the autocorrelation function for each type of torsion (sidechain, isopropyl, and methyl). Thus, we average the resulting functions for each type of torsion. We use script <i>python/average_dihedral_autocorrelation.py</i>:\n",
      "<pre>for T in 10 20 30 40 50 60 70 80 90 100 110 120 130 140 150 160 170 180 190 200 210 220 230 240 250 260 270 280 290 300 310;do\n",
      " echo \"T=$T\"\n",
      " cd $PROJD/${T}K/\n",
      " python $PROJD/python/average_dihedral_autocorrelation.py\n",
      "done</pre>\n",
      "Resulting in files <i>\\$T/dihedrals/\\$dihedral/\\$dihedral.corr.dat</i>.\n",
      "\n",
      "<center><table><tr>\n",
      "    <td><a href=\"files/analysis/C1_O-Si-C-C.png\"><img src=\"files/analysis/C1_O-Si-C-C.png\" width=\"300\" height=\"300\" alt=\"C1_O-Si-C-C.png\"></a> <br/>\n",
      "    <i>analysis/C1_O-Si-C-C.png(agr)</i></td>\n",
      "    <td><a href=\"files/analysis/C1_Si-C-C-C.png\"><img src=\"files/analysis/C1_Si-C-C-C.png\" width=\"300\" height=\"300\" alt=\"C1_Si-C-C-C.png\"></a> <br/>\n",
      "    <i>analysis/C1_Si-C-C-C.png(agr)</i></td>\n",
      "    <td><a href=\"files/analysis/C1_H-C-C-H.png\"><img src=\"files/analysis/C1_H-C-C-H.png\" width=\"300\" height=\"300\" alt=\"C1_H-C-C-H.png\"></a> <br/>\n",
      "    <i>analysis/C1_H-C-C-H.png(agr)</i></td>\n",
      "</tr></table></center>\n",
      "\n",
      "The graphs suggest that sidechain rotations have the lowest activation energy, closely followed by methyl rotations."
     ]
    },
    {
     "cell_type": "markdown",
     "metadata": {},
     "source": [
      "(<a href='#Table of Contents'>Top</a>)<a id='CAE'></a><h3>Calculaton of Activation Energies</h3>\n",
      "Activation energies were calculated by fitting of $\\bar{C_1}(t)=<cos(\\phi_i(t)-\\phi_i(t+t_0)>_{t_0,\\phi_i}$ to a single exponential. The average $\\phi_i$ corresponds to dihedral angles of the same type within the molecule. For instance, there are 16 methyl groups over which to perform the average. The plots below top off at $10^4$ps indicating only that the relaxation time is higher than the longest simulated time.\n",
      "<center><table><tr>\n",
      "    <td><a href=\"files/analysis/O-Si-C-C_activation_energy.png\"><img src=\"files/analysis/O-Si-C-C_activation_energy.png\" width=\"300\" height=\"300\" alt=\"O-Si-C-C_activation_energy.png\"></a> <br/>\n",
      "    <i>analysis/O-Si-C-C_activation_energy.png(agr)</i></td>\n",
      "    <td><a href=\"files/analysis/Si-C-C-C_activation_energy.png\"><img src=\"files/analysis/Si-C-C-C_activation_energy.png\" width=\"300\" height=\"300\" alt=\"Si-C-C-C_activation_energy.png\"></a> <br/>\n",
      "    <i>analysis/Si-C-C-C_activation_energy.png(agr)</i></td>\n",
      "    <td><a href=\"files/analysis/H-C-C-H_activation_energy.png\"><img src=\"files/analysis/H-C-C-H_activation_energy.png\" width=\"300\" height=\"300\" alt=\"H-C-C-H_activation_energy.png\"></a> <br/>\n",
      "    <i>analysis/H-C-C-H_activation_energy.png(agr)</i></td>\n",
      "</tr></table></center>\n",
      "The $\\bar{C_1}(t)$ plots are exponential in the \"shortes\" time scale, which is the scale where the fit was performed. The most likely reason for deviation of pure exponential is the lack of statistics: few dihedral angles and/or too short times. Here's an example:\n",
      "<center><table><tr>\n",
      "    <td><a href=\"files/200K/dihedrals/H-C-C-H/C1_H-C-C-H.corr.png\"><img src=\"files/200K/dihedrals/H-C-C-H/C1_H-C-C-H.corr.png\" width=\"300\" height=\"300\" alt=\"200K/dihedrals/H-C-C-H/C1_H-C-C-H.corr\"></a> <br/>\n",
      "    <i>200K/dihedrals/H-C-C-H/C1_H-C-C-H.corr.png(agr)</i></td>\n",
      "</tr></table></center>"
     ]
    },
    {
     "cell_type": "markdown",
     "metadata": {},
     "source": [
      "(<a href='#Table of Contents'>Top</a>)<a id='CSFS'></a><h3>Calculation Structure Factors with Sassena</h3>\n",
      "In Chadwick cluster, directory <i>/data/jbq/projects/research/POSS/ibu8t8/</i>.\n",
      "\n",
      "We submit a job per temperature directory, each job described by <i>sassena_inc.xml</i>. We only calculate the incoherent part with Q vectors from 0.3 to 2.1 every 0.2/Angstroms. Outpuf files are <i>fqt_inc.hd5</i>."
     ]
    },
    {
     "cell_type": "markdown",
     "metadata": {},
     "source": [
      "(<a href='#Table of Contents'>Top</a>)<a id='NS'></a><h3>New Section</h3>\n"
     ]
    },
    {
     "cell_type": "markdown",
     "metadata": {},
     "source": [
      "(<a href='#Table of Contents'>Top</a>)<a id='NS'></a><h3>New Section</h3>\n"
     ]
    }
   ],
   "metadata": {}
  }
 ]
}