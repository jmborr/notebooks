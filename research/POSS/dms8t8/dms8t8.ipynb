{
 "metadata": {
  "name": "",
  "signature": "sha256:839cee29b0fa9119f19c8bc04e14b39d78f60c39927acfbe7c9f0a4a8ee84b77"
 },
 "nbformat": 3,
 "nbformat_minor": 0,
 "worksheets": [
  {
   "cells": [
    {
     "cell_type": "markdown",
     "metadata": {},
     "source": [
      "<h1>Octa Dimethylsiloxy Silsesquixane</h1>\n",
      "<a id='Table of Contents'></a><h3>Table of Contents</h3>\n",
      "<a href='#Syntax'>HTML and MARKDOWN SYNTAX EXAMPLES ; </a></br>\n",
      "<a href='#IIC'>Info from the Industrial Catalog ; </a></br>\n",
      "<a href='#FCSDB'>Files From the Cambridge Structural Database ; </a></br>\n",
      "\n",
      "<a href='#SingleMolecule'>Single Molecule ; </a></br>\n",
      "\n",
      "* <a href='#CISMS'>Create Initial Structure in Materials Studio ; </a></br>\n",
      "* <a href='#SMS'>Simulations in Materials Studio ; </a></br>\n",
      "* <a href='#RGTR'>Removal of Global Translations and Rotations ; </a></br>\n",
      "* <a href='#CD'>Calculation of Dihedrals ; </a></br>\n",
      "* <a href='#DAF'>Dihedral Autocorrelation Functions ; </a></br>\n",
      "* <a href='#CAE'>Calculation of Activation Energies ; </a></br>\n",
      "* <a href='#CSFS'>Calculation Intermediate Structure Factors with Sassena ; </a></br>\n",
      "* <a href='#CES'>Calculation of elastic scans ; </a></br>\n",
      "\n",
      "<a href='#PS'>Presentations ; </a></br>\n"
     ]
    },
    {
     "cell_type": "markdown",
     "metadata": {},
     "source": [
      "(<a href='#Table of Contents'>Top</a>)<a id='Syntax'></a><h3>Syntax Examples</h3>\n",
      "Extensive documentation on markdown syntax  <a href=\"http://daringfireball.net/projects/markdown/syntax\">here</a></br>\n",
      "local link: [link](files/link)</br>\n",
      "remote link: <a href=\"http://ambermd.org/\">http://ambermd.org</a>\n",
      "<font face=\"courier new\"> font face=\"courier new\" </font><br/>\n",
      "$$S_{model}(Q,E)=A(Q)\\cdot S_{elastic}(E) + B(Q)\\cdot S_{simulation}(Q,E)\\otimes S_{elastic}(E) + C(Q)+D(Q)\\cdot E$$\n",
      "<pre> Quoted text </pre>\n",
      "<center><table><tr>\n",
      "<td><a href=\"files/image.png\"><img src=\"files/image.png\" width=\"300\" height=\"250\" alt=\"image here\"></a> <br/>\n",
      "    <i>image caption</i></td>\n",
      "<td>some text</td>\n",
      "</tr></table></center>"
     ]
    },
    {
     "cell_type": "markdown",
     "metadata": {},
     "source": [
      "(<a href='#Table of Contents'>Top</a>)<a id='IIC'></a><h3>Info from the Industrial Catalog</h3>\n",
      "<h3>Catalog ID</h3>\n",
      "<b>MS0825</b> from Hybrid Plastic catalog ([POSS_catalog_2014.pdf](files/docs/POSS_catalog_2014.pdf))</br>\n",
      "<center><a href=\"files/dms8t8_from_catalog.png\"><img src=\"files/dms8t8_from_catalog.png\" width=\"400\" height=\"300\" alt=\"dms8t8_from_catalog.png\"></a></center></br>"
     ]
    },
    {
     "cell_type": "markdown",
     "metadata": {},
     "source": [
      "(<a href='#Table of Contents'>Top</a>)<a id='FCSDB'></a><h3>Files From the Cambridge Structural Database</h3>\n",
      "The isobutyl POSS entry identifier in the Cambridge Structural Database is HOKTIK. I downloaded file [HOKTUW.mol2](files/HOKTUW.mol2). To get them:\n",
      "\n",
      "* Go to https://neutronsr.us/portal/\n",
      "\n",
      "* Applications --> Linux\n",
      "\n",
      "* In the menu, click in \"Cambridge SD\"\n",
      "\n",
      "* Perform a \"text/numeric\" search with the two words \"dimethylsiloxy\" and \"octasilsesquioxane\" to be searched in the \"compound name\". Enter the two words separated, entered one at a time and then pressing the <i>add to list</i> button. After that, press button <i>Submit Search</i>.\n",
      "\n",
      "The structure has all the hydrogens missing as well as some extra carbons and silicon atoms.\n",
      "<center><a href=\"files/HOKTUW.png\"><img src=\"files/HOKTUW.png\" width=\"200\" height=\"200\" alt=\"HOKTUW.png\"></a><br/> <i>HOKTUW.png</i></center>\n"
     ]
    },
    {
     "cell_type": "markdown",
     "metadata": {},
     "source": [
      "(<a href='#Table of Contents'>Top</a>)<a id='SingleMolecule'></a><h2>Single Molecule</h2>\n",
      "<center><table><tr>\n",
      "    <td><a href=\"files/ibu8t8.png\"><img src=\"files/ibu8t8.png\" width=\"200\" height=\"250\" alt=\"ibu8t8.png\"></a> <br/>\n",
      "    <i>ibu8t8.png</i></td>\n",
      "</tr></table></center>"
     ]
    },
    {
     "cell_type": "markdown",
     "metadata": {},
     "source": [
      "(<a href='#Table of Contents'>Top</a>)<a id='CISMS'></a><h3>Create Initial Structure in Materials Studio</h3>\n",
      "I could not import structure [HOKTUW.mol2](files/HOKTUW.mol2) that we downloaded from the cambridge structural database into Materials Studio. I also tried to download the structure in other formats than mol2:\n",
      "\n",
      "* Format MDL SDFile ([HOKTUW.sdf](files/HOKTUW.sdf)) did not open\n",
      "* Format \"Crystallographic Information File\" ([HOKTUW.cif](files/HOKTUW.cif)) opens, but atoms are not bonded to each other.\n",
      "\n",
      "I decided to use the clean structure from the trimethyl octasilsesquioxane (tms8t8) that I got in Materials Studio and:\n",
      "\n",
      "* Delete the extra methyl on each of the eight residues, by selecting each methyl at a time, and then hit the <i>Delete</i> key.\n",
      "* Add missing hydrogens by selecting the whole molecule, then clicking in the <i>auto-adjust hydrogen</i> button."
     ]
    },
    {
     "cell_type": "markdown",
     "metadata": {},
     "source": [
      "(<a href='#Table of Contents'>Top</a>)<a id='SMS'></a><h3>Simulations in Materials Studio</h3>\n",
      "We employ the pcff force-field with a 18.5Angstroms cut-off for non-bonded forces. The largest distance between to atoms in the single molecule is ~15Ansgtroms. Thus, all atoms are within the cut-off.\n",
      "\n",
      "The minimization is performed with the Forcite module.\n",
      "\n",
      "A relaxation run is performed because removal of one methyl group in each residue was performed at random, and now that the residues are not simmetric (their tips have two methyls and one hydrogen instead of three methyls), there may be some particular rearrangement of the residues that will minimize steric clashes among themselves, and this will be the most probable configuration at low T. Thus, the relaxation run tries to find that ground state (if it exists).\n",
      "\n",
      "Relaxation run features:\n",
      "\n",
      "* NVT (Q-ratio 0.1, collision ratio 1.0, decay constant 1ps)\n",
      "* Temperature = 150K.\n",
      "* 1ns simulation, output coordinates every 100ps for a total of 10 frames.\n",
      "\n",
      "We export the relaxed structure as file <i>relaxed.mol</i> and we use VMD to export it as PDB:\n",
      "<center><a href=\"files/dms8t8.png\"><img src=\"files/dms8t8.png\" width=\"200\" height=\"200\" alt=\"dms8t8.png\"></a><br/> <i>[dms8t8.pdb](files/dms8t8.pdb)</i></center>\n",
      "\n",
      "Production run features:\n",
      "\n",
      "* NVT (Q-ratio 0.1, collision ratio 1.0, decay constant 1ps)\n",
      "* Temperature series from 20K to 300K every 10K.\n",
      "* 10ns simulation, output coordinates every 1ps for a total of $10^4$ frames."
     ]
    },
    {
     "cell_type": "markdown",
     "metadata": {},
     "source": [
      "(<a href='#Table of Contents'>Top</a>)<a id='RGTR'></a><h3>Removal of Global Translations and Rotations</h3>\n",
      "We remove translations of the center of mass as well as rotations of the rigid body with the RMS transformation of each frame. We take as reference the first frame.<br\\>\n",
      "\n",
      "* Manual export of the trajectory into mol2 format. In Materials Studio, open each trajectory file ibu8t8.xtd and \"export\" as a mol2 file.\n",
      "\n",
      "* Translate the mol2 file to dcd file with vmd. Use python script <i>python/mol2_to_dcd.py</i>. Creates files <i>\\${T}K.dcd</i>\n",
      "\n",
      "* Load the dcd file in cpptraj and use RMS command. Save the trajectory into crd format. Use python script <i>python/dcd_to_mdcrd.py</i>. Creates files <i>\\${T}K.mdcrd</i>.\n",
      "\n",
      "* Translate the crd format to dcd format with vmd. Use python script <i>python/mdcrd_to_dcd.py</i>. Creates files <i>\\${T}K_rms2first.dcd</i>.\n",
      " \n",
      "The final file <i>\\${T}K_rms2first.dcd</i> can be used in a Sassena job."
     ]
    },
    {
     "cell_type": "markdown",
     "metadata": {},
     "source": [
      "(<a href='#Table of Contents'>Top</a>)<a id='CD'></a><h3>Calculation of Dihedrals</h3>\n",
      "There are three types of torsions:\n",
      "<center><a href=\"files/analysis/rotamers.png\"><img src=\"files/analysis/rotamers.png\" width=\"300\" height=\"300\" alt=\"analysis/rotamers.png\"></a> <br/> <i>[rotamers.pptx](files/analysis/rotamers.pptx)(.png)</i></center>\n",
      "\n",
      "* rotation of the whole sidechain (8 of them per molecule)\n",
      "* rotation of the isopropyl group (8 of them per molecule)\n",
      "* rotation of the methyl group (16 of them per molecule)\n",
      "\n",
      "Each torsion can be described by a dihedral angle, although more than one dihedral can be chosen to describe a torsion. A dihedral is uniquely specified by selecting four atoms.\n",
      "\n",
      "Within a molecule, I assigned unique atom names. File <i>dms8t8_nd.pdb</i> contain the names, which then I used to construct the dihedrals. I use script [unique_atom_name.py](files/python/unique_atom_name.py) for this\n",
      "<pre>python python/unique_atom_name.py</pre>\n",
      "The output file [dms8t8_nd.pdb](files/dms8t8_nd.pdb) contains some screwed up lines in terms of spaces, but I easily edited the file and corrected these mistakes.\n",
      "\n",
      "Each torsion can be described by a dihedral angle, although more than one dihedral can be chosen to describe a torsion. A dihedral is uniquely specified by selecting four atoms.\n",
      "\n",
      "* sidechain rotations defined by:\n",
      "<pre>O11-Si10-O19-Si15\n",
      "O14-Si11-O15-Si12\n",
      "O6-Si3-O9-Si7\n",
      "O3-Si1-O7-Si5\n",
      "O4-Si9-O16-Si13\n",
      "O5-Si2-O8-Si6\n",
      "O8-Si14-O20-Si16\n",
      "O13-Si4-O10-Si8\n",
      "</pre>\n",
      "\n",
      "* isopropyl rotations defined by:\n",
      "<pre>Si11-O15-Si12-C9\n",
      "Si10-O19-Si15-C13\n",
      "Si14-O20-Si16-C16\n",
      "Si4-O10-Si8-C8\n",
      "Si3-O9-Si7-C6\n",
      "Si2-O8-Si6-C4\n",
      "Si1-O7-Si5-C2\n",
      "Si9-O16-Si13-C11\n",
      "</pre>\n",
      "\n",
      "* methyl rotations defined by:\n",
      "<pre>O16-Si13-C11-H14\n",
      "O16-Si13-C12-H17\n",
      "O9-Si7-C5-H1\n",
      "O9-Si7-C6-H6\n",
      "O7-Si5-C2-H28\n",
      "O7-Si5-C1-H25\n",
      "O10-Si8-C7-H7\n",
      "O10-Si8-C8-H12\n",
      "O20-Si16-C16-H22\n",
      "O20-Si16-C15-H21\n",
      "O8-Si6-C4-H36\n",
      "O8-Si6-C3-H31\n",
      "O15-Si12-C10-H47\n",
      "O15-Si12-C9-H44\n",
      "O19-Si15-C13-H38\n",
      "O19-Si15-C14-H41\n",
      "</pre>\n",
      "\n",
      "I used cpptraj to compute these dihedral angles. First I create the cpptraj input files with python scripts:\n",
      "\n",
      "* Use [create_sidechain_rotamer_ptraj.py](files/python/create_sidechain_rotamer_ptraj.py) to create sidechain input files, stored in <i>cpptraj/dihedrals/O-Si-O-Si/</i>.\n",
      "\n",
      "* Use [create_isopropyl_rotamer_ptraj.py](files/python/create_isopropyl_rotamer_ptraj.py)  to create isopropyl input files, stored in <i>cpptraj/dihedrals/Si-O-Si-C/</i>.\n",
      "\n",
      "* Use [create_methyl_dihedrals_ptraj.py](files/python/create_methyl_dihedrals_ptraj.py)  to create methyl input files, stored in <i>cpptraj/dihedrals/O-Si-C-H/</i>.\n",
      "\n",
      "To use these scripts, just:\n",
      "<pre>cd python/\n",
      "python create_methyl_dihedrals_ptraj.py</pre>\n",
      "\n",
      "I travel through the temperature directories and dihedral angles, and apply cpptraj. For instance:\n",
      "<pre>for T in `seq 20 10 300`;do\n",
      "  cd $PROJD/${T}K/\n",
      "  mkdir -p dihedrals/O-Si-O-Si\n",
      "  for dihedral in O11-Si10-O19-Si15 O13-Si4-O10-Si8 O14-Si11-O15-Si12 O3-Si1-O7-Si5 O4-Si9-O16-Si13 O5-Si2-O8-Si6 O6-Si3-O9-Si7 O8-Si14-O20-Si16;do\n",
      "    cpptraj -p dms8t8_nd.pdb -i ../cpptraj/dihedrals/O-Si-O-Si/${dihedral}.ptraj\n",
      "  done\n",
      "done\n",
      "</pre>\n",
      "\n",
      "See [bash_commands.sh](files/bash_commands.sh) for the other torsions.\n"
     ]
    },
    {
     "cell_type": "markdown",
     "metadata": {},
     "source": [
      "(<a href='#Table of Contents'>Top</a>)<a id='DAF'></a><h3>Dihedral Autocorrelation Functions</h3>\n",
      "For every file containing the trajectory of a dihedral angle, we calculate the autocorrelation function. We have 8(sidechain) + 8(isopropyl) + 16(methyl)  = 32 such files for every temperature.\n",
      "\n",
      "Given one dihedral trajectory file, script [dihedral_autocorrelation.py](files/python/dihedral_autocorrelation.py) calculates the first and second order autocorrelation functions in the theory of spherical harmonics:\n",
      "\n",
      "* First order $C_1(t)=<cos(\\phi(t)-\\phi(t+t_0)>_{t_0}$\n",
      "* Second order $C_2(t)=<1/2(3cos^2(\\phi(t)-\\phi(t+t_0)-1)>_{t_0}$\n",
      "\n",
      "I travel through the temperature directories and dihedral angles, and apply cpptraj. For instance:\n",
      "<pre>for T in \\`seq 20 10 300\\`;do\n",
      "  cd $PROJD/${T}K/\n",
      "  for dihedral in O11-Si10-O19-Si15 O13-Si4-O10-Si8 O14-Si11-O15-Si12 O3-Si1-O7-Si5 O4-Si9-O16-Si13 O5-Si2-O8-Si6 O6-Si3-O9-Si7 O8-Si14-O20-Si16;do\n",
      "    python $PROJD/python/dihedral_autocorrelation.py --infile ./dihedrals/O-Si-O-Si/${dihedral}.dat --outfile ./dihedrals/O-Si-O-Si/${dihedral}.corr.dat\n",
      "  done\n",
      "done\n",
      "</pre>\n",
      "See [bash_commands.sh](files/bash_commands.sh) for the other torsions.\n",
      "\n",
      "We are interested in the autocorrelation function for each type of torsion (sidechain, isopropyl, and methyl). Thus, we average the resulting functions for each type of torsion. We use script <i>python/average_dihedral_autocorrelation.py</i>:\n",
      "<pre>for T \\`seq 20 10 300\\`;do\n",
      " cd $PROJD/${T}K/\n",
      " python $PROJD/python/average_dihedral_autocorrelation.py\n",
      "done</pre>\n",
      "Resulting in files <i>\\$T/dihedrals/\\${dihedral}/\\${dihedral}.corr.dat</i>.\n"
     ]
    },
    {
     "cell_type": "markdown",
     "metadata": {},
     "source": [
      "(<a href='#Table of Contents'>Top</a>)<a id='CAE'></a><h3>Calculation of Activation Energies</h3>\n"
     ]
    },
    {
     "cell_type": "markdown",
     "metadata": {},
     "source": [
      "(<a href='#Table of Contents'>Top</a>)<a id='CSFS'></a><h3>Calculation Intermediate Structure Factors with Sassena</h3>\n"
     ]
    },
    {
     "cell_type": "markdown",
     "metadata": {},
     "source": [
      "(<a href='#Table of Contents'>Top</a>)<a id='EISF'></a><h3>Calculation of elastic scans</h3>\n",
      "\n"
     ]
    },
    {
     "cell_type": "markdown",
     "metadata": {},
     "source": [
      "(<a href='#Table of Contents'>Top</a>)<a id='PS'></a><h3>Presentations</h3>\n",
      "Private presentations for collaborators and public presentations.\n",
      "\n",
      "- <a href=\"\">Title for the dropbox link </a>, Sep 15 2014.\n",
      "\n"
     ]
    },
    {
     "cell_type": "markdown",
     "metadata": {},
     "source": [
      "(<a href='#Table of Contents'>Top</a>)<a id='NS'></a><h3>New Section</h3>\n"
     ]
    },
    {
     "cell_type": "markdown",
     "metadata": {},
     "source": [
      "(<a href='#Table of Contents'>Top</a>)<a id='NS'></a><h3>New Section</h3>\n"
     ]
    }
   ],
   "metadata": {}
  }
 ]
}