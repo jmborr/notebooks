{
 "metadata": {
  "name": ""
 },
 "nbformat": 3,
 "nbformat_minor": 0,
 "worksheets": [
  {
   "cells": [
    {
     "cell_type": "markdown",
     "metadata": {},
     "source": [
      "<h1>Octa Methyl Polihedral Silsesquixane</h1>\n",
      "<h3> Environment variables </h3>\n",
      "CODED=/home/jbq/code/projects/POSS/me8t8<br/>\n",
      "PROJD=/projects/research/POSS/me8t8\n",
      "\n",
      "local link: [link](files/link)</br>\n",
      "remote link: <a href=\"http://ambermd.org/\">http://ambermd.org</a>\n",
      "<font face=\"courier new\"> font face=\"courier new\" </font><br/>\n",
      "$$S_{model}(Q,E)=A(Q)\\cdot S_{elastic}(E) + B(Q)\\cdot S_{simulation}(Q,E)\\otimes S_{elastic}(E) + C(Q)+D(Q)\\cdot E$$\n",
      "<pre> Quoted text </pre>\n",
      "<table><tr>\n",
      "<td><a href=\"files/image.png\"><img src=\"files/image.png\" width=\"300\" height=\"250\" alt=\"image here\"></a> <br/>\n",
      "    <i>image caption</i></td>\n",
      "<td>some text</td>\n",
      "</tr><table>"
     ]
    },
    {
     "cell_type": "markdown",
     "metadata": {},
     "source": [
      "<h3>Experimental data</h3>\n",
      "Basis data; creating Nexus files for experimental runs\n",
      "\n",
      "Nina sent me Dave group files (BSS_*_1run_divided.dat) for the experimental runs, which I stored under $PROJD/expdata/. I made soft links of the sort exp*K.dat to these files. The S(Q,E) in the Dave groups was normalized by a Vanadium run.\n",
      "\n",
      "Here\u2019s the conversion between run number and temperature:\n",
      "15026  13\n",
      "15027  13\n",
      "15031 100\n",
      "15035 150\n",
      "15039 200\n",
      "15044 175\n",
      "15047 225\n",
      "15050 250\n",
      "15053 300\n",
      "15056 350"
     ]
    },
    {
     "cell_type": "code",
     "collapsed": false,
     "input": [
      "'''Create Nexus files for each Dave group. Creates exp*K.nxs, elastic.nxs, and resolution.nxs.'''\n",
      "rootd='/projects/research/POSS/me8t8/expdata'\n",
      "for T in (100,150,175,200,225,250,300,350):\n",
      "  LoadDaveGrp(Filename='%s/exp%dK.dat'%(rootd,T),XAxisUnits='DeltaE',YAxisUnits='Empty',IsMicroEV=1,OutputWorkspace='exp%dK'%T)\n",
      "  Rebin(InputWorkspace='exp%dK' %T,Params=[-0.14,0.0004,0.14],OutputWorkspace='exp%dK_2' %T)\n",
      "  SaveNexus(InputWorkspace='exp%dK_2' %T,Filename='/projects/research/POSS/me8t8/expdata/exp%dK.nxs'%T)\n",
      "T=13\n",
      "LoadDaveGrp(Filename='%s/exp%dK.dat'%(rootd,T),XAxisUnits='DeltaE',YAxisUnits='Empty',IsMicroEV=1,OutputWorkspace='elastic')\n",
      "Rebin(InputWorkspace='elastic',Params=[-0.14,0.0004,0.14],OutputWorkspace='elastic')\n",
      "SaveNexus(InputWorkspace='elastic',Filename='/projects/research/POSS/me8t8/expdata/elastic.nxs')\n",
      "Scale(InputWorkspace='elastic',Factor=-1,Operation='Multiply',OutputWorkspace='resolution')\n",
      "SaveNexus(InputWorkspace='resolution',Filename='/projects/research/POSS/me8t8/expdata/resolution.nxs')"
     ],
     "language": "python",
     "metadata": {},
     "outputs": []
    },
    {
     "cell_type": "markdown",
     "metadata": {},
     "source": [
      "<h3>Diffusion Model: DiffRotDiscreteCircle</h3>\n",
      "The model employed by Niina to fit the data is a single Lorentzian with FWHM independent of Q. This corresponds to the three-site jump-diffusion model of a particle in a circle (http://www.mantidproject.org/DiffRotDiscreteCircle). To check this, we fit the data at T=200K with a MantidPlot python script"
     ]
    },
    {
     "cell_type": "code",
     "collapsed": false,
     "input": [
      "LoadNexus(Filename='/projects/research/POSS/me8t8.v2/expdata/elastic.nxs', OutputWorkspace='elastic')\n",
      "LoadNexus(Filename='/projects/research/POSS/me8t8.v2/expdata/exp200K.nxs', OutputWorkspace='exp200K')\n",
      "qmod=0.3 # first Q-value\n",
      "initial_guess = { 'f0.Scaling':0.8,  'f1.f1.Intensity': 0.743927, 'f1.f1.Radius': 2.03}\n",
      "''' The model:  Elastic + Convolution(Elastic, InelasticDiffRotDiscreteCircle) + LinearBackground\n",
      "There is no way to determine the  f1.f1.radius fit parameter because it is anti-correlated to f1.f1.Intensity parameter. Thus,\n",
      "we fix the radius to its expected value of 2.03Angstroms, which is the radius of methyl rotations. '''\n",
      "fit_string_template='name=TabulatedFunction,Workspace=elastic,WorkspaceIndex=IW,Scaling=f0.Scaling,constraints=(0.0001<Scaling);(composite=Convolution,FixResolution=true,NumDeriv=true;name=TabulatedFunction,Workspace=elastic,WorkspaceIndex=IW,Scaling=1;name=InelasticDiffRotDiscreteCircle,N=3,Q=qmod,Intensity=f1.f1.Intensity,Radius=f1.f1.Radius,Decay=125.0,ties=(Radius=f1.f1.Radius));name=LinearBackground,A0=0.0,A1=0.0'\n",
      "#Intensity of the \"Elastic\" workspace integrated over the energy range.\n",
      "ConvertToHistogram( InputWorkspace='Elastic', OutputWorkspace='ElasticH')\n",
      "Integration( InputWorkspace='ElasticH', OutputWorkspace='elastic_intensity');  elastic_intensity=mtd['elastic_intensity']\n",
      "print \"Q, tao(ps), initial_guess['f1.f1.Intensity']*elastic_intensity[iw]\"\n",
      "for iw in range(9):\n",
      "\tfit_string = fit_string_template.replace( 'IW', str(iw) );  fit_string = fit_string.replace( 'qmod', str(qmod) )\n",
      "\tfor key,val in initial_guess.items(): fit_string = fit_string.replace( key, str(val) )\t\n",
      "\tFit(fit_string, InputWorkspace='exp200K', WorkspaceIndex=iw, startX=-0.13, endX=0.1, Output='fit_{0}'.format(iw), CreateOutput=1,OutputCompositeMembers=1)\n",
      "\tws = mtd['fit_{0}_Parameters'.format(iw)];  initial_guess['f0.Scaling'] = ws.row(0)['Value'] ;\n",
      "\tinitial_guess['f1.f1.Intensity'] = ws.row(2)['Value']; initial_guess['f1.f1.Radius'] = ws.row(3)['Value']\n",
      "\t'''\tIf all the diffusive signal was produced by the methyl rotations, then all the Q-dependence should come from \n",
      "\tInelasticDiffRotDiscreteCircle(Q,E), that is, f1.f1.Intensity * elastic_intensity.dataY(iw) should be Q-independent '''\n",
      "\tprint   qmod, ws.row(4)['Value'], initial_guess['f1.f1.Intensity']*elastic_intensity.dataY(iw)[0]\n",
      "\tqmod += 0.2"
     ],
     "language": "python",
     "metadata": {},
     "outputs": []
    },
    {
     "cell_type": "markdown",
     "metadata": {},
     "source": [
      "The decay is roughly constant. However, the quantity f1.f1.Intensity*elastic_intensity[iw] is not Q-independent<br/>\n",
      "<pre>#Q, tao(ps), f1.f1.Intensity*elastic_intensity[iw]</pre>\n",
      "0.3 117.418048245 0.012366401711<br/>\n",
      "0.5 116.279172597 0.007067926839<br/>\n",
      "0.7 115.130273779 0.005867957254<br/>\n",
      "0.9 118.088302347 0.005846925437<br/>\n",
      "1.1 120.245489281 0.006477884775<br/>\n",
      "1.3 121.332228136 0.007662784147<br/>\n",
      "1.5 121.180658873 0.009120989846<br/>\n",
      "1.7 121.651088290 0.011020619375<br/>\n",
      "1.9 120.767868808 0.013226375486<br/>\n",
      "The Q-dependence of the intensity is reminiscent of the Q-dependence of the vanadium intensity that we saw in the case of LiCl (a minimum around Q=0.8)\n",
      "<center>\n",
      "<a href=\"files/expdata/analysis/unexplained_Q_dependence.png\"><img src=\"files/expdata/analysis/unexplained_Q_dependence.png\" width=\"100\" height=\"100\" alt=\"me8t8.png\"></a> <br/>\n",
      "    <i>unexplained_Q_dependence.agr(png)</i>\n",
      "</center>"
     ]
    },
    {
     "cell_type": "markdown",
     "metadata": {},
     "source": [
      "<h4>CNCS data</h4>\n",
      "Niina sent me Nexus files with reduced data for each detector for different runs, which I stored under <i>$PROJD/expdata/CNCS/</i>. Files names are of the type <i>CNCS_run_number_*.nxspe</i> containing the reduced data and <i>CNCS_run_number_*_summary.txt</i> containing a description of the reduction procedure.<br/>\n",
      "Excel spreadsheet <i>runlist.xlsx</i> contains the temperature of each run, among other things."
     ]
    },
    {
     "cell_type": "markdown",
     "metadata": {},
     "source": [
      "<h3>Force-Field of Stan Anderson</h3>\n",
      "Stan Anderson, from Michaels T. Bowers\u2019 group, sent me <i>me8t8.prmtop</i>, <i>me8t8.mdcrd</i>, and <i>me8t8.mol2</i> files. He also sent me siparms.pcy containing the force-field. I put these files under <i>$PROJD/Stan_Anderson/</i>.<br/>\n",
      "I use ptraj to generate <i>me8t8.pdb</i>\n",
      "<center>\n",
      "<a href=\"files/Stan_Anderson/me8t8.png\"><img src=\"files/Stan_Anderson/me8t8.png\" width=\"100\" height=\"100\" alt=\"me8t8.png\"></a> <br/>\n",
      "    <i>me8t8.png(pse)</i>\n",
      "</center>\n",
      "The prmtop file contains a total residual charge, that is, the molecule is not electrically neutral. Thus, I redistributed this residual charge among all atoms equally, overwriting <i>me8t8.prmtop</i>."
     ]
    },
    {
     "cell_type": "code",
     "collapsed": false,
     "input": [
      "\"\"\"Remove residual total charge\"\"\"\n",
      "pt=open('/projects/research/POSS/me8t8.v2/Stan_Anderson/me8t8.prmtop')\n",
      "buf=''; line=pt.readline()\n",
      "while '%FLAG CHARGE' not in line:\n",
      "  buf+=line; line=pt.readline()\n",
      "buf+=line+pt.readline(); line=pt.readline(); charges=[]\n",
      "while '%FLAG MASS' not in line:\n",
      "  charges+=[float(q) for q in line.split()]; line=pt.readline()\n",
      "charges=numpy.array(charges); charges=charges-numpy.sum(charges)/len(charges)\n",
      "buf+=write_from_numpy(None,charges,format='%16.8e',ncols=5)\n",
      "buf+=line; buf+=''.join(pt.readlines()); pt.close()\n",
      "open('/projects/research/POSS/me8t8.v2/Stan_Anderson/me8t8.prmtop','w').write(buf)"
     ],
     "language": "python",
     "metadata": {},
     "outputs": []
    },
    {
     "cell_type": "markdown",
     "metadata": {},
     "source": [
      "<h3>Gaussian File</h3>\n",
      "Tommy sent me file [POSS-CH3.gjf](files/Gaussian/POSS-CH3.gjf)"
     ]
    },
    {
     "cell_type": "markdown",
     "metadata": {},
     "source": [
      "<h3>Finding the Dihedral Potential in the AMBER Force-Field</h3>\n",
      "\n",
      "<a href=\"http://ambermd.org/formats.html#parm.dat\">http://ambermd.org/formats.html#parm.dat</a> describes de syntax of the AMBER force-field. In particular, the dihedral angle section:\n",
      "\n",
      "\n",
      "Force-field file [siparms.pcy](files/Stan_Anderson/siparms.pcy) contains the line:\n",
      "<pre>X -CT-SI-X    9     .070        0.                3.</pre>\n",
      "Indicating the torsional barrier is twice **0.070/9** or 0.14Kcal/mol. Twice because of the term 1+ cos(); divided by 9 becasue because there are 9 different dihedral potentials in the $O_3SiCH_3\\\\\\$ tips of the POSS molecule (three for each oxygen times three for each hydrogen)<br/>![tips of the POSS molecule](files/Parmed/dihedral_combinations.png)"
     ]
    },
    {
     "cell_type": "markdown",
     "metadata": {},
     "source": [
      "<h3>Re-Create Force-Field and Topology Library for me8t8</h3>\n",
      "In order to create force-field and topologies for the me8t8 molecule, we use parmed.py that allows reading of a 'prmtop' and 'crd' files and nicely outputs a 'frcmod' and 'off' files. In <i>$PROJD/Parmed</i>. We also need a file declaring the atom types. File [me8t8.cmd](files/Parmed/me8t8.cmd) serves this purpose<br/>\n",
      "<font face=\"courier new\">parmed.py stan_me8t8.prmtop frcmod_off_parmed.in  # creates me8t8.frcmod and me8t8.off</font>"
     ]
    },
    {
     "cell_type": "markdown",
     "metadata": {},
     "source": [
      "<h3>Re-Create Single Molecule Input Files</h3>\n",
      "To test the newly created force-fields and topology libraries, we create a 'prmtop' and 'mdcrd' files that will be used for a simulation.<br/>\n",
      "<font face=\"courier new\">\n",
      "# 'sm' stands for single molecule<br/>\n",
      "tleap -f tleap_sm.in > tleap_sm.out #creates me8t8_sm.prmtop, me8t8_sm.mdcrd, and me8t8_sm.pdb\n",
      "</font>"
     ]
    },
    {
     "cell_type": "markdown",
     "metadata": {},
     "source": [
      "<h3>Run for Re-created force-field at T=200K</h3>\n",
      "In <i>$PROJD/SingleMolecule/OriginalFF/T200</i> run a short NVT equilibration(eq0) followed by 10ns NVE run (run0)<br/>\n",
      "<font face=\"courier new\">\n",
      "sander -O -i eq0.in -p me8t8_sm.prmtop -c me8t8_sm.mdcrd  -x eq0.mdcrd -e eq0.mdend -r eq0.restrt -o eq0.mdout<br/>\n",
      "time sander -O -i run0.in -p me8t8_sm.prmtop -c eq0.restrt  -x run0.mdcrd -e run0.mdend -r run0.restrt -o run0.mdout\n",
      "</font><br/>\n",
      "We remove global rotations by doing RMS to first trajectory usin only Si atoms. This ensures no RMS is done involving the hydrogens. Then, we use VMD in order to produce a DCD trajectory readable by Sassena<br/>\n",
      "<font face=\"courier new\">\n",
      "ptraj me8t8_sm.prmtop < ptraj_rms2first_run0.in > ptraj_rms2first_run0.out #produces run0_rms2first.mdcrd<br/>\n",
      "vmd -dispdev text -e vmd_amber2dcd_run0_rms2first.tcl #produces run0_rms2first.dcd\n",
      "</font><br/>\n",
      "Run Sassena in chadwick:/data/jbq/projects/research/POSS/me8t8.v2/SingleMolecule/OriginalFF/T200)<br/>\n",
      "<font face=\"courier new\">qsub sassena_inc_run0_rms2first.pbs</font>"
     ]
    },
    {
     "cell_type": "code",
     "collapsed": false,
     "input": [
      "#MANTIDPLOT script to fit simulation to data for the last spectrum, workspace index 8 Q=1.9A^(-1)\n",
      "workdir='/projects/research/POSS/me8t8.v2'\n",
      "LoadSassena( Filename=workdir+'/SingleMolecule/OriginalFF/T200/fqt_inc_run1_rms2first.h5', OutputWorkspace='simulation', TimeUnit=1.0 )\n",
      "SassenaFFT( InputWorkspace='simulation', FFTonlyRealPart=1, DetailedBalance=1, Temp=200.0 )\n",
      "LoadNexus(Filename=workdir+'/expdata/elastic.nxs',  OutputWorkspace='elastic' )\n",
      "LoadNexus(Filename=workdir+'/expdata/exp200K.nxs',  OutputWorkspace='exp200K' )\n",
      "fitstr = 'name=TabulatedFunction,Workspace=elastic,WorkspaceIndex=8,Scaling=1;(composite=Convolution,FixResolution=true,NumDeriv=true;name=TabulatedFunction,Workspace=elastic,WorkspaceIndex=8,Scaling=1;name=TabulatedFunction,Workspace=simulation_sqw,WorkspaceIndex=8,Scaling=1e-07)'\n",
      "Fit(fitstr, InputWorkspace='exp200K', WorkspaceIndex=8, CreateOutput=1, OutputCompositeMembers=1, StartX=-0.13, EndX=0.1 )"
     ],
     "language": "python",
     "metadata": {},
     "outputs": []
    },
    {
     "cell_type": "markdown",
     "metadata": {},
     "source": [
      "<center>\n",
      "<a href=\"files/SingleMolecule/OriginalFF/T200/fitted.jpeg\"><img src=\"files/SingleMolecule/OriginalFF/T200/fitted.jpeg\" width=\"100\" height=\"100\" alt=\"fitted.jpeg\"></a> <br/>\n",
      "    <i>fitted.jpeg</i>\n",
      "</center>\n",
      "The fit shows that the simulation shows less diffusive component, thus we have to decrease the dihedral potential from its original value K=0.11Kcal/mol."
     ]
    },
    {
     "cell_type": "markdown",
     "metadata": {},
     "source": [
      "<h3>Dihedral Barrier (K) Search at T=200K</h3>\n",
      "In <i>$PROJD/SingleMolecule/T200_Ksearch/</i> vary K from 0.04 to 0.10, and for each value recreate a force-field and submit simulations.<br/>"
     ]
    },
    {
     "cell_type": "code",
     "collapsed": false,
     "input": [
      "#CREATE force field for a particular K value\n",
      "X=0.04; K=`printf \"%4.3f\" $X`; PROJD=/projects/research/POSS/me8t8.v2\n",
      "WD=$PROJD/SingleMolecule/T200_Ksearch/K$K; mkdir -p $WD\n",
      "cd $PROJD/Parmed; /bin/cp me8t8.cmd me8t8.frcmod me8t8.off tleap_sm.in $WD/; cd $WD\n",
      "perl -p -i -e \"s/HC-CT-SI-OS     1    0.111/HC-CT-SI-OS     1    $K/g\" me8t8.frcmod\n",
      "tleap -f tleap_sm.in > tleap_sm.out #creates me8t8_sm.prmtop, me8t8_sm.mdcrd, and me8t8_sm.pdb\n",
      "\n",
      "#SUBMIT equilibration and production for a particular K value\n",
      "X=0.04; K=`printf \"%4.3f\" $X`; PROJD=/projects/research/POSS/me8t8.v2;  WD=$PROJD/SingleMolecule/T200_Ksearch/K$K\n",
      "cd $PROJD/SingleMolecule/OriginalFF/T200/;  /bin/cp min0.in eq0.in run0.in $WD/;  cd $WD\n",
      "sander -O -i  eq0.in -p me8t8_sm.prmtop -c me8t8_sm.mdcrd -x  eq0.mdcrd -e  eq0.mdend -r  eq0.restrt -o  eq0.mdout\n",
      "sander -O -i run0.in -p me8t8_sm.prmtop -c  eq0.restrt    -x run0.mdcrd -e run0.mdend -r run0.restrt -o run0.mdout\n",
      "\n",
      "#CREATE DCD trajectory without global translations and rotations for a particular K value\n",
      "X=0.04;  K=`printf \"%4.3f\" $X`;  PROJD=/projects/research/POSS/me8t8.v2;  WD=$PROJD/SingleMolecule/T200_Ksearch/K$K\n",
      "cd $PROJD/SingleMolecule/OriginalFF/T200/;  /bin/cp ptraj_rms2first_run0.in vmd_amber2dcd_run0_rms2first.tcl $WD/; cd $WD/\n",
      "ptraj me8t8_sm.prmtop < ptraj_rms2first_run0.in > ptraj_rms2first_run0.out #produces run0_rms2first.mdcrd\n",
      "vmd -dispdev text -e vmd_amber2dcd_run0_rms2first.tcl #produces run0_rms2first.dcd "
     ],
     "language": "python",
     "metadata": {},
     "outputs": []
    },
    {
     "cell_type": "markdown",
     "metadata": {},
     "source": [
      "In <b>Chadwick</b>, we run sassena on each of the <i>run0_rms2first.dcd</i> files"
     ]
    },
    {
     "cell_type": "code",
     "collapsed": false,
     "input": [
      "#CREATE sassena input files for a particular K value\n",
      "X=0.04;  K=`printf \"%4.3f\" $X`;  PROJD=/data/jbq/projects/research/POSS/me8t8.v2/SingleMolecule\n",
      "WD=$PROJD/K$K;  cd $PROJD/OriginalFF/T200/\n",
      "/bin/cp sassena_inc_run0_rms2first.pbs sassena_inc_run0_rms2first.xml $WD;  cd $WD\n",
      "perl -p -i -e \"s/OriginalFF\\/T200/K$K/g\" sassena_inc_run0_rms2first.pbs\n",
      "qsub sassena_inc_run0_rms2first.pbs"
     ],
     "language": "python",
     "metadata": {},
     "outputs": []
    },
    {
     "cell_type": "markdown",
     "metadata": {},
     "source": [
      "The best fits are obtained for K=0.07 and K=0.06, however Chi2~80, quite large.\n",
      "<center>\n",
      "<a href=\"files/SingleMolecule/T200_Ksearch/fits_NVE.jpeg\"><img src=\"files/SingleMolecule/T200_Ksearch/fits_NVE.jpeg\" width=\"100\" height=\"100\" alt=\"fits_NVE.jpeg\"></a> <br/>\n",
      "    <i>SingleMolecule/T200_Ksearch/fits_NVE.jpeg</i>\n",
      "</center>"
     ]
    },
    {
     "cell_type": "code",
     "collapsed": false,
     "input": [
      "#MANTIDPLOT script to fit simulation to data for the last spectrum, workspace index 8 Q=1.9A^(-1)\n",
      "for K in '0.04 0.05 0.06 0.07 0.08 0.09 0.1'.split():\n",
      "\tworkdir='/projects/research/POSS/me8t8.v2'\n",
      "\tLoadSassena( Filename=workdir+'/SingleMolecule/T200_Ksearch/K{0:4.3f}/fqt_inc_run0_rms2first.h5'.format(float(K)), OutputWorkspace='simulation_K{0:4.3f}'.format(float(K)), TimeUnit=1.0 )\n",
      "\tSassenaFFT( InputWorkspace='simulation_K{0:4.3f}'.format(float(K)), FFTonlyRealPart=1, DetailedBalance=1, Temp=200.0 )\n",
      "\tLoadNexus(Filename=workdir+'/expdata/elastic.nxs',  OutputWorkspace='elastic' )\n",
      "\tLoadNexus(Filename=workdir+'/expdata/exp200K.nxs',  OutputWorkspace='exp200K' )\n",
      "\tfitstr = 'name=TabulatedFunction,Workspace=elastic,WorkspaceIndex=8,Scaling=1;(composite=Convolution,FixResolution=true,NumDeriv=true;name=TabulatedFunction,Workspace=elastic,WorkspaceIndex=8,Scaling=1;name=TabulatedFunction,Workspace=simulation_K{0:4.3f}_sqw,WorkspaceIndex=8,Scaling=1e-07)'.format(float(K))\n",
      "\t#Fit(fitstr, InputWorkspace='exp200K', WorkspaceIndex=8, CreateOutput=1, OutputCompositeMembers=1, StartX=-0.13, EndX=0.1 )\n",
      "\tFit(fitstr, InputWorkspace='exp200K', WorkspaceIndex=8, CreateOutput=1, StartX=-0.13, EndX=0.1 )\n",
      "\tfor suffix in 'Parameters Workspace NormalisedCovarianceMatrix'.split():\n",
      "\t\tRenameWorkspace( InputWorkspace='exp200K_{0}'.format(suffix), OutputWorkspace='exp200K_K{0:4.3f}_{1}'.format(float(K),suffix) )"
     ],
     "language": "python",
     "metadata": {},
     "outputs": []
    },
    {
     "cell_type": "markdown",
     "metadata": {},
     "source": [
      "The fit using Mantidplot shows oscillations in S(Q,E). Are these because the production runs are in the NVE ensemble, thus harmonic motions should be preserved in time? Is it a different artifact?<br/>\n",
      "<center>\n",
      "<a href=\"files/SingleMolecule/T200_Ksearch/oscillations.jpeg\"><img src=\"files/SingleMolecule/T200_Ksearch/oscillations.jpeg\" width=\"100\" height=\"100\" alt=\"oscillations.jpeg\"></a> <br/>\n",
      "    <i>SingleMolecule/T200_Ksearch/oscillations.jpeg</i>\n",
      "</center>\n",
      "We redo the simulations, but now in the NVT ensemble. We set Langeving dynamics with damping at 2Hz. Thus, we decorrelate harmonic motions <b>below</b> this frequency threshold. Some commands for the NVT runs:<br/>"
     ]
    },
    {
     "cell_type": "code",
     "collapsed": false,
     "input": [
      "sander -O -i <b>run0_NVT.in</b> -p me8t8_sm.prmtop -c  <b>eq0.restrt</b>  -x run0_NVT.mdcrd -e run0_NVT.mdend -r run0_NVT.restrt -o run0_NVT.mdout\n",
      "ptraj me8t8_sm.prmtop < ptraj_run0_NVT_rms2first.in > ptraj_run0_NVT_rms2first.in #produces run0_NVT_rms2first.mdcrd\n",
      "vmd -dispdev text -e vmd_amber2dcd_run0_NVT_rms2first.tcl #produces run0_NVT_rms2first.dcd\n",
      "#Now in Chadwick:\n",
      "/bin/cp sassena_inc_run0_NVT_rms2first.pbs sassena_inc_run0_NVT_rms2first.xml $WD/\n",
      "perl -p -i -e \"s/K_K_/K$K/g\" sassena_inc_run0_NVT_rms2first.pbs  #update working directory"
     ],
     "language": "python",
     "metadata": {},
     "outputs": []
    },
    {
     "cell_type": "markdown",
     "metadata": {},
     "source": [
      "The runs in the NVT ensemble remove the wide amplitude oscillations. However, the significantly increase the methyl rotations! Below is a comparison of the decay of the intermediate scattering function in the NVT and NVE ensembles when K=0.07. The exponential decay with half-life~100ps observed in the NVE case is gone, now assume to be a much faster decay.\n",
      "<center>\n",
      "<a href=\"files/SingleMolecule/T200_Ksearch/compare_NVE_NVT.jpeg\"><img src=\"files/SingleMolecule/T200_Ksearch/compare_NVE_NVT.jpeg\" width=\"100\" height=\"100\" alt=\"compare_NVE_NVT.jpeg\"></a> <br/>\n",
      "    <i>SingleMolecule/T200_Ksearch/compare_NVE_NVT.jpeg</i>\n",
      "</center>\n",
      "When we impose external conditions, here through a Langevin thermal bath using ghost collisions, K=0.07 is a too small barrier to compare to experimental data. This means that K=0.07 will be a small barrier when studying the crystal if atoms from neighbor POSS molecules interact with the methyls as ghost particles."
     ]
    },
    {
     "cell_type": "markdown",
     "metadata": {},
     "source": [
      "<h3>Compare Sassena to scatter.py</h3>\n",
      "Sassena I(Q,t) shows very big variations and oscillations versus time:\n",
      "<center>\n",
      "<a href=\"files/SingleMolecule/OriginalFF/T200/fqt_Q1.9.jpeg\"><img src=\"files/SingleMolecule/OriginalFF/T200/fqt_Q1.9.jpeg\" width=\"100\" height=\"100\" alt=\"fqt_Q1.9.jpeg\"></a> <br/>\n",
      "    <i>fqt_Q1.9.jpeg</i>\n",
      "</center>\n",
      "Does my scatter.py also reproduce such oscillations and variations? To answer this question, we produce a trajectory with only hydrogen atoms. In <i>$PROJD/SingleMolecule/OriginalFF/T200</i>:"
     ]
    },
    {
     "cell_type": "code",
     "collapsed": false,
     "input": [
      "ptraj me8t8_sm.prmtop < ptraj_run0_rms2first_onlyH.in > ptraj_run0_rms2first_onlyH.out #creates run0_rms2first_onlyH.mdcrd\n",
      "# Python script below\n",
      "from pdb import set_trace as tr\n",
      "from amber.amber10 import crd\n",
      "from scatter.scatter import SIIScF, storeSIIScF\n",
      "qq=[1.9,]; dt=1.0; tl=10000.0; nt=10000; #Q-values; time-between-frames (ps); total-time(ps); #number-of-time-points\n",
      "Nhydr=24; tt=[]; PROJD='/projects/research/POSS/me8t8.v2/SingleMolecule/OriginalFF/T200'\n",
      "for i in range(nt): tt.append(i*dt)\n",
      "crdobj=crd(PROJD+'/run0_rms2first_onlyH.mdcrd',Nhydr)\n",
      "crdobj.loadframes(skip=0); scat=SIIScF(qq,crdobj.frames,dt,tl,nt)\n",
      "storeSIIScF( PROJD+'/isf_onlyH.dat', scat.sum(axis=0)/len(scat), qq, tt )"
     ],
     "language": "python",
     "metadata": {},
     "outputs": []
    },
    {
     "cell_type": "markdown",
     "metadata": {},
     "source": [
      "The comparison shows excellent agreement, indicating we can rely on both methods.\n",
      "<center>\n",
      "<a href=\"files/SingleMolecule/OriginalFF/T200/compare_sass_scat.png\"><img src=\"files/SingleMolecule/OriginalFF/T200/compare_sass_scat.png\" width=\"100\" height=\"100\" alt=\"compare_sass_scat.png\"></a> <br/>\n",
      "    <i>compare_sass_scat.agr(png)</i>\n",
      "</center>"
     ]
    },
    {
     "cell_type": "markdown",
     "metadata": {},
     "source": [
      "<h3>Create 3x3x3 Crystal</h3>\n",
      "We will use Mercury program from the Cambridge Structural Database to construct a 3x3x3. I downloaded [OCMSIO03.cif](files/3x3x3/preparing/OCMSIO03.cif) which contains the crystallographic data in a format (CIF) and a description of a single molecule. <a href=\"http://neutrons.ornl.gov/portal\">http://neutrons.ornl.gov/portal</a> has a link to the Cambridge Structural Database. I did a \u201ctext/numeric\u201d search using \u201cmethylsilsesquioxane\u201d as \u201cexact word\u201d text search, obtaining the entry <a href=\"http://webcsd.ccdc.cam.ac.uk/display_csd_search_results.php?xml_temp_file=/temp/text_numeric_query_063656400137278156051d2fbf89cb9c.xml\">http://webcsd.ccdc.cam.ac.uk/display_csd_search_results.php?xml_temp_file=/temp/text_numeric_query_063656400137278156051d2fbf89cb9c.xm</a>.\n",
      "The atom names in are not standard AMBER atom names, so we translate them to file [me8t8.cif](files/3x3x3/preparing/me8t8.cif)"
     ]
    },
    {
     "cell_type": "code",
     "collapsed": false,
     "input": [
      "\"\"\"translate cif file from Cambridge Structural Database to AMBER\"\"\"\n",
      "csd2amber={'C1J':'C8', 'H2J':'H15', 'H2K':'H20', 'H2I':'H8', 'H2B':'H3', 'O2':'O12', 'H2A':'H18', 'O1A':'O1', 'O1B':'O11', 'C2':'C2', 'O1I':'O6', 'O1J':'O8', 'O1K':'O5', 'H1':'H11', 'O1':'O2', 'C2A':'C6', 'H1J':'H22', 'H1I':'H24', 'C2B':'C1', 'C2I':'C3', 'H1B':'H12', 'C2K':'C7', 'C2J':'C5', 'H1A':'H10', 'C1':'C4', 'O2I':'O10', 'O2K':'O3', 'O2J':'O7', 'O2A':'O4', 'H2':'H5', 'O2B':'O9', 'Si2B':'Si6', 'Si2A':'Si4', 'H3':'H6', 'Si2J':'Si7', 'Si2K':'Si3', 'Si2I':'Si5', 'H4A':'H16', 'H4B':'H2', 'Si1':'Si1', 'H4I':'H7', 'H4J':'H13', 'H4K':'H21', 'H4':'H4', 'Si1J':'Si8', 'Si2':'Si2', 'H3A':'H17', 'H3B':'H1', 'H3I':'H9', 'H3K':'H19', 'H3J':'H14', 'H1K':'H23',}\n",
      "amberorder=['C1', 'H1', 'H2', 'H3', 'C2', 'H4', 'H5', 'H6', 'C3', 'H7', 'H8', 'H9', 'C4', 'H10', 'H11', 'H12', 'C5', 'H13', 'H14', 'H15', 'C6', 'H16', 'H17', 'H18', 'C7', 'H19', 'H20', 'H21', 'C8', 'H22', 'H23', 'H24', 'O1', 'Si1', 'O2', 'Si2', 'O3', 'Si3', 'O4', 'Si4', 'O5', 'O6', 'Si5', 'Si6', 'O7', 'Si7', 'O8', 'Si8', 'O9', 'O10', 'O11', 'O12'] # order of the atoms in residue N11\n",
      "ordered_list=['']*len(amberorder)\n",
      "buffer=''; start_coordinate_reading='Si1 '; end_coordinate_reading='H4K '; processed=False\n",
      "pfile=open('3x3x3/preparing/OCMSIO03.cif'); line=pfile.readline()\n",
      "while line:\n",
      "    if line[:4]==start_coordinate_reading and processed==False:\n",
      "        while processed==False:\n",
      "            csd_name=line.split()[0]; amber_name=csd2amber[csd_name]\n",
      "            position=[i for i, name in enumerate(amberorder) if name==amber_name][0]\n",
      "            ordered_list[position]=line.replace(csd_name,amber_name)\n",
      "            if line[:4]==end_coordinate_reading: processed=True\n",
      "            else: line=pfile.readline()\n",
      "        buffer+=''.join(ordered_list) #add the list of atoms with the amber ordering into the buffer\n",
      "    else: buffer+=line\n",
      "    line=pfile.readline()\n",
      "open('3x3x3/preparing/me8t8.cif','w').write(buffer)"
     ],
     "language": "python",
     "metadata": {},
     "outputs": []
    },
    {
     "cell_type": "markdown",
     "metadata": {},
     "source": [
      "We use [me8t8.cif](files/3x3x3/preparing/me8t8.cif) in **mercury** to create a 3x3x3 lattice, which we save as [me8t8_3x3x3_raw.pdb](files/3x3x3/preparing/me8t8_3x3x3_raw.pdb). We need to do certain transformations:\n",
      "<ul>\n",
      "    <li>replace the name of the residue UNK with N11 in the file</li>\n",
      "    <li>replace 'HETATM' with 'ATOM '</li>\n",
      "    <li>put a 'TER' after each molecule, and update the residue number</li>\n",
      "    <li>There are 8 extra atoms at the end of each molecule that must be removed</li>\n",
      "</ul>"
     ]
    },
    {
     "cell_type": "code",
     "collapsed": false,
     "input": [
      "amberorder=['C1', 'H1', 'H2', 'H3', 'C2', 'H4', 'H5', 'H6', 'C3', 'H7', 'H8', 'H9', 'C4', 'H10', 'H11', 'H12', 'C5', 'H13', 'H14', 'H15', 'C6', 'H16', 'H17', 'H18', 'C7', 'H19', 'H20', 'H21', 'C8', 'H22', 'H23', 'H24', 'O1', 'Si1', 'O2', 'Si2', 'O3', 'Si3', 'O4', 'Si4', 'O5', 'O6', 'Si5', 'Si6', 'O7', 'Si7', 'O8', 'Si8', 'O9', 'O10', 'O11', 'O12'] # order of the atoms in residue N11\n",
      "buffer=''; ires=1; iatom=0; natom=52; atom_lines={}; extra_lines=8\n",
      "pfile=open('3x3x3/me8t8_3x3x3_raw.pdb')\n",
      "line=pfile.readline()\n",
      "while line:\n",
      "    if line[:6]=='HETATM':\n",
      "        iatom+=1;  atom_name=line[12:16].strip();  line=line.replace('HETATM','ATOM  ');  line=line.replace('UNK','N11')\n",
      "        line=line[:23]+'%3d'%ires+line[26:]   #update residue number in file\n",
      "        atom_lines[atom_name]=line\n",
      "        if iatom==52:\n",
      "            iatom=0;  ix=(ires-1)*natom\n",
      "            for name in amberorder:\n",
      "                ix+=1;  xline=atom_lines[name];  xline=xline[:7]+'%4d'%ix+xline[11:]   #update atom number in file\n",
      "                buffer+=xline\n",
      "            buffer+='TER\\n'\n",
      "            ires+=1;  atom_lines={}  # let's empty it for good measure\n",
      "            for i in range(extra_lines): pfile.readline() # read extra useless atom lines\n",
      "    elif line[:6] in ('CONECT', 'MASTER'):  pass\n",
      "    else:  buffer+=line\n",
      "    line=pfile.readline()\n",
      "open('3x3x3/me8t8_3x3x3.pdb','w').write(buffer)"
     ],
     "language": "python",
     "metadata": {},
     "outputs": []
    },
    {
     "cell_type": "markdown",
     "metadata": {},
     "source": [
      "File [me8t8_3x3x3.pdb](files/3x3x3/preparing/me8t8_3x3x3.pdb) is output, which we use to generate amber topology and coordinate files. In <i>$PROJD/3x3x3/OriginalFF/</i><br/>\n",
      "<font face=\"courier new\">tleap -f tleap.in > tleap.out  #produces crystal.prmtop (crd, pdb)</font>\n",
      "We edited file crystal.crd and substituted last line (box information) with the parameters for the cell periodic boundary conditions:<br/>\n",
      "Start: <font face=\"courier new\">58.4040000  42.5710000  49.8610000  90.0000000  90.0000000  90.0000000</font><br/>\n",
      "End:  <font face=\"courier new\">37.5477000  37.5477000  39.3420000  90.0000000  90.0000000 120.0000000</font><br/>\n",
      "File crystal.prmtop has box information but it is ignored since box information is read from crystal.crd.<br/>\n",
      "Perform AMBER minimization:\n",
      "<font face=\"courier new\">sander -O -i min0.in -p crystal.prmtop -c crystal.crd  -x min0.mdcrd -e min0.mdend -r min0.restrt -o min0.mdout</font><br/>"
     ]
    },
    {
     "cell_type": "markdown",
     "metadata": {},
     "source": [
      "<h3>Crystal simulation with original Force-Field</h3>\n",
      "We use Titan. <i>TEMPD=/tmp/work/jmborr/me8t8.v2/3x3x3/OriginalFF/T200K</i> and <i>PROJD=/ccs/home/jmborr/mat049/jbq/me8t8.v2/3x3x3/OriginalFF/T200K</i><br/>\n",
      "Equilibrium eq0 is 1n in the NVT ensemble. Production run0 is 10ns in the NVE ensemble divided into 2ns chunks, run0.0 to run0.4.<br/>\n",
      "We merge all run0.?.mdcrd trajectories onto run0.mdcrd. We checked by RMS to previous structure that consecutive chunks do not show shudden changes in RMS:<br/>\n",
      "<font face=\"courier new\">ptraj  crystal.prmtop < ptraj_run0_rms2prev.in > ptraj_run0_rms2prev.out #produces run0_rms2prev.dat</font><br/>\n",
      "<b>Important:</b> when creating run0_rms2first.dcd by loading run0_rms2first.mdcrd into vmd and then saving as dcd, two extra snaphosts were produced!. To remedy this problem, I had to create an intermediate dcd file with ptraj, then load this dcd file into vmd and then overwrite it."
     ]
    },
    {
     "cell_type": "code",
     "collapsed": false,
     "input": [
      "workdir='/projects/research/POSS/me8t8.v2'\n",
      "LoadSassena( Filename=workdir+'/3x3x3/OriginalFF/T200K/fqt_inc_run0_rms2first.h5', OutputWorkspace='simulation', TimeUnit=1.0 )\n",
      "Rebin(InputWorkspace='simulation_fqt.Re',  OutputWorkspace='simulation_fqt.Re', Params='-5000,1,5000')  #remove the tails with low statistical confidence\n",
      "SassenaFFT( InputWorkspace='simulation', FFTonlyRealPart=1, DetailedBalance=1, Temp=200.0 )\n",
      "LoadNexus(Filename=workdir+'/expdata/elastic.nxs',  OutputWorkspace='elastic' )\n",
      "LoadNexus(Filename=workdir+'/expdata/exp200K.nxs',  OutputWorkspace='exp200K' )\n",
      "fitstr = 'name=TabulatedFunction,Workspace=elastic,WorkspaceIndex=8,Scaling=1;(composite=Convolution,FixResolution=true,NumDeriv=true;name=TabulatedFunction,Workspace=elastic,WorkspaceIndex=8,Scaling=1;name=TabulatedFunction,Workspace=simulation_sqw,WorkspaceIndex=8,Scaling=1e-07)'\n",
      "Fit(fitstr, InputWorkspace='exp200K', WorkspaceIndex=8, CreateOutput=1, StartX=-0.13, EndX=0.1 )"
     ],
     "language": "python",
     "metadata": {},
     "outputs": []
    },
    {
     "cell_type": "markdown",
     "metadata": {},
     "source": [
      "The fit is moderately correct (Chi2~13). From the figure it is estimated that the original force-field (K=0.11) leads to less diffisivity than experiments since for energies ~ 0.1meV (times ~50ps). Thus, we will do a parameters search as we did with the single molecule case.\n",
      "<center>\n",
      "<a href=\"files/3x3x3/OriginalFF/T200K/fitted.jpeg\"><img src=\"files/3x3x3/OriginalFF/T200K/fitted.jpeg\" width=\"100\" height=\"100\" alt=\"fitted.jpeg\"></a> <br/>\n",
      "    <i>fitted.jpeg</i>\n",
      "</center>"
     ]
    },
    {
     "cell_type": "markdown",
     "metadata": {},
     "source": [
      "<h3>Dihedral Barrier (K) Search for the 3x3x3 crystal at T=200K</h3>\n",
      "\n",
      "<center>\n",
      "<a href=\"files/3x3x3/T200_Ksearch/K0.040/poss.gif\"><img src=\"files/3x3x3/T200_Ksearch/K0.040/poss.gif\" width=\"200\" height=\"300\" alt=\"poss.gif\"></a> <br/>\n",
      "    <i>3x3x3/T200_Ksearch/K0.040/poss.gif</i>\n",
      "</center>\n",
      "Instructuctions for the movie:<br/>\n",
      "The movie maker plugin in vmd allowed us to make an animated GIF (VMD\u2192Extensions\u2192Visualization\u2192Movie Maker). Set the workding directory first. There were several nuances with the plugin.\n",
      "<ul>\n",
      " <li>There were too many snaphsots. We removed most of the frames (vmd> animate delete beg 100 end 9999 molecule 0) since there are enough methyl rotations in the first 0.5ns.</li>\n",
      " <li>Set working directory to /tmp, Set Name of movie to \u2018poss', Renderer\u2192snapshot, Movie Settings\u2192trajectory, Format\u2192Animated Gif</li>\n",
      "    <li><b>Notice</b>: the plugin dumps one image per snapshot to /tmp, then calls the Linux command convert as <i>convert \u2013delay 4.7 \u2013loop 4 /tmp/poss.*.ppm /tmp/me8t8.gif</i>. The delay and loop options are not desirable so I stopped the conversion process and retyped the command in a terminal but without the aforementioned options. You can tell when the plugin is doing the conversion because the command is printed to the vmd> console</li>   \n",
      "</ul>\n",
      "In <i>$PROJD/3x3x3/T200_Ksearch/</i> vary K from 0.04 to 0.10, and for each value recreate a force-field and submit simulations.<br/>"
     ]
    },
    {
     "cell_type": "code",
     "collapsed": false,
     "input": [
      "#CREATE force fields and initial simulation files, submit minimzation\n",
      "PROJD=/projects/research/POSS/me8t8.v2/3x3x3/T200_Ksearch\n",
      "for X in 0.04 0.05 0.06 0.07 0.08 0.09 0.1;do\n",
      "  cd $PROJD;  K=`printf \"%4.3f\" $X`;  mkdir -p K$K;  /bin/cp me8t8_original.frcmod me8t8.frcmod\n",
      "  perl -p -i -e \"s/HC-CT-SI-OS     1    0.111/HC-CT-SI-OS     1    $K/g\" me8t8.frcmod\n",
      "  tleap -f tleap.in > tleap.out #creates crystal.prmtop, crystal.mdcrd, crystal.pdb\n",
      "  mv me8t8.frcmod crystal.* K$K/\n",
      "  cd K$K/;  ln -s ../min0.in\n",
      "  sander -O -i min0.in -p crystal.prmtop -c crystal.crd -x min0.mdcrd -e min0.mdend -r min0.restrt -o min0.mdout &\n",
      "done"
     ],
     "language": "python",
     "metadata": {},
     "outputs": []
    },
    {
     "cell_type": "markdown",
     "metadata": {},
     "source": [
      "We run equilibrium and production simulations in Titan  <i>PROJD=/lustre/widow1/proj/mat049/jbq/me8t8.v2/3x3x3/T200_Ksearch</i> and <i>TEMPD=/tmp/work/jmborr/me8t8.v2/3x3x3/T200_Ksearch</i>. We submit with dependencies on the previous job"
     ]
    },
    {
     "cell_type": "code",
     "collapsed": false,
     "input": [
      "# TITAN simulation submission\n",
      "for X in 0.04 0.05 0.06 0.07 0.08 0.09 0.1;do\n",
      "  K=`printf \"%4.3f\" $X`;  cd $PROJD/K$K\n",
      "  FIRST=`qsub eq0.sub`\n",
      "  SECOND=`qsub -W depend=afterok:$FIRST run0.0.sub`\n",
      "  THIRD=`qsub -W depend=afterok:$SECOND run0.1.sub`\n",
      "  FOURTH=`qsub -W depend=afterok:$THIRD run0.2.sub`\n",
      "  FITH=`qsub -W depend=afterok:$FOURTH  run0.3.sub`\n",
      "  SIXTH=`qsub -W depend=afterok:$FITH  run0.4.sub`\n",
      "done"
     ],
     "language": "python",
     "metadata": {},
     "outputs": []
    },
    {
     "cell_type": "markdown",
     "metadata": {},
     "source": [
      "After running the simulation and having done Sassena simulations in <i>Chadwick:/data/jbq/projects/research/POSS/me8t8.v2/3x3x3/T200_Ksearch/junk.tar</i>,  we fit to experiments in MantidPlot"
     ]
    },
    {
     "cell_type": "code",
     "collapsed": false,
     "input": [
      "#MANTIDPLOT script to fit simulation to data for the last spectrum, workspace index 8 Q=1.9A^(-1)\n",
      "expdir='/projects/research/POSS/me8t8.v2/expdata'\n",
      "LoadNexus(Filename=expdir+'/elastic.nxs',  OutputWorkspace='elastic' )\n",
      "LoadNexus(Filename=expdir+'/exp200K.nxs',  OutputWorkspace='exp200K' )\n",
      "for K in '0.040 0.050 0.060 0.070 0.080 0.090 0.100 0.110'.split():\n",
      "\tsimdir='/projects/research/POSS/me8t8.v2/3x3x3/T200_Ksearch/K{0}'.format(K)\n",
      "\tLoadSassena( Filename=simdir+'/fqt_inc_run0_rms2first.h5', OutputWorkspace='simulation', TimeUnit=1.0 )\n",
      "\tRebin(InputWorkspace='simulation_fqt.Re',  OutputWorkspace='simulation_fqt.Re', Params='-5000,1,5000')  #remove the tails with low statistical confidence\n",
      "\tSassenaFFT( InputWorkspace='simulation', FFTonlyRealPart=1, DetailedBalance=1, Temp=200.0 )\n",
      "\tfitstr = 'name=TabulatedFunction,Workspace=elastic,WorkspaceIndex=8,Scaling=1;(composite=Convolution,FixResolution=true,NumDeriv=true;name=TabulatedFunction,Workspace=elastic,WorkspaceIndex=8,Scaling=1;name=TabulatedFunction,Workspace=simulation_sqw,WorkspaceIndex=8,Scaling=1e-07);name=LinearBackground,A0=0,A1=0'\n",
      "\tFit(fitstr, InputWorkspace='exp200K', WorkspaceIndex=8, CreateOutput=1, OutputCompositeMembers=1, StartX=-0.13, EndX=0.1 )\n",
      "\tfor suffix in ( 'Workspace', 'Parameters', 'NormalisedCovarianceMatrix' ):\n",
      "\t\tRenameWorkspace( InputWorkspace='exp200K_{0}'.format( suffix ), OutputWorkspace='exp200K_K{0}_{1}'.format( K, suffix ) )\n",
      "\tDeleteWorkspace( 'simulation' )"
     ],
     "language": "python",
     "metadata": {},
     "outputs": []
    },
    {
     "cell_type": "markdown",
     "metadata": {},
     "source": [
      "We calculate the convolution of each simulated structure factor with the experimental resolution, and rescale"
     ]
    },
    {
     "cell_type": "code",
     "collapsed": false,
     "input": [
      "#MANTIDPLOT script to convolve the simulated spectrum with the resolution\n",
      "expdir='/projects/research/POSS/me8t8.v2/expdata'\n",
      "LoadNexus(Filename=expdir+'/elastic.nxs',  OutputWorkspace='elastic')\n",
      "for K in '0.040 0.050 0.060 0.070 0.080 0.090 0.100 0.101 0.102 0.103 0.104 0.105 0.106 0.107 0.108 0.109 0.110 0.111 0.112 0.113 0.114 0.115 0.116 0.117 0.118 0.120'.split():\n",
      "\tsimdir='/projects/research/POSS/me8t8.v2/3x3x3/T200_Ksearch/K{0}'.format(K)\n",
      "\tLoadSassena( Filename=simdir+'/fqt_inc_run0_rms2first.h5', OutputWorkspace='simulation', TimeUnit=1.0 )\n",
      "\tRebin(InputWorkspace='simulation_fqt.Re',  OutputWorkspace='simulation_fqt.Re', Params='-5000,1,5000')  #remove the tails with low statistical confidence\n",
      "\tSassenaFFT( InputWorkspace='simulation', FFTonlyRealPart=1, DetailedBalance=1, Temp=200.0)\n",
      "\t# Convolve one histogram at a time and append to the convolved workspace\n",
      "\tfor iQ in range(8):\n",
      "\t\tfitstr = '(composite=Convolution,FixResolution=true,NumDeriv=true;name=TabulatedFunction,Workspace=elastic,WorkspaceIndex={0},Scaling=1;name=TabulatedFunction,Workspace=simulation_sqw,WorkspaceIndex={0},Scaling=1e-07)'.format(iQ,iQ)\n",
      "\t\tFit(fitstr, MaxIterations=0, InputWorkspace='elastic', WorkspaceIndex=0, CreateOutput=1, StartX=-0.13, EndX=0.1)\n",
      "\t\tExtractSingleSpectrum(InputWorkspace='elastic_Workspace', WorkspaceIndex=1, OutputWorkspace='conv_hist')\n",
      "\t\tif iQ==0:\n",
      "\t\t\tRenameWorkspace(InputWorkspace='conv_hist', OutputWorkspace='convolved')\n",
      "\t\telse:\n",
      "\t\t\tAppendSpectra(InputWorkspace1='convolved', InputWorkspace2='conv_hist', OutputWorkspace='convolved')\n",
      "\tSaveNexus(InputWorkspace='convolved', Filename=simdir+'/convolved.nxs')\n",
      "\tDeleteWorkspace(Workspace='simulation')"
     ],
     "language": "python",
     "metadata": {},
     "outputs": []
    },
    {
     "cell_type": "markdown",
     "metadata": {},
     "source": [
      "The initial parameter search throws an optimal K in the [0.10, 0.12] range (see picture below).\n",
      "<center>\n",
      "<a href=\"files/3x3x3/T200_Ksearch/compate_two_K.jpeg\"><img src=\"files/3x3x3/T200_Ksearch/compate_two_K.jpeg\" width=\"100\" height=\"100\" alt=\"compate_two_K.jpeg\"></a> <br/>\n",
      "    <i>3x3x3/T200_Ksearch/compate_two_K.jpeg</i>\n",
      "</center>\n",
      "Thus, we submit more simulations within this range (series 0.100 0.101 0.102 0.103 0.104 0.105 0.106 0.107 0.108 0.109 0.110 0.111 0.112 0.113 0.114 0.115 0.116 0.117 0.118 0.120). Again we: (i) produce the force-field and minimize in the local computer; (ii) submit equilibration and production runs in Titan; (iii) Sassena runs in Chadwick; (iv) Fit in MantidPlot again in the local computer.\n",
      "\n",
      "After producing simulations with K in the [0.100, 0.120] range, we obtain I(Q,t) and perform the same fits as before using MantidPlot. We save them as Mantid project [fits_K0.100_0.120.mantid](files/3x3x3/T200_Ksearch/fits_K0.100_0.120/fits_K0.100_0.120.mantid)."
     ]
    },
    {
     "cell_type": "code",
     "collapsed": false,
     "input": [
      "''' we know the order of the parameters in the *_Parameters workspaces:\n",
      "Example:\n",
      "             Name         Value       Error\n",
      "   f0.Scaling\t        0.298252\t0.000877252\n",
      "   f1.Scaling\t        0.00427234\t1.12765e-05\n",
      "   f2.A0\t            8.3584e-05\t2.60375e-05\n",
      "   f2.A1\t            0.0018324\t7.02565e-05\n",
      "   Cost function value\t1.6314\t    0\n",
      "'''\n",
      "buffer = '# K       A       Error      B      Error    intercept    Error     slope     Error     Chi2     Error\\n'\n",
      "for K in '0.100 0.101 0.102 0.103 0.104 0.105 0.106 0.107 0.108 0.109 0.110 0.111 0.112 0.113 0.114 0.115 0.116 0.117 0.118 0.120'.split():\n",
      "    ws = mtd[ 'exp200K_K{0}_Parameters'.format( K ) ]\n",
      "    buffer += ' {0}'.format( K )\n",
      "    nrows = ws.rowCount()\n",
      "    for irow in range( nrows ):\n",
      "        if irow==1: continue  # Skip the parameter of the resolution, which is fixed to one\n",
      "        row = ws.row( irow )\n",
      "        buffer += ' {0:5.3e} {1:5.3e}'.format( row['Value'], row['Error'] )\n",
      "    buffer += '\\n'\n",
      "open( '/projects/research/POSS/me8t8.v2/3x3x3/T200_Ksearch/fits_K0.100_0.110/parameters.dat', 'w' ).write( buffer )"
     ],
     "language": "python",
     "metadata": {},
     "outputs": []
    },
    {
     "cell_type": "markdown",
     "metadata": {},
     "source": [
      "<h3>Interpolation of structure factors</h3>\n",
      "We use DSFinterp from Mantid in order to derive interpolated structure factors.<br/>\n",
      "In directory [3x3x3/T200_Ksearch/dsfinterp/](files/3x3x3/T200_Ksearch/dsfinterp), script [DSFinterpTest.py](files/3x3x3/T200_Ksearch/dsfinterp/DSFinterpTest.py) interpolates the structrure factors simK$K.nxs with $K being the barriers for which we did simulations. These files are the result of convolving the simulated structure factors derived from Sassena with the experimental elastic line.<br/>\n",
      "We interpolate to values of K in the range [0.04,0.12] every 0.005Kcal/mol. The script [DSFinterpTest.py](files/3x3x3/T200_Ksearch/dsfinterp/DSFinterpTest.py) also does a 3D plot of S(E,K|Q=0.9).\n",
      "\n",
      "<center>\n",
      "<a href=\"files/3x3x3/T200_Ksearch/dsfinterp/poss_sqe.png\"><img src=\"files/3x3x3/T200_Ksearch/dsfinterp/poss_sqe.png\" width=\"300\" height=\"300\" alt=\"poss_sqe.png\"></a> <br/>\n",
      "    <i>3x3x3/T200_Ksearch/dsfinterp/poss_sqe.png</i>\n",
      "</center>"
     ]
    },
    {
     "cell_type": "markdown",
     "metadata": {},
     "source": [
      "<h3>Superposition of single molecule structure factors</h3>\n",
      "We can neglect whole translations of the center of mass of each molecule in the crystal by extracting one trajectory per molecule, then do RMS to first structure. If we then superimpose all the 81 different I(Q,t) obtained in such way, we hope to improve the long-time tail. In <i>$PROJD/3x3x3/OriginalFF/T200K/SingleMolecule</i>:"
     ]
    },
    {
     "cell_type": "code",
     "collapsed": false,
     "input": [
      "#EXTRACT single POSS trajectories, rms2first, and DCD format\n",
      "for ip in `seq 1 81`;do\n",
      "  /bin/cp ptraj_run0_IPOSS_rms2first_template.in ptraj_run0_IPOSS_rms2first.in\n",
      "  perl -p -i -e \"s/_IPOSS_/$ip/g\" ptraj_run0_IPOSS_rms2first.in\n",
      "  ptraj crystal.prmtop < ptraj_run0_IPOSS_rms2first.in > ptraj_run0_IPOSS_rms2first.out #produces junk.dcd, containing only one POSS molecule\n",
      "  vmd -dispdev text -e vmd_amber2dcd_run0_IPOSS_rms2first.tcl #produces junk.v2.dcd\n",
      "  x=`printf %02d $ip`;  /bin/mv junk.v2.dcd SingleMolecule/run0_POSS${x}_rms2first.dcd;  /bin/rm junk.dcd # produces run0_POSS${x}_rms2first.dcd \n",
      "done"
     ],
     "language": "python",
     "metadata": {},
     "outputs": []
    },
    {
     "cell_type": "markdown",
     "metadata": {},
     "source": [
      "Now in chadwick we submit a Sassena simulation for each single molecule trajectory. In <i>chadwick:/data/jbq/projects/research/POSS/me8t8.v2/OriginalFF/T200K/SingleMolecule/</i>"
     ]
    },
    {
     "cell_type": "code",
     "collapsed": false,
     "input": [
      "#SUBMISSION Sassena scripts for single POSS trajectories\n",
      "for ip in `seq 1 81`;do\n",
      "  x=`printf %02d $ip`\n",
      "  /bin/cp sassena_inc_run0_POSS_rms2first_template.xml sassena_inc_run0_POSS${x}_rms2first.xml\n",
      "  perl -p -i -e \"s/_IPOSS_/$x/g\" sassena_inc_run0_POSS${x}_rms2first.xml\n",
      "  /bin/cp sassena_inc_run0_POSS_rms2first_template.pbs sassena_inc_run0_POSS${x}_rms2first.pbs\n",
      "  perl -p -i -e \"s/_IPOSS_/$x/g\" sassena_inc_run0_POSS${x}_rms2first.pbs\n",
      "  qsub -l naccesspolicy=shared sassena_inc_run0_POSS${x}_rms2first.pbs;  sleep 2s\n",
      "done"
     ],
     "language": "python",
     "metadata": {},
     "outputs": []
    },
    {
     "cell_type": "markdown",
     "metadata": {},
     "source": [
      "I(Q,t) averaged over all individual molecules averages out the undulations observed in the I(Q,t) of each molecule:\n",
      "<center>\n",
      "<a href=\"files/3x3x3/OriginalFF/T200K/SingleMolecule/average.jpeg\"><img src=\"files/3x3x3/OriginalFF/T200K/SingleMolecule/average.jpeg\" width=\"100\" height=\"100\" alt=\"average.jpeg\"></a> <br/>\n",
      "    <i>average.jpeg</i>\n",
      "</center>"
     ]
    },
    {
     "cell_type": "code",
     "collapsed": false,
     "input": [
      "workdir='/projects/research/POSS/me8t8.v2'\n",
      "for ip in range(1, 82): \n",
      "\tLoadSassena( Filename=workdir+'/3x3x3/OriginalFF/T200K/SingleMolecule/fqt_inc_run0_POSS{0:02d}_rms2first.h5'.format(ip), OutputWorkspace='simulation{0:02d}'.format(ip), TimeUnit=1.0 )\n",
      "w01=mtd['simulation01_fqt.Re']\n",
      "\n",
      "for ip in range(2, 82):\n",
      "\tw = mtd['simulation{0:02d}_fqt.Re'.format(ip)]\n",
      "\tw01 += w\n",
      "w01 /= 81.0"
     ],
     "language": "python",
     "metadata": {},
     "outputs": []
    },
    {
     "cell_type": "markdown",
     "metadata": {},
     "source": [
      "Comparison between I(Q,t) containing the CM motions of each molecule and the I(Q,t) averaged over each molecule after CM removal yields a shift along the Y-axis. \n",
      "<center>\n",
      "<a href=\"files/3x3x3/OriginalFF/T200K/SingleMolecule/compare.jpeg\"><img src=\"files/3x3x3/OriginalFF/T200K/SingleMolecule/compare.jpeg\" width=\"100\" height=\"100\" alt=\"compare.jpeg\"></a> <br/>\n",
      "    <i>compare.jpeg</i>\n",
      "</center>\n",
      "If we assume uncorrelated motions of the CM and internal motions within each molecule, we write $I = I_{CM} \\cdot  I_{POSS} $<br/>\n",
      "$I_CM$ is a decaying function in the 0-100ps time-scale, followed by levelling off. This indicates fast but caged diffusion, the analogous of diffussion within a sphere.<br/>\n",
      "\n",
      "$I_{CM} = A_{0,0}(QR) + \\sum_{n,l} (2l+1) A_{n,l}(QR) e^{-tDx_{n,l}/R^2} $. Thus $\\lim_{t \\to \\infty} I = A_{0,0}(Qr) \\cdot \\lim_{x \\to \\infty} I_{POSS} $ <br/>\n",
      "\n",
      "Fitting the average single-molecule structure factor to the data results in a very similar fit to the one obtained without removing the CM motions of the molecules. It still shows we have to decrease the dihedral barrier.\n",
      "<center>\n",
      "<a href=\"files/3x3x3/OriginalFF/T200K/SingleMolecule/fitted.jpeg\"><img src=\"files/3x3x3/OriginalFF/T200K/SingleMolecule/fitted.jpeg\" width=\"100\" height=\"100\" alt=\"fitted.jpeg\"></a> <br/>\n",
      "    <i>fitted.jpeg</i>\n",
      "</center>"
     ]
    }
   ],
   "metadata": {}
  }
 ]
}