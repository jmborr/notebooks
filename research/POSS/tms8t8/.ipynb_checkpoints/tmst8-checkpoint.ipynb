{
 "metadata": {
  "name": "",
  "signature": "sha256:839cee29b0fa9119f19c8bc04e14b39d78f60c39927acfbe7c9f0a4a8ee84b77"
 },
 "nbformat": 3,
 "nbformat_minor": 0,
 "worksheets": [
  {
   "cells": [
    {
     "cell_type": "markdown",
     "metadata": {},
     "source": [
      "<h1>Octa Trimethylsiloxy Silsesquixane</h1>\n",
      "<a id='Table of Contents'></a><h3>Table of Contents</h3>\n",
      "<a href='#Syntax'>HTML and MARKDOWN SYNTAX EXAMPLES ; </a></br>\n",
      "<a href='#IIC'>Info from the Industrial Catalog ; </a></br>\n",
      "<a href='#FCSDB'>Files From the Cambridge Structural Database ; </a></br>\n",
      "\n",
      "<a href='#SingleMolecule'>Single Molecule ; </a></br>\n",
      "\n",
      "* <a href='#CISMS'>Create Initial Structure in Materials Studio ; </a></br>\n",
      "* <a href='#SMS'>Simulations in Materials Studio ; </a></br>\n",
      "* <a href='#RGTR'>Removal of Global Translations and Rotations ; </a></br>\n",
      "* <a href='#CD'>Calculation of Dihedrals ; </a></br>\n",
      "* <a href='#DAF'>Dihedral Autocorrelation Functions ; </a></br>\n",
      "* <a href='#CAE'>Calculation of Activation Energies ; </a></br>\n",
      "* <a href='#CSFS'>Calculation Intermediate Structure Factors with Sassena ; </a></br>\n",
      "* <a href='#CES'>Calculation of elastic scans ; </a></br>\n",
      "\n",
      "<a href='#PS'>Presentations ; </a></br>\n"
     ]
    },
    {
     "cell_type": "markdown",
     "metadata": {},
     "source": [
      "(<a href='#Table of Contents'>Top</a>)<a id='Syntax'></a><h3>Syntax Examples</h3>\n",
      "Extensive documentation on markdown syntax  <a href=\"http://daringfireball.net/projects/markdown/syntax\">here</a></br>\n",
      "local link: [link](files/link)</br>\n",
      "remote link: <a href=\"http://ambermd.org/\">http://ambermd.org</a>\n",
      "<font face=\"courier new\"> font face=\"courier new\" </font><br/>\n",
      "$$S_{model}(Q,E)=A(Q)\\cdot S_{elastic}(E) + B(Q)\\cdot S_{simulation}(Q,E)\\otimes S_{elastic}(E) + C(Q)+D(Q)\\cdot E$$\n",
      "<pre> Quoted text </pre>\n",
      "<center><table><tr>\n",
      "<td><a href=\"files/image.png\"><img src=\"files/image.png\" width=\"300\" height=\"250\" alt=\"image here\"></a> <br/>\n",
      "    <i>image caption</i></td>\n",
      "<td>some text</td>\n",
      "</tr></table></center>"
     ]
    },
    {
     "cell_type": "markdown",
     "metadata": {},
     "source": [
      "(<a href='#Table of Contents'>Top</a>)<a id='IIC'></a><h3>Info from the Industrial Catalog</h3>\n",
      "<h3>Catalog ID</h3>\n",
      "<b>MS0825</b> from Hybrid Plastic catalog ([POSS_catalog_2014.pdf](files/docs/POSS_catalog_2014.pdf))</br>\n",
      "<a href=\"files/octaIsobutyl.png\"><img src=\"files/octaIsobutyl.png\" alt=\"octaIsobutyl\"></a></br>"
     ]
    },
    {
     "cell_type": "markdown",
     "metadata": {},
     "source": [
      "(<a href='#Table of Contents'>Top</a>)<a id='FCSDB'></a><h3>Files From the Cambridge Structural Database</h3>\n",
      "The isobutyl POSS entry identifier in the Cambridge Structural Database is EKAGUS01. I downloaded files <i>EKAGUS01.cif</i>  <i>EKAGUS01.mol2</i> from the database. To get them:\n",
      "\n",
      "* Go to https://neutronsr.us/portal/\n",
      "\n",
      "* Applications --> Linux\n",
      "\n",
      "* In the menu, click in \"Cambridge SD\"\n",
      "\n",
      "* Perform a \"text/numeric\" search with the two words \"isobutyl\" and \"silsesquioxane\" to be searched in the \"compound name\". Enter the two words separated, entered one at a time and then pressing the \"add to list\"\n"
     ]
    },
    {
     "cell_type": "markdown",
     "metadata": {},
     "source": [
      "(<a href='#Table of Contents'>Top</a>)<a id='SingleMolecule'></a><h2>Single Molecule</h2>\n",
      "<center><table><tr>\n",
      "    <td><a href=\"files/ibu8t8.png\"><img src=\"files/ibu8t8.png\" width=\"200\" height=\"250\" alt=\"ibu8t8.png\"></a> <br/>\n",
      "    <i>ibu8t8.png</i></td>\n",
      "</tr></table></center>"
     ]
    },
    {
     "cell_type": "markdown",
     "metadata": {},
     "source": [
      "(<a href='#Table of Contents'>Top</a>)<a id='CISMS'></a><h3>Create Initial Structure in Materials Studio</h3>\n",
      "\n",
      "* Import the structure EKAGUS01.mol2 that we downloaded from the cambridge structural database and rename as <i>ibu8t8(.xsd)</i>.\n",
      "* Perform minimization with Forcite and force-field pcff, minimized structure named as <i>ibu8t8.xsd</i> within directory <i>minimization</i>.\n",
      "Resulting minimized structure is ipr8t8.xsd, in subdirectory <i>\"MateriaslStudio/ibu8t8_Files/Documents/mimimization/ibu8t8.xsd\"</i>\n"
     ]
    },
    {
     "cell_type": "markdown",
     "metadata": {},
     "source": [
      "(<a href='#Table of Contents'>Top</a>)<a id='SMS'></a><h3>Simulations in Materials Studio</h3>\n",
      "The system is so small that we carry out the simulations in the virtual Windows machine with Materials Studio.\n",
      "* Single molecule simulations.\n",
      "* Not neccessary to carry out equilibration to each temperature.\n",
      "* Production runs are 10ns with frames every 1ps, for a total of 10000 frames per simulation.\n",
      "* Runs carried out with Forcite and the pcff force-field.\n",
      "For example, trajectory ipr8t8.xtd under subdirectory <i>\"MateriaslStudio/ibu8t8_Files/Documents/mimimization/310K/\"</i>"
     ]
    },
    {
     "cell_type": "markdown",
     "metadata": {},
     "source": [
      "(<a href='#Table of Contents'>Top</a>)<a id='RGTR'></a><h3>Removal of Global Translations and Rotations</h3>\n"
     ]
    },
    {
     "cell_type": "markdown",
     "metadata": {},
     "source": [
      "(<a href='#Table of Contents'>Top</a>)<a id='CD'></a><h3>Calculation of Dihedrals</h3>\n"
     ]
    },
    {
     "cell_type": "markdown",
     "metadata": {},
     "source": [
      "(<a href='#Table of Contents'>Top</a>)<a id='DAF'></a><h3>Dihedral Autocorrelation Functions</h3>\n"
     ]
    },
    {
     "cell_type": "markdown",
     "metadata": {},
     "source": [
      "(<a href='#Table of Contents'>Top</a>)<a id='CAE'></a><h3>Calculation of Activation Energies</h3>\n"
     ]
    },
    {
     "cell_type": "markdown",
     "metadata": {},
     "source": [
      "(<a href='#Table of Contents'>Top</a>)<a id='CSFS'></a><h3>Calculation Intermediate Structure Factors with Sassena</h3>\n"
     ]
    },
    {
     "cell_type": "markdown",
     "metadata": {},
     "source": [
      "(<a href='#Table of Contents'>Top</a>)<a id='EISF'></a><h3>Calculation of elastic scans</h3>\n",
      "\n"
     ]
    },
    {
     "cell_type": "markdown",
     "metadata": {},
     "source": [
      "(<a href='#Table of Contents'>Top</a>)<a id='PS'></a><h3>Presentations</h3>\n",
      "Private presentations for collaborators and public presentations.\n",
      "\n",
      "- <a href=\"\">Title for the dropbox link </a>, Sep 15 2014.\n",
      "\n"
     ]
    },
    {
     "cell_type": "markdown",
     "metadata": {},
     "source": [
      "(<a href='#Table of Contents'>Top</a>)<a id='NS'></a><h3>New Section</h3>\n"
     ]
    },
    {
     "cell_type": "markdown",
     "metadata": {},
     "source": [
      "(<a href='#Table of Contents'>Top</a>)<a id='NS'></a><h3>New Section</h3>\n"
     ]
    }
   ],
   "metadata": {}
  }
 ]
}