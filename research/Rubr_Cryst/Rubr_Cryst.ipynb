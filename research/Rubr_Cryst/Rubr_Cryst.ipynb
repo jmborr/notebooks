{
 "metadata": {
  "name": "",
  "signature": "sha256:61c0fbfd656da0101a745e69b0bd7a5f1e2631a7f05f20bfd277773d1996e736"
 },
 "nbformat": 3,
 "nbformat_minor": 0,
 "worksheets": [
  {
   "cells": [
    {
     "cell_type": "markdown",
     "metadata": {},
     "source": [
      "<h1>Rubr_Cryst</h1>\n",
      "<a id='Table of Contents'></a><h3>Table of Contents</h3>\n",
      "<a href='#Syntax'>HTML and MARKDOWN SYNTAX EXAMPLES</a></br>\n",
      "<a href='#people'>People involved in the project</a></br>\n",
      "<a href='#expstr'>Experimental data</a></br>\n",
      "<h4><a href='#tyrosines'>Tyr10 and Tyr12</a></h4>\n",
      "\n",
      "* <a href='#Serialize'>Serialize trajectory into single unsolvated protein</a></br>\n",
      "* <a href='#tyrosine'>Visualizing the conformational space of the two tyrosines</a></br>\n",
      "* <a href='#waterTyr10'>Water molecule linked to TYR10</a></br>\n",
      "\n",
      "<h4><a href='#hbond'>Hydrogen bond analysis</a></h4>\n",
      "\n",
      "* <a href='#occupancies'>Occupancies analysis</a></br>\n",
      "* <a href='#firtOccurrence'>First-occurrence snapshopt for highest occupancy bonds</a></br>\n",
      "* <a href='#createParm'>Create topology and reference files for one rubredoxin plus one water molecule</a></br>\n",
      "* <a href='#alignWAT'>Align water from first-occurrence snapshopt for highest occupancy to reference</a></br>\n",
      "\n",
      "<h4><a href='#maps'>Density maps</a></h4>\n",
      "\n",
      "* <a href='#dmaps'>Calculating electron density maps with cpptraj</a></br>\n",
      "* <a href='#serial'>Serialize trajectory</a></br>\n",
      "* <a href='#HOdens'>Hydrogen and Oxygen densities</a></br>\n",
      "* <a href='#HOdensRubr1'>Serialize and calculate H and O densities for only the first rubredoxin</a></br>\n",
      "\n",
      "<h4><a href='#densmap2ref'>Density maps to experimental reference structure</a></h4>\n",
      "\n",
      "* <a href='#densmap2ref.transStruct'>Translate structure to AMBER format</a></br>\n",
      "* <a href='#densmap2ref.rmsNO'>Extract structures by rms N O to experimental reference</a></br>\n",
      "* <a href='#densmap2ref.HOdens'>Hydrogen and Oxygen densitiesa></br>\n",
      "\n",
      "\n",
      "<h4><a href='#tgMD'>Targeted MD to experimental reference structure</a></h4>\n",
      "\n",
      "* <a href='#tgMD.reference'>Create reference structure and topology files</a></br>\n",
      "* <a href='#tgMD.equil'>Equilibration</a></br>\n",
      "* <a href='#tgMD.rmsdpot'>Estimate RMSD restraining potential</a></br>"
     ]
    },
    {
     "cell_type": "markdown",
     "metadata": {},
     "source": [
      "(<a href='#Table of Contents'>Top</a>)<a id='Syntax'></a><h3>Syntax Examples</h3>\n",
      "local link: [link](files/link)</br>\n",
      "remote link: <a href=\"http://ambermd.org/\">http://ambermd.org</a>\n",
      "<font face=\"courier new\"> font face=\"courier new\" </font><br/>\n",
      "$$S_{model}(Q,E)=A(Q)\\cdot S_{elastic}(E) + B(Q)\\cdot S_{simulation}(Q,E)\\otimes S_{elastic}(E) + C(Q)+D(Q)\\cdot E$$\n",
      "<pre> Quoted text </pre>\n",
      "<center><table><tr>\n",
      "<td><center><a href=\"files/image.png\"><img src=\"files/image.png\" width=\"300\" height=\"250\" alt=\"image here\"></a> <br/>\n",
      "    <i>image caption</i></center></td>\n",
      "<td>some text</td>\n",
      "</tr></table></center>"
     ]
    },
    {
     "cell_type": "markdown",
     "metadata": {},
     "source": [
      "(<a href='#Table of Contents'>Top</a>)<a id='people'></a><h3>People involved in the project</h3>\n",
      "\n",
      "* Pratul Agarwal - simulations\n",
      "* Ken Herwig - experiment and modeling\n",
      "* Dean Myles - protein purification\n",
      "* Xun Lu - neutron protein crystallography\n"
     ]
    },
    {
     "cell_type": "markdown",
     "metadata": {},
     "source": [
      "(<a href='#Table of Contents'>Top</a>)<a id='expstr'></a><h3>Experimental data</h3>\n",
      "The amino acid sequence of Xun Lu's proteins has <b>one extra methionine at the beginning</b>, thus her sequence is one residue longer.\n",
      "\n",
      "Xun Lu sent me two neutron diffraction structures:\n",
      "\n",
      "- [D2O_n.pdb](files/expdata/D2O_n.pdb) crystal grown in D2O\n",
      "- [HtoD_n.pdb](files/expdata/HtoD_n.pdb): crystal grown in H2O but exchanged to D2O.\n",
      "\n",
      "<center><table><tr>\n",
      "<td><center><a href=\"files/expdata/D2O_n.png\"><img src=\"files/expdata/D2O_n.png\" width=\"300\" height=\"150\" alt=\"expdata/D2O_n.png\"></a> <br/><i>expdata/D2O_n.pdb(.png)</i></center></td>\n",
      "<td><center><a href=\"files/expdata/HtoD_n.png\"><img src=\"files/expdata/HtoD_n.png\" width=\"300\" height=\"150\" alt=\"expdata/HtoD_n.png\"></a> <br/><i>expdata/HtoD_n.pdb(.png)</i></center></td>\n",
      "</tr></table></center>\n",
      "\n",
      "Xun Lu also sent me electron density map for one structure, <i>Drub1_d2o_n_refine_15.mtz</i>\n",
      "\n",
      "<center><table><tr>\n",
      "<td><center><a href=\"files/expdata/Drub1_d2o_n_refine_15.png\"><img src=\"files/expdata/Drub1_d2o_n_refine_15.png\" width=\"300\" height=\"300\" alt=\"expdata/Drub1_d2o_n_refine_15.png\"></a> <br/><i>expdata/Drub1_d2o_n_refine_15.mtz(.png,.pdb,.vmd)</i></center></td>\n",
      "</tr></table></center>\n",
      "\n",
      "Xun lu sent me the crystal grown in D2O ([D2O_n.pdb](files/expdata/D2O_n.pdb)) but she removed the duplicate conformations for certain residues:\n",
      "\n",
      "<center><a href=\"files/expdata/Drub1_d2o_n_refine_59_one_conformation.png\"><img src=\"files/expdata/Drub1_d2o_n_refine_59_one_conformation.png\" width=\"300\" height=\"300\" alt=\"expdata/Drub1_d2o_n_refine_59_one_conformation.png\"></a> <br/><i>[Drub1_d2o_n_refine_59_one_conformation.pdb](files/expdata/Drub1_d2o_n_refine_59_one_conformation.pdb)</i></center>\n"
     ]
    },
    {
     "cell_type": "markdown",
     "metadata": {},
     "source": [
      "(<a href='#Table of Contents'>Top</a>)<a id='tyrosines'></a><h2>Tyr10 and Tyr12</h2>"
     ]
    },
    {
     "cell_type": "markdown",
     "metadata": {},
     "source": [
      "(<a href='#Table of Contents'>Top</a>)<a id='Serialize'></a><h3>Serialize trajectory into single unsolvated protein</h3>\n",
      "Given a trajectory containing the four Rubredoxins and whatever water molecules, we create a trajectory for each protein and then merge them together. Then, we find the centroid and average structure, and create a trajectory by doing RMS to the average structure.</br>\n",
      "We use python script [unsolv_serial.py](files/python/unsolv_serial.py), e.g</br>\n",
      "<pre>cd $PROJD/out/D-Rub_H2O/h_37/T_300/solv/tyrosines/\n",
      "python $PROJD/python/unsolv_serial.py ../final_snapshot.pdb ../dcd serial.dcd centroid.pdb average.pdb rms2avg.dat</pre>\n",
      "<center><table><tr>\n",
      "<td><center><a href=\"files/D-Rub_H2O/h_37/T_300/solv/tyrosines/average.png\"><img src=\"files/D-Rub_H2O/h_37/T_300/solv/tyrosines/average.png\" width=\"200\" height=\"150\" alt=\"D-Rub_H2O/h_37/T_300/solv/tyrosines/average.png\"></a> <br/><i>D-Rub_H2O/h_37/T_300/solv/tyrosines/average.png</i></center></td>\n",
      "</tr></table></center>\n",
      "Trajectory serial.dcd will contain 40,000 frames that were superimposed to average.pdb."
     ]
    },
    {
     "cell_type": "markdown",
     "metadata": {},
     "source": [
      "(<a href='#Table of Contents'>Top</a>)<a id='tyrosine'></a><h3>Visualizing the conformational space of the two tyrosines</h3>\n",
      "We use the serialized trajectory <i>$PROJD/out/D-Rub_H2O/h_37/T_300/solv/tyrosines/serial.dcd</i> to visualize the flexibility of the two tyrosines. TYR 10 has two preferred conformations, where the whole chain has rotated. TYR 12 has one conformation.</br>\n",
      "<center><table><tr>\n",
      "<td><center><a href=\"files/D-Rub_H2O/h_37/T_300/solv/tyrosines/TYR.png\"><img src=\"files/D-Rub_H2O/h_37/T_300/solv/tyrosines/TYR.png\" width=\"200\" height=\"150\" alt=\"D-Rub_H2O/h_37/T_300/solv/tyrosines/TYR.png\"></a> <br/><i>D-Rub_H2O/h_37/T_300/solv/tyrosines/TYR.vmd(.png)</i></center></td>\n",
      "</tr></table></center>"
     ]
    },
    {
     "cell_type": "markdown",
     "metadata": {},
     "source": [
      "(<a href='#Table of Contents'>Top</a>)<a id='waterTyr10'></a><h3>Water molecule linked to TYR10</h3>\n",
      "Xun Lu is interested to the water molecule hydrogen bonded to TYR10. This water may be coordinated to nearby residues. Below is a screen shot of the electron density from her neutron diffraction data.\n",
      "<center><a href=\"files/D-Rub_H2O/h_37/T_300/solv/tyrosines/waterTyr10_XunLu.png\"><img src=\"files/D-Rub_H2O/h_37/T_300/solv/tyrosines/waterTyr10_XunLu.png\" width=\"200\" height=\"150\" alt=\"D-Rub_H2O/h_37/T_300/solv/tyrosines/waterTyr10_XunLu.png\"></a> <br/><i>D-Rub_H2O/h_37/T_300/solv/tyrosines/waterTyr10_XunLu.png</i></center></td>\n",
      "</center>\n",
      "For every frame in the trajectory, we output the one water molecule whose oxygen is closest to the hydrogen of Tyr10 hydroxil group. Because there are four Rubredoxins in the system, we have to do the same for Tyr64, Tyr118 and Tyr172\n",
      "\n",
      "<pre>ptraj top < $PROD/ptraj/closestWaterToTyr10.in</pre>\n",
      "\n",
      "This creates trajectory closestWaterToTyr10.dcd containing one protein and the closest water to Tyr10. In addition to [closestWaterToTyr10.in](files/ptraj/closestWaterToTyr10.in), we also have [closestWaterToTyr64.in](files/ptraj/closestWaterToTyr64.in), [closestWaterToTyr118.in](files/ptraj/closestWaterToTyr118.in), and [closestWaterToTyr172.in](files/ptraj/closestWaterToTyr172.in).\n",
      "\n",
      "Now we merge trajectories closestWaterToTyr10.dcd, closestWaterToTyr64.dcd, closestWaterToTyr118.dcd, and closestWaterToTyr172.dcd  into closestWaterTo_Tyr10.dcd. In doing so, we do RMS to average structure [average_plus_1WAT.pdb](files/D-Rub_H2O/h_37/T_300/solv/tyrosines/average_plus_1WAT.pdb)."
     ]
    },
    {
     "cell_type": "markdown",
     "metadata": {},
     "source": [
      "(<a href='#Table of Contents'>Top</a>)<a id='hbond'></a><h2>Hydrogen bond analysis</h2>"
     ]
    },
    {
     "cell_type": "markdown",
     "metadata": {},
     "source": [
      "(<a href='#Table of Contents'>Top</a>)<a id='occupancies'></a><h3>Occupancies analysis</h3>\n",
      "Directory: $PROJD/D-Rub_H2O/h_37/T_300/solv/hbond/</br>\n",
      "We use the <i>hbond</i> command from <i>cpptraj</i> in amber14 to find hydrogen bonds between proteins and solvent.</br>\n",
      "\n",
      "    cpptraj -i cpptraj/solute_solvent_hbonds.cpptraj\n",
      "creates files:\n",
      "\n",
      "- water_acceptor.dat, avgout water_acceptor_avg.dat, and water_acceptor_lifetime.dat with hydrogen bonds where water is the bond acceptor\n",
      "- water_donor.dat, avgout water_donor_avg.dat, and water_donor_lifetime.dat with hydrogen bonds where water is the bond donor\n",
      "\n",
      "We sort the bonds according to descending maximum lifetime in water_acceptor_lifetime.v2.dat and water_donor_lifetime.v2.dat.</br>\n",
      "We sort the bonds according to descending occupancy in water_acceptor_lifetime.v3.dat and water_donor_lifetime.v3.dat.</br>\n",
      "\n",
      "There are four proteins, thus analogous atoms in the proteins will be doing different hydrogen bonds. We prune or filter out analogous bonds from files water_acceptor_avg.dat and water_donor_avg.dat according to two criteria, or protocols:\n",
      "\n",
      "- keep the bond with the highest occupancy (propertime \"frames\")\n",
      "- keep one of the bonds and substitute its occupancy with the occupancy averaged for all analogous bonds.\n",
      "\n",
      "For instance, LYS_2@H, LYS_56@H, LYS_110@H, and LYS_164@H are four analogous atoms on different proteins. Each hydrogen will have different hydrogen bonds. If we inspect file water_acceptor_avg.dat we find:\n",
      "\n",
      "    WAT_255@O           LYS_2@H       LYS_2@N     4321       0.4321       2.8947     161.7508\n",
      "    WAT_454@O           LYS_2@H       LYS_2@N      396       0.0396       2.8902     161.0377\n",
      "    WAT_638@O           LYS_2@H       LYS_2@N       62       0.0062       2.8707     157.8646\n",
      "    WAT_477@O           LYS_2@H       LYS_2@N        9       0.0009       2.9126     159.9253\n",
      "    WAT_447@O           LYS_2@H       LYS_2@N        3       0.0003       2.9331     144.7052\n",
      "    WAT_699@O          LYS_56@H      LYS_56@N     3015       0.3015       2.8936     161.7736\n",
      "    WAT_456@O          LYS_56@H      LYS_56@N     1167       0.1167       2.8967     161.7832\n",
      "    WAT_390@O          LYS_56@H      LYS_56@N      193       0.0193       2.9113     155.9607\n",
      "    WAT_691@O          LYS_56@H      LYS_56@N       28       0.0028       2.8764     161.4177\n",
      "    WAT_340@O          LYS_56@H      LYS_56@N       22       0.0022       2.8903     159.1719\n",
      "    WAT_283@O         LYS_110@H     LYS_110@N     1670       0.1670       2.8819     163.1643\n",
      "    WAT_311@O         LYS_164@H     LYS_164@N     3733       0.3733       2.8668     155.3671\n",
      "After pruning according to the \"highest\" protocol, we would only keep the first entry.</br>\n",
      "Some of the protein acceptor atoms, like GLU_214@OE2 can make more than one bond with the solvent at any given frame. Because of this, the \"average\" protocol returns higher occupancies than the total number of frames.</br>\n",
      "We use python script [prune_hbond_list.py](files/python/prune_hbond_list.py) to prune the lists of bonds:</br>\n",
      "\n",
      "- Prune list of analogous bonds according to \"highest\" protocol</br>\n",
      "\n",
      "\n",
      "    cd D-Rub_H2O/h_37/T_300/solv/hbond/\n",
      "    python python/prune_hbond_list.py water_acceptor_avg.dat highest water_acceptor_avg_pruned_highest.dat\n",
      "    python python/prune_hbond_list.py water_donor_avg.dat  highest water_donor_avg_pruned_highest.dat\n",
      "\n",
      "\n",
      "- Prune list of analogous bonds according to \"average\" protocol\n",
      "\n",
      "\n",
      "    cd D-Rub_H2O/h_37/T_300/solv/hbond/\n",
      "    python python/prune_hbond_list.py water_acceptor_avg.dat average water_acceptor_avg_pruned_average.dat\n",
      "    python python/prune_hbond_list.py water_donor_avg.dat  average water_donor_avg_pruned_average.dat"
     ]
    },
    {
     "cell_type": "markdown",
     "metadata": {},
     "source": [
      "(<a href='#Table of Contents'>Top</a>)<a id='firtOccurrence'></a><h3>First-occurrence snapshopt for highest occupancy bonds</h3>\n",
      "The first lines of <i>water_acceptor_avg_pruned_highest.dat</i>:\n",
      "<pre>#Acceptor            DonorH         Donor   Frames         Frac      AvgDist       AvgAng\n",
      "WAT_255@O           LYS_2@H       LYS_2@N     4321       0.4321       2.8947     161.7508\n",
      "WAT_357@O         LYS_2@HZ1      LYS_2@NZ     3265       0.3265       2.8556     159.9739\n",
      "WAT_336@O       LYS_207@HZ3    LYS_207@NZ     3194       0.3194       2.8295     152.1794\n",
      "WAT_404@O        ALA_109@H1     ALA_109@N     2485       0.2485       2.8618     151.9773\n",
      "WAT_394@O        LYS_50@HZ3     LYS_50@NZ     2480       0.2480       2.8500     154.5553\n",
      "WAT_319@O        SER_186@HG    SER_186@OG     2335       0.2335       2.7665     161.9286\n",
      "WAT_497@O        ALA_163@H3     ALA_163@N     2288       0.2288       2.8609     154.8640\n",
      "WAT_385@O        CYM_149@HN     CYM_149@N     2137       0.2137       2.8972     159.4854\n",
      "WAT_357@O         LYS_2@HZ2      LYS_2@NZ     1982       0.1982       2.8736     160.1971\n",
      "</pre>\n",
      "And the first lines of <i>water_donor_avg_pruned_highest.dat</i>:\n",
      "<pre>ASP_196@OD1      WAT_370@H2     WAT_370@O     9552       0.9552       2.6182     166.3659\n",
      "GLY_9@O          WAT_262@H2     WAT_262@O     8664       0.8664       2.7685     161.3876\n",
      "GLU_214@OE2      WAT_463@H1     WAT_463@O     8396       0.8396       2.6635     165.4420\n",
      "PHE_191@O        WAT_336@H2     WAT_336@O     8340       0.8340       2.7158     162.6901\n",
      "GLU_176@OE1      WAT_655@H1     WAT_655@O     8286       0.8286       2.6159     165.2802\n",
      "GLU_176@OE2      WAT_335@H1     WAT_335@O     7944       0.7944       2.6553     165.8847\n",
      "GLU_192@OE2      WAT_521@H2     WAT_521@O     7907       0.7907       2.6542     164.6608\n",
      "ASP_13@OD2       WAT_693@H2     WAT_693@O     7880       0.7880       2.6855     163.5955\n",
      "GLU_192@OE1      WAT_668@H1     WAT_668@O     7799       0.7799       2.6623     165.7709\n",
      "ASP_196@OD2      WAT_394@H2     WAT_394@O     7782       0.7782       2.6096     165.6858\n",
      "ASP_177@OD1      WAT_497@H1     WAT_497@O     7709       0.7709       2.6342     164.1478</pre>\n",
      "For each of these bonds with high occupancies we select the first frame in the trajectory where this bond is present, and save the conformation. We strip all waters except the one doing the bond, and all the rubredoxins except the one where the bond is present.</br>\n",
      "Python script [first_occurrence_highest_occupancy.py](files/python/first_occurrence_highest_occupancy.py):\n",
      "<pre>python PROJD/python/first_occurrence_highest_occupancy.py water_donor_avg_pruned_highest.dat first_occurence_donor_highest --maxn 100</pre>\n",
      "This command will look at the first 100 hbond with highest occupancy and output the first occurrence as PDB and CRD files into subdirectory <i>first_occurence_donor_highest/</i>. Here are the first occurrences for the first three lines of the file</br>\n",
      "<center><table><tr>\n",
      "<td><center><a href=\"files/D-Rub_H2O/h_37/T_300/solv/hbond/first_occurence_acceptor_highest/WAT_255_O-LYS_2_N-H.png\"><img src=\"files/D-Rub_H2O/h_37/T_300/solv/hbond/first_occurence_acceptor_highest/WAT_255_O-LYS_2_N-H.png\" width=\"300\" height=\"300\" alt=\"D-Rub_H2O/h_37/T_300/solv/hbond/first_occurence_acceptor_highest/WAT_255_O-LYS_2_N-H.png\"></a> <br/>\n",
      "    <i>WAT_255_O-LYS_2_N-H.png</i></center></td>\n",
      "</tr></table></center>\n",
      "\n",
      "<pre>python PROJD/python/first_occurrence_highest_occupancy.py water_acceptor_avg_pruned_highest.dat first_occurence_acceptor_highest --maxn 100</pre>\n",
      "This command will look at the first 100 hbonds with highest occupancy and output the first occurrence as PDB and CRD files into subdirectory <i>first_occurence_acceptor_highest/</i>. Here are the first occurrences for the first three lines of the file:\n",
      "\n",
      "\n"
     ]
    },
    {
     "cell_type": "markdown",
     "metadata": {},
     "source": [
      "(<a href='#Table of Contents'>Top</a>)<a id='createParm'></a><h3>Create topology and reference files for one rubredoxin plus one water molecule</h3>\n",
      "In subdirectory <i>D-Rub_H2O/h_37/T_300/solv/hbond</i>\n",
      "<pre>cpptraj -i PROJD/cpptraj/create_rubrWAT.cpptraj</pre>\n",
      "creates topology file <i>rubr1wat.top</i>\n",
      "Also\n",
      "<pre>cpptraj -i PROJD/cpptraj/create_rubr1wat_reference.cpptraj</pre>\n",
      "creates <i>rubr1wat.pdb</i> and <i>rubr1wat.crd</i>\n"
     ]
    },
    {
     "cell_type": "markdown",
     "metadata": {},
     "source": [
      "(<a href='#Table of Contents'>Top</a>)<a id='alignWAT'></a><h3>Align water from first-occurrence snapshopt for highest occupancy to reference</h3>\n",
      "We want to align the water molecule from each of the first-occurrence snapshopts for highest occupancy bonds to the reference rubredoxin conformation. Thus, we extract the water molecule that is bonded to one particular atom in the first-occurrence snapshot, and stick it in the proper orientation to the reference snapshot <i>rubr1wat.pdb</i>.</br>\n",
      "To this purpose, we use python script [align_water_to_rubr1wat.py](files/python/align_water_to_rubr1wat.py) that we have to run from directory <i>D-Rub_H2O/h_37/T_300/solv/hbond</i>. For instance, for file <i>first_occurence_donor_highest/VAL_145@O-WAT_285@O-H1.crd</i> it will create file <i>first_occurence_donor_highest/VAL_145@O-WAT_285@O-H1_onlyWAT.pdb</i> containing only the water molecule of <i>VAL_145@O-WAT_285@O-H1.crd</i> but in the proper orientation for doing the hydrogen bond\n",
      "to atom VAL_37@O of file <i>rubr1wat.pdb</i>\n",
      "<pre>for crdfile in `ls -1 first_occurence_donor_highest/*.crd`;do\n",
      "  basename=`basename $crdfile .crd`\n",
      "  dirname=`dirname $crdfile`\n",
      "  pdbfile=`echo \"$dirname/$b\"`\n",
      "  python $PD/python/align_water_to_rubr1wat.py $crdfile $dirname/${basename}_onlyWAT.pdb\n",
      "done</pre>\n",
      "And similarly for first-occurrence snapshopts in subdirectory <i>first_occurence_acceptor_highest/</i>\n",
      "<pre>for crdfile in `ls -1 first_occurence_acceptor_highest/*.crd`;do\n",
      "  basename=`basename $crdfile .crd`\n",
      "  dirname=`dirname $crdfile`\n",
      "  pdbfile=`echo \"$dirname/$b\"`\n",
      "  python $PD/python/align_water_to_rubr1wat.py $crdfile $dirname/${basename}_onlyWAT.pdb\n",
      "  sleep 2s\n",
      "done</pre>\n",
      "\n",
      "Python script [print_onlyWAT_files.py](files/python/print_onlyWAT_files.py) will print the names of the first \"nmax\" first-occurrence onlyWAT files as generated before. For instance, from <i>D-Rub_H2O/h_37/T_300/solv/hbond/</i> we issue:\n",
      "<pre>python PROJD/python/print_onlyWAT_files.py ./water_acceptor_avg_pruned_highest.dat --maxn 3 | tr '\\n' ' ';echo</pre>\n",
      "will output:\n",
      "<pre>WAT_255@O-LYS_2@N-H_onlyWAT.pdb WAT_357@O-LYS_2@NZ-HZ1_onlyWAT.pdb WAT_336@O-LYS_207@NZ-HZ3_onlyWAT.pdb</pre>\n",
      "So that if we navigate to <i>D-Rub_H2O/h_37/T_300/solv/hbond/first_occurence_acceptor_highest/</i> and issue:\n",
      "<pre>pymol ../rubr1wat.pdb WAT_255@O-LYS_2@N-H_onlyWAT.pdb WAT_357@O-LYS_2@NZ-HZ1_onlyWAT.pdb WAT_336@O-LYS_207@NZ-HZ3_onlyWAT.pdb</pre>\n",
      "We will produce a pymol session where we load the reference <i>rubr1wat.pdb</i> and superimpose the three waters of interest, which we save as [water_acceptor_avg_pruned_highest_3.pse](files/D-Rub_H2O/h_37/T_300/solv/hbond/first_occurence_acceptor_highest/water_acceptor_avg_pruned_highest_3.pse).</br>\n",
      "Simarly, from <i>D-Rub_H2O/h_37/T_300/solv/hbond/</i> we issue:\n",
      "<pre>python PROJD/python/print_onlyWAT_files.py ./water_donor_avg_pruned_highest.dat --maxn 18 | tr '\\n' ' ';echo</pre>\n",
      "and navigating to <i>D-Rub_H2O/h_37/T_300/solv/hbond/first_occurence_donor_highest/</i> we issue an analogous pymol command line, and save to session [water_donor_avg_pruned_highest_3.pse](files/D-Rub_H2O/h_37/T_300/solv/hbond/first_occurence_donor_highest/water_donor_avg_pruned_highest_3.pse).</br>\n",
      "<center><table><tr>\n",
      "<td><center><a href=\"files/D-Rub_H2O/h_37/T_300/solv/hbond/first_occurence_acceptor_highest/water_acceptor_avg_pruned_highest_3.png\"><img src=\"files/D-Rub_H2O/h_37/T_300/solv/hbond/first_occurence_acceptor_highest/water_acceptor_avg_pruned_highest_3.png\" width=\"300\" height=\"300\" alt=\"D-Rub_H2O/h_37/T_300/solv/hbond/first_occurence_acceptor_highest/v\"></a> <br/>\n",
      "    <i>water_acceptor_avg_pruned_highest_3.png</i></center></td>\n",
      "<td><center><a href=\"files/D-Rub_H2O/h_37/T_300/solv/hbond/first_occurence_donor_highest/water_donor_avg_pruned_highest_18.png\"><img src=\"files/D-Rub_H2O/h_37/T_300/solv/hbond/first_occurence_donor_highest/water_donor_avg_pruned_highest_18.png\" width=\"300\" height=\"300\" alt=\"D-Rub_H2O/h_37/T_300/solv/hbond/first_occurence_donor_highest/water_donor_avg_pruned_highest_18.png\"></a> <br/>\n",
      "    <i>water_donor_avg_pruned_highest_18.png</i></center></td>\n",
      "</tr></table></center>"
     ]
    },
    {
     "cell_type": "markdown",
     "metadata": {},
     "source": [
      "(<a href='#Table of Contents'>Top</a>)<a id='maps'></a><h2>Density maps</h2>"
     ]
    },
    {
     "cell_type": "markdown",
     "metadata": {},
     "source": [
      "(<a href='#Table of Contents'>Top</a>)<a id='dmaps'></a><h3>Calculating density maps with cpptraj</h3>\n",
      "Xun Lu sent me electron desity map <i>expdata/Drub1_d2o_n_refine_15.mtz</i> and inferred pdb structure [Drub1_d2o_n_refine_15.pdb](files/expdata/Drub1_d2o_n_refine_15.pdb). This map can be visualized with program <i>COOT</i>.\n",
      "\n",
      "David Case sent me an email giving me some pointers on how to calculate average electron density maps with <b>cpptraj</b>:\n",
      "<font size=\"1\"><pre>Here is the approach we use: run cpptraj with the \"pdb multi\" option on the trajout line.  This will create a set of PDB files.  You then have to add the \"CRYST1\" record from the experimental file at the top.  Then you can feed this pdb file to SFALL (from CCP4; other xray programs might work) to create the electron density map for that snapshot.  Do this for each snapshot, and average all the resulting maps to get an averaged electron density.\n",
      "This procedure is automated in the \"md2map.sh\" script which is in $AMBERHOME/AmberTools/src/xtalutil/Analysis.  Look at the comments at the top of this file.  It requires CCP4 programs to be in your PATH, and may require some work to make things work (this is all pretty new, even to us.)\n",
      "If your simulations is a constant volume one (using, presumably, the experimental unit cell parameters), you can try the somewhat simpler mdv2map.sh script in the same directory.\n",
      "...hope this helps...note that \"support\" for these scripts may be weaker than for other parts of Amber...so far as I know, only a very few people have used these.  We'll try to answer questions, but you may have to fiddle with things.\n",
      "I'll bet there must be other approaches that take a set of PDB files and compute electron density maps from them...doesn't have to have anything to do with Amber.  But I have to admit I didn't find anything with a simple Google search.  You might post a question on the CCP4 mailing list -- James Holton might reply, but he is the main author of md2map.sh.\n",
      "[Aside: sander knows how to deal with electron density maps, and how to create them from coordinates.  But this is in the context of cryo-EM maps, and does not know about crystal symmetry.  So that seems not much help for you, but just to point out to other readers an approach for the non-periodic problem.]\n",
      "</pre></font>\n"
     ]
    },
    {
     "cell_type": "markdown",
     "metadata": {},
     "source": [
      "(<a href='#Table of Contents'>Top</a>)<a id='serial'></a><h3>Serialize trajectory</h3>\n",
      "We also generate a topology file of a single protein and 200 water molecules:\n",
      "<pre>python $PROJD/python/serial_topology.py top serial.top --nwat 200</pre>\n",
      "\n",
      "We used the <i>watershell</i> command of ptraj and determined that ~180 water molecules are 3.4Angstroms or less from one rubredoxin protein. Thus, we chose to create a trajectory where each frame is made of a single rubredoxin and the 200 closest water molecules.\n",
      "In <i>densitymaps/</i>:\n",
      "<pre>python $PROJD/python/unsolv_serial.py top dcd serial.top serial.dcd centroid.pdb average.pdb rms2avg.dat --nwat 200</pre>\n",
      "\n",
      "We manually create a PDB file for the first snapshot of the serialized trajectory\n",
      "<center><a href=\"files/D-Rub_H2O/h_37/T_300/solv/densitymaps/serial_first_snapshot.png\"><img src=\"files/D-Rub_H2O/h_37/T_300/solv/densitymaps/serial_first_snapshot.png\" width=\"300\" height=\"300\" alt=\"D-Rub_H2O/h_37/T_300/solv/densitymaps/serial_first_snapshot.png\"></a> <br/><i>[serial_first_snapshot.pdb](files/D-Rub_H2O/h_37/T_300/solv/densitymaps/serial_first_snapshot.pdb)</i></center>"
     ]
    },
    {
     "cell_type": "markdown",
     "metadata": {},
     "source": [
      "(<a href='#Table of Contents'>Top</a>)<a id='HOdens'></a><h3>Hydrogen and Oxygen densities</h3>\n",
      "We use the <i>gist</i> command of cpptraj to generate solgen hydrogen and oxygen densities that can be viewed in VDM:\n",
      "<pre>module load amber/amber14\n",
      "cpptraj -p serial.top -i $PROJD/cpptraj/gist.cpptraj</pre>\n",
      "\n",
      "The relevant options passed onto the gist commands are:\n",
      "\n",
      "- gridcntr 17.187 17.6695 22.0555  #coordinates of the center of the grid (the cell dimensions are twice these values)\n",
      "- griddim 138 142 178  #The grid will contain 138 x 142 x 178 little cubes\n",
      "- gridspacn 0.25 # grid spacing, in Angstroms. 138x0.25, 142x0.25, and 178x0.25 are just the cell dimensions\n",
      "\n",
      "The output files are (among others) <i>gist-gO.dx</i> and <i>gist-gH.dx</i>. These can be loaded into VMD, and the extension .dx is automatically recognized by VMD. To optimize the visualizion, select <i>isosurface</i> representation and <i>solid surface</i> as one of the options.\n",
      "\n",
      "<center><a href=\"files/D-Rub_H2O/h_37/T_300/solv/densitymaps/serial_H_O_densities.png\"><img src=\"files/D-Rub_H2O/h_37/T_300/solv/densitymaps/serial_H_O_densities.png\" width=\"300\" height=\"300\" alt=\"D-Rub_H2O/h_37/T_300/solv/densitymaps/serial_H_O_densities.png\"></a> <br/><i>[serial_H_O_densities.png](files/D-Rub_H2O/h_37/T_300/solv/densitymaps/serial_H_O_densities.png)</i></center>"
     ]
    },
    {
     "cell_type": "markdown",
     "metadata": {},
     "source": [
      "(<a href='#Table of Contents'>Top</a>)<a id='HOdensRubr1'></a><h3>Serialize and calculate H and O densities for only the first rubredoxin</h3>\n",
      "Although these densities derived with all four rubredoxins are informative, they are smeared because rubredoxin 2 has a backbone slightly different than the rest. This is due to water entering the protein and close to the iron atom. This volume of this water in the interior of the protein induces a backbone deformation. This water is not observed in crystal or neutron structures. Thus, we repeat the previous analysis but only on the first rubredoxin. Furthermore, the RMS of the structures is done to the centroid, as opposed to the average structure.\n",
      "\n",
      "In <i>densitymaps/rubredoxin1</i>:\n",
      "<pre>python $PROJD/python/unsolv_serial_rubr1.py top dcd serial.top serial.dcd centroid.pdb average.pdb rms2avg.dat --nwat 200</pre>\n",
      "\n",
      "As in the previous section, we use the <i>gist</i> command of cpptraj to generate solgen hydrogen and oxygen densities that can be viewed in VDM:\n",
      "<pre>module load amber/amber14\n",
      "cpptraj -p serial.top -i $PROJD/cpptraj/gist.cpptraj</pre>\n",
      "\n",
      "The relevant options passed onto the gist commands are:\n",
      "\n",
      "- gridcntr 17.187 17.6695 22.0555  #coordinates of the center of the grid (the cell dimensions are twice these values)\n",
      "- griddim 138 142 178  #The grid will contain 138 x 142 x 178 little cubes\n",
      "- gridspacn 0.25 # grid spacing, in Angstroms. 138x0.25, 142x0.25, and 178x0.25 are just the cell dimensions\n",
      "\n",
      "The output files are (among others) <i>gist-gO.dx</i> and <i>gist-gH.dx</i>. These can be loaded into VMD, and the extension .dx is automatically recognized by VMD. To optimize the visualizion, select <i>isosurface</i> representation and <i>solid surface</i> as one of the options.\n",
      "\n",
      "\n",
      "<center><a href=\"files/D-Rub_H2O/h_37/T_300/solv/densitymaps/rubredoxin1/serial_H_O_densities.png\"><img src=\"files/D-Rub_H2O/h_37/T_300/solv/densitymaps/rubredoxin1/serial_H_O_densities.png\" width=\"300\" height=\"300\" alt=\"D-Rub_H2O/h_37/T_300/solv/densitymaps/rubredoxin1/serial_H_O_densities.png\"></a> <br/><i>[serial_H_O_densities.png](files/D-Rub_H2O/h_37/T_300/solv/densitymaps/rubredoxin1/serial_H_O_densities.png)</i></center>"
     ]
    },
    {
     "cell_type": "markdown",
     "metadata": {},
     "source": [
      "(<a href='#Table of Contents'>Top</a>)<a id='densmap2ref'></a><h2>Density maps to experimental reference structure</h2>\n",
      "If we discard those frames in the simulations for which rubredoxin has \"high\" RMS to experimental structure and retain only those structures with low RMS, the solvent densities will be more relevant to experiment. Thus, we need to have a experimental structure that will act as golden standard.\n",
      "\n",
      "For the RMS we should only take into account atoms of interest regarding hydrogen bonds with solvent, that is, nitrogens and oxygens in the protein.\n",
      "\n",
      "The directory for this goal is <i>D-Rub_H2O/h_37/T_300/solv/densmap2ref</i>"
     ]
    },
    {
     "cell_type": "markdown",
     "metadata": {},
     "source": [
      "(<a href='#Table of Contents'>Top</a>)<a id='densmap2ref.transStruct'></a><h3>Translate structure to AMBER format</h3>\n",
      "\n",
      "Our experimental structure is <i>expdata/D2O_n.pdb</i>, we have soft link <i>D-Rub_H2O/h_37/T_300/solv/densmap2ref/original_reference.pdb</i> pointing to this file. Unfortunately, this original reference structure as a host of differences with respect to the structure I'm using in my simulations:\n",
      "\n",
      "* It has an extra MET residue at the N-terminal\n",
      "* Many duplicate atoms due to alternative positions\n",
      "* Deuterium instead of Hydrogen, thus atom names contain 'D' instead of 'H'\n",
      "* Within each residue, ordering of the atoms is different than my AMBER ordering\n",
      "* CYS instead of CYM\n",
      "* C-terminal has ALA, while I have ADP\n",
      "\n",
      "We have to correct these differences before we can do RMS of our trajectory to this structure. We proceed in a series of steps:\n",
      "\n",
      "File <i>mutated.1.pdb</i> has the folowing changes with respect to <i>original_reference.pdb</i>\n",
      "\n",
      "* Remove duplicate atoms\n",
      "* Change CYS for CYM\n",
      "\n",
      "File <i>mutated.1.pdb</i> has 54 residues, but the amino acid sequence simulated has 53. The RMS will have to obviate the first two and the last residues of the trajectory conformations. This is all well since these residues are highly mobile.\n",
      "\n",
      "File <i>mutated.2.pdb</i> starts from <i>mutated.1.pdb</i>  and implements the following changes:\n",
      "\n",
      "* Change atom names from deuterium (\"D\") to hydrogen (\"H\").\n",
      "\n",
      "We use python script [mutated1_to_mutated2.py](files/python/mutated1_to_mutated2.py)\n",
      "\n",
      "<pre>python $PROJD/python/mutated1_to_mutated2.py  mutated.1.pdb final_snapshot_rubr1.pdb mutated.2.pdb</pre>\n",
      "\n",
      "This script also checks that <i>mutated.2.pdb</i> the residues have the same congruent ordering of atoms, as well as same number of atoms.\n",
      "\n",
      "We use <i>tleap</i> to construct, from <i>mutated.2.pdb</i>, the following files:\n",
      "\n",
      "* mutated.3.top\n",
      "* mutated.3.ref\n",
      "* mutated.3.pdb\n",
      "\n",
      "<pre>module load amber12\n",
      "tleap -f mutated.2_to_mutated.3.tleap > mutated.2_to_mutated.3.tleap.log</pre>\n",
      "\n",
      "Structure <i>mutated.3.pdb</i> has residues 3 to 52 identical to redidues 2 to 52 of <i>final_snapshot_rubr1.pdb</i>."
     ]
    },
    {
     "cell_type": "markdown",
     "metadata": {},
     "source": [
      "(<a href='#Table of Contents'>Top</a>)<a id='densmap2ref.rmsNO'></a><h3>Extract structures by rms N O to experimental reference</h3>\n",
      "We calculate the RMS of trajectory <i>serial.dcd</i> (having 40000 frames because this is the 10000 trajectory but the four rubredoxins are one after the other) against experimental reference <i>mutated.3.pdb</i>. We compare N and O atoms of residues 2 to 52 of the trajectory to residues 3 to 53 of <i>mutated.3.pdb</i>.\n",
      "\n",
      "<pre>cpptraj -i $PROJD/cpptraj/rmsNO_to_mutated.3.cpptraj</pre>\n",
      "\n",
      "<center><table><tr>\n",
      "<td><center><a href=\"files/D-Rub_H2O/h_37/T_300/solv/densmap2ref/rms_to_mutated.3.png\"><img src=\"files/D-Rub_H2O/h_37/T_300/solv/densmap2ref/rms_to_mutated.3.png\" width=\"400\" height=\"400\" alt=\"D-Rub_H2O/h_37/T_300/solv/densmap2ref/rms_to_mutated.3.png\"></a><br/><i>densmap2ref/rms_to_mutated.3.png</i></center></td>\n",
      "<td><center><a href=\"files/D-Rub_H2O/h_37/T_300/solv/densmap2ref/rms_to_mutated.3_hist.png\"><img src=\"files/D-Rub_H2O/h_37/T_300/solv/densmap2ref/rms_to_mutated.3_hist.png\" width=\"400\" height=\"400\" alt=\"D-Rub_H2O/h_37/T_300/solv/densmap2ref/rms_to_mutated.3_hist.png\"></a><br/><i>densmap2ref/rms_to_mutated.3_hist.png</i></center></td>\n",
      "</tr></table></center>\n",
      "\n",
      "The histogram of RMS values is bimodal, indicating some conformations in the trajectory have a rearrangement of the backbone. We select the cutoff value RMS = 1.6896 Angstroms so that we will extract 9468 conformations (the target was 10000, but this is a sufficiently big number) out of the 40000 for subsequent calculation of water density. This corresponds to the dashed horizontal lines and also the main peak maximum in the RMS histogram.\n",
      "\n",
      "Script <i>rmsNO_to_mutated.3.cpptraj</i> does also this extracting of low RMS conformations to file <i>serial_lowRMS.dcd</i>, which in addition is already RMS transformed to <i>mutated.3.pdb</i>. Also, file <i>rmsNO_to_mutated.3_filtered.dat</i> is output and contains a columns of '0' (RMS > 1.6896A) and '1' (RMS <= 1.6896A) for each of the 40000 conformations."
     ]
    },
    {
     "cell_type": "markdown",
     "metadata": {},
     "source": [
      "(<a href='#Table of Contents'>Top</a>)<a id='densmap2ref.HOdens'></a><h3>Hydrogen and Oxygen densities</h3>\n",
      "We use the <i>gist</i> command of cpptraj to generate solgen hydrogen and oxygen densities that can be viewed in VDM. First, we have to find out the minimum and maximum XYZ coordinates of the trajectory:\n",
      "<pre>module load amber/amber14\n",
      "cpptraj -p serial.top -i $PROJD/cpptraj/serial_lowRMS_bounds.dat</pre>\n",
      "\n",
      "Output is:\n",
      "<pre>-30.948803 < X < 4.749729\n",
      "-15.533370 < Y < 19.783297\n",
      "-26.909279 < Z < 16.637112</pre>\n",
      "\n",
      "Now we use these bounds to calculate the grid options:\n",
      "\n",
      "- gridcntr -13.099537 2.1249635 -5.1360835  #coordinates of the center of the grid (the cell dimensions are twice these values)\n",
      "- griddim 142 143 175   #The grid will contain 142 x 143 x 175  little cubes\n",
      "- gridspacn 0.25 # grid spacing, in Angstroms. 142x0.25, 143x0.25, and 175x0.25 are just the dimensions imposed by the bounds.\n",
      "\n",
      "The output files are (among others) <i>gist-gO.dx</i> and <i>gist-gH.dx</i>. These can be loaded into VMD, and the extension .dx is automatically recognized by VMD. To optimize the visualizion, select <i>isosurface</i> representation and <i>solid surface</i> as one of the options.\n",
      "\n",
      "<center><a href=\"files/D-Rub_H2O/h_37/T_300/solv/densmap2ref/serial_H_O_densities.png\"><img src=\"files/D-Rub_H2O/h_37/T_300/solv/densmap2ref/serial_H_O_densities.png\" width=\"300\" height=\"300\" alt=\"D-Rub_H2O/h_37/T_300/solv/dendensmap2refsitymaps/serial_H_O_densities.png\"></a> <br/><i>[serial_H_O_densities.png](files/D-Rub_H2O/h_37/T_300/solv/densmap2ref/serial_H_O_densities.png)</i></center>\n",
      "\n",
      "Unfortunately, the densities are not very well correlated to the experimental reference structure. The reason is that the typical RMS of the filtered conformations is ~1.6Angstroms to the reference structure. This is high enough to smear the densities.\n",
      "\n",
      "There is no other choice but to perform simulations with an RMS restraint to the experimental reference structure!"
     ]
    },
    {
     "cell_type": "markdown",
     "metadata": {},
     "source": [
      "(<a href='#Table of Contents'>Top</a>)<a id='tgMD'></a><h2>Targeted MD to experimental reference structure</h2>\n",
      "\n",
      "We have desisted of trying to fit the trajectories I had from rubredoxin to the experimental reference structure (see previous section). The new strategy is to obtain fresh trajectories at 300K but with an RMSD restraint with respect to Xun Lu's trajectory.\n",
      "\n",
      "The directory for this goal is <i>targeted</i>"
     ]
    },
    {
     "cell_type": "markdown",
     "metadata": {},
     "source": [
      "(<a href='#Table of Contents'>Top</a>)<a id='tgMD.reference'></a><h3>Create reference structure and topology files</h3>\n",
      "Working directory: <i>targeted</i>\n",
      "\n",
      "We begin with file <i>mutated.3.pdb</i> from directory <i>D-Rub_H2O/h_37/T_300/solv/densmap2ref</i>. Refer to <a href='#densmap2ref.transStruct'>Translate structure to AMBER format</a> for details on how I obtained this. Briefly, it is structure <i>expdata/D2O_n.pdb</i> but with the following changes:\n",
      "\n",
      "* removed duplicate atoms\n",
      "* deuterium translated to hydrogen\n",
      "* AMBER atom convention.\n",
      "\n",
      "This structure has ALA as the C-terminal, instead of the correct ASP. This is a mistake, ALA is actually not the correct residue. It has to be corrected. What we do is to align the backbone of an ASP residue (file [ASP.pdb](files/targeted/ASP.pdb)) to the backbone of the ALA. We could only align H+N+CA. We save the alignment in a PYMOL session: [align_ASP.pse](files/targeted/align_ASP.pse) and we save the coordinates of the ASP residue after RMS superposition to [ASP_aligned.pdb](files/targeted/ASP_aligned.pdb). Then we manually edit <i>mutated.3.pdb</i> and subsitute the ALA C-terminal with residue <i>ASP_aligned.pdb</i>. We save this to file [mutated.4.pdb](files/targeted/mutated.4.pdb).\n",
      "\n",
      "File <i>mutated.4.pdb</i> has the Fe atom missing. We have to put it back and we retrieve it from the original reference structure <i>original_reference.pdb</i> (which is a soft link to <i>expdata/D2O_n.pdb</i>). We manually edit <i>mutated.4.pdb</i>, add the iron atom, and save it as [mutated.5.pdb](files/targeted/mutated.5.pdb).\n",
      "\n",
      "After creating <i>FE3.lib</i> and <i>FE3.frcmod</i> files, we create topology and reference files with tleap and script <i>generate_reference.tleap</i>.\n",
      "<pre>module load amber\n",
      "tleap -f generate_reference.tleap  > generate_reference.tleap.log</pre>\n",
      "Creates files:\n",
      "\n",
      "* <i>top</i>\n",
      "* <i>reference.crd</i>\n",
      "* [reference.pdb](files/targeted/reference.pdb).\n",
      "\n",
      "<center><a href=\"files/targeted/reference.png\"><img src=\"files/targeted/reference.png\" width=\"300\" height=\"300\" alt=\"targeted/reference.png\"></a><br/><i>[reference.png](files/targeted/reference.png)</i></center>"
     ]
    },
    {
     "cell_type": "markdown",
     "metadata": {},
     "source": [
      "(<a href='#Table of Contents'>Top</a>)<a id='tgMD.equil'></a><h3>Equilibration</h3>\n",
      "In <i>targeted/equil/</i>\n",
      "\n",
      "We run the set of minimization and short MD runs in camm2 with the help of pmemd.MPI. First, go to subdirectory <i>targeted/equil/files/</i> and issue:\n",
      "<pre>./generate ../srt/rubr.pdb\n",
      "python temperature.py 300</pre>\n",
      "This commands initialize the input configuration files for the amber runs. After this, go to directory <i>targeted/equil/</i> and issue:\n",
      "<pre>./submit.camm2</pre>\n",
      "This command will perform all minimizations and simulations from min1 up to md16.\n",
      "\n",
      "<center><a href=\"files/targeted/equil/md16/rubr.crd.md16.png\"><img src=\"files/targeted/equil/md16/rubr.crd.md16.png\" width=\"300\" height=\"300\" alt=\"targeted/equil/md16/rubr.crd.md16.png\"></a><br/><i>[rubr.crd.md16.pdb](files/targeted/equil/md16/rubr.crd.md16.pdb)</i></center>"
     ]
    },
    {
     "cell_type": "markdown",
     "metadata": {},
     "source": [
      "(<a href='#Table of Contents'>Top</a>)<a id='tgMD.rmsdpot'></a><h3>Estimate RMSD restraining potential</h3>\n",
      "We now want to perform productions runs with a restraining potential given by the \"targeted MD\" of AMBER (see Amber14 manual, page 349):\n",
      "<pre>!Restraining Potential = 0.5 * tgtmdfrc * NATTGTRMS * (RMSD-tgtrmsd)**2\n",
      "itgtmd=1,     !Do RMSD retraints to selected atoms from recf file\n",
      "tgtmdfrc=1.0, !force constant (Kcal/(mol*A^2))\n",
      "tgtrmsd=0.0,  !\"equilibrium\" RMSD\n",
      "tgtfitmask=\"(:1-55)&(@N=,O=)\", !atoms to be used in the RMSD superposition transformation\n",
      "tgtrmsmask=\"(:1-55)&(@N=,O=)\", !atoms to be used for calculation of RMSD after the fit</pre>\n",
      "We want to tune parameter <i>tgtmdfrc</i> so that the average RMSD to target structure is 0.5 Angstroms. We did short runs (25ps) with different values of the parameter obtaining the following limiting RMSD:\n",
      "\n",
      "<center><table>\n",
      "<tr><td><center><b>tgtmdfrc</b></center></td> <td><center><b>RMSD</b></center></td></tr>\n",
      "<tr><td><center>2.0</center></td> <td><center>~0.5</center></td></tr>\n",
      "<tr><td><center>1.0</center></td> <td><center>~0.55</center></td></tr>\n",
      "<tr><td><center>0.5</center></td> <td><center>~0.7</center></td></tr>\n",
      "<tr><td><center>0.1</center></td> <td><center>~0.9</center></td></tr>\n",
      "</table></center>"
     ]
    },
    {
     "cell_type": "markdown",
     "metadata": {},
     "source": [
      "(<a href='#Table of Contents'>Top</a>)<a id='tgMD.prod'></a><h3>Production targeted MD</h3>\n",
      "In <i>targeted/equil/md17/</i>, we run 1ns with tgtmdfrc=0.1 so that average RMSD ~ 1.0Angstroms. This \"large\" RMSD allows for water around the protein to equilibrate. We use CAMBER input configuration file [md17.in](files/targeted/equil/md17/md17.in). We use <i>sander.MPI</i> because <i>pmemd</i> does not allow to do targeted MD:\n",
      "<pre>module load amber\n",
      "time mpirun -np 48 sander.MPI -O -i md17.in -o md17.out -p ../srt/rubr.top -c rubr.crd.md16 -r rubr.crd.md17 -ref rubr.crd.rst</pre>\n",
      "\n",
      "After this equilibration, we run another step of 1ns at tgtmdfrc=1.0 in <i>targeted/equil/md18/</i> and another step of 1ns at tgtmdfrc=2.0 in <i>targeted/equil/md19/</i>\n",
      "\n",
      "An example of the submission line:\n",
      "<pre>module load amber\n",
      "mpirun -np 48 sander.MPI -O -i md18.in -o md18.out -p ../srt/rubr.top -c rubr.crd.md17 -r rubr.crd.md18 -ref rubr.crd.rst</pre>\n",
      "\n",
      "<center><a href=\"files/targeted/equil/md19/rmsd.png\"><img src=\"files/targeted/equil/md19/rmsd.png\" width=\"400\" height=\"400\" alt=\"targeted/equil/md19/rmsd.png\"></a><br/><i>targeted/equil/md19/rmsd.png</i></center>\n",
      "\n",
      "From the 1ns runs, we decide a production run of 5ns with tgtmdfrc=2Kcal/mol.\n",
      "\n",
      "In <i>targeted/prod/</i>:\n",
      "<pre>module load amber\n",
      "mpirun -np 48 sander.MPI -O -i tgt.in -p top -c rubr.crd.md19 -ref reference.crd -o tgt.out -r tgt.rst  -x tgt.crd</pre>"
     ]
    },
    {
     "cell_type": "markdown",
     "metadata": {},
     "source": [
      "(<a href='#Table of Contents'>Top</a>)<a id='label'></a><h3>title</h3>"
     ]
    },
    {
     "cell_type": "markdown",
     "metadata": {},
     "source": [
      "(<a href='#Table of Contents'>Top</a>)<a id='label'></a><h3>title</h3>"
     ]
    },
    {
     "cell_type": "markdown",
     "metadata": {},
     "source": [
      "(<a href='#Table of Contents'>Top</a>)<a id='label'></a><h3>title</h3>"
     ]
    }
   ],
   "metadata": {}
  }
 ]
}