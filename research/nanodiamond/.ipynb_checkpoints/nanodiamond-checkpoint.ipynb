{
 "metadata": {
  "name": "",
  "signature": "sha256:61c0fbfd656da0101a745e69b0bd7a5f1e2631a7f05f20bfd277773d1996e736"
 },
 "nbformat": 3,
 "nbformat_minor": 0,
 "worksheets": [
  {
   "cells": [
    {
     "cell_type": "markdown",
     "metadata": {},
     "source": [
      "<h1>nanodiamond</h1>\n",
      "<a id='Table of Contents'></a><h3>Table of Contents</h3>\n",
      "<a href='#Syntax'>HTML and MARKDOWN SYNTAX EXAMPLES</a></br>\n",
      "<a href='#Goal'>Goal</a></br>\n"
     ]
    },
    {
     "cell_type": "markdown",
     "metadata": {},
     "source": [
      "(<a href='#Table of Contents'>Top</a>)<a id='Syntax'></a><h3>Syntax Examples</h3>\n",
      "local link: [link](files/link)</br>\n",
      "remote link: <a href=\"http://ambermd.org/\">http://ambermd.org</a>\n",
      "<font face=\"courier new\"> font face=\"courier new\" </font><br/>\n",
      "$$S_{model}(Q,E)=A(Q)\\cdot S_{elastic}(E) + B(Q)\\cdot S_{simulation}(Q,E)\\otimes S_{elastic}(E) + C(Q)+D(Q)\\cdot E$$\n",
      "<pre> Quoted text </pre>\n",
      "<center><table><tr>\n",
      "<td><a href=\"files/image.png\"><img src=\"files/image.png\" width=\"300\" height=\"250\" alt=\"image here\"></a> <br/>\n",
      "    <i>image caption</i></td>\n",
      "<td>some text</td>\n",
      "</tr></table></center>"
     ]
    },
    {
     "cell_type": "markdown",
     "metadata": {},
     "source": [
      "(<a href='#Table of Contents'>Top</a>)<a id='Goal'></a><h3>Goal</h3>\n",
      "To fit two force-field parameters in order to optimize comparison between simulated and experimental structure factors.\n",
      "\n",
      "The system is composed of:\n",
      "\n",
      "* Spherical shaped nanodiamond\n",
      "* 8 RNA strands\n",
      "* 13 Na+ atoms per RNA strands\n",
      "* TIP3 waters up to a hydration level same as in QENS experiments\n",
      "\n",
      "The two force-field parameters are the Lennard-Jones parameters (epsilong and Rmin) of the carbon atom of the nanodiamond.\n",
      "\n",
      "The faces of a diamond crystal are hydrophobic, but the surface of a spherical-shaped nanodiamond is hydrophilic because surface carbons have one lobe of the SP3 orbital unpaired. The electronic density can make hydrogen-bond like interactions with the water.\n",
      "\n",
      "The RNA strands are atracted to the nanodiamond and stay close to the surface but no docked. They can diffuse on the surface. QENS experiments show a higher quasielastic signal for the RNA when in the presence of the nanodiamond, suggesting increased flexibility than when in bulk.\n",
      "<center><a href=\"files/image.png\"><img src=\"files/fromMonojoy/ND+RNA+water/nanodiamond.gif\" width=\"250\" height=\"300\" alt=\"fromMonojoy/ND+RNA+water/nanodiamond.gif\"></a> <br/><i>fromMonojoy/ND+RNA+water/nanodiamond.gif</i></center>"
     ]
    },
    {
     "cell_type": "code",
     "collapsed": false,
     "input": [],
     "language": "python",
     "metadata": {},
     "outputs": []
    }
   ],
   "metadata": {}
  }
 ]
}