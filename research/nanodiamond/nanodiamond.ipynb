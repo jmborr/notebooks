{
 "metadata": {
  "name": "",
  "signature": "sha256:61c0fbfd656da0101a745e69b0bd7a5f1e2631a7f05f20bfd277773d1996e736"
 },
 "nbformat": 3,
 "nbformat_minor": 0,
 "worksheets": [
  {
   "cells": [
    {
     "cell_type": "markdown",
     "metadata": {},
     "source": [
      "<h1>nanodiamond</h1>\n",
      "<a id='Table of Contents'></a><h3>Table of Contents</h3>\n",
      "<a href='#Syntax'>HTML and MARKDOWN SYNTAX EXAMPLES</a></br>\n",
      "<a href='#Goal'>Goal</a></br>\n",
      "<a href='#People'>People</a></br>\n",
      "<a href='#expdata'>Experimental data</a></br>\n",
      "<a href='#Movie'>Stereoscopic Movie</a></br>\n",
      "<a href='#ParmRange'>Parameter Range Space</a></br>\n",
      "<a href='#FlagH'>Flag selected Hydrogen atoms</a></br>\n",
      "<a href='#Speed'>NAMD speed tests</a></br>\n",
      "<a href='#Compress'>Compression and relaxation runs</a></br>\n",
      "<a href='#Equil'>Equilibrium runs</a></br>\n",
      "<a href='#Gurpreet'>Fits done by Gurpreet Kaur Dhindsa</a></br>\n",
      "<a href='#Vickie'><h4>Simulations done by Vickie</h4></a>\n",
      "\n",
      "* <a href='#MDepsilonRange'>MD simulations in the [-1.2, 0.0] epsilonrange</a></br>\n",
      "\n",
      "<a href='#nond'><h4>No nanodiamond</h4></a>\n",
      "\n",
      "* <a href='#nond.expdata'>Experimental data</a></br>\n",
      "* <a href='#nond.gurpreet_iqt'>I(Q,t) from simulations by Gurpreet</a></br>\n",
      "* <a href='#nond.shindudata'>Simulation system from Debshindu</a></br>\n",
      "* <a href='#nond.compress'>Compress job</a></br>\n"
     ]
    },
    {
     "cell_type": "markdown",
     "metadata": {},
     "source": [
      "(<a href='#Table of Contents'>Top</a>)<a id='Syntax'></a><h3>Syntax Examples</h3>\n",
      "local link: [link](files/link)</br>\n",
      "remote link: <a href=\"http://ambermd.org/\">http://ambermd.org</a>\n",
      "<font face=\"courier new\"> font face=\"courier new\" </font><br/>\n",
      "$$S_{model}(Q,E)=A(Q)\\cdot S_{elastic}(E) + B(Q)\\cdot S_{simulation}(Q,E)\\otimes S_{elastic}(E) + C(Q)+D(Q)\\cdot E$$\n",
      "<pre> Quoted text </pre>\n",
      "<center><table><tr>\n",
      "<td><center><a href=\"files/image.png\"><img src=\"files/image.png\" width=\"300\" height=\"250\" alt=\"image here\"></a> <br/><i>image caption</i></center></td>\n",
      "<td><center>some text</center></td>\n",
      "</tr></table></center>"
     ]
    },
    {
     "cell_type": "markdown",
     "metadata": {},
     "source": [
      "(<a href='#Table of Contents'>Top</a>)<a id='Goal'></a><h3>Goal</h3>\n",
      "To fit two force-field parameters in order to optimize comparison between simulated and experimental structure factors.\n",
      "\n",
      "The system is composed of:\n",
      "\n",
      "* Spherical shaped nanodiamond\n",
      "* 8 RNA strands\n",
      "* 13 Na+ atoms per RNA strands\n",
      "* TIP3 waters up to a hydration level same as in QENS experiments\n",
      "\n",
      "The two force-field parameters are the Lennard-Jones parameters (epsilong and Rmin) of the carbon atom of the nanodiamond.\n",
      "\n",
      "The faces of a diamond crystal are hydrophobic, but the surface of a spherical-shaped nanodiamond is hydrophilic because surface carbons have one lobe of the SP3 orbital unpaired. The electronic density can make hydrogen-bond like interactions with the water.\n",
      "\n",
      "The RNA strands are atracted to the nanodiamond and stay close to the surface but no docked. They can diffuse on the surface. QENS experiments show a higher quasielastic signal for the RNA when in the presence of the nanodiamond, suggesting increased flexibility than when in bulk.\n",
      "<center><a href=\"files/fromMonojoy/ND+RNA+water/nanodiamond.gif\"><img src=\"files/fromMonojoy/ND+RNA+water/nanodiamond.gif\" width=\"250\" height=\"300\" alt=\"fromMonojoy/ND+RNA+water/nanodiamond.gif\"></a> <br/><i>fromMonojoy/ND+RNA+water/nanodiamond.gif</i></center>"
     ]
    },
    {
     "cell_type": "markdown",
     "metadata": {},
     "source": [
      "(<a href='#Table of Contents'>Top</a>)<a id='People'></a><h3>People</h3>\n",
      "\n",
      "- Monojoy Goswami, <goswamim@ornl.gov>\n",
      "- Vickie E. Lynch <lynchve@ornl.gov>,\n",
      "- Debsindhu Bhowmik <debsindhu@wayne.edu>,\n",
      "- (Rosie) Xiang-Qiang Chu <chux@wayne.edu>,\n",
      "- Gurpreet Kaur Dhindsa <el2275@wayne.edu>"
     ]
    },
    {
     "cell_type": "markdown",
     "metadata": {},
     "source": [
      "(<a href='#Table of Contents'>Top</a>)<a id='expdata'></a><h3>Experimental data</h3>\n",
      "Monojoy sent me structure factors S(Q,E) for different temperatures in ASCII format in directory <i>expdata</i></br>\n",
      "The data is in Ascii format which can be read into Mantid with the first version of LoadAscii. Thus, we convert this data to Nexus format with [convert_expdata_to_nexus_format.py](files/python/convert_expdata_to_nexus_format.py), creating files <i>exp220.nxs</i>,..,<i>exp310.nxs</i>."
     ]
    },
    {
     "cell_type": "markdown",
     "metadata": {},
     "source": [
      "(<a href='#Table of Contents'>Top</a>)<a id='Movie'></a><h3>Stereoscopic Movie</h3>\n",
      "I did a stereoscopic [movie](files/fromMonojoy/ND+RNA+water/anaglyph.mpg) that allows one to see the frames as 3D with the help of a pair of red/cyan glasses. The steps are as follow:\n",
      "\n",
      "* I loaded pdb file [ND_8RNA_water-exp_4.pdb](files/fromMonojoy/ND+RNA+water/ND_8RNA_water-exp_4.pdb) and save an appropriate view in the visualization file [anaglyph.vmd](files/fromMonojoy/ND+RNA+water/anaglyph.vmd).\n",
      "* I reopened vmd and loaded the visualization file, then wrote in the terminal display <font face=\"courier new\">stereo Anaglyph</font>, which creates a suitable stereoscopic view.\n",
      "* Using Extensions -> Visualization -> Movie Maker I made a movie in MPEG2 format by a 360 degree rotation around the Y-axis every degree, with a scheduled time of 30s."
     ]
    },
    {
     "cell_type": "markdown",
     "metadata": {},
     "source": [
      "(<a href='#Table of Contents'>Top</a>)<a id='ParmRange'></a><h3>Parameter Range Space</h3>\n",
      "In order to assess how much we are going to vary the epsilon and Rmin of the nanodiamond carbon atom, we do a scatter plot of  the (epsilon, Rmin) pairs for all the atom types in force-file parameter file [par_all27_prot_na_m_ONLY_LJ.prm](files/parameter_range/par_all27_prot_na_m_ONLY_LJ.prm).\n",
      "\n",
      "<center><a href=\"files/parameter_range/parameter_samples.png\"><img src=\"files/parameter_range/parameter_samples.png\" width=\"350\" height=\"300\" alt=\"parameter_range/parameter_samples.png\"></a> <br/><i>parameter_range/parameter_samples.png(agr)</i></center>\n",
      "\n",
      "From the plot, the epsilon range is ~[-0.7, 0.0] and the Rmin/2 range is ~[0.0, 2.75]."
     ]
    },
    {
     "cell_type": "markdown",
     "metadata": {},
     "source": [
      "(<a href='#Table of Contents'>Top</a>)<a id='FlagH'></a><h3>Flag selected Hydrogen atoms</h3>\n",
      "Experimental data had hydrogenated RNA in deuterated water. Thus, we are going to flag the hydrogens in the RNA in a PDB file in order to later pass it to Sassena when calculating the structure factor. For completeness, we can flat the hydrogens in the water molecules if interested in looking at the dynamics of the water molecule.\n",
      "\n",
      "Python cript [flagH.py](files/python/flagH.py) loads reference PDB file [ND_8RNA_water-exp_4.pdb](files/fromMonojoy/ND+RNA+water/ND_8RNA_water-exp_4.pdb) and by either selecting RNA or water, produces PDB files [rnaH.pdb](files/analysis/rnaH.pdb) and [waterH.pdb](files/analysis/waterH.pdb). Example Sassena input configuration file [sassenaInc_rnaH.xml](files/analysis/sassenaInc_rnaH.xml) will make use of rnaH.pdb."
     ]
    },
    {
     "cell_type": "markdown",
     "metadata": {},
     "source": [
      "(<a href='#Table of Contents'>Top</a>)<a id='Speed'></a><h3>NAMD speed tests</h3>\n",
      "Monojoy told us that simulations of this system are slow. Thus we tried to simulate in Titan with CPU and GPU and with nanodiamond atoms fixed or mobile. The best results were obtained with 16 nodes (256 CPUS) and fixed nanodiamond carbons. Namd input configuration file [test_fixedatoms.conf](files/namd_tests/cpu/test_fixedatoms.conf) makes use of PDF file \n",
      "[diamondfixed.pdb](files/namd_tests/cpu/diamondfixed.pdb) which flags the atoms to be fixed.\n",
      "\n",
      "<center><a href=\"files/namd_tests/cpu/scaling_table.png\"><img src=\"files/namd_tests/cpu/scaling_table.png\" width=\"350\" height=\"300\" alt=\"namd_tests/cpu/scaling_table.png\"></a> <br/><i>namd_tests/cpu/scaling_table.png(agr)</i></center>\n"
     ]
    },
    {
     "cell_type": "markdown",
     "metadata": {},
     "source": [
      "(<a href='#Table of Contents'>Top</a>)<a id='Compress'></a><h3>Compression and relaxation runs</h3>\n",
      "The original cell size is way too big (~195A) so we run compression runs at P=10atpm (e.g. [compress.1.conf](files/compress/compress.1.conf)) followed by relaxation runs at P=1atm (e.g. [compress.1.conf](files/relax/relax.1.conf)).\n",
      "<center><table><tr>\n",
      "<td><a href=\"files/relax/relax_pressure.png\"><img src=\"files/relax/relax_pressure.png\" width=\"300\" height=\"200\" alt=\"relax/relax_pressure.png\"></a> <br/><center><i>relax/relax_pressure.png</i></center></td>\n",
      "<td><a href=\"files/relax/relax_boxsize.png\"><img src=\"files/relax/relax_boxsize.png\" width=\"300\" height=\"200\" alt=\"relax/relax_boxsize.png\"></a> <br/><center><i>relax/relax_boxsize.png</i></center></td>\n",
      "</tr></table></center>\n",
      "Last snapshot of relax.2 run:\n",
      "<center><a href=\"files/relax/relax.2.png\"><img src=\"files/relax/relax.2.png\" width=\"150\" height=\"300\" alt=\"relax/relax.2.png\"></a> <br/><i>relax/relax.2.png</i></center></td>"
     ]
    },
    {
     "cell_type": "markdown",
     "metadata": {},
     "source": [
      "(<a href='#Table of Contents'>Top</a>)<a id='Equil'></a><h3>Equilibrium runs</h3>\n",
      "Some properties of the equilibrium runs:\n",
      "\n",
      "* 10ns runs\n",
      "* Output conformations every 1ps\n",
      "* No cell wrapping\n",
      "* Constant volume\n",
      "* Carbon atoms fixed, and no forces are computed between carbon atoms\n",
      "\n",
      "NAMD configuration file [equil_template.conf](files/equil/equil_template.conf) is one example of an equilibrium run."
     ]
    },
    {
     "cell_type": "markdown",
     "metadata": {},
     "source": [
      "(<a href='#Table of Contents'>Top</a>)<a id='Gurpreet'></a><h3>Fits done by Gurpreet Kaur Dhindsa</h3>\n",
      "Gurpreet did a two Lorentzian fit at 300K. He says that the fits at Q=1.9 and Q=1.9 are not reliable, and the fit at Q=0.3 is barely realiable:\n",
      "<pre>\"The fitting quality at 1.7 and 1.9 q-values are not good. But if fitting is not good at 0.3 you can skip that too.\"</pre>\n",
      "<center><table><tr>\n",
      "<td><center><a href=\"files/gurpreet/EISF.png\"><img src=\"files/gurpreet/EISF.png\" width=\"300\" height=\"250\" alt=\"gurpreet/EISF.png\"></a> <br/><i>gurpreet/EISF.png</i></center></td>\n",
      "<td><center><a href=\"files/gurpreet/FWHM.png\"><img src=\"files/gurpreet/FWHM.png\" width=\"300\" height=\"250\" alt=\"gurpreet/FWHM.png\"></a> <br/><i>gurpreet/FWHM.png</i></center></td>\n",
      "</tr></table></center>"
     ]
    },
    {
     "cell_type": "markdown",
     "metadata": {},
     "source": [
      "(<a href='#Table of Contents'>Top</a>)<a id='Vickie'></a><h2>Simulations done by Vickie</h2>"
     ]
    },
    {
     "cell_type": "markdown",
     "metadata": {},
     "source": [
      "(<a href='#Table of Contents'>Top</a>)<a id='MDepsilonRange'></a><h3>MD simulations at 300K in the [-1.2, 0.0] epsilonrange</h3>\n",
      "In <i>nersc.carger.gov:/global/project/projectdirs/m1503/camm/Nanodiamond</i> there are 10 simulations, each 12ns long, at a different value of $\\epsilon$. Each simulation is made of two runs, each 6ns. The first run is within subdirectory <i>FIRST</i>. Thus, for $\\epsilon=0.0$ the two runs ares <i>Nanodiamond/FIRST/test1_fixedatoms.dcd</i> and <i>Nanodiamond/test1_fixedatoms.dcd</i>.</br>\n",
      "Global translations and rotations of the system are removed with [rms2first.ptraj](files/vickie/Nanodiamond/rms2first.ptraj), and both runs are merged into one. For $\\epsilon=0.0$ the final trajectory file is test1_fixedatoms_merged.dcd.\n",
      "\n",
      "Sassena jobs on the trajectories are performed, results are in directory In <i>camm.sns.gov:/SNSlocal/projects/jbq/nanodiamond/vickie/Sqw_to_Iqt/</i>. For $\\epsilon=0.0$, files fqt_inc_1.hd5 and fqt_inc_1.hd5 represent the coherent and incoherent intermediate structure factor.\n",
      "\n"
     ]
    },
    {
     "cell_type": "markdown",
     "metadata": {},
     "source": [
      "(<a href='#Table of Contents'>Top</a>)<a id='nond'></a><h2>No nanodiamond</h2>\n",
      "Here are studies of the system of RNA plus water. There is no nanodiamond.</br>\n",
      "Main directory is <i>nodiamond/</i>"
     ]
    },
    {
     "cell_type": "markdown",
     "metadata": {},
     "source": [
      "(<a href='#Table of Contents'>Top</a>)<a id='nond.expdata'></a><h3>Experimental data</h3>\n",
      "In <i>nodiamond/expdata/</i>, file <i>Experimental_ISF_of_RNA_water_300K.dat</i> contains I(Q,t) for Q in the range 0.5 $A^{-1}$ to 1.7 $A^{-1}$.\n",
      "<center><a href=\"files/nodiamond/expdata/iqt.png\"><img src=\"files/nodiamond/expdata/iqt.png\" width=\"400\" height=\"300\" alt=\"nodiamond/expdata/iqt.png\"></a> <br/><i>nodiamond/expdata/iqt.agr(.png)</i></center>"
     ]
    },
    {
     "cell_type": "markdown",
     "metadata": {},
     "source": [
      "(<a href='#Table of Contents'>Top</a>)<a id='nond.gurpreet_iqt'></a><h3>I(Q,t) from simulations by Gurpreet</h3>\n",
      "In directory <i>nodiamond/gurpreet/</i> [ionized.pdb](files/nodiamond/gurpreet/ionized.pdb) seems to be one snapshot for the initial conformation of the system.\n",
      "\n",
      "<center><a href=\"files/nodiamond/gurpreet/ionized.png\"><img src=\"files/nodiamond/gurpreet/ionized.png\" width=\"300\" height=\"400\" alt=\"nodiamond/gurpreet/ionized.png\"></a> <br/><i>[ionized.pdb](files/nodiamond/gurpreet/ionized.pdb)</i></center>\n",
      "\n",
      "File <i>Simulation_ISF_H_300_of_RNA_and_water_is_deuterated_after_1ns.dat</i> contains I(Q,t) for simulations \n",
      "<center><a href=\"files/nodiamond/gurpreet/iqt.png\"><img src=\"files/nodiamond/gurpreet/iqt.png\" width=\"400\" height=\"300\" alt=\"nodiamond/gurpreet/iqt.png\"></a> <br/><i>nodiamond/gurpreet/iqt.agr(.png)</i></center>\n",
      "\n",
      "The I(Q,t) for simulations decays slower than experiment at smaller Q values, there seems to be crossover at Q~0.9, and then decays much faster than experiment at high Q-values.\n",
      "<center><a href=\"files/nodiamond/gurpreet/iqt_compare_to_experiment.png\"><img src=\"files/nodiamond/gurpreet/iqt_compare_to_experiment.png\" width=\"400\" height=\"300\" alt=\"nodiamond/gurpreet/iqt_compare_to_experiment.png\"></a> <br/><i>nodiamond/gurpreet/iqt_compare_to_experiment.agr(.png)</i></center>"
     ]
    },
    {
     "cell_type": "markdown",
     "metadata": {},
     "source": [
      "(<a href='#Table of Contents'>Top</a>)<a id='nond.shindudata'></a><h3>Simulation system from Debshindu</h3>\n",
      "Shindu sent a series of files for the nodiamond system. In <i>nodiamond/shindu</i>:\n",
      "\n",
      "* [8RNA_water.pdb](files/nodiamond/shindu/8RNA_water.pdb)\n",
      "* 299D.conf\n",
      "* ionized.psf\n",
      "* min_equ_02.restart.coor, min_equ_02.restart.vel, min_equ_02.restart.xsc\n",
      "\n",
      "The system is composed of 8 RNA chains.\n",
      "\n",
      "<center><a href=\"files/nodiamond/shindu/8RNA_water.png\"><img src=\"files/nodiamond/shindu/8RNA_water.png\" width=\"300\" height=\"400\" alt=\"nodiamond/shindu/8RNA_water.png\"></a> <br/><i>[shindu/8RNA_water.pdb](files/nodiamond/shindu/8RNA_water.pdb)(.png)</i></center>"
     ]
    },
    {
     "cell_type": "markdown",
     "metadata": {},
     "source": [
      "(<a href='#Table of Contents'>Top</a>)<a id='nond.compress'></a><h3>Compress job</h3>\n",
      "In <i>nodiamond/compress</i> we run a compress/relax job using as input the Shindu's files to relax the conformation for 1ns."
     ]
    }
   ],
   "metadata": {}
  }
 ]
}