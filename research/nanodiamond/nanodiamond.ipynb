{
 "metadata": {
  "name": "",
  "signature": "sha256:61c0fbfd656da0101a745e69b0bd7a5f1e2631a7f05f20bfd277773d1996e736"
 },
 "nbformat": 3,
 "nbformat_minor": 0,
 "worksheets": [
  {
   "cells": [
    {
     "cell_type": "markdown",
     "metadata": {},
     "source": [
      "<h1>nanodiamond</h1>\n",
      "<a id='Table of Contents'></a><h3>Table of Contents</h3>\n",
      "<a href='#Syntax'>HTML and MARKDOWN SYNTAX EXAMPLES</a></br>\n",
      "<a href='#Goal'>Goal</a></br>\n",
      "<a href='#Movie'>Stereoscopic Movie</a></br>\n",
      "<a href='#ParmRange'>Parameter Range Space</a></br>\n",
      "<a href='#FlagH'>Flag selected Hydrogen atoms</a></br>"
     ]
    },
    {
     "cell_type": "markdown",
     "metadata": {},
     "source": [
      "(<a href='#Table of Contents'>Top</a>)<a id='Syntax'></a><h3>Syntax Examples</h3>\n",
      "local link: [link](files/link)</br>\n",
      "remote link: <a href=\"http://ambermd.org/\">http://ambermd.org</a>\n",
      "<font face=\"courier new\"> font face=\"courier new\" </font><br/>\n",
      "$$S_{model}(Q,E)=A(Q)\\cdot S_{elastic}(E) + B(Q)\\cdot S_{simulation}(Q,E)\\otimes S_{elastic}(E) + C(Q)+D(Q)\\cdot E$$\n",
      "<pre> Quoted text </pre>\n",
      "<center><table><tr>\n",
      "<td><a href=\"files/image.png\"><img src=\"files/image.png\" width=\"300\" height=\"250\" alt=\"image here\"></a> <br/>\n",
      "    <i>image caption</i></td>\n",
      "<td>some text</td>\n",
      "</tr></table></center>"
     ]
    },
    {
     "cell_type": "markdown",
     "metadata": {},
     "source": [
      "(<a href='#Table of Contents'>Top</a>)<a id='Goal'></a><h3>Goal</h3>\n",
      "To fit two force-field parameters in order to optimize comparison between simulated and experimental structure factors.\n",
      "\n",
      "The system is composed of:\n",
      "\n",
      "* Spherical shaped nanodiamond\n",
      "* 8 RNA strands\n",
      "* 13 Na+ atoms per RNA strands\n",
      "* TIP3 waters up to a hydration level same as in QENS experiments\n",
      "\n",
      "The two force-field parameters are the Lennard-Jones parameters (epsilong and Rmin) of the carbon atom of the nanodiamond.\n",
      "\n",
      "The faces of a diamond crystal are hydrophobic, but the surface of a spherical-shaped nanodiamond is hydrophilic because surface carbons have one lobe of the SP3 orbital unpaired. The electronic density can make hydrogen-bond like interactions with the water.\n",
      "\n",
      "The RNA strands are atracted to the nanodiamond and stay close to the surface but no docked. They can diffuse on the surface. QENS experiments show a higher quasielastic signal for the RNA when in the presence of the nanodiamond, suggesting increased flexibility than when in bulk.\n",
      "<center><a href=\"files/fromMonojoy/ND+RNA+water/nanodiamond.gif\"><img src=\"files/fromMonojoy/ND+RNA+water/nanodiamond.gif\" width=\"250\" height=\"300\" alt=\"fromMonojoy/ND+RNA+water/nanodiamond.gif\"></a> <br/><i>fromMonojoy/ND+RNA+water/nanodiamond.gif</i></center>"
     ]
    },
    {
     "cell_type": "markdown",
     "metadata": {},
     "source": [
      "(<a href='#Table of Contents'>Top</a>)<a id='Movie'></a><h3>Stereoscopic Movie</h3>\n",
      "I did a stereoscopic [movie](files/fromMonojoy/ND+RNA+water/anaglyph.mpg) that allows one to see the frames as 3D with the help of a pair of red/cyan glasses. I loaded pdb file [ND_8RNA_water-exp_4.pdb](files/fromMonojoy/ND+RNA+water/ND_8RNA_water-exp_4.pdb) and save an appropriate vie in the visualization file [anaglyph.vmd](files/fromMonojoy/ND+RNA+water/anaglyph.vmd). I then reopened vmd and loaded the visualization file, then wrote in the terminal display stereo Anaglyph, which creates a suitable stereoscopic view. Then, using Extensions -> Visualization -> Movie Maker I made a movie in MPEG2 format by a 360 degree rotation around the Y-axis every degree, with a scheduled time of 30s."
     ]
    },
    {
     "cell_type": "markdown",
     "metadata": {},
     "source": [
      "(<a href='#Table of Contents'>Top</a>)<a id='ParmRange'></a><h3>Parameter Range Space</h3>\n",
      "In order to assess how much we are going to vary the epsilon and Rmin of the nanodiamond carbon atom, we do a scatter plot of  the (epsilon, Rmin) pairs for all the atom types in force-file parameter file [par_all27_prot_na_m_ONLY_LJ.prm](files/parameter_range/par_all27_prot_na_m_ONLY_LJ.prm).\n",
      "\n",
      "<center><a href=\"files/parameter_range/parameter_samples.png\"><img src=\"files/parameter_range/parameter_samples.png\" width=\"350\" height=\"300\" alt=\"parameter_range/parameter_samples.png\"></a> <br/><i>parameter_range/parameter_samples.png(agr)</i></center>\n",
      "\n",
      "From the plot, the epsilon range is ~[-0.7, 0.0] and the Rmin/2 range is ~[0.0, 2.75]."
     ]
    },
    {
     "cell_type": "markdown",
     "metadata": {},
     "source": [
      "(<a href='#Table of Contents'>Top</a>)<a id='FlagH'></a><h3>Flag selected Hydrogen atoms</h3>\n",
      "Experimental data had hydrogenated RNA in deuterated water. Thus, we are going to flag the hydrogens in the RNA in a PDB file in order to later pass it to Sassena when calculating the structure factor. For completeness, we can flat the hydrogens in the water molecules if interested in looking at the dynamics of the water molecule.\n",
      "\n",
      "Python cript [flagH.py](files/python/flagH.py) loads reference PDB file [ND_8RNA_water-exp_4.pdb](files/fromMonojoy/ND+RNA+water/ND_8RNA_water-exp_4.pdb) and by either selecting RNA or water, produces PDB files [rnaH.pdb](files/analysis/rnaH.pdb) and [waterH.pdb](files/analysis/waterH.pdb). Example Sassena input configuration file [sassenaInc_rnaH.xml](files/analysis/sassenaInc_rnaH.xml) will make use of rnaH.pdb."
     ]
    },
    {
     "cell_type": "code",
     "collapsed": false,
     "input": [],
     "language": "python",
     "metadata": {},
     "outputs": []
    }
   ],
   "metadata": {}
  }
 ]
}