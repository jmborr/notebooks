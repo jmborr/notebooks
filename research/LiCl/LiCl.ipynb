{
 "metadata": {
  "name": "",
  "signature": "sha256:8fde4836754eb6d0cb8adc44eda87d35ac76c6a027b750d301e31cf68a137ebd"
 },
 "nbformat": 3,
 "nbformat_minor": 0,
 "worksheets": [
  {
   "cells": [
    {
     "cell_type": "markdown",
     "metadata": {},
     "source": [
      "<h1>Lithium Chloride Solution</h1>\n",
      "This notebook starts where \\$PROJD/README_LiCl.docx, \\$CODED/bash_commands.sh, and \\$CODED/LiCl.py left\n",
      "<a id='Table of Contents'></a><h3>Table of Contents</h3>\n",
      "<a href='#Syntax Examples'>HTML and MARKDOWN SYNTAX EXAMPLES</a>  \n",
      "<a href='#Global variables'>Global variables</a>  \n",
      "<a href='#Neutron Spin Echo NSE Experimental Data'>Neutron Spin Echo NSE Experimental Data</a>  \n",
      "<a href='#Conversion factor between Hydrogen charge and dipole moment'>Conversion factor between Hydrogen charge and dipole moment</a>  \n",
      "<a href='#Effective fraction'>Effective fraction</a>  \n",
      "<a href='#Single Lorentzian fit of Eugene data'>Single Lorentzian fit of Eugene data</a>  \n",
      "<a href='#DSFinterp1DFit to watBox30/Hq (NVE)'>DSFinterp1DFit to watBox30/Hq (NVE)</a>  \n",
      "<a href='#Runs at lower temperatures (NVE)'>Runs at lower temperatures (NVE)</a>  \n",
      "<a href='#Vickie results at 230K with Kepler and NPT'>Vickie's results at 230K with Kepler and NPT</a>  \n",
      "<a href='#10ns Simulations in the NPT Ensemble'>10ns Simulations in the NPT Ensemble</a>  \n",
      "<a href='#Applying DSFinterp to 100ns NPT simulations and compare to Neutron Spin Echo (NSE) data'>Applying DSFinterp to 100ns NPT simulations and compare to Neutron Spin Echo (NSE) data</a>  \n",
      "<a href='#Diffussion of the 10ns NPT simulations and Universality by Temperature shifting'>Diffussion of the 10ns NPT simulations and Universality by Temperature shifting</a>  \n",
      "<a href='#Fitting QENS simulations to Stretched Exponential'>Fitting QENS simulations to Stretched Exponential</a>  \n",
      "<a href='#Fitting NSE simulations to Stretched plus Single Exponential'>Fitting NSE simulations to Stretched plus Single Exponential</a>  \n",
      "<a href='#Power Point Presentation at QENS/WINS'>Power Point Presentation at QENS/WINS</a>\n",
      "<a href='#'></a>  "
     ]
    },
    {
     "cell_type": "markdown",
     "metadata": {},
     "source": [
      "(<a href='#Table of Contents'>Top</a>)<a id='Syntax Examples'></a><h3>Syntax Examples</h3>\n",
      "local link: [link](files/link)</br>\n",
      "remote link: <a href=\"http://ambermd.org/\">http://ambermd.org</a>\n",
      "<font face=\"courier new\"> font face=\"courier new\" </font><br/>\n",
      "$$S_{model}(Q,E)=A(Q)\\cdot S_{elastic}(E) + B(Q)\\cdot S_{simulation}(Q,E)\\otimes S_{elastic}(E) + C(Q)+D(Q)\\cdot E$$\n",
      "<pre> Quoted text </pre>\n",
      "<center><table><tr>\n",
      "<td><a href=\"files/image.png\"><img src=\"files/image.png\" width=\"300\" height=\"250\" alt=\"image here\"></a> <br/>\n",
      "    <i>image caption</i></td>\n",
      "<td>some text</td>\n",
      "</tr></table></center>"
     ]
    },
    {
     "cell_type": "markdown",
     "metadata": {},
     "source": [
      "(<a href='#Table of Contents'>Top</a>)<a id='Global variables'></a>\n",
      "<h3>Global variables</h3>\n",
      "<pre>%%bash\n",
      "export PROJD=/projects/research/LiCl\n",
      "export CODED=/home/jbq/code/projects/LiCl  # only for legacy purposes/pre>"
     ]
    },
    {
     "cell_type": "markdown",
     "metadata": {},
     "source": [
      "(<a href='#Table of Contents'>Top</a>)<a id='Neutron Spin Echo NSE Experimental Data'></a>\n",
      "<h3>Neutron Spin Echo NSE Experimental Data</h3>\n",
      "In directory [NSEdata](files/EugeneData/NSEdata), files [NSE_201K.dat](files/EugeneData/NSEdata/NSE_201K.dat) and  [NSE_210K.dat](files/EugeneData/NSEdata/NSE_210K.dat) contain I(Q~0.45,t). Some remarks:\n",
      "<ul>\n",
      "<li>Intensity should be one at origin of times</li>\n",
      "<li>Time is measured in nano-seconds</li>\n",
      "<li>File NSE_210K.dat contain less points</li>\n",
      "</ul> "
     ]
    },
    {
     "cell_type": "markdown",
     "metadata": {},
     "source": [
      "(<a href='#Table of Contents'>Top</a>)<a id='Conversion factor between Hydrogen charge and dipole moment'></a>\n",
      "<h3>Conversion factor between Hydrogen charge and dipole moment</h3>\n",
      "For the TIP3 model employed here, the conversion factor between the hydrogen charge, expressed in units of the electron-charge, and the dipole moment expressed in units of Debye is <b>5.628224827</b><br/>\n",
      "\n",
      "The geometry of the TIP3 water model was used to calculate the dipole moment:\n",
      "<pre>\n",
      "r(OH), \u00c5 \t0.9572\n",
      "HOH, deg \t104.52\n",
      "</pre>"
     ]
    },
    {
     "cell_type": "markdown",
     "metadata": {},
     "source": [
      "(<a href='#Table of Contents'>Top</a>)<a id='Effective fraction'></a>\n",
      "<h3>Effective fraction</h3> of water molecules, defined as the number of water molecules having a close ion: \n",
      "<a href=\"http://arxiv.org/abs/0910.1791\">Citation</a> stating that water has a calculated dipole moment of 2.72D in the presence of a Chlorine ion. Water models from <a href=\"http://en.wikipedia.org/wiki/Water_model\">Wikipedia</a> state that SPE/D water model has a dipole moment of 2.35D, hence the TIP3 model has a dipole moment of 2.312D. [Bucher08](files/Papers/Bucher08.pdf) calculated a dipole moment of 3.01D when in the presence of a potassium ion.\n",
      "\n",
      "We assume that a number of water molecules has a polarization corresponding to that of being in close proximity to a Chlorine ion, the same number is in close proximity to a Lithium ion (we treat it as a potassium ion):\n",
      "\n",
      "$2.67\\cdot n + 3.01 \\cdot n + (N-n) \\cdot 2.312 = N \\cdot 2.312 \\cdot \\frac{0.433}{0.417}$. \n",
      "\n",
      "We assumed an effective dipole moment of $2.312 \\cdot \\frac{0.433}{0.417}$ , and N=1128 in our simulations, giving the result $n=100.06$.\n",
      "\n",
      "Our simulations contain 154 Li and 154 Chlorine ions. It is a concentrated solution so $n<154$ is what we would expect because some of the Li and Cl will clump together and partially hide from water. Our simplistic calculation should hold in very dilute solutions, which is not the case for our simulations."
     ]
    },
    {
     "cell_type": "markdown",
     "metadata": {},
     "source": [
      "(<a href='#Table of Contents'>Top</a>)<a id='Single Lorentzian fit of Eugene data'></a>\n",
      "<h3>Single Lorentzian fit of Eugene data</h3>\n",
      "In <i>/projects/research/LiCl/EugeneData</i>, we fit the Eugene's data to a continous diffusion model with python script [lorentzian_fit.py](files/EugeneData/lorentzian_fit/lorentzian_fit.py) and same a mantid session of the fits in directory [lorentzian_fit](files/EugeneData/lorentzian_fit).</br>\n",
      "The fits show that the slope of FWHM with $Q^2$ is more or less linear above 230K, note that $FWHM=(2D/\\hbar)Q^2$ with $D$ the diffusion coefficient in this model.<br/>\n",
      "<center><a href=\"files/EugeneData/lorentzian_fit/fwhm.png\"><img src=\"files/EugeneData/lorentzian_fit/fwhm.png\" width=\"400\" height=\"450\" alt=\"fwhm.png\"></a></center><br/>\n"
     ]
    },
    {
     "cell_type": "markdown",
     "metadata": {},
     "source": [
      "(<a href='#Table of Contents'>Top</a>)<a id='DSFinterp1DFit to watBox30/Hq (NVE)'></a>\n",
      "<h3>DSFinterp1DFit to watBox30/Hq (NVE)</h3>\n",
      "In [watBox30/Hq](files/watBox30/Hq), script [dsfinpterp1Dfit_apply.py](files/watBox30/Hq/dsfinpterp1Dfit_apply.py) and mantid session [Dsfinpterp1DFit_apply.mantid](files/watBox30/Hq/DSFinterp1DFit_apply/DSFinterp1DFit_apply.mantid) loads the incoherent intermediate structure factors from the simulations with different values of the hydrogen charge and apply DSFinterp1DFit to derive the optimal charge at different Q values:\n",
      "<pre>\n",
      "Q=0.3 Hq_opt= 0.421603109734 Elastic= 0.26741831247  Quasielastic= 2.05221026926 Chi2= 1.44219527507\n",
      "Q=0.5 Hq_opt= 0.428164655722 Elastic= 0.191981712951 Quasielastic= 1.91928404407 Chi2= 1.39074746186\n",
      "Q=0.7 Hq_opt= 0.425978500607 Elastic= 0.167258312786 Quasielastic= 2.09635948507 Chi2= 1.46532638304\n",
      "Q=0.9 Hq_opt= 0.426251872337 Elastic= 0.130476011648 Quasielastic= 2.13140570824 Chi2= 1.72290920323\n",
      "</pre>\n",
      "Notice how Hq_opt at Q=0.3 is significantly lower than those Hq_opt at the other Q values.<br/>\n",
      "Notice also how simulations with values of Hq close to each other do not provide expected structure factors. In the example below, the structure factor \"conv Hq=0.423\" , the green curve, is clearly outside its expected location, which should be in between the red and the blue curve. This happened because of simulation uncertainty. After the interpolation handles this uncertainty, the structure factor \"interp Hq=0.423\" lies in its expected position.\n",
      "\n",
      "<table><tr>\n",
      "<td><a href=\"files/watBox30/Hq/DSFinterp1DFit_apply/before_interpolation.png\"><img src=\"files/watBox30/Hq/DSFinterp1DFit_apply/before_interpolation.png\" width=\"400\" height=\"450\" alt=\"before_interpolation.png\"></a> <br/>\n",
      "    <i>before_interpolation.png</i></td>\n",
      "<td><td><a href=\"files/watBox30/Hq/DSFinterp1DFit_apply/after_interpolation.png\"><img src=\"files/watBox30/Hq/DSFinterp1DFit_apply/after_interpolation.png\" width=\"400\" height=\"450\" alt=\"after_interpolation.png\"></a> <br/>\n",
      "    <i>after_interpolation.png</i></td></td>\n",
      "</tr><table>\n"
     ]
    },
    {
     "cell_type": "markdown",
     "metadata": {},
     "source": [
      "(<a href='#Table of Contents'>Top</a>)<a id='Runs at lower temperatures (NVE)'></a>\n",
      "<h3>Runs at lower temperatures (NVE)</h3>\n",
      "In order to ascertain wether the dipole moment changes significantly in the 200K-290K, we will do simulations at T=200K and T=250K.<br/>\n",
      "Paper Gubskaya02.pdf suggest that the dipole moment changes by 10% in the range 273K-373K.<br/>\n",
      "Several bash commands to set up the simulations within file [bash_commands.sh](files/watBox30/Hq/bash_commands.sh)<br/>\n",
      "\n",
      "Equilibrium runs are done in my workstation, however production runs are done in Titan (/ccs/home/jmborr/mat049/LiCl/watBox30/Hq). Runs output every 1ps for a total of 10ns.\n",
      "\n",
      "script [dsfinpterp1Dfit_apply_T200.py](files/watBox30/Hq/dsfinpterp1Dfit_apply_T200.py) carries out the minimization at T=200K and <b>also at T=250K</b> if edited and variable T is changed.<br/>\n",
      "Surprisingly, we find that the optimal Hq decreases with temperature, that is, the effective water dipole decreases with temperature. the trend seem to be similar for the different Q values. In magenta are the Hq values that minimize the sum of the Chi2 for all four Q-values, thus is as if we did a global fit.<br/>\n",
      "<center><a href=\"files/watBox30/Hq/Hq_optimal_vs_T.png\"><img src=\"files/watBox30/Hq/Hq_optimal_vs_T.png\" width=\"400\" height=\"450\" alt=\"Hq_optimal_vs_T.(agr)png\"></a><br/><i>Hq_optimal_vs_T.(agr)png</i></center>\n",
      "\n",
      "We decided to plot the goodness of fit versus Hq by producing a series of interpolated structure factors for the Hq domain [0.30, 0.46]. We do this for T=200K using script [chi_versus_Hq_T200.py](files/watBox30/Hq/chi_versus_Hq_T200.py) and for T=290K using script [chi_versus_Hq_T290.py](files/watBox30/Hq/chi_versus_Hq_T290.py). In magenta are the curves resulting from the sum of the curves over all four Q-values. The minimum of these curves is the Hq that minimized a global fit.<br/>\n",
      "\n",
      "<center><table><tr>\n",
      "<center><td><a href=\"files/watBox30/Hq/chi_versus_Hq_T200.png\"><img src=\"files/watBox30/Hq/chi_versus_Hq_T200.png\" width=\"400\" height=\"450\" alt=\"chi_versus_Hq_T200.png\"></a> <br/>\n",
      "    <i>chi_versus_Hq_T200.agr(png)</i></td></center>\n",
      "<center><td><a href=\"files/watBox30/Hq/chi_versus_Hq_T250.png\"><img src=\"files/watBox30/Hq/chi_versus_Hq_T250.png\" width=\"400\" height=\"450\" alt=\"chi_versus_Hq_T250.png\"></a> <br/>\n",
      "    <i>chi_versus_Hq_T250.agr(png)</i></td></center>    \n",
      "<center><td><a href=\"files/watBox30/Hq/chi_versus_Hq_T290.png\"><img src=\"files/watBox30/Hq/chi_versus_Hq_T290.png\" width=\"400\" height=\"450\" alt=\"chi_versus_Hq_T290.png\"></a> <br/>\n",
      "    <i>chi_versus_Hq_T290.agr(png)</i></td></center>\n",
      "</tr><table><center>\n",
      "\n",
      "The fits at low temperature become less sensitive with changes in Hq around the optimal Hq values, as can be inferred from the shallow curvature of the plots, specially for the plot at Q=0.3. We also see that the sensitivity (curvature) increases with Q, that is, as we look at shorter lenght scales. This trend is not reproduced at T=290K, though."
     ]
    },
    {
     "cell_type": "markdown",
     "metadata": {},
     "source": [
      "(<a href='#Table of Contents'>Top</a>)<a id='Vickie results at 230K with Kepler and NPT'></a>\n",
      "<h3>Vickie's results at 230K with Kepler and NPT</h3>\n",
      "<b>Working directory:</b> [watBox30/Vickie](files/watBox30/Vickie)</br>\n",
      "We analyze results for T=230K with mantid session [chi_versus_Hq_T230.mantid](files/watBox30/Vickie/T230/chi_versus_Hq_T230/chi_versus_Hq_T230.mantid) which includes python script [chi_versus_Hq_T230.py](files/watBox30/Vickie/T230/chi_versus_Hq_T230/chi_versus_Hq_T230.py) to interpolate structure factors from a series of simulations.</br>\n",
      "The plot below shows that the overall $\\chi^2$ plot (magenta) has two minimum. This is due to the fact that the simulations with had very similar structure factors. It seems more simulations, and longer simulation times are\n",
      "<center><a href=\"files/watBox30/Vickie/T230/chi_versus_Hq_T230/chi_versus_Hq_T230.png\"><img src=\"files/watBox30/Vickie/T230/chi_versus_Hq_T230/chi_versus_Hq_T230.png\" width=\"400\" height=\"450\" alt=\"chi_versus_Hq_T230.png(agr)\"></a></center></br>\n"
     ]
    },
    {
     "cell_type": "markdown",
     "metadata": {},
     "source": [
      "(<a href='#Table of Contents'>Top</a>)<a id='10ns Simulations in the NPT Ensemble'></a>\n",
      "<h3>10ns Simulations in the NPT Ensemble</h3>\n",
      "Because temperature fluctuates too much for my taste, I focus on the NPT runs, directory <i><b>/projects/research/LiCl/watBox30/Hq/NPT</b></i>\n",
      "\n",
      "Look at [bash_commands.sh](files/watBox30/Hq/NPT/bash_commands.sh) for details on carrying out the simulations and analysis.\n",
      "\n",
      "For each temperature, we run simulations for 24 different values of Hq, namely:\n",
      "<font face=\"courier new\">0.390 0.400 0.402 0.404 0.406 0.408 0.410 0.412 0.414 0.416 0.420 0.422 0.424 0.426 0.428 0.430 0.432 0.440 0.450 0.460 0.470 0.480 0.490 0.500</font>\n",
      "\n",
      "Simulations are run in <i>titan.ccs.ornl.gov:/ccs/home/jmborr/mat049/LiCl/watBox30/Hq/NPT</i> </br>\n",
      "It is very important to <b>remove global translations and rotations</b> from the simulation.\n",
      "This artifact arises when simulating in the NPT ensemble. We run for 10ns and then carry out Sassena calculations also in Titan.\n",
      "\n",
      "We generate interpolated $\\chi^2$ plots with script [chi_versus_Hq_T.py](files/watBox30/Hq/NPT/chi_versus_Hq_T.py).\n",
      "The $\\chi^2$ plots show that Q=0.3 is some kind of outlier when compare to the other values.\n",
      "\n",
      "<center><table>\n",
      "\n",
      "<tr>\n",
      "<center><td><a href=\"files/watBox30/Hq/NPT/chi_versus_Hq_T200_int.png\"><img src=\"files/watBox30/Hq/NPT/chi_versus_Hq_T200_int.png\" width=\"275\" height=\"290\" alt=\"chi_versus_Hq_T200_int.png\"></a> <br/><i>chi_versus_Hq_T200_int.agr(png)</i></td></center>\n",
      "\n",
      "<center><td><a href=\"files/watBox30/Hq/NPT/chi_versus_Hq_T210_int.png\"><img src=\"files/watBox30/Hq/NPT/chi_versus_Hq_T210_int.png\" width=\"275\" height=\"290\" alt=\"chi_versus_Hq_T210_int.png\"></a> <br/><i>chi_versus_Hq_T210_int.agr(png)</i></td></center>\n",
      "\n",
      "<center><td><a href=\"files/watBox30/Hq/NPT/chi_versus_Hq_T220_int.png\"><img src=\"files/watBox30/Hq/NPT/chi_versus_Hq_T220_int.png\" width=\"275\" height=\"290\" alt=\"chi_versus_Hq_T220_int.png\"></a> <br/><i>chi_versus_Hq_T220_int.agr(png)</i></td></center>\n",
      "\n",
      "<center><td><a href=\"files/watBox30/Hq/NPT/chi_versus_Hq_T230_int.png\"><img src=\"files/watBox30/Hq/NPT/chi_versus_Hq_T230_int.png\" width=\"275\" height=\"290\" alt=\"chi_versus_Hq_T230_int.png\"></a> <br/><i>chi_versus_Hq_T230_int.agr(png)</i></td></center>\n",
      "\n",
      "<center><td><a href=\"files/watBox30/Hq/NPT/chi_versus_Hq_T240_int.png\"><img src=\"files/watBox30/Hq/NPT/chi_versus_Hq_T240_int.png\" width=\"275\" height=\"290\" alt=\"chi_versus_Hq_T240_int.png\"></a> <br/><i>chi_versus_Hq_T240_int.agr(png)</i></td></center>\n",
      "</tr>\n",
      "\n",
      "<tr>\n",
      "<center><td><a href=\"files/watBox30/Hq/NPT/chi_versus_Hq_T250_int.png\"><img src=\"files/watBox30/Hq/NPT/chi_versus_Hq_T250_int.png\" width=\"275\" height=\"290\" alt=\"chi_versus_Hq_T250_int.png\"></a> <br/><i>chi_versus_Hq_T250_int.agr(png)</i></td></center>\n",
      "\n",
      "<center><td><a href=\"files/watBox30/Hq/NPT/chi_versus_Hq_T260_int.png\"><img src=\"files/watBox30/Hq/NPT/chi_versus_Hq_T260_int.png\" width=\"275\" height=\"290\" alt=\"chi_versus_Hq_T260_int.png\"></a> <br/><i>chi_versus_Hq_T260_int.agr(png)</i></td></center>\n",
      "\n",
      "<center><td><a href=\"files/watBox30/Hq/NPT/chi_versus_Hq_T270_int.png\"><img src=\"files/watBox30/Hq/NPT/chi_versus_Hq_T270_int.png\" width=\"275\" height=\"290\" alt=\"chi_versus_Hq_T270_int.png\"></a> <br/><i>chi_versus_Hq_T270_int.agr(png)</i></td></center>\n",
      "\n",
      "<center><td><a href=\"files/watBox30/Hq/NPT/chi_versus_Hq_T280_int.png\"><img src=\"files/watBox30/Hq/NPT/chi_versus_Hq_T280_int.png\" width=\"275\" height=\"290\" alt=\"chi_versus_Hq_T280_int.png\"></a> <br/><i>chi_versus_Hq_T280_int.agr(png)</i></td></center>\n",
      "\n",
      "<center><td><a href=\"files/watBox30/Hq/NPT/chi_versus_Hq_T290_int.png\"><img src=\"files/watBox30/Hq/NPT/chi_versus_Hq_T290_int.png\" width=\"275\" height=\"290\" alt=\"chi_versus_Hq_T290_int.png\"></a> <br/><i>chi_versus_Hq_T290_int.agr(png)</i></td></center>\n",
      "</tr>\n",
      "\n",
      "<table></center>\n",
      "\n",
      "The plot of the temperature evolution of the minima also shows how Q=0.3 is very different to the others.\n",
      "\n",
      "<center><a href=\"files/watBox30/Hq/NPT/Hq_optimal_vs_T.png\"><img src=\"files/watBox30/Hq/NPT/Hq_optimal_vs_T.png\" width=\"400\" height=\"380\" alt=\"Hq_optimal_vs_T.png\"></a> <br/><i>Hq_optimal_vs_T.agr(png)</i></td></center>\n",
      "\n",
      "At this point, one could decide to use Hq~0.17e when looking at phenomena in the Q=0.3 (inverse)length-scale and Hq~0.422 when looking at phenomena in the Q=[0.5-0.9] (inverse)length-scale.\n",
      "\n",
      "The suddend decrease in optimal Hq versus temperature that is observed for all Q's is due to overfitting. As Temperature decreases the quasielastic signal is hard to \"pull out\" from the elastic signal. A fitting to neutron spin echo data at low temperature (see below) shows an optimal Hq much higher that the ones suggested by the optimal Hq from the q_optimal_vs_T.png plot.\n",
      "\n",
      "In addition to the $\\chi^2$ plots derived from interpolated structure factors, we also computed the plots from the raw structure factors. We don't plot them here but we have files <font face=\"courier new\">chi_versus_Hq_T***_conv.agr</font> of these plots.\n",
      "\n",
      "We also wrote script [dsfinpterp1Dfit_apply_T.py](files/watBox30/Hq/NPT/dsfinpterp1Dfit_apply_T.py) that will bypass calculation of the $\\chi^2$ curves and just find their minima.\n"
     ]
    },
    {
     "cell_type": "markdown",
     "metadata": {},
     "source": [
      "(<a href='#Table of Contents'>Top</a>)<a id='Applying DSFinterp to 100ns NPT simulations and compare to Neutron Spin Echo (NSE) data'></a>\n",
      "<h3>Applying DSFinterp to 100ns NPT simulations and compare to Neutron Spin Echo (NSE) data</h3>\n",
      "Eugene did NSE measurements at 200K and 210K for Q~0.45, data is under <i><b>/projects/research/LiCl/EugeneData/NSEdata</b></i>. Paper Mamontov13 discusses this data\n",
      "\n",
      "We did 100ns simulations at 200K, 210K, and 22K in <i>titan.ccs.ornl.gov:/ccs/home/jmborr/mat049/LiCl/watBox30/Hq/NPT/Q***/***/production100ns/</i>. As before, we remove global translations and rotations before calculating the structure factors.\n",
      "\n",
      "Look at [bash_commands.sh](files/watBox30/Hq/NPT/bash_commands.sh) for details on carrying out the simulations and analysis.\n",
      "\n",
      "This time we fit the intermediate factor, with a model of just a flat background plus the calculated structure factor. The reason for the flat background is that the experimental data at short times have an average intensity slightly above 1. Script [chi_versus_Hq_T_100ns.py](files/watBox30/Hq/NPT/chi_versus_Hq_T_100ns.py) uses DsfInterp and DsfInterp1DFit for this purpose. Note that we do not do smoothing because the linear and quadratic interpolators don't work with this intermediate structure factor, the reason being the intensity decreases exponentially with increasing Hq for a given (Q,E) dynamical channel.\n",
      "\n",
      "<center><table>\n",
      "<tr>\n",
      "<center><td><a href=\"files/watBox30/Hq/NPT/chi_versus_Hq_T200_100ns_int.png\"><img src=\"files/watBox30/Hq/NPT/chi_versus_Hq_T200_100ns_int.png\" width=\"400\" height=\"390\" alt=\"chi_versus_Hq_T200_100ns_int.png\"></a> <br/><i>chi_versus_Hq_T200_100ns_int.agr(png)</i></td></center>\n",
      "\n",
      "<center><td><a href=\"files/watBox30/Hq/NPT/chi_versus_Hq_T210_100ns_int.png\"><img src=\"files/watBox30/Hq/NPT/chi_versus_Hq_T210_100ns_int.png\" width=\"400\" height=\"390\" alt=\"chi_versus_Hq_T210_100ns_int.png\"></a> <br/><i>chi_versus_Hq_T210_100ns_int.agr(png)</i></td></center>\n",
      "</tr>\n",
      "<table></center>\n",
      "\n",
      "The optimal Hq is ~0.422 and ~0.433, both values well above the one suggested by the fitting to QENS data for Q=0.5. This strongly suggests we were doing overfitting with the QENS data at these low temperatures.\n",
      "Note also who we don't need the background (goes to zero) at the optimal Hq values, meaning best comparison to experimental data without the need for a background."
     ]
    },
    {
     "cell_type": "markdown",
     "metadata": {},
     "source": [
      "(<a href='#Table of Contents'>Top</a>)<a id='Diffussion of the 10ns NPT simulations and Universality by Temperature shifting'></a>\n",
      "<h3>Diffussion of the 10ns NPT simulations and Universality by Temperature shifting</h3>\n",
      "Apply ptraj with input file <i>/projects/research/LiCl/ptraj/oxygen_diffusion.ptraj</i> to obtain file <i>oxygen_diffusion_r.xmgr</i> (and other not that important) for each Hq and T.\n",
      "We fit the diffussion curve to a power law of the type $Dt^\\nu$ and derive fitting values for diffusion coefficient and exponent $\\nu$. Use python script [oxygen_diffusion.py](python/oxygen_diffusion.py).\n",
      "\n",
      "Look at [bash_commands.sh](files/watBox30/Hq/NPT/bash_commands.sh) for details on carrying out the simulations and analysis.\n",
      "\n",
      "<center><table>\n",
      "\n",
      "<tr>\n",
      "<center><td><a href=\"files/watBox30/Hq/NPT/diffcoeff_versus_T.png\"><img src=\"files/watBox30/Hq/NPT/diffcoeff_versus_T.png\" width=\"400\" height=\"390\" alt=\"diffcoeff_versus_T.png\"></a> <br/><i>diffcoeff_versus_T.agr(png)</i></td></center>\n",
      "<center><td><a href=\"files/watBox30/Hq/NPT/exponent_versus_T.png\"><img src=\"files/watBox30/Hq/NPT/exponent_versus_T.png\" width=\"400\" height=\"390\" alt=\"exponent_versus_T.png\"></a> <br/><i>exponent_versus_T.agr(png)</i></td></center>\n",
      "</tr>\n",
      "\n",
      "<tr>\n",
      "<center><td><a href=\"files/watBox30/Hq/NPT/overlap_D_versus_Hq.png\"><img src=\"files/watBox30/Hq/NPT/overlap_D_versus_Hq.png\" width=\"400\" height=\"390\" alt=\"overlap_D_versus_Hq.png\"></a> <br/><i>overlap_D_versus_Hq.agr(png)</i></td></center>\n",
      "<center><td><a href=\"files/watBox30/Hq/NPT/overlap_u_versus_Hq.png\"><img src=\"files/watBox30/Hq/NPT/overlap_u_versus_Hq.png\" width=\"400\" height=\"390\" alt=\"overlap_u_versus_Hq.png\"></a> <br/><i>overlap_u_versus_Hq.agr(png)</i></td></center>\n",
      "</tr>\n",
      "\n",
      "<tr>\n",
      "<center><td><a href=\"files/watBox30/Hq/NPT/overlap_D_versus_T.png\"><img src=\"files/watBox30/Hq/NPT/overlap_D_versus_T.png\" width=\"400\" height=\"390\" alt=\"overlap_D_versus_T.png\"></a> <br/><i>overlap_D_versus_T.agr(png)</i></td></center>\n",
      "<center><td><a href=\"files/watBox30/Hq/NPT/overlap_u_versus_T.png\"><img src=\"files/watBox30/Hq/NPT/overlap_u_versus_T.png\" width=\"400\" height=\"390\" alt=\"overlap_u_versus_T.png\"></a> <br/><i>overlap_u_versus_T.agr(png)</i></td></center>\n",
      "</tr>\n",
      "\n",
      "<table></center>\n",
      "\n",
      "Whether we superimpose the curves by appropriate shifts along Hq or along T, we see the curves fall into master curves. In the case of shifting along T, we took as reference the simulation with Hq=0.422e. We see the diffusion increases linearly with T in the high temperature regime when the exponent is close to 1, as expected for normal diffusion. At low T we have subdifussion."
     ]
    },
    {
     "cell_type": "markdown",
     "metadata": {},
     "source": [
      "(<a href='#Table of Contents'>Top</a>)<a id='Fitting QENS simulations to Stretched Exponential'></a>\n",
      "<h3>Fitting QENS simulations to Stretched Exponential</h3>\n",
      "We fitted the simulated intermediate structure factor $I(Q,E)$ for Hq=0.422e to a stretched exponential $e^{-(t/\\tau)^\\beta}$. The fit to a single exponential was no good. We use script [fit_simulated_Iqt_to_empirical.py](watBox30/Hq/NPT/fit_simulated_Iqt_to_empirical.py)\n",
      "\n",
      "<center><table><tr>\n",
      "<center><td><a href=\"files/watBox30/Hq/NPT/fit_simulated_Iqt_to_empirical_tau.png\"><img src=\"files/watBox30/Hq/NPT/fit_simulated_Iqt_to_empirical_tau.png\" width=\"400\" height=\"390\" alt=\"fit_simulated_Iqt_to_empirical_tau.png\"></a> <br/><i>fit_simulated_Iqt_to_empirical_tau.agr(png)</i></td></center>\n",
      "<center><td><a href=\"files/watBox30/Hq/NPT/fit_simulated_Iqt_to_empirical_beta.png\"><img src=\"files/watBox30/Hq/NPT/fit_simulated_Iqt_to_empirical_beta.png\" width=\"400\" height=\"390\" alt=\"exponent_versus_T.png\"></a> <br/><i>fit_simulated_Iqt_to_empirical_beta.agr(png)</i></td></center>\n",
      "</tr><table></center>\n",
      "\n",
      "The evolution of the relaxation time at high temperatures is similar to that of experiments (triangles), although they are consistently smaller by a factor of two. At low temperatures the experimental times tend to level off while the simulated times continue to increase.\n",
      "\n",
      "The $\\beta$ exponent is remarkably constant and independent of Q at high temperatures, while it increases tremendously at low temperatures. The reason is that at low temperatures there's is a slow time process characterized by a single exponential ($\\beta=1$). The fit with a single exponential is trying to capture the stretched exponential with $\\beta \\approx 0.63$ at short times and the exponential $\\beta=1$ at long times, thus the fitted $\\beta$ lies in between these two values."
     ]
    },
    {
     "cell_type": "markdown",
     "metadata": {},
     "source": [
      "(<a href='#Table of Contents'>Top</a>)<a id='Fitting NSE simulations to Stretched plus Single Exponential'></a>\n",
      "<h3>Fitting NSE simulations to Stretched plus Single Exponential</h3>\n",
      "We fitted the simulated intermediate structure factor $I(Q,E)$ from the 100ns simulations for the case Hq=0.422 to a stretched exponential plus a exponential $(a+b\\cdot e^{-(t/\\tau_1)^\\beta})e^{-t/\\tau_2}$. We use script [fit_simulated_Iqt_to_empirical.py](watBox30/Hq/NPT/fit_simulated_Iqt_to_empirical.py).\n",
      "\n",
      "<center><table><tr>\n",
      "<center><td><a href=\"files/watBox30/Hq/NPT/fit_simulated_Iqt_to_empirical_tau.v2.png\"><img src=\"files/watBox30/Hq/NPT/fit_simulated_Iqt_to_empirical_tau.v2.png\" width=\"400\" height=\"390\" alt=\"fit_simulated_Iqt_to_empirical_tau.v2.png\"></a> <br/><i>fit_simulated_Iqt_to_empirical_tau.v2.agr(png)</i></td></center>\n",
      "<center><td><a href=\"files/watBox30/Hq/NPT/fit_simulated_Iqt_to_empirical_beta.v2.png\"><img src=\"files/watBox30/Hq/NPT/fit_simulated_Iqt_to_empirical_beta.v2.png\" width=\"400\" height=\"390\" alt=\"fit_simulated_Iqt_to_empirical_beta.v2.png\"></a> <br/><i>fit_simulated_Iqt_to_empirical_beta.v2.agr(png)</i></td></center>\n",
      "</tr><table></center>\n",
      "\n",
      "The short-times relaxation time from the 100ns simulations at Q=0.45 (circles) fall onto the relaxation time for the 10ns simulations at Q=0.5, showing thus good agreement between the stretched exponentials. The long-time relaxation time (squares) is about twice that suggested by the experiments (triangles).\n",
      "\n",
      "The stretching exponent for the 100ns simulations seem to be constant again, although at a higher value (~0.76) than the previous constant value (~0.63)."
     ]
    },
    {
     "cell_type": "markdown",
     "metadata": {},
     "source": []
    }
   ],
   "metadata": {}
  }
 ]
}