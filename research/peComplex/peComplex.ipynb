{
 "metadata": {
  "name": "",
  "signature": "sha256:61c0fbfd656da0101a745e69b0bd7a5f1e2631a7f05f20bfd277773d1996e736"
 },
 "nbformat": 3,
 "nbformat_minor": 0,
 "worksheets": [
  {
   "cells": [
    {
     "cell_type": "markdown",
     "metadata": {},
     "source": [
      "<h1>peComples</h1>\n",
      "<a id='Table of Contents'></a><h3>Table of Contents</h3>\n",
      "<a href='#Syntax'>HTML and MARKDOWN SYNTAX EXAMPLES</a></br>\n",
      "<a href='#Goal'>Goal</a></br>\n",
      "<a href='#People'>People</a></br>\n",
      "<a href='#simdata'>Simulation system and data</a></br>\n",
      "<a href='#genpdb'>Create fake PDB files for system components</a></br>\n",
      "<a href='#wrap'>Create wrapped DUMP trajectories</a></br>\n",
      "<a href='#unwrap'>Unwrap trajectories and save to DCD format</a></br>\n",
      "<a href='#genPDB'>Generate PDB file</a></br>\n",
      "<a href='#sassenaDB'>Generate Sassena database</a></br>\n",
      "<a href='#msd'>Calculate MSD versus time</a></br>\n",
      "&nbsp;&nbsp;&nbsp;&nbsp;&nbsp;"
     ]
    },
    {
     "cell_type": "markdown",
     "metadata": {},
     "source": [
      "(<a href='#Table of Contents'>Top</a>)<a id='Syntax'></a><h3>Syntax Examples</h3>\n",
      "local link: [link](files/link)</br>\n",
      "remote link: <a href=\"http://ambermd.org/\">http://ambermd.org</a>\n",
      "<font face=\"courier new\"> font face=\"courier new\" </font><br/>\n",
      "$$S_{model}(Q,E)=A(Q)\\cdot S_{elastic}(E) + B(Q)\\cdot S_{simulation}(Q,E)\\otimes S_{elastic}(E) + C(Q)+D(Q)\\cdot E$$\n",
      "<pre> Quoted text </pre>\n",
      "<center><table><tr>\n",
      "<td><center><a href=\"files/image.png\"><img src=\"files/image.png\" width=\"300\" height=\"250\" alt=\"image here\"></a> <br/><i>image caption</i></center></td>\n",
      "<td><center>some text</center></td>\n",
      "</tr></table></center>"
     ]
    },
    {
     "cell_type": "markdown",
     "metadata": {},
     "source": [
      "(<a href='#Table of Contents'>Top</a>)<a id='Goal'></a><h3>Goal</h3>\n",
      "Calculate dynamics for a polyelectrolite dissolved in surfactant and counterions. In particular (see Section \"Simulation system and data\" for details on the system constituents):\n",
      "\n",
      "I(Q,t) for the following Q-values: 0.65/sigma, 1.30/sigma, and 6.48/sigma and the following particles:\n",
      "\n",
      "- Negative counterions (Ncions.dat)\n",
      "- Positive counterions (Pcions.dat)\n",
      "- Surfactant heads (head.dat)\n",
      "- Charges in the polielectrolite chain, which are labelled with index 2 in poly.dat file\n",
      "\n",
      "MSD for:\n",
      "\n",
      "- Ncions\n",
      "- Pcions\n",
      "- PEcharge (polyelectrolite charges)\n",
      "- PEneutral (polyelectrolite neuters)\n",
      "- Surfactant heads\n",
      "- Surfactant tails\n",
      "- Surfactant (head.dat plus tail.dat together)\n"
     ]
    },
    {
     "cell_type": "markdown",
     "metadata": {},
     "source": [
      "(<a href='#Table of Contents'>Top</a>)<a id='People'></a><h3>People</h3>\n",
      "\n",
      "- Monojoy Goswami, <goswamim@ornl.gov>"
     ]
    },
    {
     "cell_type": "markdown",
     "metadata": {},
     "source": [
      "(<a href='#Table of Contents'>Top</a>)<a id='simdata'></a><h3>Simulation system and data</h3>\n",
      "Monojoy sent me ASCII trajectory files for the different system components. The system is made of:\n",
      "\n",
      "- One single polyelectrolite chain, containing 1000 monomers. Of these, a fraction are positively charged.\n",
      "- Negative counterions: as many as positive charges in the polyelectrolite\n",
      "- Positive counterions: 1000\n",
      "- Surfactant molecules: 1000 molecules, each 12 monomers long. One tip is negatively charged.\n",
      "\n",
      "<center><a href=\"files/cartoon.png\"><img src=\"files/cartoon.png\" width=\"300\" height=\"250\" alt=\"cartoon\"></a> <br/><i>cartoon.png</i></center>\n",
      "\n",
      "Files are located under <i>camm2.sns.gov:/SNSlocal/scratch/zf4/PE_Complex/Charge???/</i>. Subdirectory <i>Charge100</i> indicates that the polyelectrolite contains 100 charges, <i>Charge200</i> indicates that the polyelectrolite contains 200 charges, and so on.\n",
      "\n",
      "Within <i>Charge300</i> we have the following trajectory files, all containing 20,000 snapshots, and the following per snapshot:\n",
      "\n",
      "- poly.dat: the polyelectrolite chain. It contains 300 charged and 700 neutral monomers. Charges are labelled as index 2 and neutral monomers are index 1.\n",
      "- Ncions.dat: 300 negative counterions\n",
      "- Pcions.dat: 1000 positive counterions\n",
      "- head.dat: 1000 negative surfactant charges corresponding to the tips of the 1000 surfactant molecules\n",
      "- tail.dat: 11000 neutral surfactant monomers, since we have 11 neutral monomer per surfactant molecule\n",
      "\n",
      "We create soft links to these data files in our project directory. For instance, in <i>Charge100/</i> we do\n",
      "<pre>for species in head Ncions Pcions poly tail;do\n",
      "  ln -s /SNSlocal/scratch/zf4/PE_Complex/Charge100/$species.dat $species.xyz\n",
      "done</pre>"
     ]
    },
    {
     "cell_type": "markdown",
     "metadata": {},
     "source": [
      "(<a href='#Table of Contents'>Top</a>)<a id='genpdb'></a><h3>Create fake PDB files for system components</h3>\n",
      "The trajectories in camm2.sns.gov:/SNSlocal/scratch/zf4/PE_Complex/Charge???/ directories are in <b>XYZ</b> format. We can use vmd to read in the first frame of each file and save then as PDB.\n",
      "In subdirectory <i>pdb/</i>:\n",
      "\n",
      "- Pcions.dat --> Pcions.pdb\n",
      "- head.dat --> head.pdb\n",
      "- tail.dat --> tail.pdb\n",
      "\n",
      "The polyelectrolite chain (poly.dat) and corresponding counterions (Ncions.dat) are different depending on the polyelectrolite charge, thus we create a pdb within each <i>Charge???/</i> subdirectory.\n",
      "In each subdirectory <i>Charge???/</i>:\n",
      "\n",
      "- poly.dat --> poly.pdb\n",
      "- Ncions.dat --> Ncions.pdb"
     ]
    },
    {
     "cell_type": "markdown",
     "metadata": {},
     "source": [
      "(<a href='#Table of Contents'>Top</a>)<a id='wrap'></a><h3>Create wrapped DUMP trajectories</h3>\n",
      "\n",
      "We use [merge_trajectories.py](files/python/merge_trajectories.py) script to read all the XYZ component files and merge them into a DUMP file. We determine the cell coordinates in addition to primitive cell coordinates in order to determine the wrap coordinates and being able to later unwrap them.</br>\n",
      "For instance, in subdirectory <i>Charge100</i>:\n",
      "<pre>python ../python/merge_trajectories.py initial.data wc.dump</pre>\n",
      "\n",
      "\n",
      "\n",
      "\n"
     ]
    },
    {
     "cell_type": "markdown",
     "metadata": {},
     "source": [
      "(<a href='#Table of Contents'>Top</a>)<a id='unwrap'></a><h3>Unwrap trajectories and save to DCD format</h3>\n",
      "First we need to create a PSF file, starting from the DATA file.\n",
      "- Start VMD\n",
      "- Menu  Extensions->Tk Console\n",
      "- Enter the following:\n",
      "<pre>topo readlammpsdata initial.data full\n",
      "animate write psf pecomplex.psf</pre>\n",
      "We use vmd to load the PSF and DUMP coordinates, and then unwrapp them and save as DCD. For instance, in subdirectory <i>Charge100</i>:\n",
      "<pre>vmd -dispdev text -e ../vmd/unwrap_lammpstrj.tcl -eofexit</pre>\n",
      "Creates <i>pecomplex.dcd</i>\n",
      "\n",
      "\n",
      "<center><table><tr>\n",
      "<td><center><a href=\"files/Charge100/first_frame.png\"><img src=\"files/Charge100/first_frame.png\" width=\"300\" height=\"300\" alt=\"first_frame.png\"></a> <br/><i>Charge100/first_frame.png</i></center></td>\n",
      "<td><center><a href=\"files/Charge100/last_frame.png\"><img src=\"files/Charge100/last_frame.png\" width=\"300\" height=\"300\" alt=\"last_frame.png\"></a> <br/><i>Charge100/last_frame.png</i></center></td>\n",
      "</tr></table></center>"
     ]
    },
    {
     "cell_type": "markdown",
     "metadata": {},
     "source": [
      "(<a href='#Table of Contents'>Top</a>)<a id='genPDB'></a><h3>Generate PDB file</h3>\n",
      "We use the first snapshot of the trajectory to create a PDB file, <i>pecomplex.pdb</i>, again with vmd:</br>\n",
      "<pre>vmd -dispdev text -e ../vmd/generate_pdbfile.tcl -eofexit</pre>\n",
      "The atom names in the PDB files are the numeric atom types assigned by the lammps datafile:\n",
      "<pre>1 - polyelectrolite neutral \n",
      "2 - polyelectrolite charged\n",
      "3 - surfactant head\n",
      "4 - surfactant tail\n",
      "5 - negative counterion\n",
      "6 - positive counterion</pre>\n",
      "\n",
      "In addition, we create a second PDB file, <i>pecomplex_amber.pdb</i>, where we substitute this numeric atom names for letters:\n",
      "<pre>\n",
      "1 - PN\n",
      "2 - PC\n",
      "3 - H\n",
      "4 - T\n",
      "5 - N\n",
      "6 - P</pre>\n",
      "\n",
      "We use python script [rename_atomnames.py](files/python/rename_atomnames.py). For instance, in <i>Charge100/</i>:\n",
      "<pre>python ../python/rename_atomnames.py</pre>\n",
      "We cannot define groups of atoms using their numberic names in AMBER. For instance, @1 is not all atoms with name '1', but just the first atom."
     ]
    },
    {
     "cell_type": "markdown",
     "metadata": {},
     "source": [
      "(<a href='#Table of Contents'>Top</a>)<a id='sassenaDB'></a><h3>Generate Sassena database</h3>\n",
      "We create fake neutron scattering lenghts (as well as other properties) for each of the particle types. For the sake of simplicity, we will set all scattering lenghts to unity.\n",
      "In subdirectory <i>sassena/db</i>, we have the following files:\n",
      "<pre>db-neutron-incoherent.xml\n",
      "definitions\n",
      "\n",
      "./definitions:\n",
      "exclusionfactors-neutron.xml\n",
      "masses.xml\n",
      "names.xml\n",
      "scatterfactors-neutron-incoherent.xml\n",
      "sizes-neutron.xml<pre>\n"
     ]
    },
    {
     "cell_type": "markdown",
     "metadata": {},
     "source": [
      "(<a href='#Table of Contents'>Top</a>)<a id='msd'></a><h3>Calculate MSD versus time</h3>\n",
      "<pre>module load amber/amber12\n",
      "ptraj pecomplex_amber.pdb < ../ptraj/diffusion_Ncions.ptraj\n",
      "rm -f Ncions_a.xmgr Ncions_x.xmgr Ncions_y.xmgr Ncions_z.xmgr  #retain only Ncions_r.xmgr\n",
      "</pre>\n",
      "<center><a href=\"files/Charge100/msd.png\"><img src=\"files/Charge100/msd.png\" width=\"400\" height=\"300\" alt=\"msd.png\"></a> <br/><i>Charge100/msd.agr(.png)</i></center>"
     ]
    },
    {
     "cell_type": "code",
     "collapsed": false,
     "input": [],
     "language": "python",
     "metadata": {},
     "outputs": []
    }
   ],
   "metadata": {}
  }
 ]
}