{
 "metadata": {
  "name": "",
  "signature": "sha256:61c0fbfd656da0101a745e69b0bd7a5f1e2631a7f05f20bfd277773d1996e736"
 },
 "nbformat": 3,
 "nbformat_minor": 0,
 "worksheets": [
  {
   "cells": [
    {
     "cell_type": "markdown",
     "metadata": {},
     "source": [
      "<h1>peComples</h1>\n",
      "<a id='Table of Contents'></a><h3>Table of Contents</h3>\n",
      "<a href='#Syntax'>HTML and MARKDOWN SYNTAX EXAMPLES</a></br>\n",
      "<a href='#Goal'>Goal</a></br>\n",
      "<a href='#People'>People</a></br>\n",
      "<a href='#simdata'>Simulation system and data</a></br>\n",
      "&nbsp;&nbsp;&nbsp;&nbsp;&nbsp;"
     ]
    },
    {
     "cell_type": "markdown",
     "metadata": {},
     "source": [
      "(<a href='#Table of Contents'>Top</a>)<a id='Syntax'></a><h3>Syntax Examples</h3>\n",
      "local link: [link](files/link)</br>\n",
      "remote link: <a href=\"http://ambermd.org/\">http://ambermd.org</a>\n",
      "<font face=\"courier new\"> font face=\"courier new\" </font><br/>\n",
      "$$S_{model}(Q,E)=A(Q)\\cdot S_{elastic}(E) + B(Q)\\cdot S_{simulation}(Q,E)\\otimes S_{elastic}(E) + C(Q)+D(Q)\\cdot E$$\n",
      "<pre> Quoted text </pre>\n",
      "<center><table><tr>\n",
      "<td><center><a href=\"files/image.png\"><img src=\"files/image.png\" width=\"300\" height=\"250\" alt=\"image here\"></a> <br/><i>image caption</i></center></td>\n",
      "<td><center>some text</center></td>\n",
      "</tr></table></center>"
     ]
    },
    {
     "cell_type": "markdown",
     "metadata": {},
     "source": [
      "(<a href='#Table of Contents'>Top</a>)<a id='Goal'></a><h3>Goal</h3>\n",
      "Calculate dynamics for a polyelectrolite dissolved in surfactant and counterions. In particular (see Section \"Simulation system and data\" for details on the system constituents):\n",
      "\n",
      "I(Q,t) for the following Q-values: 0.65/sigma, 1.30/sigma, and 6.48/sigma and the following particles:\n",
      "\n",
      "- Negative counterions (Ncions.dat)\n",
      "- Positive counterions (Pcions.dat)\n",
      "- Surfactant heads (head.dat)\n",
      "- Charges in the polielectrolite chain, which are labelled with index 2 in poly.dat file\n",
      "\n",
      "MSD for:\n",
      "\n",
      "- Ncions\n",
      "- Pcions\n",
      "- PEcharge (polyelectrolite charges)\n",
      "- PEneutral (polyelectrolite neuters)\n",
      "- Surfactant heads\n",
      "- Surfactant tails\n",
      "- Surfactant (head.dat plus tail.dat together)\n"
     ]
    },
    {
     "cell_type": "markdown",
     "metadata": {},
     "source": [
      "(<a href='#Table of Contents'>Top</a>)<a id='People'></a><h3>People</h3>\n",
      "\n",
      "- Monojoy Goswami, <goswamim@ornl.gov>"
     ]
    },
    {
     "cell_type": "markdown",
     "metadata": {},
     "source": [
      "(<a href='#Table of Contents'>Top</a>)<a id='simdata'></a><h3>Simulation system and data</h3>\n",
      "Monojoy sent me ASCII trajectory files for the different system components. The system is made of:\n",
      "\n",
      "- One single polyelectrolite chain, containing 1000 monomers. Of these, a fraction are positively charged.\n",
      "- Negative counterions: as many as positive charges in the polyelectrolite\n",
      "- Positive counterions: 1000\n",
      "- Surfactant molecules: 1000 molecules, each 12 monomers long. One tip is negatively charged.\n",
      "\n",
      "<center><a href=\"files/cartoon.png\"><img src=\"files/cartoon.png\" width=\"300\" height=\"250\" alt=\"cartoon\"></a> <br/><i>cartoon.png</i></center>\n",
      "\n",
      "Files are located under <i>camm2.sns.gov:/SNSlocal/scratch/zf4/PE_Complex/Charge???/</i>. Subdirectory <i>Charge100</i> indicates that the polyelectrolite contains 100 charges, <i>Charge200</i> indicates that the polyelectrolite contains 200 charges, and so on.\n",
      "\n",
      "Within <i>Charge300</i> we have the following trajectory files, all containing 20,000 snapshots, and the following per snapshot:\n",
      "\n",
      "- poly.dat: the polyelectrolite chain. It contains 300 charged and 700 neutral monomers. Charges are labelled as index 2 and neutral monomers are index 1.\n",
      "- Ncions.dat: 300 negative counterions\n",
      "- Pcions.dat: 1000 positive counterions\n",
      "- head.dat: 1000 negative surfactant charges corresponding to the tips of the 1000 surfactant molecules\n",
      "- tail.dat: 11000 neutral surfactant monomers, since we have 11 neutral monomer per surfactant molecule"
     ]
    },
    {
     "cell_type": "markdown",
     "metadata": {},
     "source": [
      "(<a href='#Table of Contents'>Top</a>)<a id='Movie'></a><h3>Stereoscopic Movie</h3>\n",
      "I did a stereoscopic [movie](files/fromMonojoy/ND+RNA+water/anaglyph.mpg) that allows one to see the frames as 3D with the help of a pair of red/cyan glasses. The steps are as follow:\n",
      "\n",
      "* I loaded pdb file [ND_8RNA_water-exp_4.pdb](files/fromMonojoy/ND+RNA+water/ND_8RNA_water-exp_4.pdb) and save an appropriate view in the visualization file [anaglyph.vmd](files/fromMonojoy/ND+RNA+water/anaglyph.vmd).\n",
      "* I reopened vmd and loaded the visualization file, then wrote in the terminal display <font face=\"courier new\">stereo Anaglyph</font>, which creates a suitable stereoscopic view.\n",
      "* Using Extensions -> Visualization -> Movie Maker I made a movie in MPEG2 format by a 360 degree rotation around the Y-axis every degree, with a scheduled time of 30s."
     ]
    },
    {
     "cell_type": "markdown",
     "metadata": {},
     "source": [
      "(<a href='#Table of Contents'>Top</a>)<a id='ParmRange'></a><h3>Parameter Range Space</h3>\n",
      "In order to assess how much we are going to vary the epsilon and Rmin of the nanodiamond carbon atom, we do a scatter plot of  the (epsilon, Rmin) pairs for all the atom types in force-file parameter file [par_all27_prot_na_m_ONLY_LJ.prm](files/parameter_range/par_all27_prot_na_m_ONLY_LJ.prm).\n",
      "\n",
      "<center><a href=\"files/parameter_range/parameter_samples.png\"><img src=\"files/parameter_range/parameter_samples.png\" width=\"350\" height=\"300\" alt=\"parameter_range/parameter_samples.png\"></a> <br/><i>parameter_range/parameter_samples.png(agr)</i></center>\n",
      "\n",
      "From the plot, the epsilon range is ~[-0.7, 0.0] and the Rmin/2 range is ~[0.0, 2.75]."
     ]
    },
    {
     "cell_type": "markdown",
     "metadata": {},
     "source": [
      "(<a href='#Table of Contents'>Top</a>)<a id='FlagH'></a><h3>Flag selected Hydrogen atoms</h3>\n",
      "Experimental data had hydrogenated RNA in deuterated water. Thus, we are going to flag the hydrogens in the RNA in a PDB file in order to later pass it to Sassena when calculating the structure factor. For completeness, we can flat the hydrogens in the water molecules if interested in looking at the dynamics of the water molecule.\n",
      "\n",
      "Python cript [flagH.py](files/python/flagH.py) loads reference PDB file [ND_8RNA_water-exp_4.pdb](files/fromMonojoy/ND+RNA+water/ND_8RNA_water-exp_4.pdb) and by either selecting RNA or water, produces PDB files [rnaH.pdb](files/analysis/rnaH.pdb) and [waterH.pdb](files/analysis/waterH.pdb). Example Sassena input configuration file [sassenaInc_rnaH.xml](files/analysis/sassenaInc_rnaH.xml) will make use of rnaH.pdb."
     ]
    },
    {
     "cell_type": "markdown",
     "metadata": {},
     "source": [
      "(<a href='#Table of Contents'>Top</a>)<a id='Speed'></a><h3>NAMD speed tests</h3>\n",
      "Monojoy told us that simulations of this system are slow. Thus we tried to simulate in Titan with CPU and GPU and with nanodiamond atoms fixed or mobile. The best results were obtained with 16 nodes (256 CPUS) and fixed nanodiamond carbons. Namd input configuration file [test_fixedatoms.conf](files/namd_tests/cpu/test_fixedatoms.conf) makes use of PDF file \n",
      "[diamondfixed.pdb](files/namd_tests/cpu/diamondfixed.pdb) which flags the atoms to be fixed.\n",
      "\n",
      "<center><a href=\"files/namd_tests/cpu/scaling_table.png\"><img src=\"files/namd_tests/cpu/scaling_table.png\" width=\"350\" height=\"300\" alt=\"namd_tests/cpu/scaling_table.png\"></a> <br/><i>namd_tests/cpu/scaling_table.png(agr)</i></center>\n"
     ]
    },
    {
     "cell_type": "markdown",
     "metadata": {},
     "source": [
      "(<a href='#Table of Contents'>Top</a>)<a id='Compress'></a><h3>Compression and relaxation runs</h3>\n",
      "The original cell size is way too big (~195A) so we run compression runs at P=10atpm (e.g. [compress.1.conf](files/compress/compress.1.conf)) followed by relaxation runs at P=1atm (e.g. [compress.1.conf](files/relax/relax.1.conf)).\n",
      "<center><table><tr>\n",
      "<td><a href=\"files/relax/relax_pressure.png\"><img src=\"files/relax/relax_pressure.png\" width=\"300\" height=\"200\" alt=\"relax/relax_pressure.png\"></a> <br/><center><i>relax/relax_pressure.png</i></center></td>\n",
      "<td><a href=\"files/relax/relax_boxsize.png\"><img src=\"files/relax/relax_boxsize.png\" width=\"300\" height=\"200\" alt=\"relax/relax_boxsize.png\"></a> <br/><center><i>relax/relax_boxsize.png</i></center></td>\n",
      "</tr></table></center>\n",
      "Last snapshot of relax.2 run:\n",
      "<center><a href=\"files/relax/relax.2.png\"><img src=\"files/relax/relax.2.png\" width=\"150\" height=\"300\" alt=\"relax/relax.2.png\"></a> <br/><i>relax/relax.2.png</i></center></td>"
     ]
    },
    {
     "cell_type": "markdown",
     "metadata": {},
     "source": [
      "(<a href='#Table of Contents'>Top</a>)<a id='Equil'></a><h3>Equilibrium runs</h3>\n",
      "Some properties of the equilibrium runs:\n",
      "\n",
      "* 10ns runs\n",
      "* Output conformations every 1ps\n",
      "* No cell wrapping\n",
      "* Constant volume\n",
      "* Carbon atoms fixed, and no forces are computed between carbon atoms\n",
      "\n",
      "NAMD configuration file [equil_template.conf](files/equil/equil_template.conf) is one example of an equilibrium run."
     ]
    },
    {
     "cell_type": "markdown",
     "metadata": {},
     "source": [
      "(<a href='#Table of Contents'>Top</a>)<a id='Vickie'></a><h2>Simulations done by Vickie</h2>"
     ]
    },
    {
     "cell_type": "markdown",
     "metadata": {},
     "source": [
      "(<a href='#Table of Contents'>Top</a>)<a id='MDepsilonRange'></a><h3>MD simulations at 300K in the [-1.2, 0.0] epsilonrange</h3>\n",
      "In <i>nersc.carger.gov:/global/project/projectdirs/m1503/camm/Nanodiamond</i> there are 10 simulations, each 12ns long, at a different value of $\\epsilon$. Each simulation is made of two runs, each 6ns. The first run is within subdirectory <i>FIRST</i>. Thus, for $\\epsilon=0.0$ the two runs ares <i>Nanodiamond/FIRST/test1_fixedatoms.dcd</i> and <i>Nanodiamond/test1_fixedatoms.dcd</i>.</br>\n",
      "Global translations and rotations of the system are removed with [rms2first.ptraj](files/vickie/Nanodiamond/rms2first.ptraj), and both runs are merged into one. For $\\epsilon=0.0$ the final trajectory file is test1_fixedatoms_merged.dcd.\n",
      "\n",
      "Sassena jobs on the trajectories are performed, results are in directory In <i>camm.sns.gov:/SNSlocal/projects/jbq/nanodiamond/vickie/Sqw_to_Iqt/</i>. For $\\epsilon=0.0$, files fqt_inc_1.hd5 and fqt_inc_1.hd5 represent the coherent and incoherent intermediate structure factor.\n",
      "\n"
     ]
    },
    {
     "cell_type": "code",
     "collapsed": false,
     "input": [],
     "language": "python",
     "metadata": {},
     "outputs": []
    }
   ],
   "metadata": {}
  }
 ]
}