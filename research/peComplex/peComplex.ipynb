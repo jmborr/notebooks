{
 "metadata": {
  "name": "",
  "signature": "sha256:61c0fbfd656da0101a745e69b0bd7a5f1e2631a7f05f20bfd277773d1996e736"
 },
 "nbformat": 3,
 "nbformat_minor": 0,
 "worksheets": [
  {
   "cells": [
    {
     "cell_type": "markdown",
     "metadata": {},
     "source": [
      "<h1>peComples</h1>\n",
      "<a id='Table of Contents'></a><h3>Table of Contents</h3>\n",
      "<a href='#Syntax'>HTML and MARKDOWN SYNTAX EXAMPLES</a></br>\n",
      "<a href='#Goal'>Goal</a></br>\n",
      "<a href='#People'>People</a></br>\n",
      "<a href='#simdata'>Simulation system and data</a></br>\n",
      "&nbsp;&nbsp;&nbsp;&nbsp;&nbsp;"
     ]
    },
    {
     "cell_type": "markdown",
     "metadata": {},
     "source": [
      "(<a href='#Table of Contents'>Top</a>)<a id='Syntax'></a><h3>Syntax Examples</h3>\n",
      "local link: [link](files/link)</br>\n",
      "remote link: <a href=\"http://ambermd.org/\">http://ambermd.org</a>\n",
      "<font face=\"courier new\"> font face=\"courier new\" </font><br/>\n",
      "$$S_{model}(Q,E)=A(Q)\\cdot S_{elastic}(E) + B(Q)\\cdot S_{simulation}(Q,E)\\otimes S_{elastic}(E) + C(Q)+D(Q)\\cdot E$$\n",
      "<pre> Quoted text </pre>\n",
      "<center><table><tr>\n",
      "<td><center><a href=\"files/image.png\"><img src=\"files/image.png\" width=\"300\" height=\"250\" alt=\"image here\"></a> <br/><i>image caption</i></center></td>\n",
      "<td><center>some text</center></td>\n",
      "</tr></table></center>"
     ]
    },
    {
     "cell_type": "markdown",
     "metadata": {},
     "source": [
      "(<a href='#Table of Contents'>Top</a>)<a id='Goal'></a><h3>Goal</h3>\n",
      "Calculate dynamics for a polyelectrolite dissolved in surfactant and counterions. In particular (see Section \"Simulation system and data\" for details on the system constituents):\n",
      "\n",
      "I(Q,t) for the following Q-values: 0.65/sigma, 1.30/sigma, and 6.48/sigma and the following particles:\n",
      "\n",
      "- Negative counterions (Ncions.dat)\n",
      "- Positive counterions (Pcions.dat)\n",
      "- Surfactant heads (head.dat)\n",
      "- Charges in the polielectrolite chain, which are labelled with index 2 in poly.dat file\n",
      "\n",
      "MSD for:\n",
      "\n",
      "- Ncions\n",
      "- Pcions\n",
      "- PEcharge (polyelectrolite charges)\n",
      "- PEneutral (polyelectrolite neuters)\n",
      "- Surfactant heads\n",
      "- Surfactant tails\n",
      "- Surfactant (head.dat plus tail.dat together)\n"
     ]
    },
    {
     "cell_type": "markdown",
     "metadata": {},
     "source": [
      "(<a href='#Table of Contents'>Top</a>)<a id='People'></a><h3>People</h3>\n",
      "\n",
      "- Monojoy Goswami, <goswamim@ornl.gov>"
     ]
    },
    {
     "cell_type": "markdown",
     "metadata": {},
     "source": [
      "(<a href='#Table of Contents'>Top</a>)<a id='simdata'></a><h3>Simulation system and data</h3>\n",
      "Monojoy sent me ASCII trajectory files for the different system components. The system is made of:\n",
      "\n",
      "- One single polyelectrolite chain, containing 1000 monomers. Of these, a fraction are positively charged.\n",
      "- Negative counterions: as many as positive charges in the polyelectrolite\n",
      "- Positive counterions: 1000\n",
      "- Surfactant molecules: 1000 molecules, each 12 monomers long. One tip is negatively charged.\n",
      "\n",
      "<center><a href=\"files/cartoon.png\"><img src=\"files/cartoon.png\" width=\"300\" height=\"250\" alt=\"cartoon\"></a> <br/><i>cartoon.png</i></center>\n",
      "\n",
      "Files are located under <i>camm2.sns.gov:/SNSlocal/scratch/zf4/PE_Complex/Charge???/</i>. Subdirectory <i>Charge100</i> indicates that the polyelectrolite contains 100 charges, <i>Charge200</i> indicates that the polyelectrolite contains 200 charges, and so on.\n",
      "\n",
      "Within <i>Charge300</i> we have the following trajectory files, all containing 20,000 snapshots, and the following per snapshot:\n",
      "\n",
      "- poly.dat: the polyelectrolite chain. It contains 300 charged and 700 neutral monomers. Charges are labelled as index 2 and neutral monomers are index 1.\n",
      "- Ncions.dat: 300 negative counterions\n",
      "- Pcions.dat: 1000 positive counterions\n",
      "- head.dat: 1000 negative surfactant charges corresponding to the tips of the 1000 surfactant molecules\n",
      "- tail.dat: 11000 neutral surfactant monomers, since we have 11 neutral monomer per surfactant molecule"
     ]
    },
    {
     "cell_type": "code",
     "collapsed": false,
     "input": [],
     "language": "python",
     "metadata": {},
     "outputs": []
    }
   ],
   "metadata": {}
  }
 ]
}