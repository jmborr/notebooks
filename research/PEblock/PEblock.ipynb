{
 "metadata": {
  "name": "",
  "signature": "sha256:3cd1d70805d32cce66cd7a3647aec66302d2300b3e4e8b0c29b8ed22502f2156"
 },
 "nbformat": 3,
 "nbformat_minor": 0,
 "worksheets": [
  {
   "cells": [
    {
     "cell_type": "markdown",
     "metadata": {},
     "source": []
    },
    {
     "cell_type": "markdown",
     "metadata": {},
     "source": [
      "<h1>PEBlock</h1>\n",
      "<a id='Table of Contents'></a><h3>Table of Contents</h3>  \n",
      "<a href='#Collaborators'>Collaborators</a>  \n",
      "<a href='#Goal'>Goal</a>  \n",
      "<a id='firstBatch'></a><b>First Batch of Simulations</b>  \n",
      "<a href='#firstBatch.Description'>Description of the simulations</a>  \n",
      "<a href='#firstBatch.PDBcreate'>Create structure (PDB) files</a>  \n",
      "<a href='#firstBatch.DCDcreate'>Create DCD files with and without wrapped coordinates</a>  \n",
      "<a href='#firstBatch.TRremoval'>Removal of translations and rotations</a>    \n",
      "<a href='#firstBatch.MSD'>Mean Square Displacements</a>  \n",
      "<a href='#firstBatch.IQT'>Self intermediate scattering structure factor</a>  \n",
      "<a id='secondBatch'></a><b>Second Batch of Simulations</b>  \n",
      "<a href='#secondBatch.Description'>Description of the simulations</a>  \n",
      "<a href='#secondBatch.PDBcreate'>Create structure (PDB) files</a>  \n",
      "<a href='#secondBatch.DCDcreate'>Create DCD files with the unwrapped coordinates</a>  \n",
      "<a href='#secondBatch.TRremoval'>Removal of translations and rotations</a></b>  \n",
      "<a href='#secondBatch.MSD'>Mean Square Displacements</a>  \n",
      "<a id='secondBatchWrapped'></a><b>Second Batch of Simulations assuming wrapped coordinates</b>  \n",
      "<a href='#secondBatchWrapped.Description'>Description of the simulations</a>  \n",
      "<a href='#secondBatchWrapped.PDBcreate'>Create structure (PDB) files</a>  \n",
      "<a href='#secondBatchWrapped.DCDcreate'>Create DCD files with and without wrapped coordinates</a>  \n",
      "<a href='#secondBatchWrapped.TRremoval'>Removal of translations and rotations</a>    \n",
      "<a href='#secondBatchWrapped.MSD'>Mean Square Displacements</a>  \n",
      "<a href='#secondBatchWrapped.LS'>Simulation length of 5M does not reproduce Fickian diffusion</a>  \n",
      "<a id='thirdBatch'></a><b>Third Batch of Simulations</b>  \n",
      "<a href='#thirdBatch.Description'>Description of the simulations</a>  \n",
      "<a href='#thirdBatch.PDBcreate'>Create structure (PDB) files</a>  \n",
      "<a href='#thirdBatch.DCDcreate'>Create DCD files with and without wrapped coordinates</a>  \n",
      "<a href='#thirdBatch.TRremoval'>Removal of translations and rotations</a>  \n",
      "<a href='#thirdBatch.MSD'>Mean Square Displacements</a>  \n",
      "<a id='thirdBatchMerged'></a><b>Third Batch of Simulations with Merged Trajectories</b>  \n",
      "<a href='#thirdBatchMerged.Description'>Description of the simulations</a>  \n",
      "<a href='#thirdBatchMerged.wrap'>Merge trajectories</a>  \n",
      "<a href='#thirdBatchMerged.animated'>Animated GIF trajectories</a>  \n",
      "<a href='#thirdBatchMerged.pdb'>Create PDB of the whole system</a>  \n",
      "<a href='#thirdBatchMerged.CMmotions'>Check for center of mass motions</a>  \n",
      "<a href='#thirdBatchMerged.CMdiffusion'>Mean square displacements of the center of mass</a>  \n",
      "<a href='#thirdBatchMerged.MSD'>Mean square displacements</a>  \n",
      "<a href='#thirdBatchMerged.IQT'>Self intermediate scattering structure factor</a>  \n",
      "\n",
      "<a href='#Syntax'>HTML and MARKDOWN SYNTAX EXAMPLES</a>  \n",
      "<a href='#Section'><h4>Section</h4></a>  \n",
      "\n",
      "* <a href='#Section.subsection'>subsection</a>  \n",
      "    - <a href='#Section.subsection.subsubsection'>Subsubsetion</a>  \n",
      "        + <a href='#Section.subsection.subsubsection.subsubsubsection'>sub-sub-subsection</a> "
     ]
    },
    {
     "cell_type": "markdown",
     "metadata": {},
     "source": [
      "(<a href='#Table of Contents'>Top</a>)<a id='Collaborators'></a><h3>Collaborators</h3>\n",
      "\n",
      "* Monojoy goswami"
     ]
    },
    {
     "cell_type": "markdown",
     "metadata": {},
     "source": [
      "(<a href='#Table of Contents'>Top</a>)<a id='Goal'></a><h3>Goal</h3>\n",
      "\n",
      "From my part, the goal is to help Monojoy with calculation of certain dynamical quantities, such as MSD(t) and I(Q,t)"
     ]
    },
    {
     "cell_type": "markdown",
     "metadata": {},
     "source": [
      "(<a href='#Table of Contents'>Top</a>)<a id='firstBatch.Description'></a><h3>Description of the simulations</h3>\n",
      "<br/>\n",
      "Monojoy did the simulations and explain them in [Charged_BCP_model.pdf](files/documents/Charged_BCP_model.pdf). Below is document as slides:\n",
      "\n",
      "<center>\n",
      "<a href=\"files/documents/slide1.png\"><img src=\"files/documents/slide1.png\" width=\"800\" height=\"800\" alt=\"slide1.png\"></a></br>\n",
      "<a href=\"files/documents/slide2.png\"><img src=\"files/documents/slide2.png\" width=\"800\" height=\"800\" alt=\"slide2.png\"></a></br>\n",
      "<a href=\"files/documents/slide3.png\"><img src=\"files/documents/slide3.png\" width=\"800\" height=\"800\" alt=\"slide3.png\"></a></br>\n",
      "</center>\n",
      "http://localhost:8888/notebooks/PEblock.ipynb#firstBatch\n",
      "NOTE: conformations are saved every 500 time-steps, not 50000 as stated in the slides.  "
     ]
    },
    {
     "cell_type": "markdown",
     "metadata": {},
     "source": [
      "(<a href='#firstBatch'>Top</a>)<a id='firstBatch.PDBcreate'></a><h3>Create structure (PDB) files</h3>\n",
      "First we use VMD to load file dump.xyz and save the first frame as dump.pdb. This file contains all types of particles, thus we extract each particle to a different PDB. Fortunately, VMD has assigned a different atomic element to each particle. We use that:\n",
      "<pre>grep ' H ' dump.pdb > poly1.pdb        # neutral monomers of PE\n",
      "grep ' He ' dump.pdb > poly2.pdb       # phylic or phobic block of PE\n",
      "grep ' Li ' dump.pdb > polyCharge.pdb  # cation monomers of PE\n",
      "grep ' B ' dump.pdb >  tail.pdb        # surfactant tail\n",
      "grep ' Be ' dump.pdb >  head.pdb       # surfactant head\n",
      "grep ' C ' dump.pdb >  Ncions.pdb       # ? counter-ions\n",
      "grep ' N ' dump.pdb >  Pcions.pdb       # ? counter-ions</pre>\n",
      "\n",
      "After this we rename the atomic elements to H. This way we'll have the same neutron scattering length per particle \n",
      "\n",
      "<pre>perl -p -i -e 's/ He/ H /g' poly2.pdb\n",
      "perl -p -i -e 's/ Li/ H /g' polyCharge.pdb\n",
      "perl -p -i -e 's/ B / H /g' tail.pdb\n",
      "perl -p -i -e 's/ Be/ H /g' head.pdb</pre>\n",
      "perl -p -i -e 's/ C / H /g' Ncions.pdb\n",
      "perl -p -i -e 's/ N / H /g' Pcions.pdb\n"
     ]
    },
    {
     "cell_type": "markdown",
     "metadata": {},
     "source": [
      "(<a href='#firstBatch'>Top</a>)<a id='firstBatch.DCDcreate'></a><h3>Create DCD files with and without wrapped coordinates</h3>\n",
      "Coordinates in the XYZ (the Ncions.dat, poly1.dat,...) are wrapped to the central cell. For all systems, the dimensions of the cell are <b>X = Y = Z = 100.0</b>.\n",
      "We create DCD files with wraped (e.g. <i>Ncions.dcd</i>) and unwraped (e.g. <i>Ncions_unwraped.dcd</i>) coordinates. Here's the template VMD script to create the unwraped version\n",
      "<pre>package require pbctools\n",
      "mol new _NAME_.pdb\n",
      "animate read xyz _NAME_.dat beg 1 end -1 waitfor all\n",
      "pbc set {100.0 100.0 100.0} -all\n",
      "pbc unwrap -all\n",
      "animate write dcd _NAME__unwraped.dcd beg 1 end -1 waitfor all\n",
      "exit</pre>\n"
     ]
    },
    {
     "cell_type": "markdown",
     "metadata": {},
     "source": [
      "(<a href='#firstBatch'>Top</a>)<a id='firstBatch.TRremoval'></a><h3>Removal of translations and rotations</h3>\n",
      "There are two steps involved:\n",
      "\n",
      "Remove global translations and rotation with RMS to previous conformation. We use the <i>unwraped</i> coordinates because later we want to calculate the mean square displacements.\n",
      "\n",
      "For the second step we create trajectories NAME_rms2prev.dcd:\n",
      "<pre>#Remove translations and rotations at each elementary step\n",
      "for name in poly1 poly2 polyCharge tail head Ncions Pcions;do\n",
      "  echo $name; /bin/cp $PROJD/cpptraj/rms2prev.cpptraj junk.cpptraj\n",
      "  perl -pi -e \"s/_NAME_/$name/g\" junk.cpptraj\n",
      "  cpptraj -p $name.pdb -i junk.cpptraj &> /dev/null\n",
      "done</pre>\n"
     ]
    },
    {
     "cell_type": "markdown",
     "metadata": {},
     "source": [
      "(<a href='#firstBatch'>Top</a>)<a id='firstBatch.MSD'></a><h3>Mean Square Displacements</h3>\n",
      "Using the NAME_rms2prev.dcd trajectories, we calculate $<MSD(t-t_0)>_{t_0}$. The call to diffusion_t0average.py will load the trajectory composed of 20000 frames, each frame separted by 50000 time units, and then calculate MSD(t) over 20 different chunks of the trajectory. Each chunk is 10000 frames in length.\n",
      "\n",
      "<pre>#Calculate MSD for rms2prev trajectories\n",
      "for name in poly1 poly2 polyCharge tail head Ncions Pcions;do\n",
      "  python $PROJD/python/diffusion_t0average.py $name.pdb ${name}_rms2prev.dcd 20000 50000 10000 20 '@*' diffusion_${name}_rms2prev.dat --rms2t0=no &> /dev/null\n",
      "done</pre>\n",
      "\n",
      "<center><a href=\"files/analysis/diffusion_poly1_rms2prev.png\"><img src=\"files/analysis/diffusion_poly1_rms2prev.png\" width=\"400\" height=\"400\" alt=\"analysis/diffusion_poly1_rms2prev.png\"></a></br><i>analysis/diffusion_poly1_rms2prev.png(.agr)</i></br></center>"
     ]
    },
    {
     "cell_type": "markdown",
     "metadata": {},
     "source": [
      "(<a href='#firstBatch'>Top</a>)<a id='firstBatch.IQT'></a><h3>Self intermediate scattering structure factor</h3>\n",
      "Monojoy requested calculation of I(Q,t) for lengths {0.97, 2, 10, 100} (lenght unit is $\\sigma$), with associated q-moduli $2\\pi/L$, {6.4775 3.1416 0.62832 0.062832}.  \n",
      "We carry out the Sassena calculations in hopper.nersc.gov:/scratch/scratchdirs/jmborr/PEblock.  \n",
      "We save the $I(Q,t)$ in ASCII format with MantidPlot and script [h52dat.py](files/python/h52dat.py). The ouput are files <i>fqt\\_inc\\_\\*.dat</i>.  \n",
      "Monojoy doesn't like negative times for $I(Q,t)$. Thus, we remove them with script [nonnegative.py](files/python/nonnegative.py). The output are files <i>fqt\\_incNN\\_\\*.dat</i>.  \n",
      "<pre>python $PROJD/python/nonnegative.py fqt_inc_$name.dat fqt_incNN_$name.dat</pre>\n",
      "Here is a mantid session to plot I(Q,t), saved under subdirectory <i>Low_surf_conc/lj10_prod/iqt/</i>.\n",
      "<center><a href=\"files/Low_surf_conc/lj10_prod/iqt.jpeg\"><img src=\"files/Low_surf_conc/lj10_prod/iqt.jpeg\" width=\"400\" height=\"400\" alt=\"iqt.jpeg\"></a></br><i>Low_surf_conc/lj10_prod/iqt.jpeg</i></br></center>"
     ]
    },
    {
     "cell_type": "markdown",
     "metadata": {},
     "source": [
      "<h2>Second Batch of Simulations</h2>"
     ]
    },
    {
     "cell_type": "markdown",
     "metadata": {},
     "source": [
      "(<a href='#secondBatch'>Top</a>)<a id='secondBatch.Description'></a><h3>Description of the simulations</h3>\n",
      "<br/>\n",
      "Some info:\n",
      "\n",
      "- Simulations are 10000 frames long (half the number of frames of the old simulations). Consecutive frames are separated by 500 time-steps. Thus, simulations are 5 million time-units.\n",
      "- Coordinates are stored in <i>unwrapped</i> mode.  \n",
      "- Simulations are stored under <i>camm2.sns.gov:/SNSlocal/projects/zf4/Block_PE_surf</i>.  The subdirectories of interest are:\n",
      "    * Philic_BCP2/400NC/, Philic_BCP2/300NC/, Philic_BCP2/200NC/, <strike>Philic_BCP2/100NC/</strike>, Philic_BCP2/50NC/.  \n",
      "    * <strike>Phobic_BCP2/400NC/</strike>, Phobic_BCP2/300NC/, Phobic_BCP2/200NC/, <strike>Phobic_BCP2/100NC/</strike>, Phobic_BCP2/50NC/.  \n",
      "\n",
      "The crossed out subdirectories correspond to systems already simulated in the first batch of simulations. Below is the correspondence table. Directories in the \"Second Batch\" column are actually soft-links to the directories in the \"First Batch\" column.\n",
      "\n",
      "<center><table>\n",
      "<tr><td><b>First Batch</b></td>  <td><b>Second Batch</b></td></tr>\n",
      "<tr><td>Philic_BCP2/lj12_prod</td>  <td>Philic_BCP2/100NC/lj12_prod</td></tr>\n",
      "<tr><td>Low_surf_conc/lj10_prod</td>  <td>Phobic_BCP2/400NC/lj10_prod</td></tr>\n",
      "<tr><td>Phobic_BCP2/lj13_prod</td>  <td>Phobic_BCP2/100NC/lj13_prod</td></tr>\n",
      "</table></center>\n",
      "\n",
      "Regarding the system, each type of particle has its own ID number:\n",
      "\n",
      "<center><table>\n",
      "<tr><td><b>Particle</b></td>  <td><b>ID</b></td></tr>\n",
      "<tr><td>phobic monomer</td>  <td>2</td></tr>\n",
      "<tr><td>neutral monomer</td>  <td>1</td></tr>\n",
      "<tr><td>charged monomer</td>  <td>3</td></tr>\n",
      "<tr><td>surfactant head</td>  <td>4</td></tr>\n",
      "<tr><td>surfactant tail</td>  <td>5</td></tr>\n",
      "<tr><td>counter anion</td>  <td>6</td></tr>\n",
      "<tr><td>counter cation</td>  <td>7</td></tr>\n",
      "</table></center>\n",
      "\n",
      "Some stored files containing the trajectories:\n",
      "\n",
      "- <i>poly.dat</i> contains the polymer monomers (phobic, neutral, and charged).\n",
      "- <i>surf.dat</i> contains the surfactant particles (head and tail).\n",
      "- <i>cions.dat</i> contains the counterions (anions and cations).\n",
      "- <i>dump.xyz</i> contains all particles, each with its own ID.\n",
      "- <i>poly1.xyz</i> contains the neutral monomers\n",
      "- <i>poly2.xyz</i> contains the phobic monomers\n",
      "- <i>polyCharge.xyz</i> contains the charged monomers\n",
      "- <i>head.xyz</i> contains the surfactant heads\n",
      "- <i>tail.xyz</i> contains the surfactant tails\n",
      "- <i>Ncions.xyz</i> contains the counteranions\n",
      "- <i>Pcions.xyz</i> contains the countercations"
     ]
    },
    {
     "cell_type": "markdown",
     "metadata": {},
     "source": [
      "(<a href='#secondBatch'>Top</a>)<a id='secondBatch.PDBcreate'></a><h3>Create structure (PDB) files</h3>\n",
      "First we use VMD to load file dump.xyz and save the first frame as dump.pdb. This file contains all types of particles, thus we extract each particle to a different PDB. Fortunately, VMD has assigned a different atomic element to each particle. We use that:\n",
      "<pre>grep ' H ' dump.pdb > poly1.pdb        # neutral monomers of PE\n",
      "grep ' He ' dump.pdb > poly2.pdb       # phylic or phobic block of PE\n",
      "grep ' Li ' dump.pdb > polyCharge.pdb  # cation monomers of PE\n",
      "grep ' B ' dump.pdb >  tail.pdb        # surfactant tail\n",
      "grep ' Be ' dump.pdb >  head.pdb       # surfactant head\n",
      "grep ' C ' dump.pdb >  Ncions.pdb       # ? counter-ions\n",
      "grep ' N ' dump.pdb >  Pcions.pdb       # ? counter-ions</pre>\n",
      "\n",
      "After this we rename the atomic elements to H. This way we'll have the same neutron scattering length per particle \n",
      "\n",
      "<pre>perl -p -i -e 's/ He/ H /g' poly2.pdb\n",
      "perl -p -i -e 's/ Li/ H /g' polyCharge.pdb\n",
      "perl -p -i -e 's/ B / H /g' tail.pdb\n",
      "perl -p -i -e 's/ Be/ H /g' head.pdb</pre>\n",
      "perl -p -i -e 's/ C / H /g' Ncions.pdb\n",
      "perl -p -i -e 's/ N / H /g' Pcions.pdb"
     ]
    },
    {
     "cell_type": "markdown",
     "metadata": {},
     "source": [
      "(<a href='#secondBatch'>Top</a>)<a id='secondBatch.DCDcreate'></a><h3>Create DCD files with the unwrapped coordinates</h3>\n",
      "Coordinates in the XYZ (the Ncions.dat, poly1.dat,...) are <b>un</b>wrapped to the central cell (recall that coordinates in the first batch of simulations were wrapped). We only need to \"translate\" from XYZ to DCD format. Here's and extract from [bash_commands.sh](files/bash_commands.sh):  \n",
      "<pre>/bin/cp $PROJD/vmd/xyz2unwrappeddcd.tcl junk.tcl\n",
      "# XYZDIR is Monojoy's directory where the xyz file is located\n",
      "python $PROJD/python/replace_keyword.py junk.tcl \"_XYZDIR_\" $zf4Root/${subDirs[$iDir]}\n",
      "python $PROJD/python/replace_keyword.py junk.tcl \"_NAME_\" $name\n",
      "vmd -dispdev text -eofexit -e junk.tcl</pre>"
     ]
    },
    {
     "cell_type": "markdown",
     "metadata": {},
     "source": [
      "(<a href='#secondBatch'>Top</a>)<a id='secondBatch.TRremoval'></a><h3>Removal of translations and rotations</h3>\n",
      "There are two steps involved:\n",
      "\n",
      "Remove global translations and rotation with RMS to previous conformation. We use the <i>unwraped</i> coordinates because later we want to calculate the mean square displacements.\n",
      "\n",
      "For the second step we create trajectories NAME_rms2prev.dcd:\n",
      "<pre>#Remove translations and rotations at each elementary step\n",
      "for name in poly1 poly2 polyCharge tail head Ncions Pcions;do\n",
      "  echo $name; /bin/cp $PROJD/cpptraj/rms2prev.cpptraj junk.cpptraj\n",
      "  perl -pi -e \"s/_NAME_/$name/g\" junk.cpptraj\n",
      "  cpptraj -p $name.pdb -i junk.cpptraj &> /dev/null\n",
      "done</pre>\n"
     ]
    },
    {
     "cell_type": "markdown",
     "metadata": {},
     "source": [
      "(<a href='#secondBatch'>Top</a>)<a id='secondBatch.MSD'></a><h3>Mean Square Displacements</h3>\n",
      "Using the NAME_rms2prev.dcd trajectories, we calculate $<MSD(t-t_0)>_{t_0}$. The call to diffusion_t0average.py will load the trajectory composed of 10000 frames, each frame separted by 500 time units, and then calculate MSD(t) over 20 different chunks of the trajectory. Each chunk is 7500 frames in length.\n",
      "\n",
      "<pre>#Calculate MSD for rms2prev trajectories\n",
      "for name in poly1 poly2 polyCharge tail head Ncions Pcions;do\n",
      "  python $PROJD/python/diffusion_t0average.py $name.pdb ${name}_rms2prev.dcd 10000 500 7500 20 '@*' diffusion_${name}_rms2prev.dat --rms2t0=no &> /dev/null\n",
      "done</pre>\n",
      "\n",
      "Plots under <i>analysis/secondBatch/<b>Philic_BCP2</b></i>  \n",
      "<center><table>\n",
      "<tr>\n",
      "  <td><a href=\"files/analysis/secondBatch/Philic_BCP2/diffusion_poly1_rms2prev.png\"><img src=\"files/analysis/secondBatch/Philic_BCP2/diffusion_poly1_rms2prev.png\" width=\"200\" height=\"200\" alt=\"analysis/secondBatch/Philic_BCP2/diffusion_poly1_rms2prev.png\"></a></td>\n",
      "  <td><a href=\"files/analysis/secondBatch/Philic_BCP2/diffusion_poly2_rms2prev.png\"><img src=\"files/analysis/secondBatch/Philic_BCP2/diffusion_poly2_rms2prev.png\" width=\"200\" height=\"200\" alt=\"analysis/secondBatch/Philic_BCP2/diffusion_poly2_rms2prev.png\"></a></td>\n",
      "  <td><a href=\"files/analysis/secondBatch/Philic_BCP2/diffusion_polyCharge_rms2prev.png\"><img src=\"files/analysis/secondBatch/Philic_BCP2/diffusion_polyCharge_rms2prev.png\" width=\"200\" height=\"200\" alt=\"analysis/secondBatch/Philic_BCP2/diffusion_polyCharge_rms2prev.png\"></a></td>\n",
      "  <td><a href=\"files/analysis/secondBatch/Philic_BCP2/diffusion_head_rms2prev.png\"><img src=\"files/analysis/secondBatch/Philic_BCP2/diffusion_head_rms2prev.png\" width=\"200\" height=\"200\" alt=\"analysis/secondBatch/Philic_BCP2/diffusion_head_rms2prev.png\"></a></td>\n",
      "  <td><a href=\"files/analysis/secondBatch/Philic_BCP2/diffusion_Ncions_rms2prev.png\"><img src=\"files/analysis/secondBatch/Philic_BCP2/diffusion_Ncions_rms2prev.png\" width=\"200\" height=\"200\" alt=\"analysis/secondBatch/Philic_BCP2/diffusion_Ncions_rms2prev.png\"></a></td>\n",
      "  <td><a href=\"files/analysis/secondBatch/Philic_BCP2/diffusion_Pcions_rms2prev.png\"><img src=\"files/analysis/secondBatch/Philic_BCP2/diffusion_Pcions_rms2prev.png\" width=\"200\" height=\"200\" alt=\"analysis/secondBatch/Philic_BCP2/diffusion_Pcions_rms2prev.png\"></a></td>\n",
      "</tr>\n",
      "</table></center>\n",
      "\n",
      "Plots under <i>analysis/secondBatch/<b>Phobic_BCP2</b></i>  \n",
      "<center><table>\n",
      "<tr>\n",
      "  <td><a href=\"files/analysis/secondBatch/Phobic_BCP2/diffusion_poly1_rms2prev.png\"><img src=\"files/analysis/secondBatch/Phobic_BCP2/diffusion_poly1_rms2prev.png\" width=\"200\" height=\"200\" alt=\"analysis/secondBatch/Phobic_BCP2/diffusion_poly1_rms2prev.png\"></a></td>\n",
      "  <td><a href=\"files/analysis/secondBatch/Phobic_BCP2/diffusion_poly2_rms2prev.png\"><img src=\"files/analysis/secondBatch/Phobic_BCP2/diffusion_poly2_rms2prev.png\" width=\"200\" height=\"200\" alt=\"analysis/secondBatch/Phobic_BCP2/diffusion_poly2_rms2prev.png\"></a></td>\n",
      "  <td><a href=\"files/analysis/secondBatch/Phobic_BCP2/diffusion_polyCharge_rms2prev.png\"><img src=\"files/analysis/secondBatch/Phobic_BCP2/diffusion_polyCharge_rms2prev.png\" width=\"200\" height=\"200\" alt=\"analysis/secondBatch/Phobic_BCP2/diffusion_polyCharge_rms2prev.png\"></a></td>\n",
      "  <td><a href=\"files/analysis/secondBatch/Phobic_BCP2/diffusion_head_rms2prev.png\"><img src=\"files/analysis/secondBatch/Phobic_BCP2/diffusion_head_rms2prev.png\" width=\"200\" height=\"200\" alt=\"analysis/secondBatch/Phobic_BCP2/diffusion_head_rms2prev.png\"></a></td>\n",
      "  <td><a href=\"files/analysis/secondBatch/Phobic_BCP2/diffusion_Ncions_rms2prev.png\"><img src=\"files/analysis/secondBatch/Phobic_BCP2/diffusion_Ncions_rms2prev.png\" width=\"200\" height=\"200\" alt=\"analysis/secondBatch/Phobic_BCP2/diffusion_Ncions_rms2prev.png\"></a></td>\n",
      "  <td><a href=\"files/analysis/secondBatch/Phobic_BCP2/diffusion_Pcions_rms2prev.png\"><img src=\"files/analysis/secondBatch/Phobic_BCP2/diffusion_Pcions_rms2prev.png\" width=\"200\" height=\"200\" alt=\"analysis/secondBatch/Phobic_BCP2/diffusion_Pcions_rms2prev.png\"></a></td>\n",
      "</tr>\n",
      "</table></center>\n",
      "\n",
      "The question arises of why are the results of the second batch of simulations out of trend with the results of the first batch. Could it be because the assumption of unwrapped coordinates is wrong? Next, we recalculate MSD assuming that the coordinates are wrapped, so that we have to include an unwrapping step."
     ]
    },
    {
     "cell_type": "markdown",
     "metadata": {},
     "source": [
      "(<a href='#secondBatchWrapped'>Top</a>)<a id='secondBatchWrapped.Description'></a><h3>Description of the simulations</h3>\n",
      "<br/>\n",
      "Same as in <a href='#secondBatchWrapped'>secondBatchWrapped</a>, but we are assuming that the coordinates are wrapped, in order to apply the same protocol that we used for the first batch of simulations."
     ]
    },
    {
     "cell_type": "markdown",
     "metadata": {},
     "source": [
      "(<a href='#secondBatchWrapped'>Top</a>)<a id='secondBatchWrapped.PDBcreate'></a><h3>Create structure (PDB) files</h3>\n",
      "Same files as in <a href='#secondBatch.PDBcreate'>Create structure (PDB) files</a>.  "
     ]
    },
    {
     "cell_type": "markdown",
     "metadata": {},
     "source": [
      "(<a href='#secondBatchWrapped'>Top</a>)<a id='secondBatchWrapped.DCDcreate'></a><h3>Create DCD files with and without wrapped coordinates</h3>\n",
      "\n",
      "We assume that coordinates in the XYZ (the Ncions.xyz, poly1.xyz,...) are wrapped to the central cell. For all systems, the dimensions of the cell are <b>X = Y = Z = 100.0</b>.\n",
      "We create DCD files with wraped (e.g. <i>Ncions.dcd</i>) and unwraped (e.g. <i>Ncions_unwraped.dcd</i>) coordinates. Here's the template VMD script to create the unwraped version\n",
      "<pre>package require pbctools\n",
      "mol new _NAME_.pdb\n",
      "animate read xyz _NAME_.dat beg 1 end -1 waitfor all\n",
      "pbc set {100.0 100.0 100.0} -all\n",
      "pbc unwrap -all\n",
      "animate write dcd _NAME__unwraped.dcd beg 1 end -1 waitfor all\n",
      "exit</pre>\n",
      "For details, read file [bash_commands.sh](files/bash_commands.sh)."
     ]
    },
    {
     "cell_type": "markdown",
     "metadata": {},
     "source": [
      "(<a href='#secondBatchWrapped'>Top</a>)<a id='secondBatchWrapped.TRremoval'></a><h3>Removal of translations and rotations</h3>\n",
      "There are two steps involved:\n",
      "\n",
      "Remove global translations and rotation with RMS to previous conformation. We use the <i>unwrapped</i> coordinates because later we want to calculate the mean square displacements.\n",
      "\n",
      "For the second step we create trajectories NAME_rms2prev.dcd:\n",
      "<pre>#Remove translations and rotations at each elementary step\n",
      "for name in poly1 poly2 polyCharge tail head Ncions Pcions;do\n",
      "  echo $name; /bin/cp $PROJD/cpptraj/rms2prev.cpptraj junk.cpptraj\n",
      "  perl -pi -e \"s/_NAME_/$name/g\" junk.cpptraj\n",
      "  cpptraj -p $name.pdb -i junk.cpptraj &> /dev/null\n",
      "done</pre>\n"
     ]
    },
    {
     "cell_type": "markdown",
     "metadata": {},
     "source": [
      "(<a href='#secondBatchWrapped'>Top</a>)<a id='secondBatchWrapped.MSD'></a><h3>Mean Square Displacements</h3>\n",
      "Using the NAME_rms2prev.dcd trajectories, we calculate $<MSD(t-t_0)>_{t_0}$. The call to diffusion_t0average.py will load the trajectory composed of 10000 frames, each frame separted by 500 time units, and then calculate MSD(t) over 20 different chunks of the trajectory. Each chunk is 7500 frames in length.\n",
      "\n",
      "<pre>#Calculate MSD for rms2prev trajectories\n",
      "for name in poly1 poly2 polyCharge tail head Ncions Pcions;do\n",
      "  python $PROJD/python/diffusion_t0average.py $name.pdb ${name}_rms2prev.dcd 10000 500 7500 20 '@*' diffusion_${name}_rms2prev.dat --rms2t0=no &> /dev/null\n",
      "done</pre>\n",
      "\n",
      "The MSD curves are the same as in the second batch with no assumption that coordinates have been wrapped. See example for <i>analysis/secondBatchWrapped/Phobic_BCP2/diffusion_poly1_rms2prev.png</i> and compare to MSD of <i>analysis/secondBatch/Phobic_BCP2/diffusion_poly1_rms2prev.png</i>:\n",
      "\n",
      "<center><table>\n",
      "<tr>\n",
      "  <td><center><a href=\"files/analysis/secondBatchWrapped/Phobic_BCP2/diffusion_poly1_rms2prev.png\"><img src=\"files/analysis/secondBatchWrapped/Phobic_BCP2/diffusion_poly1_rms2prev.png\" width=\"300\" height=\"300\" alt=\"analysis/secondBatchWrapped/Phobic_BCP2/diffusion_poly1_rms2prev.png\"></a></center></td>\n",
      "  <td><center><a href=\"files/analysis/secondBatch/Phobic_BCP2/diffusion_poly1_rms2prev.png\"><img src=\"files/analysis/secondBatch/Phobic_BCP2/diffusion_poly1_rms2prev.png\" width=\"300\" height=\"300\" alt=\"analysis/secondBatch/Phobic_BCP2/diffusion_poly1_rms2prev.png\"></a></center></td>\n",
      "</tr></table></center>"
     ]
    },
    {
     "cell_type": "markdown",
     "metadata": {},
     "source": [
      "(<a href='#secondBatchWrapped'>Top</a>)<a id='secondBatchWrapped.LS'></a><h3>Simulation length of 5M does not reproduce Fickian diffusion</h3>\n",
      "\n",
      "Here we compare poly1 for the cases Phobic_BCP2/300NC and Phobic_BCP2/400NC. We calculate MSD(t) for the whole trajectory (termed \"single chunk\") and as an average over 20 different, smaller chunks: \n",
      "\n",
      "<center><a href=\"files/analysis/MSD_vs_simlength.png\"><img src=\"files/analysis/MSD_vs_simlength.png\" width=\"400\" height=\"400\" alt=\"analysis/MSD_vs_simlength.png\"></a> <i>analysis/MSD_vs_simlength.png(.agr)</i></center>\n",
      "\n",
      "Notice how the single chunk calculation gives very similar MSD(t=5M) in both cases (rec and blue curves). However, the average over many chunks fail to reproduce Fickian diffusion for the 300NC case (black curve) due to insufficient sampling."
     ]
    },
    {
     "cell_type": "markdown",
     "metadata": {},
     "source": [
      "(<a href='#thirdBatch'>Top</a>)<a id='thirdBatch.Description'></a><h3>Description of the simulations</h3>\n",
      "<br/>\n",
      "Some info:\n",
      "\n",
      "- Simulations are 20000 frames long (same number of frames as the first batch). Consecutive frames are separated by 500 time-steps. Thus, simulations are 10 million time-units.\n",
      "- Coordinates are stored in <i>wrapped</i> mode.  \n",
      "- Simulations are stored under <i>camm2.sns.gov:/SNSlocal/projects/zf4/Block_PE_surf</i>.  The subdirectories of interest are:\n",
      "    * Philic_BCP2/400NC/lj8_prod, Philic_BCP2/300NC/lj8_prod, Philic_BCP2/200NC/lj8_prod, <strike>Philic_BCP2/100NC/</strike>, Philic_BCP2/50NC/lj8_prod.  \n",
      "    * <strike>Phobic_BCP2/400NC/</strike>, Phobic_BCP2/300NC/lj8_prod, Phobic_BCP2/200NC/lj8_prod, <strike>Phobic_BCP2/100NC/</strike>, Phobic_BCP2/50NC/lj8_prod.  \n",
      "\n",
      "The crossed out subdirectories correspond to systems already simulated in the first batch of simulations. Below is the correspondence table. Directories in the \"Third Batch\" column are actually soft-links to the directories in the \"First Batch\" column.\n",
      "\n",
      "<center><table>\n",
      "<tr><td><b>First Batch</b></td>  <td><b>Third Batch</b></td></tr>\n",
      "<tr><td>Philic_BCP2/lj12_prod</td>  <td>Philic_BCP2/100NC/lj8_prod</td></tr>\n",
      "<tr><td>Low_surf_conc/lj10_prod</td>  <td>Phobic_BCP2/400NC/lj8_prod</td></tr>\n",
      "<tr><td>Phobic_BCP2/lj13_prod</td>  <td>Phobic_BCP2/100NC/lj8_prod</td></tr>\n",
      "</table></center>\n",
      "\n",
      "Regarding the system, each type of particle has its own ID number:\n",
      "\n",
      "<center><table>\n",
      "<tr><td><b>Particle</b></td>  <td><b>ID</b></td></tr>\n",
      "<tr><td>phobic monomer</td>  <td>2</td></tr>\n",
      "<tr><td>neutral monomer</td>  <td>1</td></tr>\n",
      "<tr><td>charged monomer</td>  <td>3</td></tr>\n",
      "<tr><td>surfactant head</td>  <td>4</td></tr>\n",
      "<tr><td>surfactant tail</td>  <td>5</td></tr>\n",
      "<tr><td>counter anion</td>  <td>6</td></tr>\n",
      "<tr><td>counter cation</td>  <td>7</td></tr>\n",
      "</table></center>\n",
      "\n",
      "Some stored files containing the trajectories:\n",
      "\n",
      "- <i>poly.dat</i> contains the polymer monomers (phobic, neutral, and charged).\n",
      "- <i>surf.dat</i> contains the surfactant particles (head and tail).\n",
      "- <i>cions.dat</i> contains the counterions (anions and cations).\n",
      "- <i>dump.xyz</i> contains all particles, each with its own ID.\n",
      "- <i>poly1.xyz</i> contains the neutral monomers\n",
      "- <i>poly2.xyz</i> contains the phobic monomers\n",
      "- <i>polyCharge.xyz</i> contains the charged monomers\n",
      "- <i>head.xyz</i> contains the surfactant heads\n",
      "- <i>tail.xyz</i> contains the surfactant tails\n",
      "- <i>Ncions.xyz</i> contains the counteranions\n",
      "- <i>Pcions.xyz</i> contains the countercations"
     ]
    },
    {
     "cell_type": "markdown",
     "metadata": {},
     "source": [
      "(<a href='#thirdBatch'>Top</a>)<a id='thirdBatch.PDBcreate'></a><h3>Create structure (PDB) files</h3>\n",
      "First we use VMD to load file dump.xyz and save the first frame as dump.pdb. This file contains all types of particles, thus we extract each particle to a different PDB. Fortunately, VMD has assigned a different atomic element to each particle. We use that:\n",
      "<pre>grep ' H ' dump.pdb > poly1.pdb        # neutral monomers of PE\n",
      "grep ' He ' dump.pdb > poly2.pdb       # phylic or phobic block of PE\n",
      "grep ' Li ' dump.pdb > polyCharge.pdb  # cation monomers of PE\n",
      "grep ' B ' dump.pdb >  tail.pdb        # surfactant tail\n",
      "grep ' Be ' dump.pdb >  head.pdb       # surfactant head\n",
      "grep ' C ' dump.pdb >  Ncions.pdb       # ? counter-ions\n",
      "grep ' N ' dump.pdb >  Pcions.pdb       # ? counter-ions</pre>\n",
      "\n",
      "After this we rename the atomic elements to H. This way we'll have the same neutron scattering length per particle \n",
      "\n",
      "<pre>perl -p -i -e 's/ He/ H /g' poly2.pdb\n",
      "perl -p -i -e 's/ Li/ H /g' polyCharge.pdb\n",
      "perl -p -i -e 's/ B / H /g' tail.pdb\n",
      "perl -p -i -e 's/ Be/ H /g' head.pdb</pre>\n",
      "perl -p -i -e 's/ C / H /g' Ncions.pdb\n",
      "perl -p -i -e 's/ N / H /g' Pcions.pdb"
     ]
    },
    {
     "cell_type": "markdown",
     "metadata": {},
     "source": [
      "(<a href='#thirdBatch'>Top</a>)<a id='thirdBatch.DCDcreate'></a><h3>Create DCD files with and without wrapped coordinates</h3>\n",
      "\n",
      "Coordinates in the XYZ (the Ncions.dat, poly1.dat,...) are wrapped to the central cell. For all systems, the dimensions of the cell are <b>X = Y = Z = 100.0</b>.\n",
      "We create DCD files with wraped (e.g. <i>Ncions.dcd</i>) and unwraped (e.g. <i>Ncions_unwraped.dcd</i>) coordinates. Here's the template VMD script to create the unwraped version\n",
      "<pre>package require pbctools\n",
      "mol new _NAME_.pdb\n",
      "animate read xyz _NAME_.dat beg 1 end -1 waitfor all\n",
      "pbc set {100.0 100.0 100.0} -all\n",
      "pbc unwrap -all\n",
      "animate write dcd _NAME__unwrapped.dcd beg 1 end -1 waitfor all\n",
      "exit</pre>\n",
      "\n",
      "We use template TCL script [dat2unwrapeddcd_thirdBatch.tcl](files/vmd/dat2unwrapeddcd_thirdBatch.tcl). See [bash_commands.sh](files/bash_commands.sh) for details."
     ]
    },
    {
     "cell_type": "markdown",
     "metadata": {},
     "source": [
      "(<a href='#thirdBatch'>Top</a>)<a id='thirdBatch.TRremoval'></a><h3>Removal of translations and rotations</h3>\n",
      "There are two steps involved:\n",
      "\n",
      "Remove global translations and rotation with RMS to previous conformation. We use the <i>unwrapped</i> coordinates because later we want to calculate the mean square displacements.\n",
      "\n",
      "For the second step we create trajectories NAME_rms2prev.dcd:\n",
      "<pre>#Remove translations and rotations at each elementary step\n",
      "for name in poly1 poly2 polyCharge tail head Ncions Pcions;do\n",
      "  echo $name; /bin/cp $PROJD/cpptraj/rms2prev.cpptraj junk.cpptraj\n",
      "  perl -pi -e \"s/_NAME_/$name/g\" junk.cpptraj\n",
      "  cpptraj -p $name.pdb -i junk.cpptraj &> /dev/null\n",
      "done</pre>\n",
      "\n",
      "We use CPPTRAJ script [rms2prev.cpptraj](files/cpptraj/rms2prev.cpptraj). See [bash_commands.sh](files/bash_commands.sh) for details."
     ]
    },
    {
     "cell_type": "markdown",
     "metadata": {},
     "source": [
      "(<a href='#thirdBatch'>Top</a>)<a id='thirdBatch.MSD'></a><h3>Mean Square Displacements</h3>\n",
      "\n",
      "Using the NAME_rms2prev.dcd trajectories, we calculate $<MSD(t-t_0)>_{t_0}$. The call to diffusion_t0average.py will load the trajectory composed of 20000 frames, each frame separted by 50000 time units, and then calculate MSD(t) over 20 different chunks of the trajectory. Each chunk is 10000 frames in length.\n",
      "\n",
      "<pre>#Calculate MSD for rms2prev trajectories\n",
      "for name in poly1 poly2 polyCharge tail head Ncions Pcions;do\n",
      "  python $PROJD/python/diffusion_t0average.py $name.pdb ${name}_rms2prev.dcd 20000 500 10000 20 '@*' diffusion_${name}_rms2prev.dat --rms2t0=no &> /dev/null\n",
      "done</pre>\n",
      "\n",
      "Plots under <i>analysis/thirdBatch/<b>Philic_BCP2</b></i>  \n",
      "<center><table>\n",
      "<tr>\n",
      "  <td><a href=\"files/analysis/thirdBatch/Philic_BCP2/diffusion_poly1_rms2prev.png\"><img src=\"files/analysis/thirdBatch/Philic_BCP2/diffusion_poly1_rms2prev.png\" width=\"200\" height=\"200\" alt=\"analysis/thirdBatch/Philic_BCP2/diffusion_poly1_rms2prev.png\"></a></td>\n",
      "  <td><a href=\"files/analysis/thirdBatch/Philic_BCP2/diffusion_poly2_rms2prev.png\"><img src=\"files/analysis/thirdBatch/Philic_BCP2/diffusion_poly2_rms2prev.png\" width=\"200\" height=\"200\" alt=\"analysis/thirdBatch/Philic_BCP2/diffusion_poly2_rms2prev.png\"></a></td>\n",
      "  <td><a href=\"files/analysis/thirdBatch/Philic_BCP2/diffusion_polyCharge_rms2prev.png\"><img src=\"files/analysis/thirdBatch/Philic_BCP2/diffusion_polyCharge_rms2prev.png\" width=\"200\" height=\"200\" alt=\"analysis/thirdBatch/Philic_BCP2/diffusion_polyCharge_rms2prev.png\"></a></td>\n",
      "  <td><a href=\"files/analysis/thirdBatch/Philic_BCP2/diffusion_head_rms2prev.png\"><img src=\"files/analysis/thirdBatch/Philic_BCP2/diffusion_head_rms2prev.png\" width=\"200\" height=\"200\" alt=\"analysis/thirdBatch/Philic_BCP2/diffusion_head_rms2prev.png\"></a></td>\n",
      "  <td><a href=\"files/analysis/thirdBatch/Philic_BCP2/diffusion_Ncions_rms2prev.png\"><img src=\"files/analysis/thirdBatch/Philic_BCP2/diffusion_Ncions_rms2prev.png\" width=\"200\" height=\"200\" alt=\"analysis/thirdBatch/Philic_BCP2/diffusion_Ncions_rms2prev.png\"></a></td>\n",
      "  <td><a href=\"files/analysis/thirdBatch/Philic_BCP2/diffusion_Pcions_rms2prev.png\"><img src=\"files/analysis/thirdBatch/Philic_BCP2/diffusion_Pcions_rms2prev.png\" width=\"200\" height=\"200\" alt=\"analysis/thirdBatch/Philic_BCP2/diffusion_Pcions_rms2prev.png\"></a></td>\n",
      "  <td><a href=\"files/analysis/thirdBatch/Philic_BCP2/diffusion_tail_rms2prev.png\"><img src=\"files/analysis/thirdBatch/Philic_BCP2/diffusion_tail_rms2prev.png\" width=\"200\" height=\"200\" alt=\"analysis/thirdBatch/Philic_BCP2/diffusion_tail_rms2prev.png\"></a></td>\n",
      "</tr>\n",
      "</table></center>\n",
      "\n",
      "There is not a clear trend in the slope of diffusion plots (the diffusion coefficient)  \n",
      "\n",
      "|type |slowest| |-->| |fastest|  \n",
      "|:---:|:-:|:-:|:-:|:-:|:-:|  \n",
      "|poly1| 50|200|400|100|300|\n",
      "|poly2| 50|200|400|100|300|\n",
      "|polyCharge| 50|200|400|100|300|\n",
      "|head|200|400| 50|300|100|\n",
      "|tail|200|400| 50|300|100|\n",
      "|Pcions|200|400| 50|300|100|\n",
      "|Ncions|200|400|300|100| 50|\n",
      "\n",
      "\n",
      "Plots under <i>analysis/thirdBatch/<b>Phobic_BCP2</b></i>  \n",
      "<center><table>\n",
      "<tr>\n",
      "  <td><a href=\"files/analysis/thirdBatch/Phobic_BCP2/diffusion_poly1_rms2prev.png\"><img src=\"files/analysis/thirdBatch/Phobic_BCP2/diffusion_poly1_rms2prev.png\" width=\"200\" height=\"200\" alt=\"analysis/thirdBatch/Phobic_BCP2/diffusion_poly1_rms2prev.png\"></a></td>\n",
      "  <td><a href=\"files/analysis/thirdBatch/Phobic_BCP2/diffusion_poly2_rms2prev.png\"><img src=\"files/analysis/thirdBatch/Phobic_BCP2/diffusion_poly2_rms2prev.png\" width=\"200\" height=\"200\" alt=\"analysis/thirdBatch/Phobic_BCP2/diffusion_poly2_rms2prev.png\"></a></td>\n",
      "  <td><a href=\"files/analysis/thirdBatch/Phobic_BCP2/diffusion_polyCharge_rms2prev.png\"><img src=\"files/analysis/thirdBatch/Phobic_BCP2/diffusion_polyCharge_rms2prev.png\" width=\"200\" height=\"200\" alt=\"analysis/thirdBatch/Phobic_BCP2/diffusion_polyCharge_rms2prev.png\"></a></td>\n",
      "  <td><a href=\"files/analysis/thirdBatch/Phobic_BCP2/diffusion_head_rms2prev.png\"><img src=\"files/analysis/thirdBatch/Phobic_BCP2/diffusion_head_rms2prev.png\" width=\"200\" height=\"200\" alt=\"analysis/thirdBatch/Phobic_BCP2/diffusion_head_rms2prev.png\"></a></td>\n",
      "  <td><a href=\"files/analysis/thirdBatch/Phobic_BCP2/diffusion_Ncions_rms2prev.png\"><img src=\"files/analysis/thirdBatch/Phobic_BCP2/diffusion_Ncions_rms2prev.png\" width=\"200\" height=\"200\" alt=\"analysis/thirdBatch/Phobic_BCP2/diffusion_Ncions_rms2prev.png\"></a></td>\n",
      "  <td><a href=\"files/analysis/thirdBatch/Phobic_BCP2/diffusion_Pcions_rms2prev.png\"><img src=\"files/analysis/thirdBatch/Phobic_BCP2/diffusion_Pcions_rms2prev.png\" width=\"200\" height=\"200\" alt=\"analysis/thirdBatch/Phobic_BCP2/diffusion_Pcions_rms2prev.png\"></a></td>\n",
      "  <td><a href=\"files/analysis/thirdBatch/Phobic_BCP2/diffusion_tail_rms2prev.png\"><img src=\"files/analysis/thirdBatch/Phobic_BCP2/diffusion_tail_rms2prev.png\" width=\"200\" height=\"200\" alt=\"analysis/thirdBatch/Phobic_BCP2/diffusion_tail_rms2prev.png\"></a></td>  \n",
      "</tr>\n",
      "</table></center>\n",
      "\n",
      "There is a trend\n",
      "\n",
      "|type |slowest| |-->| |fastest|  \n",
      "|:---:|:-:|:-:|:-:|:-:|:-:|  \n",
      "|poly1| 50|100|200|300|400|\n",
      "|poly2| 50|100|200|300|400|\n",
      "|polyCharge| 50|100|200|300|400|\n",
      "|head| 50|100|200|300|400|\n",
      "|tail| 50|100|200|300|400|\n",
      "|Pcions| 50|400|100|300|200|\n",
      "|Ncions|400|300|200|100| 50|"
     ]
    },
    {
     "cell_type": "markdown",
     "metadata": {},
     "source": [
      "(<a href='#thirdBatchMerged'>Top</a>)<a id='thirdBatchMerged.IQT'></a><h3>Self intermediate scattering structure factor</h3>\n",
      "\n",
      "We carry out the incoherent scattering with Sassena for each particle type in camm2.sns.gov.\n",
      "\n",
      "Monojoy requested calculation of I(Q,t) for lengths {0.97, 5, 20} (length unit is $\\sigma$), with associated q-moduli $2\\pi/L$, {6.4775, 1.2566, 0.3142}.  \n",
      "\n",
      "For each particle type, we use the pdb file and the rms2prev DCD file. For instance, <code>poly1.pdb</code> and <code>poly1_rms2prev.dcd</code> in <i>PEblock/Phobic_BCP2/50NC/lj8_prod/</i>:\n",
      "<pre>mpirun -np 8 sassena --config=sassena_poly1.xml &> sassena_poly1.log # creates fqt_poly1.h5</pre> \n",
      "\n",
      "\n",
      "We save the $I(Q,t)$ in ASCII format with MantidPlot and script [h52dat.py](files/python/h52dat.py). The ouput are files like  <code>fqt_poly1.dat</code>.  \n",
      "\n",
      "Monojoy doesn't like negative times for $I(Q,t)$. Thus, we remove them with script [nonnegative.py](files/python/nonnegative.py). The output are files like <code>fqtNN_poly1.dat</code>.  \n",
      "\n",
      "<pre>python $PROJD/python/nonnegative.py fqt_poly1.dat fqtNN_poly1.dat</pre>\n",
      "\n",
      "\n",
      "<center><a href=\"files/Phobic_BCP2/analysis/fqtNN_poly1.png\"><img src=\"files/Phobic_BCP2/analysis/fqtNN_poly1.png\" width=\"400\" height=\"400\" alt=\"iqt.jpeg\"></a></br><i>Phobic_BCP2/analysis/fqtNN_poly1.png</i></br></center>"
     ]
    },
    {
     "cell_type": "markdown",
     "metadata": {},
     "source": [
      "(<a href='#thirdBatchMerged'>Top</a>)<a id='thirdBatchMerged.Description'></a><h3>Description of the simulations</h3>\n",
      "\n",
      "Refer to <a href='#thirdBatch.Description'>Description of the third batch simulations</a>."
     ]
    },
    {
     "cell_type": "markdown",
     "metadata": {},
     "source": [
      "(<a href='#thirdBatchMerged'>Top</a>)<a id='thirdBatchMerged.wrap'></a><h3>Merge trajectories</h3>\n",
      "\n",
      "We first copy the LAMMPS data files <code>initial.dat</code> into subdirectories <i>Philic_BCP2/50NC/lj8_prod/merged/</i> and the like.  \n",
      "\n",
      "We use [merge_trajectories.py](files/python/merge_trajectories.py) script to read all the .dat component files and merge them into a DUMP file. See [bash_commands.sh](files/bash_commands.sh), section \"THIRD BATCH OF SIMULATIONS, MERGED\" for details. For instance:\n",
      "\n",
      "<code>python $PROJD/python/merge_trajectories.py /SNSlocal/projects/zf4/Block_PE_surf/Philic_BCP2/50NC/lj8_prod initial.dat 50 peblock.dump</code>  \n",
      "\n",
      "Second, we create <code>PSF</code> files from the LAMMPS data file:\n",
      "<code>vmd -dispdev text -e $PROJD/vmd/create_psf.tcl</code>  \n",
      "\n",
      "Third, unwrap trajectories and save to dcd format: <code>vmd -dispdev text -e $PROJD/vmd/unwrap_lammpstrj.tcl</code>"
     ]
    },
    {
     "cell_type": "markdown",
     "metadata": {},
     "source": [
      "(<a href='#thirdBatchMerged'>Top</a>)<a id='thirdBatchMerged.animated'></a><h3>Animated GIF trajectories</h3>\n",
      "\n",
      "Trajectories are 20000 frames long. For each, create an animated GIF with 1000 frames. Open VMD and issue the commands:\n",
      "<pre>package require pbctools\n",
      "mol new peblock.psf\n",
      "animate read dcd peblock.dcd beg 0 end -1 skip 20 waitfor all\n",
      "pbc join residue -all\n",
      "# 1. manually create a movie: Extensions -> visualization -> Movie Maker\n",
      "# 2. Renderer -> Tachyon\n",
      "# 3. Movie Settings -> Trajectory\n",
      "# 4. Format -> Animated GIF (ImageMagik)\n",
      "# 5. Set working directory: /SNSlocal/scratch/jbq\n",
      "# 6. Name of the movie: peblock\n",
      "</pre>\n",
      "\n",
      "Plots for <i>Philic_BCP2</i>  \n",
      "<center><table><tr>\n",
      "<td>50NC  <a href=\"files/Philic_BCP2/50NC/lj8_prod/merged/peblock.gif\"><img src=\"files/Philic_BCP2/50NC/lj8_prod/merged/peblock.gif\" width=\"150\" height=\"150\" alt=\"Philic_BCP2/50NC/lj8_prod/merged/peblock.gif\"></a></td>\n",
      "<td>100NC  <a href=\"files/Philic_BCP2/100NC/lj8_prod/merged/peblock.gif\"><img src=\"files/Philic_BCP2/100NC/lj8_prod/merged/peblock.gif\" width=\"150\" height=\"150\" alt=\"Philic_BCP2/100NC/lj8_prod/merged/peblock.gif\"></a></td>\n",
      "<td>200NC  <a href=\"files/Philic_BCP2/200NC/lj8_prod/merged/peblock.gif\"><img src=\"files/Philic_BCP2/200NC/lj8_prod/merged/peblock.gif\" width=\"150\" height=\"150\" alt=\"Philic_BCP2/200NC/lj8_prod/merged/peblock.gif\"></a></td>\n",
      "<td>300NC  <a href=\"files/Philic_BCP2/300NC/lj8_prod/merged/peblock.gif\"><img src=\"files/Philic_BCP2/300NC/lj8_prod/merged/peblock.gif\" width=\"150\" height=\"150\" alt=\"Philic_BCP2/300NC/lj8_prod/merged/peblock.gif\"></a></td>\n",
      "<td>400NC  <a href=\"files/Philic_BCP2/400NC/lj8_prod/merged/peblock.gif\"><img src=\"files/Philic_BCP2/400NC/lj8_prod/merged/peblock.gif\" width=\"150\" height=\"150\" alt=\"Philic_BCP2/400NC/lj8_prod/merged/peblock.gif\"></a></td>\n",
      "</tr></table></center>\n",
      "\n",
      "Plots for <i>Phobic_BCP2</i>. Some of the plots may seem to contain more than one block, but it is an artifact of the periodic boundary conditions.  \n",
      "<center><table><tr>\n",
      "<td>50NC  <a href=\"files/Phobic_BCP2/50NC/lj8_prod/merged/peblock.gif\"><img src=\"files/Phobic_BCP2/50NC/lj8_prod/merged/peblock.gif\" width=\"150\" height=\"150\" alt=\"Phobic_BCP2/50NC/lj8_prod/merged/peblock.gif\"></a></td>\n",
      "<td>100NC  <a href=\"files/Phobic_BCP2/100NC/lj8_prod/merged/peblock.gif\"><img src=\"files/Phobic_BCP2/100NC/lj8_prod/merged/peblock.gif\" width=\"150\" height=\"150\" alt=\"Phobic_BCP2/100NC/lj8_prod/merged/peblock.gif\"></a></td>\n",
      "<td>200NC  <a href=\"files/Phobic_BCP2/200NC/lj8_prod/merged/peblock.gif\"><img src=\"files/Phobic_BCP2/200NC/lj8_prod/merged/peblock.gif\" width=\"150\" height=\"150\" alt=\"Phobic_BCP2/200NC/lj8_prod/merged/peblock.gif\"></a></td>\n",
      "<td>300NC  <a href=\"files/Phobic_BCP2/300NC/lj8_prod/merged/peblock.gif\"><img src=\"files/Phobic_BCP2/300NC/lj8_prod/merged/peblock.gif\" width=\"150\" height=\"150\" alt=\"Phobic_BCP2/300NC/lj8_prod/merged/peblock.gif\"></a></td>\n",
      "<td>400NC  <a href=\"files/Phobic_BCP2/400NC/lj8_prod/merged/peblock.gif\"><img src=\"files/Phobic_BCP2/400NC/lj8_prod/merged/peblock.gif\" width=\"150\" height=\"150\" alt=\"Phobic_BCP2/400NC/lj8_prod/merged/peblock.gif\"></a></td>\n",
      "</tr></table></center>"
     ]
    },
    {
     "cell_type": "markdown",
     "metadata": {},
     "source": [
      "(<a href='#thirdBatchMerged'>Top</a>)<a id='thirdBatchMerged.pdb'></a><h3>Create PDB of the whole system</h3>\n",
      "\n",
      "We use the first snapshot of the trajectory to create a PDB file, <i>peblock.pdb</i>:</br>\n",
      "<code>vmd -dispdev text -e ../vmd/generate_pdbfile.tcl</code>\n",
      "\n",
      "The atom names in the PDB files are the numeric atom types assigned by the lammps datafile:\n",
      "<pre>1 neutral monomer\n",
      "2 phobic monomer\n",
      "3 charged monomer\n",
      "4 surfactant head\n",
      "5 surfactant tail\n",
      "6 counter anion\n",
      "7 counter cation</pre>\n",
      "\n",
      "In addition, we create a second PDB file, peblock_amber.pdb, where we substitute this numeric atom names for letters:\n",
      "<pre>1 - PN\n",
      "2 - PH\n",
      "3 - PC\n",
      "4 - H\n",
      "5 - T\n",
      "6 - N\n",
      "7 - P</pre>\n",
      "\n",
      "We use python script [rename_atomnames.py](files/python/rename_atomnames.py). The reason for the translation of numeric names to letter types is that we cannot define groups of atoms using their numberic names in AMBER. For instance, @1 is not all atoms with name '1', but just the first atom. The output PDB file is <i>peblock_amber.pdb</i>.  \n",
      "\n",
      "In addition, we used script [rename_allH.py](files/python/rename_allH.py) to create <i>peblock_allH.pdb</i> whereby we substituted all atom names with the symbol for hydrogen:  \n",
      "<pre>1 - H\n",
      "2 - H\n",
      "3 - H\n",
      "4 - H\n",
      "5 - H\n",
      "6 - H\n",
      "7 - H</pre>\n",
      "With this file we will calculate the trajectory of the center of mass of the system. Since all particles have the same mass in the coarse-grain system, it is essential that they are translated to the same type of element."
     ]
    },
    {
     "cell_type": "markdown",
     "metadata": {},
     "source": [
      "(<a href='#thirdBatchMerged'>Top</a>)<a id='thirdBatchMerged.CMmotions'></a><h3>Check for center of mass motions</h3>\n",
      "We make sure if there are motion of the center of mass with CPPTRAJ script [center_of_mass_position.cpptraj](files/amber/center_of_mass_position.cpptraj), which creates AMBER trajector file for the center of mass <code>peblock_cm.dec</code> and topology file <code>peblock_cm.parm</code> for further analysis. We use a binary trajectory because the ASCII Amber format should not be used for system containing less than three atoms.\n",
      "\n",
      "<center><a href=\"files/Phobic_BCP2/400NC/lj8_prod/merged/peblock_cm_motions.png\"><img src=\"files/Phobic_BCP2/400NC/lj8_prod/merged/peblock_cm_motions.png\" width=\"350\" height=\"350\" alt=\"Phobic_BCP2/400NC/lj8_prod/merged/peblock_cm_motions.png\"></a></center>\n"
     ]
    },
    {
     "cell_type": "markdown",
     "metadata": {},
     "source": [
      "(<a href='#thirdBatchMerged'>Top</a>)<a id='thirdBatchMerged.CMdiffusion'></a><h3>Mean square displacements of the center of mass</h3>\n",
      "We use script [diffusion_t0average.py](files/python/diffusion_t0average.py):\n",
      "<pre>python $PROJD/python/diffusion_t0average.py peblock_cm.parm peblock_cm.dcd 20000 500 10000 100 '@2' diffusion_peblock_cm.dat --rms2t0=no</pre>\n",
      "Creates file <i>diffusion_peblock_cm.dat</i>.  \n",
      "<center><table><tr>\n",
      "<td><a href=\"files/analysis/thirdBatch/merged/philic_cm_msd.png\"><img src=\"files/analysis/thirdBatch/merged/philic_cm_msd.png\" width=\"400\" height=\"400\" alt=\"analysis/thirdBatch/merged/philic_cm_msd.png(.agr)\"></a></td>\n",
      "<td><a href=\"files/analysis/thirdBatch/merged/phobic_cm_msd.png\"><img src=\"files/analysis/thirdBatch/merged/phobic_cm_msd.png\" width=\"400\" height=\"400\" alt=\"analysis/thirdBatch/merged/phobic_cm_msd.png(.agr)\"></a></td>\n",
      "</tr></table></center>"
     ]
    },
    {
     "cell_type": "markdown",
     "metadata": {},
     "source": [
      "(<a href='#thirdBatchMerged'>Top</a>)<a id='thirdBatchMerged.MSD'></a><h3>Mean square displacements</h3>\n",
      "We use script [diffusion_t0average.py](files/python/diffusion_t0average.py) for each type of particle to calculate the mean square displacements. We use <i>peblock_amber</i> to select which atom. For instance,:\n",
      "<pre>python $PROJD/python/diffusion_t0average.py peblock_amber.pdb peblock.dcd 20000 500 10000 100 '@PN' diffusion_poly1.dat --rms2t0=no</pre>\n",
      "The resulting MSD contain the MSD due to translation of the center of mass. To file <i>diffusion_poly1.dat</i> we subsctract <i>diffusion_peblock_cm.dat</i> to yield <i>diffusion_poly1_minus_cm.dat</i>. This file contains rotational diffusion of the whole system plus internal motions.\n",
      "\n",
      "Plots for <i>Phili_BCP2</i>. \n",
      "<center><table><tr>\n",
      "<td>poly1  <a href=\"files/analysis/thirdBatch/merged/Philic_BCP2/diffusion_poly1.png\"><img src=\"files/analysis/thirdBatch/merged/Philic_BCP2/diffusion_poly1.png\" width=\"150\" height=\"150\" alt=\"analysis/thirdBatch/merged/Philic_BCP2/diffusion_poly1.png\"></a></td>\n",
      "<td>poly2  <a href=\"files/analysis/thirdBatch/merged/Philic_BCP2/diffusion_poly2.png\"><img src=\"files/analysis/thirdBatch/merged/Philic_BCP2/diffusion_poly2.png\" width=\"150\" height=\"150\" alt=\"analysis/thirdBatch/merged/Philic_BCP2/diffusion_poly2.png\"></a></td>\n",
      "<td>polyCharge  <a href=\"files/analysis/thirdBatch/merged/Philic_BCP2/diffusion_polyCharge.png\"><img src=\"files/analysis/thirdBatch/merged/Philic_BCP2/diffusion_polyCharge.png\" width=\"150\" height=\"150\" alt=\"analysis/thirdBatch/merged/Philic_BCP2/diffusion_polyCharge.png\"></a></td>\n",
      "<td>head  <a href=\"files/analysis/thirdBatch/merged/Philic_BCP2/diffusion_head.png\"><img src=\"files/analysis/thirdBatch/merged/Philic_BCP2/diffusion_head.png\" width=\"150\" height=\"150\" alt=\"analysis/thirdBatch/merged/Philic_BCP2/diffusion_head.png\"></a></td>\n",
      "<td>tail  <a href=\"files/analysis/thirdBatch/merged/Philic_BCP2/diffusion_tail.png\"><img src=\"files/analysis/thirdBatch/merged/Philic_BCP2/diffusion_tail.png\" width=\"150\" height=\"150\" alt=\"analysis/thirdBatch/merged/Philic_BCP2/diffusion_tail.png\"></a></td>\n",
      "<td>Ncions  <a href=\"files/analysis/thirdBatch/merged/Philic_BCP2/diffusion_Ncions.png\"><img src=\"files/analysis/thirdBatch/merged/Philic_BCP2/diffusion_Ncions.png\" width=\"150\" height=\"150\" alt=\"analysis/thirdBatch/merged/Philic_BCP2/diffusion_Ncions.png\"></a></td>\n",
      "<td>Pcions  <a href=\"files/analysis/thirdBatch/merged/Philic_BCP2/diffusion_Pcions.png\"><img src=\"files/analysis/thirdBatch/merged/Philic_BCP2/diffusion_Pcions.png\" width=\"150\" height=\"150\" alt=\"analysis/thirdBatch/merged/Philic_BCP2/diffusion_Pcions.png\"></a></td>\n",
      "</tr></table></center>\n",
      "\n",
      "<b>ERROR!</b> Simulations for 200NC and 400NC have a damping factor in the Langevin settings 10 times bigger than for the other simulations. As a consequence, it has MSD about one order of magnitude below the other.  \n",
      "\n",
      "Plots for <i>Phobic_BCP2</i>. \n",
      "<center><table><tr>\n",
      "<td>poly1  <a href=\"files/analysis/thirdBatch/merged/Phobic_BCP2/diffusion_poly1.png\"><img src=\"files/analysis/thirdBatch/merged/Phobic_BCP2/diffusion_poly1.png\" width=\"150\" height=\"150\" alt=\"analysis/thirdBatch/merged/Phobic_BCP2/diffusion_poly1.png\"></a></td>\n",
      "<td>poly2  <a href=\"files/analysis/thirdBatch/merged/Phobic_BCP2/diffusion_poly2.png\"><img src=\"files/analysis/thirdBatch/merged/Phobic_BCP2/diffusion_poly2.png\" width=\"150\" height=\"150\" alt=\"analysis/thirdBatch/merged/Phobic_BCP2/diffusion_poly2.png\"></a></td>\n",
      "<td>polyCharge  <a href=\"files/analysis/thirdBatch/merged/Phobic_BCP2/diffusion_polyCharge.png\"><img src=\"files/analysis/thirdBatch/merged/Phobic_BCP2/diffusion_polyCharge.png\" width=\"150\" height=\"150\" alt=\"analysis/thirdBatch/merged/Phobic_BCP2/diffusion_polyCharge.png\"></a></td>\n",
      "<td>head  <a href=\"files/analysis/thirdBatch/merged/Phobic_BCP2/diffusion_head.png\"><img src=\"files/analysis/thirdBatch/merged/Phobic_BCP2/diffusion_head.png\" width=\"150\" height=\"150\" alt=\"analysis/thirdBatch/merged/Phobic_BCP2/diffusion_head.png\"></a></td>\n",
      "<td>tail  <a href=\"files/analysis/thirdBatch/merged/Phobic_BCP2/diffusion_tail.png\"><img src=\"files/analysis/thirdBatch/merged/Phobic_BCP2/diffusion_tail.png\" width=\"150\" height=\"150\" alt=\"analysis/thirdBatch/merged/Phobic_BCP2/diffusion_tail.png\"></a></td>\n",
      "<td>Ncions  <a href=\"files/analysis/thirdBatch/merged/Phobic_BCP2/diffusion_Ncions.png\"><img src=\"files/analysis/thirdBatch/merged/Phobic_BCP2/diffusion_Ncions.png\" width=\"150\" height=\"150\" alt=\"analysis/thirdBatch/merged/Phobic_BCP2/diffusion_Ncions.png\"></a></td>\n",
      "<td>Pcions  <a href=\"files/analysis/thirdBatch/merged/Phobic_BCP2/diffusion_Pcions.png\"><img src=\"files/analysis/thirdBatch/merged/Phobic_BCP2/diffusion_Pcions.png\" width=\"150\" height=\"150\" alt=\"analysis/thirdBatch/merged/Phobic_BCP2/diffusion_Pcions.png\"></a></td>\n",
      "</tr></table></center>\n",
      "\n",
      "We see that particle MSD is at least one order of magnitude higher than MSD of center of mass for the whole system."
     ]
    },
    {
     "cell_type": "markdown",
     "metadata": {},
     "source": [
      "(<a href='#Table of Contents'>Top</a>)<a id='Syntax'></a><h3>Syntax Examples</h3>\n",
      "local link: [link](files/link)</br>\n",
      "remote link: <a href=\"http://ambermd.org/\">http://ambermd.org</a>\n",
      "<font face=\"courier new\"> font face=\"courier new\" </font><br/>\n",
      "$$S_{model}(Q,E)=A(Q)\\cdot S_{elastic}(E) + B(Q)\\cdot S_{simulation}(Q,E)\\otimes S_{elastic}(E) + C(Q)+D(Q)\\cdot E$$\n",
      "<pre> Quoted text </pre>\n",
      "<center><table><tr>\n",
      "<td><a href=\"files/image.png\"><img src=\"files/image.png\" width=\"300\" height=\"250\" alt=\"image here\"></a> <br/>\n",
      "    <i>image caption</i></td>\n",
      "<td>some text</td>\n",
      "</tr></table></center>"
     ]
    },
    {
     "cell_type": "markdown",
     "metadata": {},
     "source": [
      "(<a href='#Table of Contents'>Top</a>)<a id='Section'></a><h2>Section</h2>"
     ]
    },
    {
     "cell_type": "markdown",
     "metadata": {},
     "source": [
      "(<a href='#Table of Contents'>Top</a>)<a id='Section.subsection'></a><h3>Subsection</h3>\n"
     ]
    },
    {
     "cell_type": "markdown",
     "metadata": {},
     "source": [
      "(<a href='#Table of Contents'>Top</a>)<a id='Section.subsection.subsubsection'></a><h3>Sub-subsection</h3>\n"
     ]
    },
    {
     "cell_type": "markdown",
     "metadata": {},
     "source": [
      "(<a href='#Table of Contents'>Top</a>)<a id='Section.subsection.subsubsection.subsubsubsection'></a><h3>Sub-sub-subsection</h3>\n"
     ]
    }
   ],
   "metadata": {}
  }
 ]
}