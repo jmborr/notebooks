{
 "metadata": {
  "name": "",
  "signature": "sha256:61c0fbfd656da0101a745e69b0bd7a5f1e2631a7f05f20bfd277773d1996e736"
 },
 "nbformat": 3,
 "nbformat_minor": 0,
 "worksheets": [
  {
   "cells": [
    {
     "cell_type": "markdown",
     "metadata": {},
     "source": [
      "<h1>PEBlocak</h1>\n",
      "<a id='Table of Contents'></a><h3>Table of Contents</h3>\n",
      "<a href='#People'>People</a></br>\n",
      "<a href='#Goal'>Goal</a></br>\n",
      "<a href='#PDBcreate'>Create structure (PDB) files</a></br>\n",
      "<a href='#TRremoval'>Removal of translations and rotations</a></br>\n",
      "<a href='#MSD'>Mean Square Displacements</a></br>\n",
      "<a href='#IQT'>Self intermediate scattering structure factor</a></br>\n",
      "<a href='#Syntax'>HTML and MARKDOWN SYNTAX EXAMPLES</a></br>\n",
      "<a href='#Section'><h4>Section</h4></a>\n",
      "\n",
      "* <a href='#Section.subsection'>subsection</a></br>\n",
      "    - <a href='#Section.subsection.subsubsection'>Subsubsetion</a></br>\n",
      "        + <a href='#Section.subsection.subsubsection.subsubsubsection'>sub-sub-subsection</a></br>\n"
     ]
    },
    {
     "cell_type": "markdown",
     "metadata": {},
     "source": [
      "(<a href='#Table of Contents'>Top</a>)<a id='People'></a><h3>People</h3>\n",
      "\n",
      "* Monojoy goswami"
     ]
    },
    {
     "cell_type": "markdown",
     "metadata": {},
     "source": [
      "(<a href='#Table of Contents'>Top</a>)<a id='Goal'></a><h3>Goal</h3>\n",
      "From my part, the goal is to help Monojoy with calculation of certain dynamical quantities, such as MSD(t) and I(Q,t)<br/>\n",
      "Monojoy did the simulations and explain them in [Charged_BCP_model.pdf](files/documents/Charged_BCP_model.pdf). Below is document as slides:\n",
      "\n",
      "<center>\n",
      "<a href=\"files/documents/slide1.png\"><img src=\"files/documents/slide1.png\" width=\"800\" height=\"800\" alt=\"slide1.png\"></a></br>\n",
      "<a href=\"files/documents/slide2.png\"><img src=\"files/documents/slide2.png\" width=\"800\" height=\"800\" alt=\"slide2.png\"></a></br>\n",
      "<a href=\"files/documents/slide3.png\"><img src=\"files/documents/slide3.png\" width=\"800\" height=\"800\" alt=\"slide3.png\"></a></br>\n",
      "</center>\n",
      "\n"
     ]
    },
    {
     "cell_type": "markdown",
     "metadata": {},
     "source": [
      "(<a href='#Table of Contents'>Top</a>)<a id='PDBcreate'></a><h3>Create structure (PDB) files</h3>\n",
      "First we use VMD to load file dump.xyz and save the first frame as dump.pdb. This file contains all types of particles, thus we extract each particle to a different PDB. Fortunately, VMD has a assigned a different atomic element to each particle. We use that:\n",
      "<pre>grep ' H ' dump.pdb > poly1.pdb        # neutral monomers of PE\n",
      "grep ' He ' dump.pdb > poly2.pdb       # phylic or phobic block of PE\n",
      "grep ' Li ' dump.pdb > polyCharge.pdb  # cation monomers of PE\n",
      "grep ' B ' dump.pdb >  tail.pdb        # surfactant tail\n",
      "grep ' Be ' dump.pdb >  head.pdb       # surfactant head</pre>\n",
      "grep ' C ' dump.pdb >  Ncions.pdb       # ? counter-ions\n",
      "grep ' N ' dump.pdb >  Pcions.pdb       # ? counter-ions\n",
      "\n",
      "After this we rename the atomic elements to H. This way we'll have the same neutron scattering length per particle \n",
      "\n",
      "<pre>perl -p -i -e 's/ He/ H /g' poly2.pdb\n",
      "perl -p -i -e 's/ Li/ H /g' polyCharge.pdb\n",
      "perl -p -i -e 's/ B / H /g' tail.pdb\n",
      "perl -p -i -e 's/ Be/ H /g' head.pdb</pre>\n",
      "perl -p -i -e 's/ C / H /g' Ncions.pdb\n",
      "perl -p -i -e 's/ N / H /g' Pcions.pdb\n"
     ]
    },
    {
     "cell_type": "markdown",
     "metadata": {},
     "source": [
      "(<a href='#Table of Contents'>Top</a>)<a id='TRremoval'></a><h3>Removal of translations and rotations</h3>\n",
      "There are two steps involved:\n",
      "\n",
      "1. Translate format from XYZ to DCD\n",
      "2. Remove global translations and rotation with RMS to previous conformation\n",
      "\n",
      "For the first step we create trajectories NAME.dcd\n",
      "<pre>#Create DCD files\n",
      "for name in poly1 poly2 polyCharge tail head Ncions Pcions;do\n",
      "  /bin/cp $PROJD/vmd/dat2dcd.tcl junk.tcl\n",
      "  perl -pi -e \"s/_NAME_/$name/g\" junk.tcl\n",
      "  vmd -dispdev text -eofexit -e junk.tcl\n",
      "done</pre>\n",
      "\n",
      "For the second step we create trajectories NAME_rms2prev.dcd:\n",
      "<pre>#Remove translations and rotations at each elementary step\n",
      "for name in poly1 poly2 polyCharge tail head Ncions Pcions;do\n",
      "  echo $name; /bin/cp $PROJD/cpptraj/rms2prev.cpptraj junk.cpptraj\n",
      "  perl -pi -e \"s/_NAME_/$name/g\" junk.cpptraj\n",
      "  cpptraj -p $name.pdb -i junk.cpptraj &> /dev/null\n",
      "done</pre>\n"
     ]
    },
    {
     "cell_type": "markdown",
     "metadata": {},
     "source": [
      "(<a href='#Table of Contents'>Top</a>)<a id='MSD'></a><h3>Mean Square Displacements</h3>\n",
      "Using the NAME_rms2prev.dcd trajectories, we calculate $<MSD(t-t_0)>_{t_0}$. The call to diffusion_t0average.py will load the trajectory composed of 20000 frames, each frame separted by 50000 time units, and then calculate MSD(t) over 20 different chunks of the trajectory. Each chunk is 10000 frames in length.\n",
      "\n",
      "<pre>#Calculate MSD for rms2prev trajectories\n",
      "for name in poly1 poly2 polyCharge tail head Ncions Pcions;do\n",
      "  python $PROJD/python/diffusion_t0average.py $name.pdb ${name}_rms2prev.dcd 20000 50000 10000 20 '@*' diffusion_${name}_rms2prev.dat --rms2t0=no &> /dev/null\n",
      "done</pre>\n",
      "\n",
      "The coordinates are wrapped, thus the MSD for particles such as Ncions saturates when the particles have move over distances of the order of the box dimension L, $MSD \\approx L^2$\n",
      "\n",
      "<center><a href=\"files/Low_surf_conc/lj10_prod/MSD.png\"><img src=\"files/Low_surf_conc/lj10_prod/MSD.png\" width=\"400\" height=\"400\" alt=\"MSD.png\"></a></br><i>Low_surf_conc/lj10_prod/MSD.png(.agr)</i></br></center>"
     ]
    },
    {
     "cell_type": "markdown",
     "metadata": {},
     "source": [
      "(<a href='#Table of Contents'>Top</a>)<a id='IQT'></a><h3>Self intermediate scattering structure factor</h3>\n",
      "Monojoy requested calculation of I(Q,t) for lengths {0.97, 2, 10} (lenght unit is $\\sigma$), with associated q-moduli $2\\pi/L$, {6.4775 3.1416 0.62832}.\n",
      "\n",
      "We carry out the Sassena calculations in hopper.nersc.gov:/scratch/scratchdirs/jmborr/PEblock\n",
      "\n",
      "Here is a mantid session to plot I(Q,t), saved under subdirectory <i>Low_surf_conc/lj10_prod/iqt/</i>.\n",
      "<center><a href=\"files/Low_surf_conc/lj10_prod/iqt.jpeg\"><img src=\"files/Low_surf_conc/lj10_prod/iqt.jpeg\" width=\"400\" height=\"400\" alt=\"iqt.jpeg\"></a></br><i>Low_surf_conc/lj10_prod/iqt.jpeg</i></br></center>"
     ]
    },
    {
     "cell_type": "markdown",
     "metadata": {},
     "source": [
      "(<a href='#Table of Contents'>Top</a>)<a id='Syntax'></a><h3>Syntax Examples</h3>\n",
      "local link: [link](files/link)</br>\n",
      "remote link: <a href=\"http://ambermd.org/\">http://ambermd.org</a>\n",
      "<font face=\"courier new\"> font face=\"courier new\" </font><br/>\n",
      "$$S_{model}(Q,E)=A(Q)\\cdot S_{elastic}(E) + B(Q)\\cdot S_{simulation}(Q,E)\\otimes S_{elastic}(E) + C(Q)+D(Q)\\cdot E$$\n",
      "<pre> Quoted text </pre>\n",
      "<center><table><tr>\n",
      "<td><a href=\"files/image.png\"><img src=\"files/image.png\" width=\"300\" height=\"250\" alt=\"image here\"></a> <br/>\n",
      "    <i>image caption</i></td>\n",
      "<td>some text</td>\n",
      "</tr></table></center>"
     ]
    },
    {
     "cell_type": "markdown",
     "metadata": {},
     "source": [
      "(<a href='#Table of Contents'>Top</a>)<a id='Section'></a><h2>Section</h2>"
     ]
    },
    {
     "cell_type": "markdown",
     "metadata": {},
     "source": [
      "(<a href='#Table of Contents'>Top</a>)<a id='Section.subsection'></a><h3>Subsection</h3>\n"
     ]
    },
    {
     "cell_type": "markdown",
     "metadata": {},
     "source": [
      "(<a href='#Table of Contents'>Top</a>)<a id='Section.subsection.subsubsection'></a><h3>Sub-subsection</h3>\n"
     ]
    },
    {
     "cell_type": "markdown",
     "metadata": {},
     "source": [
      "(<a href='#Table of Contents'>Top</a>)<a id='Section.subsection.subsubsection.subsubsubsection'></a><h3>Sub-sub-subsection</h3>\n"
     ]
    }
   ],
   "metadata": {}
  }
 ]
}