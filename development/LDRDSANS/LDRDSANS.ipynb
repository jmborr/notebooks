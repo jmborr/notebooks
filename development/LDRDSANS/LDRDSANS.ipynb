{
 "metadata": {
  "name": "",
  "signature": "sha256:9c9432f56fbb69b8c5cdd8ff27bbc32d172caf2f54ebb83954ba627376b24b3b"
 },
 "nbformat": 3,
 "nbformat_minor": 0,
 "worksheets": [
  {
   "cells": [
    {
     "cell_type": "markdown",
     "metadata": {},
     "source": [
      "<h1>LDRD SANS</h1>\n",
      "\n",
      "<a id='Table of Contents'></a><h3>Table of Contents</h3>  \n",
      "<a href='#Setup'>Setup (imports)</a>  \n",
      "<a href='#Participants'>Participants</a>  \n",
      "<a href='#Goals'>Goals</a>  \n",
      "\n",
      "<a id='clustering'></a>Clustering  \n",
      "<a href='#clustering.fast_protein_cluster'>Program fast_protein_cluster</a>  \n",
      "\n",
      "<a id='fireworks'></a>Fireworks  \n",
      "<a href='#fireworks.localtest'>Run fast_protein_cluster test with a workflow in the local workstation</a>  \n",
      "\n",
      "<a id='Meetings'></a>Meetings  \n",
      "<a href='#Meetings.2016.XX.XX'>Meeting template</a>  \n",
      "\n",
      "<a href='#Syntax'>HTML and MARKDOWN SYNTAX EXAMPLES</a></br>"
     ]
    },
    {
     "cell_type": "markdown",
     "metadata": {},
     "source": [
      "(<a href='#Table of Contents'>Top</a>)<a id='Setup'></a><h3>Setup (imports)</h3>"
     ]
    },
    {
     "cell_type": "code",
     "collapsed": false,
     "input": [
      "%matplotlib inline\n",
      "import numpy as np\n",
      "import scipy as sc\n",
      "import lmfit as lm\n",
      "import matplotlib.pyplot as plt"
     ],
     "language": "python",
     "metadata": {},
     "outputs": [],
     "prompt_number": 2
    },
    {
     "cell_type": "markdown",
     "metadata": {},
     "source": [
      "(<a href='#Table of Contents'>Top</a>)<a id='Participants'></a><h3>Participants</h3>\n",
      "\n",
      "* Loukas Petridis\n",
      "* Sai Venkatesh\n",
      "* Hugh O'Neil\n",
      "* Volker Urban\n",
      "* Xiaolin Cheng\n",
      "* Jeremy C. Smith"
     ]
    },
    {
     "cell_type": "markdown",
     "metadata": {},
     "source": [
      "(<a href='#Table of Contents'>Top</a>)<a id='Goals'></a><h3>Goals</h3>\n",
      "\n",
      "My tasks are the following:  \n",
      "\n",
      "* Clusters full-atom protein conformations.\n",
      "* Fit static structure factor I(Q) of a few clusters against experimental structure factor.\n",
      "* Determine optimal number of clusters with a Bayesian inference."
     ]
    },
    {
     "cell_type": "markdown",
     "metadata": {},
     "source": [
      "<h2>Clustering</h2>"
     ]
    },
    {
     "cell_type": "markdown",
     "metadata": {},
     "source": [
      "(<a href='#clustering'>Top</a>)<a id='clustering.fast_protein_cluster'></a><h3>Program fast_protein_cluster</h3>  \n",
      "I forked the [original Github repository](https://github.com/lhhunghimself/fast_protein_cluster) into Github repository [camm/fast_protein_cluster](https://github.com/camm/fast_protein_cluster).  \n",
      "I compiled this program in Titan: <i>/ccs/proj/mat049/camm/titan/fast_protein_cluster/v0.3</i> and created a <code>module</code> file.  \n",
      "<code>load module file</code>  \n"
     ]
    },
    {
     "cell_type": "markdown",
     "metadata": {},
     "source": [
      "<h2>Fireworks</h2>"
     ]
    },
    {
     "cell_type": "markdown",
     "metadata": {},
     "source": [
      "(<a href='#fireworks'>Top</a>)<a id='fireworks.localtest'></a><h3>Run fast_protein_cluster test with a workflow in the local workstation</h3>  \n",
      "Create a directory for the database, and start the mongo database:  \n",
      "<code>ROOTDIR=/projects/development/LDRDSANS/fireworks/localtest\n",
      "mkdir -p $ROOTDIR/db\n",
      "numactl --interleave=all mongod --logpath $ROOTDIR/mongod.log --dbpath $ROOTDIR/db --fork &\n",
      "</code>\n",
      "\n",
      "In <i>fireworks/localtest</i>, Python script [test_cluster.py](files/fireworks/localtest/test_cluster.py) sets up the launchpad and executes a single firetask, script [test_cluster.sh](files/fireworks/localtest/test_cluster.sh) that:  \n",
      "\n",
      "* Load environment for the clustering program\n",
      "* Set up the scratch directory\n",
      "* Transfer input files\n",
      "* Run the cluster script\n",
      "\n",
      "One could create one firetask for each of these tasks, though."
     ]
    },
    {
     "cell_type": "markdown",
     "metadata": {},
     "source": [
      "<a id='Meetings'></a><h2>Meetings</h2>"
     ]
    },
    {
     "cell_type": "markdown",
     "metadata": {},
     "source": [
      "(<a href='#Meetings'>Top</a>)<a id='Meetings.2016.XX.XX'></a><h3>Meeting template</h3>\n",
      "Write something here."
     ]
    },
    {
     "cell_type": "markdown",
     "metadata": {},
     "source": [
      "(<a href='#Table of Contents'>Top</a>)<a id='Syntax'></a><h3>Syntax Examples</h3>\n",
      "local link: [link](files/link)</br>\n",
      "remote link: <a href=\"http://ambermd.org/\">http://ambermd.org</a>\n",
      "<font face=\"courier new\"> font face=\"courier new\" </font><br/>\n",
      "$$S_{model}(Q,E)=A(Q)\\cdot S_{elastic}(E) + B(Q)\\cdot S_{simulation}(Q,E)\\otimes S_{elastic}(E) + C(Q)+D(Q)\\cdot E$$\n",
      "<pre> Quoted text </pre>\n",
      "<center><table><tr>\n",
      "<td><a href=\"files/image.png\"><img src=\"files/image.png\" width=\"300\" height=\"250\" alt=\"image here\"></a> <br/>\n",
      "    <i>image caption</i></td>\n",
      "<td>some text</td>\n",
      "</tr></table></center>"
     ]
    },
    {
     "cell_type": "code",
     "collapsed": false,
     "input": [],
     "language": "python",
     "metadata": {},
     "outputs": []
    }
   ],
   "metadata": {}
  }
 ]
}