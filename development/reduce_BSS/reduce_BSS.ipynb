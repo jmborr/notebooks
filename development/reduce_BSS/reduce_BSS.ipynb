{
 "cells": [
  {
   "cell_type": "markdown",
   "metadata": {},
   "source": [
    "<h1>reduce_BSS</h1>\n",
    "<a id='Table of Contents'></a><h3>Table of Contents</h3>\n",
    "<a href='#Syntax'>HTML and MARKDOWN SYNTAX EXAMPLES</a></br>\n",
    "<a href='#Goal'>Goals</a></br>\n",
    "<a href='#AutoreduceFile'>The Autoreduce File</a></br>"
   ]
  },
  {
   "cell_type": "markdown",
   "metadata": {},
   "source": [
    "(<a href='#Table of Contents'>Top</a>)<a id='Syntax'></a><h3>Syntax Examples</h3>\n",
    "local link: [link](files/link)</br>\n",
    "remote link: <a href=\"http://ambermd.org/\">http://ambermd.org</a>\n",
    "<font face=\"courier new\"> font face=\"courier new\" </font><br/>\n",
    "$$S_{model}(Q,E)=A(Q)\\cdot S_{elastic}(E) + B(Q)\\cdot S_{simulation}(Q,E)\\otimes S_{elastic}(E) + C(Q)+D(Q)\\cdot E$$\n",
    "<pre> Quoted text </pre>\n",
    "<center><table><tr>\n",
    "<td><a href=\"files/image.png\"><img src=\"files/image.png\" width=\"300\" height=\"250\" alt=\"image here\"></a> <br/>\n",
    "    <i>image caption</i></td>\n",
    "<td>some text</td>\n",
    "</tr></table></center>"
   ]
  },
  {
   "cell_type": "markdown",
   "metadata": {},
   "source": [
    "(<a href='#Table of Contents'>Top</a>)<a id='Goals'></a><h3>Goal</h3>\n",
    "The webpage <a href=\"https://monitor.sns.gov/report/bss/\">https://monitor.sns.gov/report/bss/</a> shows little info for every run, see for instance <a href=\"https://monitor.sns.gov/report/bss/41427/\">41427</a>. BASIS instrument scientists require the following info to show up (excerpt from an email sent by Omar:\n",
    "\n",
    "For images:\n",
    "    The instrument view, as currently displayed by PYDAS (showing all inelastic banks)\n",
    "    If possible, figure showing monitor spectra, as again displayed by PYDAS.\n",
    "    1 figure with 9 sub-panels showing the 9 default Q-spectra in the autoreduce folder.\n",
    "\n",
    "In addition, instrument scientist want a log file than can be opened with a spreadsheet program (again from the email sent by Omar):\n",
    "\n",
    "For the excel log file to be generated for each experiment, we want a master excel file that will have the following details to being with:\n",
    "\n",
    "Run number, Title, Comment, StartTime, EndTime, Duration, ProtonCharge, Mean Sensor A, Min Sensor A, Max Sensor A,  Mean Sensor B, Min Sensor B, Max Sensor B, Wavelength, Chopper 1, Chopper 2, Chopper 3, Slit S1t, Slit 1b, Slit S1l, Slit S1r "
   ]
  },
  {
   "cell_type": "markdown",
   "metadata": {},
   "source": [
    "(<a href='#Table of Contents'>Top</a>)<a id='AutoreduceFile'></a><h3>The Autoreduce File</h3>\n",
    "Event Nexus files are reduced atomatically with python script [<i>reduce_BSS.py</i>](files/reduce_BSS.py) located in directory <i>/SNS/BSS/shared/autoreduce</i> in the <b>analysis</b> machines. We modify this file to create logfile <i>experiment_log.csv</i> in directory <i>/SNS/BSS/IPTS-<b>XXXX</b>/shared/autoreduce</i>, where <b>XXXX</b> is whatever IPTS number. We also modifle the reduction file to create image <i>bss<b>YYYY</b>_silicon111_sqw.nxs.png</i> within same directory, and where <b>YYYY</b> is any run number of said IPTS.\n",
    "<center><table><tr>\n",
    "<td><a href=\"files/bssYYYY_silicon111_sqw.nxs.png\"><img src=\"files/bssYYYY_silicon111_sqw.nxs.png\" width=\"300\" height=\"250\" alt=\"image here\"></a> <br/>\n",
    "    <i>Example image: bssYYYY_silicon111_sqw.nxs.png</i></td>\n",
    "</tr></table></center>\n",
    "Example [log file](files/experiment_log.csv)"
   ]
  },
  {
   "cell_type": "code",
   "execution_count": null,
   "metadata": {},
   "outputs": [],
   "source": []
  }
 ],
 "metadata": {
  "kernelspec": {
   "display_name": "Python 2",
   "language": "python",
   "name": "python2"
  },
  "language_info": {
   "codemirror_mode": {
    "name": "ipython",
    "version": 2
   },
   "file_extension": ".py",
   "mimetype": "text/x-python",
   "name": "python",
   "nbconvert_exporter": "python",
   "pygments_lexer": "ipython2",
   "version": "2.7.12"
  }
 },
 "nbformat": 4,
 "nbformat_minor": 1
}
