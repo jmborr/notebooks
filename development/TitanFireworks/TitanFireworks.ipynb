{
 "metadata": {
  "name": "",
  "signature": "sha256:58edded57cb0f12539db8ece73de227e524ca760e28af5d7c03ba5e5433329b1"
 },
 "nbformat": 3,
 "nbformat_minor": 0,
 "worksheets": [
  {
   "cells": [
    {
     "cell_type": "markdown",
     "metadata": {},
     "source": [
      "<h1>Fireworks workflow for submsission to Titan</h1>\n",
      "\n",
      "<a id='Table of Contents'></a><h3>Table of Contents</h3>  \n",
      "<a href='#Setup'>Python setup (imports)</a>  \n",
      "<a href='#Collaborators'>Collaborators</a>  \n",
      "<a href='#Goals'>Goals</a>  \n",
      "\n",
      "<a id='source'></a>Souce code\n",
      "<a href='#source.repository'>Gitlab repository</a>  \n",
      "\n",
      "<a id='daemon'></a>Daemon-enabled infrastructure  \n",
      "<a href='#daemon.walkthrough'>Walkthrough starting the daemon and simple submission</a>  \n",
      "\n",
      "<a id='Meetings'></a>Meetings  \n",
      "<a href='#Meetings.2016.08.15'>Walkthrough starting the daemon and simple submission</a>  \n",
      "\n",
      "<a href='#Syntax'>HTML and MARKDOWN SYNTAX EXAMPLES</a></br>"
     ]
    },
    {
     "cell_type": "markdown",
     "metadata": {},
     "source": [
      "(<a href='#Table of Contents'>Top</a>)<a id='Setup'></a><h3>Python setup (imports)</h3>"
     ]
    },
    {
     "cell_type": "code",
     "collapsed": false,
     "input": [
      "%matplotlib inline\n",
      "import numpy as np\n",
      "import scipy as sc\n",
      "import lmfit as lm\n",
      "import matplotlib.pyplot as plt"
     ],
     "language": "python",
     "metadata": {},
     "outputs": [],
     "prompt_number": 2
    },
    {
     "cell_type": "markdown",
     "metadata": {},
     "source": [
      "(<a href='#Table of Contents'>Top</a>)<a id='Collaborators'></a><h3>Collaborators</h3>\n",
      "\n",
      "* Dale V. Stansberry\n",
      "* Byung-Hoon Park"
     ]
    },
    {
     "cell_type": "markdown",
     "metadata": {},
     "source": [
      "(<a href='#Table of Contents'>Top</a>)<a id='Goals'></a><h3>Goals</h3>\n",
      "\n",
      "Creation of an infrastructure enabling submission of jobs to Titan from machines outside the OLCF network. Fireworks workflow is part of the infrastructure."
     ]
    },
    {
     "cell_type": "markdown",
     "metadata": {},
     "source": [
      "<h2>Source code</h2>"
     ]
    },
    {
     "cell_type": "markdown",
     "metadata": {},
     "source": [
      "(<a href='#source'>Top</a>)<a id='source.repository'></a><h3>Gitlab repository</h3>\n",
      "I'm codeveloper of repository [fw_olcf](https://code.ornl.gov/d3s/fw_olcf).  \n",
      "It's a git repository, thus I cloned it to subdirectory <i>fw_olc</i>."
     ]
    },
    {
     "cell_type": "markdown",
     "metadata": {},
     "source": [
      "<h2>Daemon-enabled infrastructure</h2>\n",
      "User must start a daemon program on a machine whithin the OLCF network. The daemon sends periodic request to the machine hosting the mongo database, enquiring for fireworks in the queue. If there are any workflows, the daemon will retrieve the firework and wrap it in PBS job which is submitted to Titan."
     ]
    },
    {
     "cell_type": "markdown",
     "metadata": {},
     "source": [
      "(<a href='#daemon'>Top</a>)<a id='daemon.walkthrough'></a><h3>Walkthrough starting the daemon and simple submission</h3>\n",
      "\n",
      "The mongo server is hosted by <i>swan.ornl.gov</i>. Dale created an account for me </b>using my Titan login name</b> to have the permissions to submit fireworks to the server.\n",
      "\n",
      "For the framework to work, Dale has to open an SSH tunnel between <i>swan.ornl.gov</i> and <i>dtn02.ccs.ornl.gov</i>.\n",
      "\n",
      "Start the launchpad, pointing to the server. In directory <i>/projects/development/TitanFireworks/Dale_walkthrough</i> we have file <i> my_launchpad.yaml</i> with the following contents:\n",
      "<pre>host: swan.ornl.gov\n",
      "port: 27017\n",
      "name: fireworks_jmborr\n",
      "username: jmborr\n",
      "password: temptemp\n",
      "logdir: null\n",
      "strm_lvl: INFO</pre>\n",
      "\n",
      "* Start the launchpad: <code>lpad -l ./my_launchpad.yaml init</code>  \n",
      "NOTE: if the SSH tunnel between <i>swan.ornl.gov</i> and <i>dtn02.ccs.ornl.gov</i> is not active, lpad will not read file <i> my_launchpad.yaml</i> successfully. Instead, it will start asking the user to manually enter the host, the port, and so on.\n",
      "\n",
      "The test firework <i>fw_test.yaml</i> with the following contents:\n",
      "<pre>spec:\n",
      "  _category: 'titan'\n",
      "  _tasks:\n",
      "  - _fw_name: ScriptTask\n",
      "    script: echo \"howdy, your job launched successfully!\" >> howdy.txt\n",
      "</pre>\n",
      "Category <code>titan</code> specifies TITAN will embbed the script in a PBS script and submit it to the batch queue. Categories <code>eos</code> and <code>rhea</code> will act likewise. This is accomplished with fireworks command <code>qlaunch</code>. Category <code>ftp</code> will prompt <i>dtn02</i> to run the script using the fireworks command <code>rlaunch</code>, so the script will not be submitted to any queue, but ran as in a terminal.\n",
      "\n",
      "The job will simply create file <i>howdy.txt</i>.\n",
      "\n",
      "* Add test firework: <code>lpad add ./fw_test.yaml</code>\n",
      "\n",
      "We check the firework is in the launchpad of the server at <i>swan.ornl.gov</i>: <code>lpad get_fws</code> returns:\n",
      "<pre>{\n",
      "    \"name\": \"Unnamed FW\", \n",
      "    \"fw_id\": 1, \n",
      "    \"state\": \"READY\", \n",
      "    \"created_on\": \"2016-08-15T19:55:11.387067\", \n",
      "    \"updated_on\": \"2016-08-15T19:55:11.387201\"\n",
      "}</pre>\n",
      "\n",
      "OLCF administrators allowed us to place the daemon in machine <i>dtn02.ccs.ornl.gov</i>, which is inside the OLCF network. To start the daemon: \n",
      "\n",
      "* log in: <code>ssh jmborr@dtn02.ccs.ornl.gov</code>\n",
      "* download Dale's code <code>git clone https://code.ornl.gov/d3s/fw_olcf</code>\n",
      "* issue the following commands:  \n",
      "<code>module load python\n",
      "module load python_setuptools\n",
      "mkdir deployment\n",
      "cd fw_olcf\n",
      "./fw_start.py -u jmborr -a MAT049DYN -v --template_dir /ccs/home/jmborr/fw_olcf/templates /ccs/home/jmborr/deployment</code>\n",
      "\n",
      "We obtain the following output:\n",
      "<pre>User            :  jmborr\n",
      "Account         :  MAT049DYN\n",
      "Deployment dir  :  /ccs/home/jmborr/deployment/\n",
      "Template dir    :  /ccs/home/jmborr/fw_olcf/templates\n",
      "Polling period  :  10\n",
      "Enter FireWorks password for jmborr:</pre>\n",
      "\n",
      "At this point we enter the password for the account in <i>swan.ornl.gov</i> that allows us to query the mongo server.\n",
      "\n",
      "As soon as the daemon starts, it will probe the database in <i>swan.ornl.gov</i> every 10 seconds for existing fireworks. If it finds any, it will automatically run it.\n"
     ]
    },
    {
     "cell_type": "markdown",
     "metadata": {},
     "source": [
      "<a id='Meetings'></a><h2>Meetings</h2>"
     ]
    },
    {
     "cell_type": "markdown",
     "metadata": {},
     "source": [
      "(<a href='#Meetings'>Top</a>)<a id='Meetings.2016.08.15'></a><h3>Walkthrough starting the daemon and simple submission</h3>\n",
      "See section <a href='#daemon.walkthrough'>Walkthrough starting the daemon and simple submission</a>."
     ]
    },
    {
     "cell_type": "markdown",
     "metadata": {},
     "source": [
      "(<a href='#Table of Contents'>Top</a>)<a id='Syntax'></a><h3>Syntax Examples</h3>\n",
      "local link: [link](files/link)</br>\n",
      "remote link: <a href=\"http://ambermd.org/\">http://ambermd.org</a>\n",
      "<font face=\"courier new\"> font face=\"courier new\" </font><br/>\n",
      "$$S_{model}(Q,E)=A(Q)\\cdot S_{elastic}(E) + B(Q)\\cdot S_{simulation}(Q,E)\\otimes S_{elastic}(E) + C(Q)+D(Q)\\cdot E$$\n",
      "<pre> Quoted text </pre>\n",
      "<center><table><tr>\n",
      "<td><a href=\"files/image.png\"><img src=\"files/image.png\" width=\"300\" height=\"250\" alt=\"image here\"></a> <br/>\n",
      "    <i>image caption</i></td>\n",
      "<td>some text</td>\n",
      "</tr></table></center>"
     ]
    },
    {
     "cell_type": "code",
     "collapsed": false,
     "input": [],
     "language": "python",
     "metadata": {},
     "outputs": []
    }
   ],
   "metadata": {}
  }
 ]
}