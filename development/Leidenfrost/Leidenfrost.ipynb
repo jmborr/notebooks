{
 "metadata": {
  "name": "",
  "signature": "sha256:58a92b850e4027c65f3d02d14f6bf6312001b19f40dcb70bc90247d27af80b09"
 },
 "nbformat": 3,
 "nbformat_minor": 0,
 "worksheets": [
  {
   "cells": [
    {
     "cell_type": "markdown",
     "metadata": {},
     "source": [
      "<h1>Leidenfrost Droplet</h1>\n",
      "\n",
      "<a id='Table of Contents'></a><h3>Table of Contents</h3>  \n",
      "<a href='#Setup'>Setup (imports)</a>  \n",
      "<a href='#Collaborators'>Collaborators</a>  \n",
      "<a href='#Goals'>Goals</a>  \n",
      "\n",
      "<a id='Fireworks'></a><b>Fireworks</b>  \n",
      "<a href='#Fireworks.installation'>Installation of fireworks and dependent packages</a>  \n",
      "<a href='#Fireworks.quickStart'>QuickStart to Fireworks</a>  \n",
      "<a href='#Fireworks.tutorial'>Introductory Tutorial to Fireworks</a>  \n",
      "\n",
      "\n",
      "<a id='meetings'></a><b>Meetings</b>  \n",
      "\n",
      "<a href='#Syntax'>HTML and MARKDOWN SYNTAX EXAMPLES</a></br>"
     ]
    },
    {
     "cell_type": "markdown",
     "metadata": {},
     "source": [
      "(<a href='#Table of Contents'>Top</a>)<a id='Setup'></a><h3>Setup (imports)</h3>"
     ]
    },
    {
     "cell_type": "code",
     "collapsed": false,
     "input": [
      "%matplotlib inline\n",
      "import numpy as np\n",
      "import scipy as sc\n",
      "import lmfit as lm\n",
      "import matplotlib.pyplot as plt"
     ],
     "language": "python",
     "metadata": {},
     "outputs": [],
     "prompt_number": 1
    },
    {
     "cell_type": "markdown",
     "metadata": {},
     "source": [
      "(<a href='#Table of Contents'>Top</a>)<a id='Collaborators'></a><h3>Collaborators</h3>\n",
      "\n",
      "* Eric Lingerfelt\n",
      "* Miguel Fuentes-Cabrera\n",
      "* Hoony Park"
     ]
    },
    {
     "cell_type": "markdown",
     "metadata": {},
     "source": [
      "(<a href='#Table of Contents'>Top</a>)<a id='Goals'></a><h3>Goals</h3>\n",
      "\n",
      "Workflow to parameterize two parameters in a molecular dynamics force-field using BEAM and Fireworks"
     ]
    },
    {
     "cell_type": "markdown",
     "metadata": {},
     "source": [
      "<h2>Fireworks</h2>"
     ]
    },
    {
     "cell_type": "markdown",
     "metadata": {},
     "source": [
      "(<a href='#Fireworks'>Top</a>)<a id='Fireworks.installation'></a><h3>Installation of fireworks and dependent packages</h3>  \n",
      "\n",
      "We use pip to install Fireworks and dependent packages. We are following the [documentation](https://pythonhosted.org/FireWorks/installation.html):\n",
      "\n",
      "<pre>sudo pip install fireworks\n",
      "sudo pip install paramiko\n",
      "sudo pip install fabric\n",
      "sudo pip install requests\n",
      "</pre>\n",
      "\n",
      "We install the mongo database and numatcl:\n",
      "\n",
      "<pre>sudo dnf install mongodb.x86_64\n",
      "sudo dnf install mongodb-server.x86_64\n",
      "sudo dnf install numactl.x86_64\n",
      "</pre>"
     ]
    },
    {
     "cell_type": "markdown",
     "metadata": {},
     "source": [
      "(<a href='#Fireworks'>Top</a>)<a id='Fireworks.quickStart'></a><h3>QuickStart to Fireworks</h3>  \n",
      "\n",
      "We are reproducing the [Five-minute quickstart](https://pythonhosted.org/FireWorks/quickstart.html)  \n",
      "<code>export QS=/projects/development/Leidenfrost/Fireworks/quickStart</code>\n",
      "\n",
      "Go the working directory:  \n",
      "<code>cd $QS\n",
      "mkdir db</code>\n",
      "\n",
      "start MongoDB in a terminal:  \n",
      "<code>numactl --interleave=all mongod --logpath $QS/mongod.log  --dbpath $QS/db --fork</code>\n",
      "\n",
      "Reset/Initialize the FireWorks database (the LaunchPad)  \n",
      "<code>lpad reset</code>\n",
      "\n",
      "Add a two-job linear workflow to the database from the command line  \n",
      "<code>lpad add_scripts 'echo \"hello\"' 'echo \"goodbye\"' -n hello goodbye -w test_workflow</code>\n",
      "\n",
      "Looking at the contents of the workflow just created  \n",
      "<code>lpad get_wflows -n test_workflow -d more</code>\n",
      "\n",
      "Run all contents of the workflow:  \n",
      "<code>rlaunch --silencer rapidfire</code>  \n",
      "After this the workflow is not purged from the database, but its state is now <code>COMPLETED</code>. Confirm by looking at the contents  \n",
      "<code>lpad get_wflows -n test_workflow -d more</code>  \n",
      "\n",
      "Directories for each of the two jobs that ran in the workflow were created in our working directory. Each directory contains a <code>json</code> file describing the workflow execution.\n",
      "\n",
      "<b>Very important</b>: a wealth of info can be retrieved by accessing the GUI through the default webbrowser. For instance, we can see the python code automatically generated when we created the worflow. We can also see a graphical representation of the workflow.\n",
      "<code>lpad webgui</code>  \n",
      "<center><a href=\"files/Fireworks/quickStart/screenshot.png\"><img src=\"files/Fireworks/quickStart/screenshot.png\" width=\"300\" height=\"300\" alt=\"Fireworks/quickStart/screenshot.png\"></a>  <i>Fireworks/quickStart/screenshot.png</i></center>\n",
      "\n",
      "All these steps can be reproduce by running [test_workflow.py](files/Fireworks/quickStart/test_workflow.py).\n",
      "\n",
      "Stop mongo:  \n",
      "<code>numactl --interleave=all mongod  --dbpath $QS/db --shutdown</code>"
     ]
    },
    {
     "cell_type": "markdown",
     "metadata": {},
     "source": [
      "(<a href='#Fireworks'>Top</a>)<a id='Fireworks.tutorial'></a><h3>Introductory tutorial to Fireworks</h3>  \n",
      "\n",
      "<h4>Section \"Introduction\"</h4>  \n",
      "\n",
      "We are reproducing the [Introductory tutorial](https://pythonhosted.org/FireWorks/introduction.html)  \n",
      "<code>export QS=/projects/development/Leidenfrost/Fireworks/introductoryTutorial</code>\n",
      "\n",
      "Go the working directory and create directory to store the database  \n",
      "<code>cd $QS\n",
      "mkdir db</code>\n",
      "\n",
      "start MongoDB in a terminal:  \n",
      "<code>numactl --interleave=all mongod --logpath $QS/mongod.log  --dbpath $QS/db --fork</code>\n",
      "\n",
      "Download the tutorials from the github repository  \n",
      "<code>git clone https://github.com/materialsproject/fireworks.git\n",
      "mv fireworks/fw_tutorials ./\n",
      "rm -rf fireworks/</code>\n",
      "\n",
      "Navigate to the tutorials introduction:  \n",
      "<code>cd fw_tutorials/introduction/</code>\n",
      "\n",
      "Reset/Initialize the FireWorks database (the LaunchPad)  \n",
      "<code>lpad reset</code>\n",
      "\n",
      "Add the simple workflow to the database which was serialized into file <code>fw_test.yaml</code>. This workflow is just a single step that print some text to a file.  \n",
      "<code>lpad add fw_test.yaml</code>\n",
      "\n",
      "Query the database to confirm the workflow has been added. A JSON data structure will be ouptut:  \n",
      "<code>lpad get_fws -d all</code>  \n",
      "The workflow is in READY state. It contains a firework that is \"in the launchpad\".  \n",
      "\n",
      "Use a \"rocket\" to launch the firework:  \n",
      "<code>rlaunch singleshot</code>\n",
      "\n",
      "File <i>howdy.txt</i> is created. Verify:  \n",
      "<code>cat howdy.txt</code>\n",
      "\n",
      "In addition, a JSON file <i>FW.json</i> is created, containing a representation of the Firework that the Rocket just ran. Useful for debugging.\n",
      "\n",
      "Instead of running just one firework, we can run many fireworks sequentially. Let's add the same firework three times to the database:  \n",
      "<code>lpad add fw_test.yaml\n",
      "lpad add fw_test.yaml\n",
      "lpad add fw_test.yaml</code>  \n",
      "Now our database contains the old firework plus these three. Verify:  \n",
      "<code>lpad get_fws -d less</code>\n",
      "\n",
      "Of these four fireworks, the first is in a COMPLETED state, and the remaining three are READY to be launched. We launch all the READY fireworks (but before let's remove the output from the COMPLETED firework).  \n",
      "<code>rm FW.json howdy.txt\n",
      "rlaunch rapidfire</code>  \n",
      "Now the results of running each firework (<i>howdy.txt</i> and <i>FW.json</i>) are stored in subdirectories <i>launcher_*</i>  \n",
      "\n",
      "We can leave the rocket launcher activated, so that every time we add a firework, it will be launched withough using command <code>rlaunch</code> (but before let's remove the output directories <i>launcher_*</i>):  \n",
      "<code>rm -rf launcher_*\n",
      "rlaunch rapidfire --nlaunches infinite --sleep 10 &</code>\n",
      "\n",
      "Let's add two fireworks and wait for the launcher to take care of them...   \n",
      "<code>lpad add fw_test.yaml\n",
      "lpad add fw_test.yaml</code>\n",
      "\n",
      "Let's do a bit of clean up (kill the launcher and remove output directories):  \n",
      "<code>kill %1\n",
      "rm -rf launcher_*</code>\n",
      "\n",
      "A python script can substitute for all the commands we entered in the terminal with <code>lpad</code> and <code>rlaunch</code>."
     ]
    },
    {
     "cell_type": "code",
     "collapsed": false,
     "input": [
      "from fireworks import Firework, LaunchPad, ScriptTask\n",
      "from fireworks.core.rocket_launcher import launch_rocket, rapidfire\n",
      "\n",
      "# set up the LaunchPad and reset it\n",
      "launchpad = LaunchPad(strm_lvl='WARNING') # messaging lowest level is WARNING\n",
      "launchpad.reset('', require_password=False)\n",
      "\n",
      "# create the Firework consisting of a single task\n",
      "firetask = ScriptTask.from_str('echo \"howdy, your job launched successfully!\"')\n",
      "firework = Firework(firetask)\n",
      "fw_yaml = firework.to_file(\"my_firework.yaml\") # save to yaml file, and get the string representation\n",
      "fw_json = firework.to_file(\"my_firework.json\") # save to json file, and get the string representation\n",
      "\n",
      "# store workflow and launch it locally\n",
      "launchpad.add_wf(firework)\n",
      "launch_rocket(launchpad)  # same \"rlaunch singleshot\"\n",
      "rapidfire(launchpad, FWorker(), strm_lvl='WARNING')  # same as \"rlaunch rapidfire\"\n",
      "\n",
      "# loading from file\n",
      "# any class in FireWorks that subclasses FWSerializable has methods from_file and to_file\n",
      "firework = Firework.from_file(\"fw_test.yaml\")\n",
      "fw_yaml = Firework.from_file(\"fw_test.json\")"
     ],
     "language": "python",
     "metadata": {},
     "outputs": []
    },
    {
     "cell_type": "markdown",
     "metadata": {},
     "source": [
      "Full documentation in the [modules page](https://pythonhosted.org/FireWorks/modules.html)\n",
      "\n",
      "<h4>Section \"Defining Jobs using FireTasks\"</h4>  \n",
      "\n"
     ]
    },
    {
     "cell_type": "markdown",
     "metadata": {},
     "source": [
      "<a id='Meetings'></a><h2>Meetings</h2>"
     ]
    },
    {
     "cell_type": "markdown",
     "metadata": {},
     "source": [
      "(<a href='#Table of Contents'>Top</a>)<a id='Syntax'></a><h3>Syntax Examples</h3>\n",
      "local link: [link](files/link)</br>\n",
      "remote link: <a href=\"http://ambermd.org/\">http://ambermd.org</a>\n",
      "<font face=\"courier new\"> font face=\"courier new\" </font><br/>\n",
      "$$S_{model}(Q,E)=A(Q)\\cdot S_{elastic}(E) + B(Q)\\cdot S_{simulation}(Q,E)\\otimes S_{elastic}(E) + C(Q)+D(Q)\\cdot E$$\n",
      "<pre> Quoted text </pre>\n",
      "<center><table><tr>\n",
      "<td><a href=\"files/image.png\"><img src=\"files/image.png\" width=\"300\" height=\"250\" alt=\"image here\"></a> <br/>\n",
      "    <i>image caption</i></td>\n",
      "<td>some text</td>\n",
      "</tr></table></center>"
     ]
    },
    {
     "cell_type": "code",
     "collapsed": false,
     "input": [],
     "language": "python",
     "metadata": {},
     "outputs": []
    }
   ],
   "metadata": {}
  }
 ]
}