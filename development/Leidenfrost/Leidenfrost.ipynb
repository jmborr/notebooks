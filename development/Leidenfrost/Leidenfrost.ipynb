{
 "metadata": {
  "name": "",
  "signature": "sha256:9cc9ad64b0c657d4651a1e2afc84ab4e628ae6e829373fec9cde7d100dd2f43b"
 },
 "nbformat": 3,
 "nbformat_minor": 0,
 "worksheets": [
  {
   "cells": [
    {
     "cell_type": "markdown",
     "metadata": {},
     "source": [
      "<h1>Leidenfrost Droplet</h1>\n",
      "\n",
      "<a id='Table of Contents'></a><h3>Table of Contents</h3>  \n",
      "<a href='#Setup'>Setup (imports)</a>  \n",
      "<a href='#Collaborators'>Collaborators</a>  \n",
      "<a href='#Goals'>Goals</a>  \n",
      "\n",
      "<a id='Fireworks'></a><b>Fireworks</b>  \n",
      "<a href='#Fireworks.installation'>Installation of fireworks and dependent packages</a>  \n",
      "<a href='#Fireworks.quickStart'>QuickStart to Fireworks</a>  \n",
      "<a href='#Fireworks.tutorial'>Introductory Tutorial to Fireworks</a>  \n",
      "\n",
      "\n",
      "<a id='meetings'></a><b>Meetings</b>  \n",
      "\n",
      "<a href='#Syntax'>HTML and MARKDOWN SYNTAX EXAMPLES</a></br>"
     ]
    },
    {
     "cell_type": "markdown",
     "metadata": {},
     "source": [
      "(<a href='#Table of Contents'>Top</a>)<a id='Setup'></a><h3>Setup (imports)</h3>"
     ]
    },
    {
     "cell_type": "code",
     "collapsed": false,
     "input": [
      "%matplotlib inline\n",
      "import numpy as np\n",
      "import scipy as sc\n",
      "import lmfit as lm\n",
      "import matplotlib.pyplot as plt"
     ],
     "language": "python",
     "metadata": {},
     "outputs": [],
     "prompt_number": 1
    },
    {
     "cell_type": "markdown",
     "metadata": {},
     "source": [
      "(<a href='#Table of Contents'>Top</a>)<a id='Collaborators'></a><h3>Collaborators</h3>\n",
      "\n",
      "* Eric Lingerfelt\n",
      "* Miguel Fuentes-Cabrera\n",
      "* Hoony Park"
     ]
    },
    {
     "cell_type": "markdown",
     "metadata": {},
     "source": [
      "(<a href='#Table of Contents'>Top</a>)<a id='Goals'></a><h3>Goals</h3>\n",
      "\n",
      "Workflow to parameterize two parameters in a molecular dynamics force-field using BEAM and Fireworks"
     ]
    },
    {
     "cell_type": "markdown",
     "metadata": {},
     "source": [
      "<h2>Fireworks</h2>"
     ]
    },
    {
     "cell_type": "markdown",
     "metadata": {},
     "source": [
      "(<a href='#Fireworks'>Top</a>)<a id='Fireworks.installation'></a><h3>Installation of fireworks and dependent packages</h3>  \n",
      "\n",
      "We use pip to install Fireworks and dependent packages. We are following the [documentation](https://pythonhosted.org/FireWorks/installation.html):\n",
      "\n",
      "<pre>sudo pip install fireworks\n",
      "sudo pip install paramiko\n",
      "sudo pip install fabric\n",
      "sudo pip install requests\n",
      "</pre>\n",
      "\n",
      "We install the mongo database and numatcl:\n",
      "\n",
      "<pre>sudo dnf install mongodb.x86_64\n",
      "sudo dnf install mongodb-server.x86_64\n",
      "sudo dnf install numactl.x86_64\n",
      "</pre>"
     ]
    },
    {
     "cell_type": "markdown",
     "metadata": {},
     "source": [
      "(<a href='#Fireworks'>Top</a>)<a id='Fireworks.quickStart'></a><h3>QuickStart to Fireworks</h3>  \n",
      "\n",
      "We are reproducing the [Five-minute quickstart](https://pythonhosted.org/FireWorks/quickstart.html)  \n",
      "<code>export QS=/projects/development/Leidenfrost/Fireworks/quickStart</code>\n",
      "\n",
      "Go the working directory:  \n",
      "<code>/projects/development/Leidenfrost/Fireworks/quickStart</code>\n",
      "\n",
      "start MongoDB in a terminal:  \n",
      "<code>numactl --interleave=all mongod --logpath $QS/mongod.log  --dbpath $QS/db --fork</code>\n",
      "\n",
      "Reset/Initialize the FireWorks database (the LaunchPad)  \n",
      "<code>lpad reset</code>\n",
      "\n",
      "Add a two-job linear workflow to the database from the command line  \n",
      "<code>lpad add_scripts 'echo \"hello\"' 'echo \"goodbye\"' -n hello goodbye -w test_workflow</code>\n",
      "\n",
      "Looking at the contents of the workflow just created  \n",
      "<code>lpad get_wflows -n test_workflow -d more</code>\n",
      "\n",
      "Run all contents of the workflow:  \n",
      "<code>rlaunch --silencer rapidfire</code>  \n",
      "After this the workflow is not purged from the database, but its state is now <code>COMPLETED</code>. Confirm by looking at the contents  \n",
      "<code>lpad get_wflows -n test_workflow -d more</code>  \n",
      "\n",
      "Directories for each of the two jobs that ran in the workflow were created in our working directory. Each directory contains a <code>json</code> file describing the workflow execution.\n",
      "\n",
      "<b>Very important</b>: a wealth of info can be retrieved by accessing the GUI through the default webbrowser. For instance, we can see the python code automatically generated when we created the worflow. We can also see a graphical representation of the workflow.\n",
      "<code>lpad webgui</code>  \n",
      "<center><a href=\"files/Fireworks/quickStart/screenshot.png\"><img src=\"files/Fireworks/quickStart/screenshot.png\" width=\"300\" height=\"300\" alt=\"Fireworks/quickStart/screenshot.png\"></a>  <i>Fireworks/quickStart/screenshot.png</i></center>\n",
      "\n",
      "All these steps can be reproduce by running [test_workflow.py](files/Fireworks/quickStart/test_workflow.py)."
     ]
    },
    {
     "cell_type": "markdown",
     "metadata": {},
     "source": [
      "(<a href='#Fireworks'>Top</a>)<a id='Fireworks.tutorial'></a><h3>Introductory tutorial to Fireworks</h3>  \n",
      "\n",
      "\n"
     ]
    },
    {
     "cell_type": "markdown",
     "metadata": {},
     "source": [
      "<a id='Meetings'></a><h2>Meetings</h2>"
     ]
    },
    {
     "cell_type": "markdown",
     "metadata": {},
     "source": [
      "(<a href='#Table of Contents'>Top</a>)<a id='Syntax'></a><h3>Syntax Examples</h3>\n",
      "local link: [link](files/link)</br>\n",
      "remote link: <a href=\"http://ambermd.org/\">http://ambermd.org</a>\n",
      "<font face=\"courier new\"> font face=\"courier new\" </font><br/>\n",
      "$$S_{model}(Q,E)=A(Q)\\cdot S_{elastic}(E) + B(Q)\\cdot S_{simulation}(Q,E)\\otimes S_{elastic}(E) + C(Q)+D(Q)\\cdot E$$\n",
      "<pre> Quoted text </pre>\n",
      "<center><table><tr>\n",
      "<td><a href=\"files/image.png\"><img src=\"files/image.png\" width=\"300\" height=\"250\" alt=\"image here\"></a> <br/>\n",
      "    <i>image caption</i></td>\n",
      "<td>some text</td>\n",
      "</tr></table></center>"
     ]
    },
    {
     "cell_type": "code",
     "collapsed": false,
     "input": [],
     "language": "python",
     "metadata": {},
     "outputs": []
    }
   ],
   "metadata": {}
  }
 ]
}