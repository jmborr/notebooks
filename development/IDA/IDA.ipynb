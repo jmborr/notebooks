{
 "metadata": {
  "name": "",
  "signature": "sha256:61c0fbfd656da0101a745e69b0bd7a5f1e2631a7f05f20bfd277773d1996e736"
 },
 "nbformat": 3,
 "nbformat_minor": 0,
 "worksheets": [
  {
   "cells": [
    {
     "cell_type": "markdown",
     "metadata": {},
     "source": [
      "<h1>InDirect Analysis (IDA) Interface</h1>\n",
      "<a id='Table of Contents'></a><h3>Table of Contents</h3>\n",
      "<a href='#Syntax'>HTML and MARKDOWN SYNTAX EXAMPLES</a></br>\n",
      "<a href='#People'>People</a></br>\n",
      "<a href='#Goal'>Goals</a></br>\n",
      "<a href='#todos'>Tentative To-Do list</a></br>\n",
      "<a href='#reducing'>Reducing BASIS files</a></br>\n",
      "<a href='#silicon'>Introducing the Silicon component in BASIS instrument definition file</a></br>\n",
      "<a href='#elwin'>Testing ELWIN tab</a></br>"
     ]
    },
    {
     "cell_type": "markdown",
     "metadata": {},
     "source": [
      "(<a href='#Table of Contents'>Top</a>)<a id='Syntax'></a><h3>Syntax Examples</h3>\n",
      "local link: [link](files/link)</br>\n",
      "remote link: <a href=\"http://ambermd.org/\">http://ambermd.org</a>\n",
      "<font face=\"courier new\"> font face=\"courier new\" </font><br/>\n",
      "$$S_{model}(Q,E)=A(Q)\\cdot S_{elastic}(E) + B(Q)\\cdot S_{simulation}(Q,E)\\otimes S_{elastic}(E) + C(Q)+D(Q)\\cdot E$$\n",
      "<pre> Quoted text </pre>\n",
      "<center><table><tr>\n",
      "<td><a href=\"files/image.png\"><img src=\"files/image.png\" width=\"300\" height=\"250\" alt=\"image here\"></a> <br/>\n",
      "    <i>image caption</i></td>\n",
      "<td>some text</td>\n",
      "</tr></table></center>"
     ]
    },
    {
     "cell_type": "markdown",
     "metadata": {},
     "source": [
      "(<a href='#Table of Contents'>Top</a>)<a id='People'></a><h3>People</h3>\n",
      "People with experience coding different parts of the interface\n",
      "\n",
      "* Martyn Gigg\n",
      "* Dereck Kachere\n",
      "* <b>Dan Nixon</b>\n",
      "* Peter Parker"
     ]
    },
    {
     "cell_type": "markdown",
     "metadata": {},
     "source": [
      "(<a href='#Table of Contents'>Top</a>)<a id='Goals'></a><h3>Goal</h3>\n",
      "Extend the indirect analysis interface for BASIS users."
     ]
    },
    {
     "cell_type": "markdown",
     "metadata": {},
     "source": [
      "(<a href='#Table of Contents'>Top</a>)<a id='todos'></a><h3>Tentative To-Do list</h3>\n",
      "\n",
      "* Add menubar to IndirectDataAnalysis including a tools_menu that will contain a dialog to change instrument. Instrument is initialized with Mantid preferences.\n",
      "* hello"
     ]
    },
    {
     "cell_type": "markdown",
     "metadata": {},
     "source": [
      "(<a href='#Table of Contents'>Top</a>)<a id='reducing'></a><h3>Reducing BASIS files</h3>\n",
      "directory [test1](files/test1) contains the event files. Here's a descriptions:\n",
      "\n",
      "IPTS-10764 (Sample: Bulk D2O data)\n",
      "\n",
      "* BSS_33206_event.nx through 33212 - Data at 295 K\n",
      "* BSS_33228_event.nx - Data at 280 K\n",
      "* BSS_33213_event.nx - Resolution data at 100 K\n",
      "\n",
      "IPTS-5908\n",
      "\n",
      "* BSS_32264_event.nxs Vanadium file (Cylindrical geomertry) for normalization.\n",
      "\n",
      "Maskfing file:\n",
      "\n",
      "* BASIS_Mask.xml\n",
      "\n",
      "Here's a screenshot of the options selected for the Mantid BASISreduction algorithm:\n",
      "<center><a href=\"files/test1/BASISreduction_options.png\"><img src=\"files/test1/BASISreduction_options.png\" width=\"200\" height=\"150\" alt=\"image here\"></a> <br/><i>test1/BASISreduction_options.png</i></center>\n",
      "\n",
      "<b>Vanadium normalization</b>: The normalization performed by the BASIS instrument scientists is to divide each S(Q,E) by the vanadium signal integrated over E, that is:\n",
      "<center>$S_{normalized}(Q,E)=\\frac{S(Q,E)}{\\int_{-\\infty}^{\\infty}S_{vanadium}(Q,E)dE}\n",
      "$</center>"
     ]
    },
    {
     "cell_type": "markdown",
     "metadata": {},
     "source": [
      "(<a href='#Table of Contents'>Top</a>)<a id='silicon'></a><h3>Introducing the Silicon component in BASIS instrument definition file</h3>\n",
      "IDA needs to pull the filtered energy of the analyzer. For that it looks for the name of the instrument component under section \"analyzers\" in the parameters file. In BASIS, the name is \"silicon\". It then goes to the definition file and searches for this component. The energy resolution should be specified there. To this effect, both the parameters and definition files were modified.</br>\n",
      "In the parameters file:\n",
      "<pre><code>&lt;parameter name=\"analysers\" type=\"string\"&gt\n",
      "    &lt;alue val=\"silicon,diffraction\" /&gt\n",
      "&lt;/parameter&gt</code></pre>\n",
      "In the definition file:\n",
      "<pre><code>&lt;type name=\"silicon\"&gt\n",
      "    &lt;component type=\"bank1\" idlist=\"bank1\"&gt\n",
      "      &lt;location/&gt\n",
      "    &lt;/component &gt\n",
      "    &lt;component type=\"bank2\" idlist=\"bank2\"&gt\n",
      "      &lt;location/&gt\n",
      "    &lt;/component&gt\n",
      "    &lt;component type=\"bank3\" idlist=\"bank3\"&gt\n",
      "      &lt;location/ &gt\n",
      "    &lt;/component &gt\n",
      "    &lt;component type=\"bank4\" idlist=\"bank4\"&gt\n",
      "      &lt;location/&gt\n",
      "    &lt;/component&gt\n",
      "  &lt;/type &gt</code></pre>\n",
      "\n",
      "In addition to these changes, we could not simply overwrite file BASIS_Definition.xml if we wanted these changes to be implemented on previous runs. event Nexus and reduced files contain info on the instrument and one piece of info is the name of the instrument definition file. If one desires to overwrite the instrument by using algorithm LoadInstrument and passing a instrument definition file, then the name of this file is compared with the stored name. If both names coincide, then no overwritting is done. Thus, overwritting file BASIS_Definition.xml will lead to no changes in an event Nexus file is we try to overload the stored instrument by using this new file and algorithm LoadInstrument.</br>\n",
      "Thus, we stored the modified instrument in file <i>BASIS_Definition_20130121-.xml</i> and also removed <i>BASIS_Definition.xml</i> from the Mantid repository. Now file <i>BASIS_Definition_20130121-.xml</i> is the newest definition file, and will be used as a default for reduction of event Nexus files. It will also overwrite the stored instrument in event Nexus files and reduced files if we use it in conjunction with LoadInstrument algorithm.</br>\n",
      "Script [overwriteInstrument.py](files/python/overwriteInstrument.py) loads an old reduced file and overwrites the instrument file, then saves it as a Nexus file."
     ]
    },
    {
     "cell_type": "markdown",
     "metadata": {},
     "source": [
      "(<a href='#Table of Contents'>Top</a>)<a id='elwin'></a><h3>Testing ELWIN tab</h3>\n",
      "We use run 35181 from IPTS-10679. Script [overwriteInstrument.py](files/python/overwriteInstrument.py) loads an old reduced file and overwrites the instrument file, then saves it as a Nexus file. This file can then be loaded into the ELWIN tab.\n",
      "<center><a href=\"files/elwin/elwin_Q2.jpeg\"><img src=\"files/elwin/elwin_Q2.jpeg\" width=\"200\" height=\"200\" alt=\"image here\"></a> <br/><i>elwin/elwin_Q2.jpeg</i></center>\n",
      "\n"
     ]
    },
    {
     "cell_type": "code",
     "collapsed": false,
     "input": [],
     "language": "python",
     "metadata": {},
     "outputs": []
    }
   ],
   "metadata": {}
  }
 ]
}