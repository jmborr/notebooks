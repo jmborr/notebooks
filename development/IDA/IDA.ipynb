{
 "metadata": {
  "name": "",
  "signature": "sha256:61c0fbfd656da0101a745e69b0bd7a5f1e2631a7f05f20bfd277773d1996e736"
 },
 "nbformat": 3,
 "nbformat_minor": 0,
 "worksheets": [
  {
   "cells": [
    {
     "cell_type": "markdown",
     "metadata": {},
     "source": [
      "<h1>InDirect Analysis (IDA) Interface</h1>\n",
      "<a id='Table of Contents'></a><h3>Table of Contents</h3>\n",
      "<a href='#Syntax'>HTML and MARKDOWN SYNTAX EXAMPLES</a></br>\n",
      "<a href='#People'>People</a></br>\n",
      "<a href='#Goal'>Goals</a></br>\n",
      "<a href='#todos'>Tentative To-Do list</a></br>\n",
      "<a href='#reducing'>Reducing BASIS files</a></br>"
     ]
    },
    {
     "cell_type": "markdown",
     "metadata": {},
     "source": [
      "(<a href='#Table of Contents'>Top</a>)<a id='Syntax'></a><h3>Syntax Examples</h3>\n",
      "local link: [link](files/link)</br>\n",
      "remote link: <a href=\"http://ambermd.org/\">http://ambermd.org</a>\n",
      "<font face=\"courier new\"> font face=\"courier new\" </font><br/>\n",
      "$$S_{model}(Q,E)=A(Q)\\cdot S_{elastic}(E) + B(Q)\\cdot S_{simulation}(Q,E)\\otimes S_{elastic}(E) + C(Q)+D(Q)\\cdot E$$\n",
      "<pre> Quoted text </pre>\n",
      "<center><table><tr>\n",
      "<td><a href=\"files/image.png\"><img src=\"files/image.png\" width=\"300\" height=\"250\" alt=\"image here\"></a> <br/>\n",
      "    <i>image caption</i></td>\n",
      "<td>some text</td>\n",
      "</tr></table></center>"
     ]
    },
    {
     "cell_type": "markdown",
     "metadata": {},
     "source": [
      "(<a href='#Table of Contents'>Top</a>)<a id='People'></a><h3>People</h3>\n",
      "People with experience coding different parts of the interface\n",
      "\n",
      "* Martyn Gigg\n",
      "* Dereck Kachere\n",
      "* <b>Dan Nixon</b>\n",
      "* Peter Parker"
     ]
    },
    {
     "cell_type": "markdown",
     "metadata": {},
     "source": [
      "(<a href='#Table of Contents'>Top</a>)<a id='Goals'></a><h3>Goal</h3>\n",
      "Extend the indirect analysis interface for BASIS users."
     ]
    },
    {
     "cell_type": "markdown",
     "metadata": {},
     "source": [
      "(<a href='#Table of Contents'>Top</a>)<a id='todos'></a><h3>Tentative To-Do list</h3>\n",
      "\n",
      "* Add menubar to IndirectDataAnalysis including a tools_menu that will contain a dialog to change instrument. Instrument is initialized with Mantid preferences.\n",
      "* hello"
     ]
    },
    {
     "cell_type": "markdown",
     "metadata": {},
     "source": [
      "(<a href='#Table of Contents'>Top</a>)<a id='reducing'></a><h3>Reducing BASIS files</h3>\n",
      "directory [test1](files/test1) contains the event files. Here's a descriptions:\n",
      "\n",
      "IPTS-10764 (Sample: Bulk D2O data)\n",
      "\n",
      "* BSS_33206_event.nx through 33212 - Data at 295 K\n",
      "* BSS_33228_event.nx - Data at 280 K\n",
      "* BSS_33213_event.nx - Resolution data at 100 K\n",
      "\n",
      "IPTS-5908\n",
      "\n",
      "* BSS_32264_event.nxs Vanadium file (Cylindrical geomertry) for normalization.\n",
      "\n",
      "Maskfing file:\n",
      "\n",
      "* BASIS_Mask.xml\n",
      "\n",
      "Here's a screenshot of the options selected for the Mantid BASISreduction algorithm:\n",
      "<center><a href=\"files/test1/BASISreduction_options.png\"><img src=\"files/test1/BASISreduction_options.png\" width=\"200\" height=\"150\" alt=\"image here\"></a> <br/><i>test1/BASISreduction_options.png</i></center>\n",
      "\n",
      "<b>Vanadium normalization</b>: The normalization performed by the BASIS instrument scientists is to divide each S(Q,E) by the vanadium signal integrated over E, that is:\n",
      "<center>$S_{normalized}(Q,E)=\\frac{S(Q,E)}{\\int_{-\\infty}^{\\infty}S_{vanadium}(Q,E)dE}\n",
      "$</center>"
     ]
    },
    {
     "cell_type": "code",
     "collapsed": false,
     "input": [],
     "language": "python",
     "metadata": {},
     "outputs": []
    }
   ],
   "metadata": {}
  }
 ]
}