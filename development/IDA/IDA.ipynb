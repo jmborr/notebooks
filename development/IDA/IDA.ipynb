{
 "metadata": {
  "name": "",
  "signature": "sha256:61c0fbfd656da0101a745e69b0bd7a5f1e2631a7f05f20bfd277773d1996e736"
 },
 "nbformat": 3,
 "nbformat_minor": 0,
 "worksheets": [
  {
   "cells": [
    {
     "cell_type": "markdown",
     "metadata": {},
     "source": [
      "<h1>InDirect Analysis (IDA) Interface</h1>\n",
      "<a id='Table of Contents'></a><h3>Table of Contents</h3>\n",
      "<a href='#Syntax'>HTML and MARKDOWN SYNTAX EXAMPLES</a></br>\n",
      "<a href='#People'>People</a></br>\n",
      "<a href='#Goal'>Goals</a></br>\n",
      "<a href='#todos'>Tentative To-Do list</a></br>\n",
      "<a href='#reducing'>Reducing BASIS files</a></br>\n",
      "<a href='#transmission'>How do Transmission factors affect S(Q,E) in QENS data?</a></br>\n",
      "<a href='#silicon'>Introducing the Silicon component in BASIS instrument definition file</a></br>\n",
      "<a href='#elwin'>Testing ELWIN tab</a></br>\n",
      "<a href='#SensorA'><h4>Set SensorA as default in \"SE Log Value\" in the ELWIN tab</h4></a>\n",
      "\n",
      "* <a href='#SensorA.branch'>Create ticket and branch</a></br>\n",
      "* <a href='#SensorA.algorithm'>Modify ElasticWindowScan</a></br>\n",
      "* <a href='#SensorA.ui'>Modify ui form</a></br>\n",
      "* <a href='#SensorA.testing'>Testing the changes</a></br>\n",
      "\n",
      "<a href='#t11810'><h4>Ticket 11810: error quantification in MSD Fit not correct</h4></a>\n",
      "\n",
      "* <a href='#t11810.branch'>Create ticket and branch</a></br>\n",
      "\n",
      "<a href='#calibration'>Calibration</a></br>"
     ]
    },
    {
     "cell_type": "markdown",
     "metadata": {},
     "source": [
      "(<a href='#Table of Contents'>Top</a>)<a id='Syntax'></a><h3>Syntax Examples</h3>\n",
      "local link: [link](files/link)</br>\n",
      "remote link: <a href=\"http://ambermd.org/\">http://ambermd.org</a>\n",
      "<font face=\"courier new\"> font face=\"courier new\" </font><br/>\n",
      "$$S_{model}(Q,E)=A(Q)\\cdot S_{elastic}(E) + B(Q)\\cdot S_{simulation}(Q,E)\\otimes S_{elastic}(E) + C(Q)+D(Q)\\cdot E$$\n",
      "<pre> Quoted text </pre>\n",
      "<center><table><tr>\n",
      "<td><a href=\"files/image.png\"><img src=\"files/image.png\" width=\"300\" height=\"250\" alt=\"image here\"></a> <br/>\n",
      "    <i>image caption</i></td>\n",
      "<td>some text</td>\n",
      "</tr></table></center>"
     ]
    },
    {
     "cell_type": "markdown",
     "metadata": {},
     "source": [
      "(<a href='#Table of Contents'>Top</a>)<a id='People'></a><h3>People</h3>\n",
      "People with experience coding different parts of the interface\n",
      "\n",
      "* Martyn Gigg\n",
      "* Dereck Kachere\n",
      "* Spencer Howels\n",
      "* Dan Nixon\n",
      "* Peter Parker"
     ]
    },
    {
     "cell_type": "markdown",
     "metadata": {},
     "source": [
      "(<a href='#Table of Contents'>Top</a>)<a id='Goals'></a><h3>Goal</h3>\n",
      "Extend the indirect analysis interface for BASIS users."
     ]
    },
    {
     "cell_type": "markdown",
     "metadata": {},
     "source": [
      "(<a href='#Table of Contents'>Top</a>)<a id='todos'></a><h3>Tentative To-Do list</h3>\n",
      "\n",
      "* Add menubar to IndirectDataAnalysis including a tools_menu that will contain a dialog to change instrument. Instrument is initialized with Mantid preferences.\n",
      "* hello"
     ]
    },
    {
     "cell_type": "markdown",
     "metadata": {},
     "source": [
      "(<a href='#Table of Contents'>Top</a>)<a id='reducing'></a><h3>Reducing BASIS files</h3>\n",
      "directory [test1](files/test1) contains the event files. Here's a descriptions:\n",
      "\n",
      "IPTS-10764 (Sample: Bulk D2O data)\n",
      "\n",
      "* BSS_33206_event.nx through 33212 - Data at 295 K\n",
      "* BSS_33228_event.nx - Data at 280 K\n",
      "* BSS_33213_event.nx - Resolution data at 100 K\n",
      "\n",
      "IPTS-5908\n",
      "\n",
      "* BSS_32264_event.nxs Vanadium file (Cylindrical geomertry) for normalization.\n",
      "\n",
      "Maskfing file:\n",
      "\n",
      "* BASIS_Mask.xml\n",
      "\n",
      "Here's a screenshot of the options selected for the Mantid BASISreduction algorithm:\n",
      "<center><a href=\"files/test1/BASISreduction_options.png\"><img src=\"files/test1/BASISreduction_options.png\" width=\"200\" height=\"150\" alt=\"image here\"></a> <br/><i>test1/BASISreduction_options.png</i></center>\n",
      "\n",
      "<b>Vanadium normalization</b>: The normalization performed by the BASIS instrument scientists is to divide each S(Q,E) by the vanadium signal integrated over E, that is:\n",
      "<center>$S_{normalized}(Q,E)=\\frac{S(Q,E)}{\\int_{-\\infty}^{\\infty}S_{vanadium}(Q,E)dE}\n",
      "$</center>"
     ]
    },
    {
     "cell_type": "markdown",
     "metadata": {},
     "source": [
      "(<a href='#Table of Contents'>Top</a>)<a id='transmission'></a><h3>How do Transmission factors affect S(Q,E) in QENS data?</h3>\n",
      "In an QENS experiment, the sample thickness is such that \"at most 10% of the neutrons are absorved\". However, the transmission coefficient (1.0 - absorption) depends on the scattering angle (see [Paalman62](files/docs/Paalman62.pdf) and [Carlile74](files/docs/Carlile74.pdf)) with transmissiong typically decreasing with scattering angle.</br>\n",
      "\n",
      "According to equation (15) of [Paalman62](files/docs/Paalman62.pdf), we can write:\n",
      "<center>$S_{c+s}^E(\\theta,E) = A_{s,sc}(\\theta)S_s(\\theta,E) + \\frac{A_{c,sc}(\\theta)}{A_{c,c(\\theta)}}S_c^E(\\theta,E)$</center>\n",
      "with $S_{c+s}^E(\\theta,E)$ measured signal of can (c) plus sample (s) and $S_c^E(\\theta,E)$ measured signal of the bare can. The different $A_{xx}$ are transmissions coefficients. The ideal structure factor is $S_s(\\theta,E)$.\n",
      "\n",
      "</br></br><b>Absent\n",
      "can holder:</b>\n",
      "\n",
      "If we neglect the presence of the can ($S_c^E(\\theta,E)=0$) then the structure factor, expressed as a function of the scattering angle $\\theta$ and energy transfer, should be prepended by a transmission factor $A_{s,sc}(\\theta)$\n",
      "<center>$A_{s,sc}(\\theta)S_s(\\theta,E)$</center>\n",
      "The relation between momentum transfer and scattering angle is\n",
      "<center>$Q^2 = k_i^2 + k_f^2 + 2 k_i^2 k_f^2 cos(\\theta)$</center>\n",
      "In QENS data, we can approximate $k_i = k_f$ so variations in momentum transfer arise from variations in the scattering angle. Thus, our structure factor expressed as a function of momentum transfer and energy should be prepended by a transmission factor that is only Q-dependent:\n",
      "<center>$A'_{s,sc}(Q)S_s(Q,E)$</center>\n",
      "This fact is inconsequential when we fit the measured structure factor against a model, because factor $A'_{s,sc}(Q)$ is taken care by the fitting parameter h(Q) that takes care of fitting overall intensity of the signal:\n",
      "<center>$h(Q) Res(Q) \\otimes [p(Q)\\delta (E) + (1-p(Q))L(Q,E)] + B(Q,E)$</center>\n",
      "\n",
      "</br></br><b>Can holder present:</b>\n",
      "\n",
      "The Aluminun can holder has a structure factor purely vibrational:\n",
      "<center>$S_c^E(Q,E) \\sim Res(Q) \\otimes (e^{-W_c} \\delta(E))$</center>\n",
      "\n",
      "So the two terms to compare are:\n",
      "<center>$S_{c+s}^E(Q,E)  \\Longleftrightarrow h(Q) Res(Q) \\otimes [p(Q)\\delta (E) + q(Q)L(Q,E)] + B(Q,E)$</center></br>\n",
      "\n",
      "where now the structure factor due to the can is taken care by fitting parameter $p(Q)$ that modulates the elastic intensity.\n",
      "\n",
      "\n"
     ]
    },
    {
     "cell_type": "markdown",
     "metadata": {},
     "source": [
      "(<a href='#Table of Contents'>Top</a>)<a id='silicon'></a><h3>Introducing the Silicon component in BASIS instrument definition file</h3>\n",
      "IDA needs to pull the filtered energy of the analyzer. For that it looks for the name of the instrument component under section \"analyzers\" in the parameters file. In BASIS, the name is \"silicon\". It then goes to the definition file and searches for this component. The energy resolution should be specified there. To this effect, both the parameters and definition files were modified.</br>\n",
      "In the parameters file:\n",
      "<pre><code>&lt;parameter name=\"analysers\" type=\"string\"&gt\n",
      "    &lt;alue val=\"silicon,diffraction\" /&gt\n",
      "&lt;/parameter&gt</code></pre>\n",
      "In the definition file:\n",
      "<pre><code>&lt;type name=\"silicon\"&gt\n",
      "    &lt;component type=\"bank1\" idlist=\"bank1\"&gt\n",
      "      &lt;location/&gt\n",
      "    &lt;/component &gt\n",
      "    &lt;component type=\"bank2\" idlist=\"bank2\"&gt\n",
      "      &lt;location/&gt\n",
      "    &lt;/component&gt\n",
      "    &lt;component type=\"bank3\" idlist=\"bank3\"&gt\n",
      "      &lt;location/ &gt\n",
      "    &lt;/component &gt\n",
      "    &lt;component type=\"bank4\" idlist=\"bank4\"&gt\n",
      "      &lt;location/&gt\n",
      "    &lt;/component&gt\n",
      "  &lt;/type &gt</code></pre>\n",
      "\n",
      "In addition to these changes, we could not simply overwrite file BASIS_Definition.xml if we wanted these changes to be implemented on previous runs. event Nexus and reduced files contain info on the instrument and one piece of info is the name of the instrument definition file. If one desires to overwrite the instrument by using algorithm LoadInstrument and passing a instrument definition file, then the name of this file is compared with the stored name. If both names coincide, then no overwritting is done. Thus, overwritting file BASIS_Definition.xml will lead to no changes in an event Nexus file is we try to overload the stored instrument by using this new file and algorithm LoadInstrument.</br>\n",
      "Thus, we stored the modified instrument in file <i>BASIS_Definition_20130121-.xml</i> and also removed <i>BASIS_Definition.xml</i> from the Mantid repository. Now file <i>BASIS_Definition_20130121-.xml</i> is the newest definition file, and will be used as a default for reduction of event Nexus files. It will also overwrite the stored instrument in event Nexus files and reduced files if we use it in conjunction with LoadInstrument algorithm.</br>\n",
      "Script [overwriteInstrument.py](files/python/overwriteInstrument.py) loads an old reduced file and overwrites the instrument file, then saves it as a Nexus file."
     ]
    },
    {
     "cell_type": "markdown",
     "metadata": {},
     "source": [
      "(<a href='#Table of Contents'>Top</a>)<a id='elwin'></a><h3>Testing ELWIN tab</h3>\n",
      "\n",
      "<h4>Single Run:</h4>\n",
      "\n",
      "We use run 35181 from IPTS-10679. Script [overwriteInstrument.py](files/python/overwriteInstrument.py) loads an old reduced file and overwrites the instrument file, then saves it as a Nexus file. This file can then be loaded into the ELWIN tab.\n",
      "<center><a href=\"files/elwin/elwin_Q2.jpeg\"><img src=\"files/elwin/elwin_Q2.jpeg\" width=\"200\" height=\"200\" alt=\"image here\"></a> <br/><i>elwin/elwin_Q2.jpeg</i></center>\n",
      "\n",
      "We use two elastic scans from IPTS-11889 to test the intensity versus temperature feature within directories <i>elwin/scan1</i> and <i>elwin/scan2</i>, respectively. We have files with names like <i>bss41019_silicon111_sqw.nxs</i>.\n",
      "<center><table>\n",
      "<tr><td><center>scan1</center></td> <td><center>scan2</center></td> </tr>\n",
      "<tr><td><center>run - T</center></td> <td><center>run - T</center></td> </tr>\n",
      "<tr><td>41137 - 20K</td> <td>40996 - 300K</td> </tr>\n",
      "<tr><td>41138 - 22K</td> <td>40998 - 298K</td> </tr>\n",
      "<tr><td>41139 - 24K</td> <td>41000 - 296K</td> </tr>\n",
      "<tr><td>... - ...</td> <td>... - ...</td> </tr>\n",
      "<tr><td>41277 - 300K</td> <td>41136 - 300K</td> </tr>\n",
      "</table></center>\n",
      "\n",
      "We first have to overwrite the instrument with the new defition one. We use script [overloadInstrument.py](files/python/overloadInstrument.py) to create files with names like <i>bss41019_sqw.nxs</i>.\n",
      "\n",
      "I prepared a script for the BASIS team, [elwin_ElasticScan_forBASISteam.py](files/python/elwin_ElasticScan_forBASISteam.py), that will do what [overloadInstrument.py](files/python/overloadInstrument.py) does. It is to be used with MantidPlotNightly in <i>bac.sns.gov</i>.\n",
      "\n",
      "If for some reason the temperature had not been included in the sample logs, we can insert it with algorithm <i>AddSampleLog</i>. For these Nexus file, temperature was included in the logs under label \"SetpointLP1\", but for learning purposes, we insert a new label \"Temperature\" in the logs. See python script [overloadInstrument.py](files/python/overloadInstrument.py) on how to use <i>AddSampleLog</i> for this purpose.\n",
      "\n",
      "<h4>Elastic Scan:</h4>\n",
      "\n",
      "We load and run the interface with this set of files. We are interested in plotting the integrated intensity versus temperature. We normalize the plots to the intensity at the lowest Q for the coldest temperature.\n",
      "\n",
      "<center><table><tr>\n",
      "<td><center><a href=\"files/elwin/scan1/normalized_elastic_intensity.png\"><img src=\"files/elwin/scan1/normalized_elastic_intensity.png\" width=\"200\" height=\"200\" alt=\"elwin/scan1/normalized_elastic_intensity.png\"></a> <br/><i>elwin/scan1/normalized_elastic_intensity.png</i></center></td>\n",
      "<td><center><a href=\"files/elwin/scan2/normalized_elastic_intensity.png\"><img src=\"files/elwin/scan2/normalized_elastic_intensity.png\" width=\"200\" height=\"200\" alt=\"elwin/scan2/normalized_elastic_intensity.png\"></a> <br/><i>elwin/scan2/normalized_elastic_intensity.png</i></center></td>\n",
      "</tr></table></center>\n",
      "\n",
      "We compare against the results obtained by Eugene using DAVE:\n",
      "\n",
      "\n",
      "<center><table><tr>\n",
      "<td><center><a href=\"files/elwin/scan1/Elastic_HchclDgl_Heating01.png\"><img src=\"files/elwin/scan1/Elastic_HchclDgl_Heating01.png\" width=\"200\" height=\"200\" alt=\"elwin/scan1/Elastic_HchclDgl_Heating01.png\"></a> <br/><i>elwin/scan1/Elastic_HchclDgl_Heating01.txt(png)</i></center></td>\n",
      "<td><center><a href=\"files/elwin/scan2/Elastic_HchclDgl_Cooling01.png\"><img src=\"files/elwin/scan2/Elastic_HchclDgl_Cooling01.png\" width=\"200\" height=\"200\" alt=\"elwin/scan2/Elastic_HchclDgl_Cooling01.png\"></a> <br/><i>elwin/scan2/Elastic_HchclDgl_Cooling01.txt(png)</i></center></td>\n",
      "</tr></table></center>\n",
      "\n",
      "The curves differ by an overall scaling factor. If we fit the curves of the \"Mantid\" set agains the curves from the \"DAVE\" set allowing for a scaling factor, we obtain Chi-square values in the [0.4, 1.6] range, indicating very good comparison between both sets.\n",
      "\n",
      "<center><a href=\"files/elwin/scan1/intensity_comparison.png\"><img src=\"files/elwin/scan1/intensity_comparison.png\" width=\"200\" height=\"200\" alt=\"elwin/scan1/intensity_comparison.png\"></a> <br/><i>elwin/scan1/intensity_comparison.png</i></center>\n",
      "\n",
      "Differences may have arisen from different energy range for integration (I used [-3.5, 3.5]) and different protocol for background removal."
     ]
    },
    {
     "cell_type": "markdown",
     "metadata": {},
     "source": [
      "(<a href='#Table of Contents'>Top</a>)<a id='SensorA'></a><h2>Set SensorA as default in \"SE Log Value\" in the ELWIN tab</h2>"
     ]
    },
    {
     "cell_type": "markdown",
     "metadata": {},
     "source": [
      "(<a href='#Table of Contents'>Top</a>)<a id='SensorA.branch'></a><h3>Create ticket and branch</h3>\n",
      "Ticket: http://trac.mantidproject.org/mantid/ticket/11809, \"Change SensorA as default log in IDA.ELWIN for BASIS\"\n",
      "Branch: 11809_BASISSensorA</br>\n",
      "<code>git checkout --no-track -b 11809_BASISSensorA origin/master\n",
      "git checkout 11809_BASISSensorA</code>\n",
      "\n",
      "Pushing to remote repository: <code>git push origin 11809_BASISSensorA</code>"
     ]
    },
    {
     "cell_type": "markdown",
     "metadata": {},
     "source": [
      "(<a href='#Table of Contents'>Top</a>)<a id='SensorA.algorithm'></a><h3>Modify ElasticWindowScan</h3>\n",
      "We have modified ElasticWindowScan.py by adding a selection of possible sample environment log values\n",
      "<center><a href=\"files/elwin/modified_elasticwindowscan.png\"><img src=\"files/elwin/modified_elasticwindowscan.png\" width=\"200\" height=\"400\" alt=\"elwin/modified_elasticwindowscan.png\"></a> <br/><i>elwin/modified_elasticwindowscan.png</i></center>"
     ]
    },
    {
     "cell_type": "markdown",
     "metadata": {},
     "source": [
      "(<a href='#Table of Contents'>Top</a>)<a id='SensorA.ui'></a><h3>Modify ui form</h3>\n",
      "We have modified Elwin.ui introducing a combo box to select a value action for the sample environment log\n",
      "<center><a href=\"files/elwin/modify_elwin_ui.png\"><img src=\"files/elwin/modify_elwin_ui.png\" width=\"300\" height=\"300\" alt=\"elwin/modify_elwin_ui.png\"></a> <br/><i>elwin/modify_elwin_ui.png</i></center>\n",
      "We also modified BASIS_definition.xml to set the default sample environment log value. We set it to be as \"average\". Then, we modified Elwin.cpp to search for this default and update accordingly the ELWIN interface."
     ]
    },
    {
     "cell_type": "markdown",
     "metadata": {},
     "source": [
      "(<a href='#Table of Contents'>Top</a>)<a id='SensorA.testing'></a><h3>Testing the changes</h3>\n",
      "In directory <i>/projects/development/IDA/elwin/SensorA/scan1</i>\n",
      "\n",
      "Python script [elwin_ElasticScan_forBASISteam.py](files/elwin/SensorA/scan1/elwin_ElasticScan_forBASISteam.py) updates nexus files IPTS-11889 newest parameters and instrument definition files, so that when the ELWIN tab is used, the SensorA and the option 'average' are selected without user intervention.</br>\n",
      "\n",
      "We use elastic scan from IPTS-11889 to test the intensity versus temperature feature within directories <i>elwin/scan1</i> and <i>elwin/scan2</i>, respectively. We have files with names like <i>bss41019_silicon111_sqw.nxs</i>.\n",
      "<center><table>\n",
      "<tr><td><center>scan1</center></td></tr>\n",
      "<tr><td><center>run - T</center></td></tr>\n",
      "<tr><td>41137 - 20K</td></tr>\n",
      "<tr><td>41138 - 22K</td></tr>\n",
      "<tr><td>41139 - 24K</td></tr>\n",
      "<tr><td>... - ...</td></tr>\n",
      "<tr><td>41277 - 300K</td></tr>\n",
      "</table></center>\n",
      "\n",
      "We load all these files into the ELWIN tab (click in 'Browse' button, then highlight all the files, then click 'open'). After we run the ELWIN tab, we have the below plot for unnormalized intensity versus temperature. I have checked and the temperature values are inded the average of the SensorA series.\n",
      "\n",
      "<center><a href=\"files/elwin/SensorA/scan1/intensity_vs_temperature.png\"><img src=\"files/elwin/SensorA/scan1/intensity_vs_temperature.png\" width=\"300\" height=\"300\" alt=\"elwin/SensorA/scan1/intensity_vs_temperature.png\"></a> <br/><i>elwin/SensorA/scan1/intensity_vs_temperature.png</i></center>\n",
      "\n",
      "Pull request https://github.com/mantidproject/mantid/pull/795"
     ]
    },
    {
     "cell_type": "markdown",
     "metadata": {},
     "source": [
      "(<a href='#Table of Contents'>Top</a>)<a id='t11810'></a><h2>Ticket 11810: error quantification in MSD Fit not correct</h2>"
     ]
    },
    {
     "cell_type": "markdown",
     "metadata": {},
     "source": [
      "(<a href='#Table of Contents'>Top</a>)<a id='t11810.branch'></a><h3>Create ticket and branch</h3>\n",
      "Ticket: http://trac.mantidproject.org/mantid/ticket/11810, \"error quantification in MSD Fit not correct\"\n",
      "Branch: 11810_MSDFitErrorQuant</br>\n",
      "We use commands from the [old git workflow](http://www.mantidproject.org/Git_Workflow_Old) </br>\n",
      "<code>git fetch -p\n",
      "git checkout --no-track -b 11810_MSDFitErrorQuant origin/master</code></br>\n",
      "Pushing to remote repository: <code>git push origin 11810_MSDFitErrorQuant</code>"
     ]
    },
    {
     "cell_type": "code",
     "collapsed": false,
     "input": [],
     "language": "python",
     "metadata": {},
     "outputs": []
    }
   ],
   "metadata": {}
  }
 ]
}