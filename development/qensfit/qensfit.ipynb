{
 "metadata": {
  "name": "",
  "signature": "sha256:6a460d86e901d96ba89a8152fbc165b2bab76397733a08f68763985c7d30f062"
 },
 "nbformat": 3,
 "nbformat_minor": 0,
 "worksheets": [
  {
   "cells": [
    {
     "cell_type": "markdown",
     "metadata": {},
     "source": [
      "<h1>QENS Fitting with qensfit</h1>\n",
      "\n",
      "<a id='Table of Contents'></a><h3>Table of Contents</h3>  \n",
      "<a href='#Setup'>Setup (imports)</a>  \n",
      "<a href='#Collaborators'>Collaborators</a>  \n",
      "<a href='#Goals'>Goals</a>  \n",
      "\n",
      "\n",
      "<a id='requirements'></a>Requirements  \n",
      "<a href='#requirements.ILL'>Collected requirements by John's group at ILL</a>  \n",
      "\n",
      "<a id='Meetings'></a>Meetings  \n",
      "\n",
      "<a href='#Syntax'>HTML and MARKDOWN SYNTAX EXAMPLES</a></br>"
     ]
    },
    {
     "cell_type": "markdown",
     "metadata": {},
     "source": [
      "(<a href='#Table of Contents'>Top</a>)<a id='Setup'></a><h3>Setup (imports)</h3>"
     ]
    },
    {
     "cell_type": "code",
     "collapsed": false,
     "input": [
      "%matplotlib inline\n",
      "import numpy as np\n",
      "import scipy as sc\n",
      "import lmfit as lm\n",
      "import matplotlib.pyplot as plt"
     ],
     "language": "python",
     "metadata": {},
     "outputs": []
    },
    {
     "cell_type": "markdown",
     "metadata": {},
     "source": [
      "(<a href='#Table of Contents'>Top</a>)<a id='Collaborators'></a><h3>Collaborators</h3>\n",
      "\n",
      "* Eugene Mamontov\n",
      "* Souleymane Diallo\n",
      "* Anibal Ramirez-Cuesta"
     ]
    },
    {
     "cell_type": "markdown",
     "metadata": {},
     "source": [
      "(<a href='#Table of Contents'>Top</a>)<a id='Goals'></a><h3>Goals</h3>\n",
      "\n",
      "See [README.md](https://github.com/jmborr/qensfit/blob/master/README.md) at <code>qensfit</code> repository."
     ]
    },
    {
     "cell_type": "markdown",
     "metadata": {},
     "source": [
      "<h2>Requirements</h2>\n",
      "Requirements for qensfit will be described in the [Github repository](https://github.com/jmborr/qensfit/tree/master/design)"
     ]
    },
    {
     "cell_type": "markdown",
     "metadata": {},
     "source": [
      "(<a href='#Table of Contents'>Top</a>)<a id='requirements.ILL'></a><h3>Collected requirements by John's group at ILL</h3>\n",
      "\n",
      "File [DataAnalysisRequirementsQENS.docx](files/docs/DataAnalysisRequirementsQENS.docx)\n"
     ]
    },
    {
     "cell_type": "markdown",
     "metadata": {},
     "source": [
      "(<a href='#Table of Contents'>Top</a>)<a id='Syntax'></a><h3>Syntax Examples</h3>\n",
      "local link: [link](files/link)</br>\n",
      "remote link: <a href=\"http://ambermd.org/\">http://ambermd.org</a>\n",
      "<font face=\"courier new\"> font face=\"courier new\" </font><br/>\n",
      "$$S_{model}(Q,E)=A(Q)\\cdot S_{elastic}(E) + B(Q)\\cdot S_{simulation}(Q,E)\\otimes S_{elastic}(E) + C(Q)+D(Q)\\cdot E$$\n",
      "<pre> Quoted text </pre>\n",
      "<center><table><tr>\n",
      "<td><a href=\"files/image.png\"><img src=\"files/image.png\" width=\"300\" height=\"250\" alt=\"image here\"></a> <br/>\n",
      "    <i>image caption</i></td>\n",
      "<td>some text</td>\n",
      "</tr></table></center>"
     ]
    },
    {
     "cell_type": "code",
     "collapsed": false,
     "input": [],
     "language": "python",
     "metadata": {},
     "outputs": []
    }
   ],
   "metadata": {}
  }
 ]
}