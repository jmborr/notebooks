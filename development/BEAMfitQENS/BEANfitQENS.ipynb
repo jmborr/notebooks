{
 "metadata": {
  "name": "",
  "signature": "sha256:fbfd3d5193a45e5098f2ae8e23e5801dc359c52f58ed4a1ff3a278768a956d3e"
 },
 "nbformat": 3,
 "nbformat_minor": 0,
 "worksheets": [
  {
   "cells": [
    {
     "cell_type": "markdown",
     "metadata": {},
     "source": [
      "<h1>BEAMfitQENS</h1>\n",
      "<a id='Table of Contents'></a><h3>Table of Contents</h3>\n",
      "<a href='#People'>People</a>  \n",
      "<a href='#Goals'>Goals</a>  \n",
      "<a href='#modules'>Loading module files</a>  \n",
      "<a href='#me8t8'><h4>Fitting of Octa-methyl Silsesquioxane</h4></a>  \n",
      "* <a href='#me8t8.namd'>NAMD: molecular dynamics runs</a>\n",
      "* <a href='#me8t8.ambertools'>AmberTools: removal of global rotations and translations</a>\n",
      "* <a href='#me8t8.sassena'>Sassena: calculation of the structure factors</a>\n",
      "* <a href='#me8t8.mantid'>Mantid: fitting against experiment</a>\n",
      "\n",
      "<a href='#meetings'><h4>Meetings</h4></a>  \n",
      "\n",
      "* <a href='#meetings.20151027'>October 27 2015</a>\n"
     ]
    },
    {
     "cell_type": "markdown",
     "metadata": {},
     "source": [
      "(<a href='#Table of Contents'>Top</a>)<a id='People'></a><h3>People</h3>\n",
      "\n",
      "* Byung-Hoon Park\n",
      "* Eric J. Lingerfelt\n",
      "* Jose Borreguero"
     ]
    },
    {
     "cell_type": "markdown",
     "metadata": {},
     "source": [
      "(<a href='#Table of Contents'>Top</a>)<a id='Goals'></a><h3>Goals</h3>\n",
      "Create a workflow that fits simulated against experimental structure factor. The BEAM and CADES infrastructures are employed."
     ]
    },
    {
     "cell_type": "markdown",
     "metadata": {},
     "source": [
      "(<a href='#Table of Contents'>Top</a>)<a id='modules'></a><h3>Loading module files</h3>\n",
      "The environment for most of the programs used here are loaded with <code>module</code> files.  \n",
      "\n",
      "Please add path  <code>/sw/bellerophon/modulefiles</code> to your <code>MODULEPATH</code> environment variable."
     ]
    },
    {
     "cell_type": "markdown",
     "metadata": {},
     "source": [
      "(<a href='#Table of Contents'>Top</a>)<a id='me8t8'></a><h2>Fitting of Octa-methyl Silsesquioxane</h2>\n",
      "The mPOSS molecule is composed of a cubic cage where silicon atoms occupy the cube vertices, and oxygen atoms are located in the cube edges (see below figure). Thus, each Si atom has a tetrahedral coordination to three O atoms and one methyl group. Methyl substitution by other chemical species makes POSS molecules highly versatile, with applications as organic solvents, polymer dispersants, catalysts, nanocomposites, diodes, and many other uses. In particular, mPOSS has found application as a coating for carbon fibers and low-dielectric films.  \n",
      "<center><a href=\"files/me8t8/supporting/me8t8_molecule.png\"><img src=\"files/me8t8/supporting/me8t8_molecule.png\" width=\"300\" height=\"300\" alt=\"me8t8_molecule.png\"></a></center>  \n",
      "mPOSS molecule composed of Si (yellow), O (red), C (cyan), and H (grey) atoms. Nine different chains of consecutive O-Si-C-H covalent bonds can be constructed for each methyl group, due to the three different oxygen and hydrogen atoms that can be selected at the extremes of the chain.\n",
      "<center><a href=\"files/me8t8/supporting/me8t8_crystal.png\"><img src=\"files/me8t8/supporting/me8t8_crystal.png\" width=\"300\" height=\"300\" alt=\"me8t8_crystal.png\"></a></center>  \n",
      "mPOSS molecule non-vibrational degrees of freedom are restricted to dicrete rotational diffusion of the methyl groups (-CH3). In the AMBER force field the barrier to rotation is described by a dihedral 4-body term.  \n",
      "<center>$V(\\phi)=K[1+cos(3\\phi)]$</center>  \n",
      "Where $\\phi$ is the dihedral angle defined by one of the nine combinations that can be formed with the four linked atoms O, Si, C, and H.  "
     ]
    },
    {
     "cell_type": "markdown",
     "metadata": {},
     "source": [
      "(<a href='#Table of Contents'>Top</a>)<a id='me8t8.namd'></a><h3>NAMD, molecular dynamics runs</h3>\n",
      "In <i>pilaeus-login01.ornl.gov:$HOME/projects/BEAMfitQENS/me8t8</i>, things to highlight:\n",
      "\n",
      "* template force field is file <code>me8t8.prmtop&#95;template</code>. Keyword <code>&#95;FF&#95;PARM&#95;</code> in line 82 is to be replaced with the value of the trying parameter. When doing the replacement follow the FORTRAN format <code>E16.8</code>.\n",
      "\n",
      "We will simulate a single molecule. The necessary files to carry out the simulation are:  \n",
      "\n",
      "* me8t8.pdb (list of atoms and molecule name)\n",
      "* me8t8.prmtop (force field and topology)\n",
      "* run0.restart.coor (initial coordinates)\n",
      "* run1.conf (NAMD run options)\n",
      "\n",
      "To run NAMD, we have to load the namd module.\n",
      "\n",
      "New files are generated after the simulation is done:  \n",
      "\n",
      "* run1.log  #thermodynamic quantities are saved here. (ASCII file).\n",
      "* run1.dcd  #snapshots are saved here (binary file).\n",
      "* run1.restart.coor  #coordinates of the system when the simulation finished, in high precision\n",
      "* run1.restart.vel   #velocities of the system when the simulation finished, in high precision\n",
      "* run1.restart.xsc   #geometric boundaries of the system when the simulation finished\n"
     ]
    },
    {
     "cell_type": "markdown",
     "metadata": {},
     "source": [
      "(<a href='#Table of Contents'>Top</a>)<a id='me8t8.ambertools'></a><h3>AmberTools: removal of global rotations and translations</h3>\n",
      "In the simulation at constant temperature, the molecule undergoes Brownian motion. It's diffusion coefficient depends on  parameter <i>LangevingDamping</i>  used in the Constant Temperature Control section of file <i>run1.conf</i>.  \n",
      "\n",
      "If we want to look at the internal dynamics of the molecule, where it is expected that the particular heat bath has much less influence, we have to remove these global rotations and translations.  We will use [AmberTools](http://ambermd.org/#AmberTools), the analysis tools provided by the AMBER developers. In particular, we will use the terminal command <i>cpptraj</i> that allows transformations of a molecular dynamics trajectory as well as computation of many quantities. For details, read the cpptraj section in the [Amber14](files/supporting/Amber14.pdf) guide.  \n",
      "\n",
      "First, the file containing the commands that will be passed to cpptraj is <code>rms2first.cpptraj</code>.  \n",
      "\n",
      "<pre>trajin run1.dcd  \n",
      "rms first time 1.0 out rms2first.dat  \n",
      "trajout run1_rms2first.dcd dcd  \n",
      "quit</pre>  \n",
      "The first line commands cpptraj to load the trajectory onto memory. The second line will perform an RMS superposition of each frame in the trajectory to the first frame. We also indicate we want to output the RMS values onto file rms2first.dat, and indicate that consecutive frames in the trajectory are separated by 1ps. The third lane will save the trajectory in file <i>run1_rms2first.dcd</i>. This is the trajectory without global translations and rotations.  \n",
      "\n",
      "To run cpptraj, we have to load the amber module.  "
     ]
    },
    {
     "cell_type": "code",
     "collapsed": false,
     "input": [
      "%%bash\n",
      "module load amber\n",
      "cpptraj -p me8t8.prmtop -i rms2first.cpptraj"
     ],
     "language": "python",
     "metadata": {},
     "outputs": []
    },
    {
     "cell_type": "markdown",
     "metadata": {},
     "source": [
      "(<a href='#Table of Contents'>Top</a>)<a id='me8t8.sassena'></a><h3>Sassena: calculation of the structure factors</h3>\n",
      "\n",
      "The necessary files to carry out the simulation are:  \n",
      "\n",
      "* me8t8.pdb (list of atoms and molecule name)\n",
      "* hydrogens.pdb (selection of atoms over which to calculate $I(Q,t)$)\n",
      "* run1_rms2first.dcd (molecular dynamics trajectory with removed global rotations and translations. 4000 frames, with frames recorded every 1ps, for a total of 4ns).\n",
      "* sassena.xml (input options for the Sassena program)\n",
      "\n",
      "To run Sassena, we have to load the sassena module, then run the command:"
     ]
    },
    {
     "cell_type": "code",
     "collapsed": false,
     "input": [
      "%%bash\n",
      "module load sassena\n",
      "mpirun -np 4 sassena --config sassena.xml &> sassena.log"
     ],
     "language": "python",
     "metadata": {},
     "outputs": []
    },
    {
     "cell_type": "markdown",
     "metadata": {},
     "source": [
      "After the calculation is done, new files are generated:  \n",
      "\n",
      "* sassena.log #several info messages regarding details of the computaion\n",
      "* fqt_inc.h5  #structure factor $I(Q,t)$, in binary format.\n",
      "\n",
      "File <i>fqt_inc.h5</i> can be inspected with command <code>hdfview</code>."
     ]
    },
    {
     "cell_type": "markdown",
     "metadata": {},
     "source": [
      "(<a href='#Table of Contents'>Top</a>)<a id='me8t8.mantid'></a><h3>Mantid: fitting against experiment</h3>\n",
      "\n",
      "We performed molecular dynamics simulations of a single mPOSS molecule for different values of the dihedral potential barrier.\n",
      "\n",
      "* Simulatons are 10ns long for improved resolution of $S(Q,E)$\n",
      "* Simulated value for dihedral potential barrier K has been specified by the user.\n",
      "* $I(Q,t)$ calculated with Sassena.\n",
      "\n",
      "The fitting proces involves the following steps:\n",
      "\n",
      "* Loading the experimental data ($S(Q,E)$ and resolution function)\n",
      "* Loading the computed $I(Q,t)$\n",
      "* Transform the computed $I(Q,t)$ to a computed $S(Q,E)$ commensurable to the experimental data (energy and Q binning, convolved)\n",
      "* Write up the fitting model and Do the fit\n",
      "* Output fitted spectra and optimized parameters\n",
      "\n",
      "All these steps are coded in python script [fitting.py](files/me8t8/mantid/fitting.py)."
     ]
    },
    {
     "cell_type": "code",
     "collapsed": false,
     "input": [
      "import numpy\n",
      "import argparse\n",
      "import sys\n",
      "#sys.path.append('/opt/Mantid/bin')\n",
      "from mantid.simpleapi import *\n",
      "\n",
      "parser = argparse.ArgumentParser(description='''Fit simulated structure factor to experiment''')\n",
      "parser.add_argument('ind', type=str, help='input directory (contains all input files)')\n",
      "parser.add_argument('--outd', type=str, help='output directory (default: input directory)')\n",
      "\n",
      "args = parser.parse_args()\n",
      "\n",
      "###########################################################################\n",
      "## Load the simulated S(Q,E) and convolve with experimental resolution  ###\n",
      "###########################################################################\n",
      "rootd=args.ind\n",
      "outd=rootd\n",
      "if args.outd:\n",
      "    outd=args.outd\n",
      "LoadNexus(Filename='{0}/elastic.nxs'.format(rootd), OutputWorkspace='elastic')\n",
      "LoadNexus(Filename='{0}/exp200K.nxs'.format(rootd), OutputWorkspace='exp200K')\n",
      "LoadSassena(Filename='{0}/fqt_inc.h5'.format(rootd), TimeUnit=1.0, OutputWorkspace='incSM')\n",
      "SassenaFFT(InputWorkspace='incSM', FFTonlyRealpart=1, DetailedBalance=1, Temp=200)\n",
      "Rebin(InputWorkspace='incSM_sqw', Params=[-0.2,0.0004,0.2], OutputWorkspace='incSM_sqw')\n",
      "ws=mtd['incSM_sqw']  # simulated S(Q,E)\n",
      "i0 = numpy.argmax(ws.dataY(0))\n",
      "nQ=ws.getNumberHistograms()\n",
      "for iQ in range(nQ):\n",
      "\tQ=0.03+0.02*iQ  #not neccessary but just to remind the Q-value\n",
      "\tSQE=ws.dataY(iQ)\n",
      "\tSQE[i0]=SQE[i0-1]   \n",
      "\tSQE[i0+1]=SQE[i0+2]\n",
      "ConvolveWorkspaces(Workspace1='elastic', Workspace2='incSM_sqw', OutputWorkspace='simSM')\n",
      "Scale(InputWorkspace='simSM', Factor=1.0e-05,Operation='Multiply', OutputWorkspace='simSM')\n",
      "##################################\n",
      "# Fit spectra against experiment\n",
      "##################################\n",
      "chi2=0.0\n",
      "for iQ in range(nQ-1,-1,-1):\n",
      "        fit_string  ='name=TabulatedFunction,Workspace=elastic,WorkspaceIndex={0},Scaling=1.0,Shift=0.0,XScaling=1,ties=(XScaling=1);'.format(iQ)\n",
      "        fit_string +='name=TabulatedFunction,Workspace=simSM,WorkspaceIndex={0},Scaling=1.0,Shift=0.0,XScaling=1,ties=(XScaling=1);'.format(iQ)\n",
      "        fit_string +='name=LinearBackground,A0=0.0,A1=0.0'\n",
      "        Fit(fit_string, InputWorkspace='exp200K', WorkspaceIndex=iQ, StartX=-0.13, EndX=0.10, CreateOutput = 1, Output= 'fit{0}'.format(iQ))\n",
      "        ws=mtd['fit{0}_Parameters'.format(iQ)]\n",
      "        nrows=ws.rowCount()\n",
      "        chi2 += ws.row(nrows-1)['Value']\n",
      "##################################\n",
      "# Save experimental and fitted spectra as ASCII\n",
      "##################################\n",
      "SaveAscii(InputWorkspace='exp200K',Filename='{0}/experiment.txt'.format(outd),Separator='Space',CommentIndicator='#',Version=1)\n",
      "ExtractSingleSpectrum(InputWorkspace='fit0_Workspace',WorkspaceIndex=1,OutputWorkspace='fitted')\n",
      "for iQ in range(1,nQ):\n",
      "    ExtractSingleSpectrum(InputWorkspace='fit{0}_Workspace'.format(iQ),WorkspaceIndex=1,OutputWorkspace='single')\n",
      "    AppendSpectra(InputWorkspace1='fitted', InputWorkspace2='single', OutputWorkspace='fitted')\n",
      "SaveAscii(InputWorkspace='fitted',Filename='{0}/fitted.txt'.format(outd),Separator='Space',CommentIndicator='#',Version=1)\n",
      "##################################\n",
      "# Save fitted parameters\n",
      "##################################\n",
      "for iQ in range(nQ):\n",
      "    buf='# Name Value Error\\n'\n",
      "    ws=mtd['fit{0}_Parameters'.format(iQ)]\n",
      "    for irow in range(ws.rowCount()):\n",
      "        row = ws.row(irow)\n",
      "        buf += '{0} {1} {2}\\n'.format(row['Name'], row['Value'], row['Error'])\n",
      "    open('{0}/params{1}.txt'.format(outd,iQ), 'w').write(buf)\n",
      "##################################\n",
      "# Save totla chi2\n",
      "##################################\n",
      "open('{0}/chi2.txt'.format(outd), 'w').write(str(chi2/nQ))"
     ],
     "language": "python",
     "metadata": {},
     "outputs": []
    },
    {
     "cell_type": "markdown",
     "metadata": {},
     "source": [
      "The script can be executed from the command line:"
     ]
    },
    {
     "cell_type": "code",
     "collapsed": false,
     "input": [
      "%%bash\n",
      "python fitting.py --help\n",
      "FrameworkManager-[Notice] Welcome to Mantid 3.5.0\n",
      "FrameworkManager-[Notice] Please cite: http://dx.doi.org/10.1016/j.nima.2014.07.029 and this release: http://dx.doi.org/10.5286/Software/Mantid3.5\n",
      "DownloadInstrument-[Notice] Internet Connection Failed - cannot update instrument definitions.\n",
      "usage: fitting.py [-h] [--outd OUTD] ind\n",
      "\n",
      "Fit simulated structure factor to experiment\n",
      "\n",
      "positional arguments:\n",
      "  ind          input directory (contains all input files)\n",
      "\n",
      "optional arguments:\n",
      "  -h, --help   show this help message and exit\n",
      "  --outd OUTD  output directory (default: input directory)"
     ],
     "language": "python",
     "metadata": {},
     "outputs": []
    },
    {
     "cell_type": "markdown",
     "metadata": {},
     "source": [
      "A detailed explanation of this script follows:"
     ]
    },
    {
     "cell_type": "code",
     "collapsed": false,
     "input": [
      "LoadNexus(Filename='{0}/elastic.nxs'.format(rootd), OutputWorkspace='elastic')\n",
      "LoadNexus(Filename='{0}/exp200K.nxs'.format(rootd), OutputWorkspace='exp200K')"
     ],
     "language": "python",
     "metadata": {},
     "outputs": []
    },
    {
     "cell_type": "markdown",
     "metadata": {},
     "source": [
      "Load into MantidPlot the experimental resolution file (<i>elastic.nxs</i>) and the experimental structure factor file <i>exp200K.nxs</i>. The file contains $S(Q,E)$ for a powser sample of mPOSS at T=200K. It contains 9 spectra, each at a different Q value. ($Q=$0.3, 0.5, 0.7,..,1.9) and defined in the energy domain $E=$[-0.15, 0.15]meV.  \n",
      "\n",
      "<center><a href=\"files/me8t8/mantid/supporting/refinement.5.png\"><img src=\"files/me8t8/mantid/supporting/refinement.5.png\" width=\"300\" height=\"300\" alt=\"refinement.5.png\"></a></center>\n"
     ]
    },
    {
     "cell_type": "code",
     "collapsed": false,
     "input": [
      "LoadSassena(Filename='{0}/fqt_inc.h5'.format(rootd), TimeUnit=1.0, OutputWorkspace='incSM')"
     ],
     "language": "python",
     "metadata": {},
     "outputs": []
    },
    {
     "cell_type": "markdown",
     "metadata": {},
     "source": [
      "For instance, for simulation with $K=0.02$, load Sassena output file <i>fqt_inc_run1_rms2first.h5</i> into workspace <code>incSMK0.02</code>.  \n",
      "\n",
      "Workspace <code>incSMK0.02_fqt.Re</code> contains as many spectra as the experimental $S(Q,E)$, and with the same Q-values. This facilitates comparison between simulation and experiment.\n",
      "\n",
      "<center><a href=\"files/me8t8/mantid/supporting/refinement.6.png\"><img src=\"files/me8t8/mantid/supporting/refinement.6.png\" width=\"600\" height=\"600\" alt=\"refinement.6.png\"></a></center>"
     ]
    },
    {
     "cell_type": "code",
     "collapsed": false,
     "input": [
      "SassenaFFT(InputWorkspace='incSM', FFTonlyRealpart=1, DetailedBalance=1, Temp=200)"
     ],
     "language": "python",
     "metadata": {},
     "outputs": []
    },
    {
     "cell_type": "markdown",
     "metadata": {},
     "source": [
      "Fourier transform $I(Q,t) \\rightarrow S(Q,E)$ with algorithm [SassenaFFT](http://docs.mantidproject.org/nightly/algorithms/SassenaFFT-v1.html). It will read in group workspace <code>incSMK0.2</code> and append workspace <code>incSMK0.02_sqw</code>"
     ]
    },
    {
     "cell_type": "code",
     "collapsed": false,
     "input": [
      "Rebin(InputWorkspace='incSM_sqw', Params=[-0.2,0.0004,0.2], OutputWorkspace='incSM_sqw')"
     ],
     "language": "python",
     "metadata": {},
     "outputs": []
    },
    {
     "cell_type": "markdown",
     "metadata": {},
     "source": [
      "The energy binning of the computed $S(Q,E)$ goes from $E_i=-2meV$ to $E_f=2meV$ with bin width $0.1\\mu eV$. This binning is different than the experimental binning ($E_i=-0.15meV$, $E_f=0.15meV$, bin-width=$0.4\\mu eV$), hence the rebinning step. Note that our final binnin has the same width than experiment, but over a slightly broader dynamic range. This is neccessary for the convolution step that will be performed later.\n",
      "\n",
      "<center><a href=\"files/me8t8/mantid/supporting/refinement.7.png\"><img src=\"files/me8t8/mantid/supporting/refinement.7.png\" width=\"600\" height=\"600\" alt=\"refinement.7.png\"></a></center>\n",
      "\n",
      "In the picture above it is shown $S(Q=1.9,E, K=0.2)$, with a prominent elastic line and a quasi-elastic broadening (notice the Log-scale).  \n",
      "\n",
      "The elastic line represents the <b>long-time self-correlation of the hydrogen atoms</b>. Accurately reproducing this long-time self-correlation is the weakest point in our simulations due to the disparity in simulated and experimental environment surrounding each mPOSS molecule:\n",
      "\n",
      "* In experiment each mPOSS molecule is surrounded by neighboring molecules $\\rightarrow$ slow caged diffusion of the center of mass\n",
      "* In simulations the mPOSS molecule is surrounded by vacuum, and we <b>removed</b> global rotations and translations to focus on the internal motions of the molecule.\n",
      "\n",
      "Our simulations cannot reproduce the diffusive motions of the molecule CoM. Thus, our elastic line will have a higher intensity than in experiments."
     ]
    },
    {
     "cell_type": "code",
     "collapsed": false,
     "input": [
      "ws=mtd['incSM_sqw']  # simulated S(Q,E)\n",
      "i0 = numpy.argmax(ws.dataY(0))\n",
      "nQ=ws.getNumberHistograms()\n",
      "for iQ in range(nQ):\n",
      "\tQ=0.03+0.02*iQ  #not neccessary but just to remind the Q-value\n",
      "\tSQE=ws.dataY(iQ)\n",
      "\tSQE[i0]=SQE[i0-1]   \n",
      "\tSQE[i0+1]=SQE[i0+2]"
     ],
     "language": "python",
     "metadata": {},
     "outputs": []
    },
    {
     "cell_type": "markdown",
     "metadata": {},
     "source": [
      "Remove the elastic line from the computed $S(Q,E)$. Later we will include an elastic line in our fitting model. We will treat the elastic line as an additional fitting parameter.\n",
      "\n",
      "* The first line will return a handle to the workspace <code>incSMK0.02_sqw</code>\n",
      "* For each spectrum, we will change the value of the elastic line (points 499 and 500) to the values of the respective neightboring points (498 and 501)\n",
      "\n",
      "<a href=\"files/me8t8/mantid/supporting/refinement.8.png\"><img src=\"files/me8t8/mantid/supporting/refinement.8.png\" width=\"300\" height=\"300\" alt=\"refinement.8.png\"></a> <a href=\"files/me8t8/mantid/supporting/refinement.9.png\"><img src=\"files/me8t8/mantid/supporting/refinement.9.png\" width=\"300\" height=\"300\" alt=\"refinement.9.png\"></a>"
     ]
    },
    {
     "cell_type": "code",
     "collapsed": false,
     "input": [
      "ConvolveWorkspaces(Workspace1='elastic', Workspace2='incSM_sqw', OutputWorkspace='simSM')"
     ],
     "language": "python",
     "metadata": {},
     "outputs": []
    },
    {
     "cell_type": "markdown",
     "metadata": {},
     "source": [
      "Convolve experimental resolution with computed $S(Q,E)$ <code>incSMK0.02_sqw</code> and store in workspace <code>simSMK0.02</code>. Notice that the dynamical range is now $[-0.15, 0.15]$ meV, that of the experimental resolution.\n",
      "\n",
      "<a href=\"files/me8t8/mantid/supporting/refinement.10.png\"><img src=\"files/me8t8/mantid/supporting/refinement.10.png\" width=\"300\" height=\"300\" alt=\"refinement.10.png\"></a> <a href=\"files/me8t8/mantid/supporting/refinement.11.png\"><img src=\"files/me8t8/mantid/supporting/refinement.11.png\" width=\"300\" height=\"300\" alt=\"refinement.11.png\"></a>"
     ]
    },
    {
     "cell_type": "code",
     "collapsed": false,
     "input": [
      "Scale(InputWorkspace='simSM', Factor=1.0e-05,Operation='Multiply', OutputWorkspace='simSM')"
     ],
     "language": "python",
     "metadata": {},
     "outputs": []
    },
    {
     "cell_type": "markdown",
     "metadata": {},
     "source": [
      "Notice the difference in order of magnitude of intensities between the simulated signal and the experimental data. We remove this disparity with a rescaling, because it has the potential to prevent the fitting from succeeding.\n",
      "\n",
      "<center><a href=\"files/me8t8/mantid/supporting/refinement.12.png\"><img src=\"files/me8t8/mantid/supporting/refinement.12.png\" width=\"400\" height=\"400\" alt=\"refinement.12.png\"></a></center>"
     ]
    },
    {
     "cell_type": "code",
     "collapsed": false,
     "input": [
      "chi2=0.0\n",
      "for iQ in range(nQ-1,-1,-1):\n",
      "        fit_string  ='name=TabulatedFunction,Workspace=elastic,WorkspaceIndex={0},Scaling=1.0,Shift=0.0,XScaling=1,ties=(XScaling=1);'.format(iQ)\n",
      "        fit_string +='name=TabulatedFunction,Workspace=simSM,WorkspaceIndex={0},Scaling=1.0,Shift=0.0,XScaling=1,ties=(XScaling=1);'.format(iQ)\n",
      "        fit_string +='name=LinearBackground,A0=0.0,A1=0.0'\n",
      "        Fit(fit_string, InputWorkspace='exp200K', WorkspaceIndex=iQ, StartX=-0.13, EndX=0.10, CreateOutput = 1, Output= 'fit{0}'.format(iQ))\n",
      "        ws=mtd['fit{0}_Parameters'.format(iQ)]\n",
      "        nrows=ws.rowCount()\n",
      "        chi2 += ws.row(nrows-1)['Value']"
     ],
     "language": "python",
     "metadata": {},
     "outputs": []
    },
    {
     "cell_type": "markdown",
     "metadata": {},
     "source": [
      "This is our fitting model. Instead of using the graphical interface, we can write it out as a (complex) string.\n",
      "\n",
      "<center>$S_{model}(Q,E) = I_{el}\\cdot R(Q,E) + I_{QE}\\cdot S_{sim}(Q,E) + (aE+b)$</center>  \n",
      "\n",
      "$I_{el}\\cdot R(Q,E)$ is the elastic line which we removed from the computed $S(Q,E)$\n",
      "\n",
      "$I_{QE}\\cdot S_{sim}(Q,E)$ is the simulated structure factor\n",
      "\n",
      "We loop over all spectra, and save the cummulative $\\chi^2$ value."
     ]
    },
    {
     "cell_type": "code",
     "collapsed": false,
     "input": [
      "SaveAscii(InputWorkspace='exp200K',Filename='{0}/experiment.txt'.format(outd),Separator='Space',CommentIndicator='#',Version=1)"
     ],
     "language": "python",
     "metadata": {},
     "outputs": []
    },
    {
     "cell_type": "markdown",
     "metadata": {},
     "source": [
      "Save experimental data to file <code>experiment.txt</code>. The columns of the file:  \n",
      "<pre>#X , Y0 , E0 , Y1 , E1 , Y2 ,...</pre>\n",
      "\n",
      "* X abcissa\n",
      "* Y0, E0, Ordinate and error for first spectrum\n",
      "* Y1, E1, ordinate and error for second scpectrum\n",
      "* ..."
     ]
    },
    {
     "cell_type": "code",
     "collapsed": false,
     "input": [
      "ExtractSingleSpectrum(InputWorkspace='fit0_Workspace',WorkspaceIndex=1,OutputWorkspace='fitted')\n",
      "for iQ in range(1,nQ):\n",
      "    ExtractSingleSpectrum(InputWorkspace='fit{0}_Workspace'.format(iQ),WorkspaceIndex=1,OutputWorkspace='single')\n",
      "    AppendSpectra(InputWorkspace1='fitted', InputWorkspace2='single', OutputWorkspace='fitted')\n",
      "SaveAscii(InputWorkspace='fitted',Filename='{0}/fitted.txt'.format(outd),Separator='Space',CommentIndicator='#',Version=1)"
     ],
     "language": "python",
     "metadata": {},
     "outputs": []
    },
    {
     "cell_type": "markdown",
     "metadata": {},
     "source": [
      "Save fitted spectra to file <code>fitted.txt</code>. The meaning of the columns of the file are the same as for <code>experiment.txt</code>."
     ]
    },
    {
     "cell_type": "code",
     "collapsed": false,
     "input": [
      "for iQ in range(nQ):\n",
      "    buf='# Name Value Error\\n'\n",
      "    ws=mtd['fit{0}_Parameters'.format(iQ)]\n",
      "    for irow in range(ws.rowCount()):\n",
      "        row = ws.row(irow)\n",
      "        buf += '{0} {1} {2}\\n'.format(row['Name'], row['Value'], row['Error'])\n",
      "    open('{0}/params{1}.txt'.format(outd,iQ), 'w').write(buf)"
     ],
     "language": "python",
     "metadata": {},
     "outputs": []
    },
    {
     "cell_type": "markdown",
     "metadata": {},
     "source": [
      "Every spectrum that was fitted ended up with optimized model parameters, which we save to files <code>params0.txt</code> for the fitting of the first spectrum, <code>params1.txt</code> for the fitting of the second spectrum, and so on."
     ]
    },
    {
     "cell_type": "code",
     "collapsed": false,
     "input": [
      "open('{0}/chi2.txt'.format(outd), 'w').write(str(chi2/nQ))"
     ],
     "language": "python",
     "metadata": {},
     "outputs": []
    },
    {
     "cell_type": "markdown",
     "metadata": {},
     "source": [
      "Save the $\\chi^2$ value averaged over all fitted spectra."
     ]
    },
    {
     "cell_type": "markdown",
     "metadata": {},
     "source": [
      "(<a href='#Table of Contents'>Top</a>)<a id='meetings'></a><h2>Meetings</h2>"
     ]
    },
    {
     "cell_type": "markdown",
     "metadata": {},
     "source": [
      "(<a href='#Table of Contents'>Top</a>)<a id='meetings.20151027'></a><h3>October 27 2015</h3>\n",
      "We went over the details of the workflow:\n",
      "\n",
      "* NAMD \n",
      "  + requires the input files in some user's directory\n",
      "  + Also a PBS script\n",
      "  + templated force field\n",
      "* Install AmberTools\n",
      "* SASSENA\n",
      "  + PBS script\n",
      "* Mantid\n",
      "  + write python script with command line arguments.\n",
      "  + one of the output arguments should be an output directory\n",
      "  + output fitted spectra written as ASCII files\n",
      "  + table of optimized parameters written as ACCII files."
     ]
    },
    {
     "cell_type": "code",
     "collapsed": false,
     "input": [],
     "language": "python",
     "metadata": {},
     "outputs": []
    }
   ],
   "metadata": {}
  }
 ]
}