{
 "metadata": {
  "name": "",
  "signature": "sha256:295a715c5448fb10a694fdf78ed7addeae62f82997044ecdeccd377bb885054c"
 },
 "nbformat": 3,
 "nbformat_minor": 0,
 "worksheets": [
  {
   "cells": [
    {
     "cell_type": "markdown",
     "metadata": {},
     "source": [
      "<h1>BEAMfitQENSf</h1>\n",
      "<a id='Table of Contents'></a><h3>Table of Contents</h3>\n",
      "<a href='#People'>People</a>  \n",
      "<a href='#Goals'>Goals</a>  \n",
      "\n",
      "<a href='#meetings'><h4>Meetings</h4></a>  \n",
      "\n",
      "* <a href='#meetings.20151027'>October 27 2015</a>\n"
     ]
    },
    {
     "cell_type": "markdown",
     "metadata": {},
     "source": [
      "(<a href='#Table of Contents'>Top</a>)<a id='People'></a><h3>People</h3>\n",
      "\n",
      "* Byung-Hoon Park\n",
      "* Eric J. Lingerfelt"
     ]
    },
    {
     "cell_type": "markdown",
     "metadata": {},
     "source": [
      "(<a href='#Table of Contents'>Top</a>)<a id='Goals'></a><h3>Goals</h3>\n",
      "Create a workflow that fits simulated against experimental structure factor. The BEAM and CADES infrastructures are employed."
     ]
    },
    {
     "cell_type": "markdown",
     "metadata": {},
     "source": [
      "(<a href='#Table of Contents'>Top</a>)<a id='meetings'></a><h2>Meetings</h2>"
     ]
    },
    {
     "cell_type": "markdown",
     "metadata": {},
     "source": [
      "(<a href='#Table of Contents'>Top</a>)<a id='meetings.20151027'></a><h3>October 27 2015</h3>\n",
      "We went over the details of the workflow:\n",
      "\n",
      "* NAMD \n",
      "  + requires the input files in some user's directory\n",
      "  + Also a PBS script\n",
      "  + templated force field\n",
      "* Install AmberTools\n",
      "* SASSENA\n",
      "  + PBS script\n",
      "* Mantid\n",
      "  + write python script with command line arguments.\n",
      "  + one of the output arguments should be an output directory\n",
      "  + output fitted spectra written as ASCII files\n",
      "  + table of optimized parameters written as ACCII files."
     ]
    },
    {
     "cell_type": "code",
     "collapsed": false,
     "input": [],
     "language": "python",
     "metadata": {},
     "outputs": []
    }
   ],
   "metadata": {}
  }
 ]
}