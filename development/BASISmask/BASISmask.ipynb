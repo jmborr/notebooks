{
 "metadata": {
  "name": ""
 },
 "nbformat": 3,
 "nbformat_minor": 0,
 "worksheets": [
  {
   "cells": [
    {
     "cell_type": "markdown",
     "metadata": {},
     "source": [
      "<h1>BASIS mask</h1>\n",
      "<a id='Table of Contents'></a><h3>Table of Contents</h3>\n",
      "<a href='#Syntax'>HTML and markdown syntax examples</a></br>\n",
      "<a href='#meet20140130'>Meeting January 30, 2014</a></br>\n",
      "<a href='#t11811'><h4>Trac tiket 11811: Assign dimensions to the dectectors in the BASIS instrument file</h4></a>\n",
      "\n",
      "* <a href='#t11811.branch'>Create ticket and branch</a></br>\n",
      "* <a href='#t11811.elastic'>Coordinates of tubes for elastic detectors</a></br>"
     ]
    },
    {
     "cell_type": "markdown",
     "metadata": {},
     "source": [
      "(<a href='#Table of Contents'>Top</a>)<a id='Syntax'></a><h3>HTML and markdown syntax examples</h3>\n",
      "local link: [link](files/link)</br>\n",
      "remote link: <a href=\"http://ambermd.org/\">http://ambermd.org</a>\n",
      "<font face=\"courier new\"> font face=\"courier new\" </font><br/>\n",
      "$$S_{model}(Q,E)=A(Q)\\cdot S_{elastic}(E) + B(Q)\\cdot S_{simulation}(Q,E)\\otimes S_{elastic}(E) + C(Q)+D(Q)\\cdot E$$\n",
      "<pre> Quoted text </pre>\n",
      "<table><tr>\n",
      "<td><a href=\"files/image.png\"><img src=\"files/image.png\" width=\"300\" height=\"250\" alt=\"image here\"></a> <br/>\n",
      "    <i>image caption</i></td>\n",
      "<td>some text</td>\n",
      "</tr><table>"
     ]
    },
    {
     "cell_type": "markdown",
     "metadata": {},
     "source": [
      "(<a href='#Table of Contents'>Top</a>)<a id='meet20140130'></a><h3>Meeting January 30, 2014</h3>\n",
      "* Default mask file masks all the \"North\" banks.\n",
      "\n",
      "* GUI to create mask file by typing selection of (ranges of) pixels, tubes and banks. Long term solution: modify the instrument definition file (IDF) so that algorithm maskBTP can load it.\n",
      "\n",
      "* Mask pixels according to intensity. For instance, mask pixels containing Bragg peaks by shunning all pixels above certain intensity.\n",
      "\n",
      "* Temporary solution: a converter or loader of the ROI files produced by the IDL masking software. This way the instrument scientist uses the IDL software and the converts to a Mantid masking file, or just load the ROI file into Mantid.\n",
      "\n",
      "* Instrument view of BASIS is bad because pixels look like points, they don't have cross-section"
     ]
    },
    {
     "cell_type": "markdown",
     "metadata": {},
     "source": [
      "(<a href='#Table of Contents'>Top</a>)<a id='t11811'></a><h2>Trac tiket [11811](http://trac.mantidproject.org/mantid/ticket/11811): Assign dimensions to the dectectors in the BASIS instrument file</h2>\n",
      "\n",
      "Current detectors lack proper dimensions. Thus the view instrument renders the detectors with boundaries not touching each other. Instead, there is a lot of \"empty space\" between contiguous detectors. This severely diminishes the usefulness of the view instrument, specially when selecting regions of interest."
     ]
    },
    {
     "cell_type": "markdown",
     "metadata": {},
     "source": [
      "(<a href='#Table of Contents'>Top</a>)<a id='t11811.branch'></a><h3>Create ticket and branch</h3>\n",
      "Ticket: http://trac.mantidproject.org/mantid/ticket/11811, \"Change SensorA as default log in IDA.ELWIN for BASIS\"\n",
      "Branch: 11811_BASIS_pixels_xyz</br>\n",
      "<code>git checkout --no-track -b 11811_BASIS_pixels_xyz origin/master</code>\n",
      "\n",
      "Pushing to remote repository: <code>git push origin 11811_BASIS_pixels_xyz/code>"
     ]
    },
    {
     "cell_type": "markdown",
     "metadata": {},
     "source": [
      "(<a href='#Table of Contents'>Top</a>)<a id='t11811.elastic'></a><h3>Coordinates of tubes for elastic detectors</h3>\n",
      "The elastic tubes are arranged in the XZ-plane. In the plot below we see neutronic positions of BASIS detectors from the Y+ axis. The elastic tubes are the array of nine white lines crossing the X-axis (the red line):<br/>\n",
      "\n",
      "<center><a href=\"files/t11811/elastic_tubes/elastic_tubes_view.png\"><img src=\"files/t11811/elastic_tubes/elastic_tubes_view.png\" width=\"300\" height=\"300\" alt=\"t11811/elastic_tubes/elastic_tubes_view.png\"></a><br/><i>t11811/elastic_tubes/elastic_tubes_view.png</i></center>\n",
      "\n",
      "\n",
      "Marie gave me the following info for the coordinates of the elastic tubes:\n",
      "<center><a href=\"files/t11811/elastic_tubes/elastic_tubes_coordinates.png\"><img src=\"files/t11811/elastic_tubes/elastic_tubes_coordinates.png\" width=\"600\" height=\"700\" alt=\"t11811/elastic_tubes/elastic_tubes_coordinates.png\"></a><br/><i>t11811/elastic_tubes/elastic_tubes_coordinates.png</i></center>\n",
      "\n",
      "The first four coordinates correspond to extremes in the tubes"
     ]
    }
   ],
   "metadata": {}
  }
 ]
}