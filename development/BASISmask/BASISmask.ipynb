{
 "metadata": {
  "name": ""
 },
 "nbformat": 3,
 "nbformat_minor": 0,
 "worksheets": [
  {
   "cells": [
    {
     "cell_type": "markdown",
     "metadata": {},
     "source": [
      "<h1>BASIS mask</h1>\n",
      "<a id='Table of Contents'></a><h3>Table of Contents</h3>\n",
      "<a href='#Syntax'>HTML and markdown syntax examples</a></br>\n",
      "<a href='#meet20140130'>Meeting January 30, 2014</a></br>\n",
      "<a href='#t11811'><h4>Trac ticket 11811: Assign dimensions to the dectectors in the BASIS instrument file</h4></a>\n",
      "\n",
      "* <a href='#t11811.branch'>Create ticket and branch</a></br>\n",
      "* <a href='#t11811.elastic'>Coordinates of tubes for elastic detectors</a></br>\n",
      "* <a href='#t11811.inelastic'>Coordinate info for inelastic detectors</a></br>\n",
      "* <a href='#t11811.mapping'>Mapping between pixel ID and detector ID</a></br>\n",
      "* <a href='#t11811.proposed'>Proposed fake coordinates and dimensions for the tubes</a></br>\n",
      "* <a href='#t11811.implementation'>Implementation of the proposed fake coordinates and dimensions for the tubes</a></br>\n",
      "* <a href='#t11811.oldIDF'>Editing and renaming of previous IDF</a></br>\n",
      "* <a href='#t11811.test'>Testing the ticket</a></br>"
     ]
    },
    {
     "cell_type": "markdown",
     "metadata": {},
     "source": [
      "(<a href='#Table of Contents'>Top</a>)<a id='Syntax'></a><h3>HTML and markdown syntax examples</h3>\n",
      "local link: [link](files/link)</br>\n",
      "remote link: <a href=\"http://ambermd.org/\">http://ambermd.org</a>\n",
      "<font face=\"courier new\"> font face=\"courier new\" </font><br/>\n",
      "$$S_{model}(Q,E)=A(Q)\\cdot S_{elastic}(E) + B(Q)\\cdot S_{simulation}(Q,E)\\otimes S_{elastic}(E) + C(Q)+D(Q)\\cdot E$$\n",
      "<pre> Quoted text </pre>\n",
      "<table><tr>\n",
      "<td><a href=\"files/image.png\"><img src=\"files/image.png\" width=\"300\" height=\"250\" alt=\"image here\"></a> <br/>\n",
      "    <i>image caption</i></td>\n",
      "<td>some text</td>\n",
      "</tr><table>"
     ]
    },
    {
     "cell_type": "markdown",
     "metadata": {},
     "source": [
      "(<a href='#Table of Contents'>Top</a>)<a id='meet20140130'></a><h3>Meeting January 30, 2014</h3>\n",
      "* Default mask file masks all the \"North\" banks.\n",
      "\n",
      "* GUI to create mask file by typing selection of (ranges of) pixels, tubes and banks. Long term solution: modify the instrument definition file (IDF) so that algorithm maskBTP can load it.\n",
      "\n",
      "* Mask pixels according to intensity. For instance, mask pixels containing Bragg peaks by shunning all pixels above certain intensity.\n",
      "\n",
      "* Temporary solution: a converter or loader of the ROI files produced by the IDL masking software. This way the instrument scientist uses the IDL software and the converts to a Mantid masking file, or just load the ROI file into Mantid.\n",
      "\n",
      "* Instrument view of BASIS is bad because pixels look like points, they don't have cross-section"
     ]
    },
    {
     "cell_type": "markdown",
     "metadata": {},
     "source": [
      "(<a href='#Table of Contents'>Top</a>)<a id='t11811'></a><h2>Trac ticket [11811](http://trac.mantidproject.org/mantid/ticket/11811): Assign dimensions to the dectectors in the BASIS instrument file</h2>\n",
      "\n",
      "Current detectors lack proper dimensions. Thus the view instrument renders the detectors with boundaries not touching each other. Instead, there is a lot of \"empty space\" between contiguous detectors. This severely diminishes the usefulness of the view instrument, specially when selecting regions of interest."
     ]
    },
    {
     "cell_type": "markdown",
     "metadata": {},
     "source": [
      "(<a href='#Table of Contents'>Top</a>)<a id='t11811.branch'></a><h3>Create ticket and branch</h3>\n",
      "Ticket: http://trac.mantidproject.org/mantid/ticket/11811, \"Change SensorA as default log in IDA.ELWIN for BASIS\"\n",
      "Branch: 11811_BASIS_pixels_xyz</br>\n",
      "<code>git checkout --no-track -b 11811_BASIS_pixels_xyz origin/master</code>\n",
      "\n",
      "Pushing to remote repository: <code>git push origin 11811_BASIS_pixels_xyz/code>"
     ]
    },
    {
     "cell_type": "markdown",
     "metadata": {},
     "source": [
      "(<a href='#Table of Contents'>Top</a>)<a id='t11811.elastic'></a><h3>Coordinates of tubes for elastic detectors</h3>\n",
      "The elastic tubes are arranged in the XZ-plane. In the plot below we see neutronic positions of BASIS detectors from the Y+ axis. The elastic tubes are the array of nine white lines crossing the X-axis (the red line):<br/>\n",
      "\n",
      "<center><a href=\"files/t11811/elastic_tubes/elastic_tubes_view.png\"><img src=\"files/t11811/elastic_tubes/elastic_tubes_view.png\" width=\"200\" height=\"200\" alt=\"t11811/elastic_tubes/elastic_tubes_view.png\"></a><br/><i>t11811/elastic_tubes/elastic_tubes_view.png</i></center>\n",
      "\n",
      "\n",
      "Marie gave me the following info for the coordinates of the elastic tubes:\n",
      "<center><a href=\"files/t11811/elastic_tubes/elastic_tubes_coordinates.png\"><img src=\"files/t11811/elastic_tubes/elastic_tubes_coordinates.png\" width=\"600\" height=\"700\" alt=\"t11811/elastic_tubes/elastic_tubes_coordinates.png\"></a><br/><i>t11811/elastic_tubes/elastic_tubes_coordinates.png</i></center>\n",
      "\n",
      "The first four coordinates correspond to extremes in the tubes"
     ]
    },
    {
     "cell_type": "markdown",
     "metadata": {},
     "source": [
      "(<a href='#Table of Contents'>Top</a>)<a id='t11811.inelastic'></a><h3>Coordinate info for inelastic detectors</h3>\n",
      "\n",
      "Eugene sent me file [BSS_geom_Si111_2008_02_11.nxs](files/t11811/BSS_geom_Si111_2008_02_11.nxs) containing info on the physical coordinates of detectors, although it is not clear. It contains polar coordinates as well as cartesian coordinates. There is no explanation of these coordinates, so it is unclear how to uniquely define them."
     ]
    },
    {
     "cell_type": "markdown",
     "metadata": {},
     "source": [
      "(<a href='#Table of Contents'>Top</a>)<a id='t11811.mapping'></a><h3>Mapping between pixel ID and detector ID</h3>\n",
      "The number that identifies every detector used by the IDL application written by Jean Bilheux, which we term \"pixel ID\", is different than the number used in the Mantid instrument definition file, which we term \"detector ID\".\n",
      "\n",
      "Eugene sent me file [files/t11811/](BSS_TS_2011_08_06_detector_map.xls) to map pixel and detector ID's for the South banks (also called \"left\" banks because they are located to the left when looking towards the sample from upstream along the beam). Below is a chunk of the left-top bank.\n",
      "\n",
      "<center><a href=\"files/t11811/mapping_example.png\"><img src=\"files/t11811/mapping_example.png\" width=\"300\" height=\"300\" alt=\"t11811/mapping_example.png\"></a><br/><i>t11811/mapping_example.png</i></center>\n"
     ]
    },
    {
     "cell_type": "markdown",
     "metadata": {},
     "source": [
      "(<a href='#Table of Contents'>Top</a>)<a id='t11811.proposed'></a><h3>Proposed fake coordinates and dimensions for the tubes</h3>\n",
      "After a talk with Eugene it seems that for the purposes of viewing the instrument, fake coordinates and fake tube dimensions are actually a better solution than  real coordinates and real tube dimensions. Thus I propose to lay the fake tubes at the same distance from the sample than the diffraction tubes, that is, the fake tubes will be laid on the inner surface of the BASIS tank. This should  produce a view of both the diffraction and indirect tubes pleasing to the eye. I will make sure the tubes diameter is such that there are no gaps between adjacent tubes, so that we can dispense with the black gaps currently showing around each detector.\n",
      "\n",
      "<center><a href=\"files/t11811/proposed_view.png\"><img src=\"files/t11811/proposed_view.png\" width=\"300\" height=\"300\" alt=\"t11811/proposed_view.png\"></a><br/><i>t11811/proposed_view.png, [proposed_view.pptx](files/t11811/proposed_view.pptx)</i></center>\n"
     ]
    },
    {
     "cell_type": "markdown",
     "metadata": {},
     "source": [
      "(<a href='#Table of Contents'>Top</a>)<a id='t11811.implementation'></a><h3>Implementation of the proposed fake coordinates and dimensions for the tubes</h3>\n",
      "New script [basis_geometry.py](files/t11811/basis_geometry.py) positions the tubes as the same distance from the sample as the diffraction tubes.\n",
      "\n",
      "Example taken from run 41436 from IPTS-9332, which contains a Bragg peak before and after masking the peak\n",
      "\n",
      "<center><table><tr>\n",
      "<td><center><a href=\"files/t11811/IPTS9332_run41436.png\"><img src=\"files/t11811/IPTS9332_run41436.png\" width=\"300\" height=\"300\" alt=\"t11811/IPTS9332_run41436.png\"></a><br/><i>t11811/IPTS9332_run41436.png</i></center></td>\n",
      "<td><center><a href=\"files/t11811/IPTS9332_run41436_masked.png\"><img src=\"files/t11811/IPTS9332_run41436_masked.png\" width=\"300\" height=\"300\" alt=\"t11811/IPTS9332_run41436_masked.png\"></a><br/><i>t11811/IPTS9332_run41436_masked.png</i></center></td>\n",
      "</tr></table></center>\n",
      "\n",
      "Some obscure remarks of the new instrument file:\n",
      "\n",
      "* Set <i>indirect</i> flag to true (<code>det.addSnsDefaults(indirect=True)</code>)\n",
      "* Add neutronic positions to monitors (<code>det.addMonitors(names=[\"monitor1\"], distance=[\"-0.23368\"], neutronic=True)</code>)\n",
      "\n",
      "Figuring out the above remarks required considerable debugging. A remnant of those effors are scripts [reduce_BSS_verbose.py](files/t11811/reduce_BSS_verbose.py) and [inspect_convertunits.py](files/t11811/inspect_convertunits.py)\n",
      "\n",
      "Another remark: The size of the IDF for BASIS is more than 1MB. To push this large file into the mantid repository we have to commit with the <i>--no-verify</i> option:\n",
      "\n",
      "<code> git commit --no-verify</code>"
     ]
    },
    {
     "cell_type": "markdown",
     "metadata": {},
     "source": [
      "(<a href='#Table of Contents'>Top</a>)<a id='t11811.oldIDF'></a><h3>Editing and renaming of previous IDF</h3>\n",
      "We create the new instrument file just by running script [basis_geometry.py](files/t11811/basis_geometry.py) from within the <i>mantidproject/mantidgeometry</i> repository. File <i>BASIS_Definition.xml</i> is created, and then wd move it to the mantid instrument repository (<i>mantidproject/mantid/Code/Mantid/instrument/</i>) with name <i>BASIS_Definition_20140101-.xml</i>.\n",
      "\n",
      "In the mantid instrument repository, we rename the current IDF, <i>BASIS_Definition_20130121-.xml</i>, as <i>BASIS_Definition_20130121-20131231.xml</i>. We edit this file to set its <i>valid-to</i> date to <i>2013-12-31 23:59:59</i>."
     ]
    },
    {
     "cell_type": "markdown",
     "metadata": {},
     "source": [
      "(<a href='#Table of Contents'>Top</a>)<a id='t11811.test'></a><h3>Testing the ticket</h3>\n",
      "Directory <i>/projects/development/BASISmask/t11811/test</i> contains the test, which is ran with script [reduce_BSS.py](files/t11811/test/reduce_BSS.py). The test will reduce event file <i>BSS_47884_event.nxs</i> and ask for a visual comparison by plotting spectra of reduced file <i>BSS_47884_silicon111sqw.nxs</i> and of <i>old/BSS_47884_silicon111sqw.nxs</i>, which is the reduction with the previous instrument definition file."
     ]
    }
   ],
   "metadata": {}
  }
 ]
}