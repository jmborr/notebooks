{
 "metadata": {
  "name": "",
  "signature": "sha256:c64fff560e970be7ba0a66abe8487113c2e5740e69c1ced284a4e76be083293c"
 },
 "nbformat": 3,
 "nbformat_minor": 0,
 "worksheets": [
  {
   "cells": [
    {
     "cell_type": "markdown",
     "metadata": {},
     "source": [
      "<h1>BASIS reduction</h1>\n",
      "\n",
      "<a id='Table of Contents'></a><h3>Table of Contents</h3>  \n",
      "<a href='#Collaborators'>Collaborators</a>  \n",
      "<a href='#Goals'>Goals</a>  \n",
      "\n",
      "<a id='previous'></a>Previous work to this notebook  \n",
      "<a href='#previous.docx'>Word file</a>  \n",
      "\n",
      "<a id='issues'></a>Github issues  \n",
      "<a href='#issues.15495'>Add an option in the BASISreduction algorithm to divide the structure factor by vanadium data</a>  \n",
      "\n",
      "<a href='#Syntax'>HTML and MARKDOWN SYNTAX EXAMPLES</a></br>"
     ]
    },
    {
     "cell_type": "markdown",
     "metadata": {},
     "source": [
      "(<a href='#Table of Contents'>Top</a>)<a id='Collaborators'></a><h3>Collaborators</h3>\n",
      "\n",
      "* Eugene Mamontov\n",
      "* Souleymane Diallo\n",
      "* Stuart Campbell\n",
      "* Andrei Savici"
     ]
    },
    {
     "cell_type": "markdown",
     "metadata": {},
     "source": [
      "(<a href='#Table of Contents'>Top</a>)<a id='Goals'></a><h3>Goals</h3>\n",
      "\n",
      "Improvements in the BASISredution.py algorithm in Mantid"
     ]
    },
    {
     "cell_type": "markdown",
     "metadata": {},
     "source": [
      "(<a href='#previous'>Top</a>)<a id='previous.docx'></a><h3>Word file</h3>\n",
      "\n",
      "[README_BASIS_reduction.docx](files/README_BASIS_reduction.docx)"
     ]
    },
    {
     "cell_type": "markdown",
     "metadata": {},
     "source": [
      "(<a href='#issues'>Top</a>)<a id='issues.15495'></a><h3>Add an option in the BASISreduction algorithm to divide the structure factor by vanadium data</h3>\n",
      "[Issue 15495](https://github.com/mantidproject/mantid/issues/15495)  \n",
      "[Pull Request 15536](https://github.com/mantidproject/mantid/pull/15536)\n",
      "\n",
      "<b>Testing</b>:  \n",
      "We have BASIS event files under subdirectory <i>i15495/test1</i>. Thus, we add this directory as one of the data directories where algorithm <code>Load</code> will search when provided with run numbers.  \n",
      "\n",
      "Ouput reduced files with the new <code>BASISreduction.py</code> algorithm are saved in subdirectory <i>i15495/reduce_with_new/</i>. Thus, we add this directory as the default save directory. See here:\n",
      "\n",
      "<center><a href=\"files/i15495/supporting/userDirectories.png\"><img src=\"files/i15495/supporting/userDirectories.png\" width=\"600\" height=\"600\" alt=\"i15495/supporting/userDirectories.png\"></a><i>i15495/supporting/userDirectories.png</i></center>\n",
      "\n",
      "Script [callBASISReduction.py](files/i15495/reduce_with_new/callBASISReduction.py) carries out reduction of a sample run (33207) and reduction of the same sample dividing by vanadium (32264). Also, it loads the reduced file for the sample with the previous BASISreduction algorithm. This way we can compare old and new versions. The script also loads the reduced file for the vanadium and does the division to yield a divided file for the old algorithm that we can compare with results from the new version.\n",
      "\n",
      "We have updated the documentation with a fancy diagram showing the steps reducing the data as a workflow"
     ]
    },
    {
     "cell_type": "markdown",
     "metadata": {},
     "source": [
      "(<a href='#Table of Contents'>Top</a>)<a id='Syntax'></a><h3>Syntax Examples</h3>\n",
      "local link: [link](files/link)</br>\n",
      "remote link: <a href=\"http://ambermd.org/\">http://ambermd.org</a>\n",
      "<font face=\"courier new\"> font face=\"courier new\" </font><br/>\n",
      "$$S_{model}(Q,E)=A(Q)\\cdot S_{elastic}(E) + B(Q)\\cdot S_{simulation}(Q,E)\\otimes S_{elastic}(E) + C(Q)+D(Q)\\cdot E$$\n",
      "<pre> Quoted text </pre>\n",
      "<center><table><tr>\n",
      "<td><a href=\"files/image.png\"><img src=\"files/image.png\" width=\"300\" height=\"250\" alt=\"image here\"></a> <br/>\n",
      "    <i>image caption</i></td>\n",
      "<td>some text</td>\n",
      "</tr></table></center>"
     ]
    },
    {
     "cell_type": "code",
     "collapsed": false,
     "input": [],
     "language": "python",
     "metadata": {},
     "outputs": []
    }
   ],
   "metadata": {}
  }
 ]
}