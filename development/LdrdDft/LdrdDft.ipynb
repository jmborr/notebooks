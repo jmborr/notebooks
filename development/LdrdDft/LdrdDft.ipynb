{
 "metadata": {
  "name": "",
  "signature": "sha256:61c0fbfd656da0101a745e69b0bd7a5f1e2631a7f05f20bfd277773d1996e736"
 },
 "nbformat": 3,
 "nbformat_minor": 0,
 "worksheets": [
  {
   "cells": [
    {
     "cell_type": "markdown",
     "metadata": {},
     "source": [
      "<h1>LdrdDft</h1>\n",
      "<a id='Table of Contents'></a><h3>Table of Contents</h3>\n",
      "<a href='#Syntax'>HTML and MARKDOWN SYNTAX EXAMPLES</a></br>\n",
      "<a href='#People'>People</a></br>\n",
      "<a href='#Goal'>Goal</a></br>\n",
      "&nbsp;&nbsp;&nbsp;&nbsp;&nbsp;"
     ]
    },
    {
     "cell_type": "markdown",
     "metadata": {},
     "source": [
      "(<a href='#Table of Contents'>Top</a>)<a id='Syntax'></a><h3>Syntax Examples</h3>\n",
      "local link: [link](files/link)</br>\n",
      "remote link: <a href=\"http://ambermd.org/\">http://ambermd.org</a>\n",
      "<font face=\"courier new\"> font face=\"courier new\" </font><br/>\n",
      "$$S_{model}(Q,E)=A(Q)\\cdot S_{elastic}(E) + B(Q)\\cdot S_{simulation}(Q,E)\\otimes S_{elastic}(E) + C(Q)+D(Q)\\cdot E$$\n",
      "<pre> Quoted text </pre>\n",
      "<center><table><tr>\n",
      "<td><center><a href=\"files/image.png\"><img src=\"files/image.png\" width=\"300\" height=\"250\" alt=\"image here\"></a> <br/><i>image caption</i></center></td>\n",
      "<td><center>some text</center></td>\n",
      "</tr></table></center>"
     ]
    },
    {
     "cell_type": "markdown",
     "metadata": {},
     "source": [
      "(<a href='#Table of Contents'>Top</a>)<a id='People'></a><h3>People</h3>\n",
      "\n",
      "- Jay Jay Billings, billingsjj@ornl.gov\n",
      "- Garrett Granroth, granrothge@ornl.gov\n",
      "- Stuart Campbell, campbellsi@ornl.gov\n",
      "- Timmy Ramirez-Cuesta, ramirezcueaj@ornl.gov"
     ]
    },
    {
     "cell_type": "markdown",
     "metadata": {},
     "source": [
      "(<a href='#Table of Contents'>Top</a>)<a id='Goal'></a><h3>Goal</h3>\n",
      "Develop a platform to compare simulations to experiments carried out at VISION beamline.\n",
      "\n",
      "An LDRD pre-proposal, [billings_advMat_LDRDPP.pdf](files/preproposal/billings_advMat_LDRDPP.pdf) was submitted to LOIS as \n",
      "<a href=\"https://portal01.ornl.gov/sites/ippm/ldrd/proposals/default.aspx?ProjectID=7888\">project 7888</a>"
     ]
    }
   ],
   "metadata": {}
  }
 ]
}