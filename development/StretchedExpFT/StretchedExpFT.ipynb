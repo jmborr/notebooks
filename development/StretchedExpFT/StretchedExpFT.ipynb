{
 "metadata": {
  "name": "",
  "signature": "sha256:221372244125633088f7e125de0ac0b5d4e36574aadfb450f67affe92893abbe"
 },
 "nbformat": 3,
 "nbformat_minor": 0,
 "worksheets": [
  {
   "cells": [
    {
     "cell_type": "markdown",
     "metadata": {},
     "source": [
      "<h1>Fourier transform of the stretched exponential function</h1>\n",
      "\n",
      "<a id='Table of Contents'></a><h3>Table of Contents</h3>  \n",
      "<a href='#Setup'>Setup (imports)</a>  \n",
      "<a href='#Collaborators'>Collaborators</a>  \n",
      "<a href='#Goals'>Goals</a>  \n",
      "\n",
      "<a id='FFTalgorithm'></a><b>Python algorithm using FFT</b>  \n",
      "<a href='#FFTalgorithm.benchmark'>Benchmark with Experimental Data</a>  \n",
      "<a href='#FFTalgorithm.extent'>Increase extent of time</a>  \n",
      "<a href='#FFTalgorithm.testing'>Testing with a Lorentzian and Gaussian</a>  \n",
      "\n",
      "<a id='KenImplementation'></a><b>Ken's implementation</b>  \n",
      "<a href='#KenImplementation.algorithm'>Description of Ken's implementation</a>  \n",
      "<a href='#KenImplementation.tabulated'>Implementation of StretchedExFtTabulated in Mantid</a>  \n",
      "\n",
      "<a id='meetings'></a><b>Meetings</b>  \n",
      "<a href='#meetings.May_04_2016'>May 04, 2016. Meeting with Ken to discuss his implementation</a>  \n",
      "\n",
      "<a href='#Syntax'>HTML and MARKDOWN SYNTAX EXAMPLES</a></br>"
     ]
    },
    {
     "cell_type": "markdown",
     "metadata": {},
     "source": [
      "(<a href='#Table of Contents'>Top</a>)<a id='Setup'></a><h3>Setup (imports)</h3>"
     ]
    },
    {
     "cell_type": "code",
     "collapsed": false,
     "input": [
      "%matplotlib inline\n",
      "import numpy as np\n",
      "import scipy as sc\n",
      "import lmfit as lm\n",
      "import matplotlib.pyplot as plt"
     ],
     "language": "python",
     "metadata": {},
     "outputs": []
    },
    {
     "cell_type": "markdown",
     "metadata": {},
     "source": [
      "(<a href='#Table of Contents'>Top</a>)<a id='Collaborators'></a><h3>Collaborators</h3>\n",
      "\n",
      "* Eugene Mamontov\n",
      "* Ken Herwig"
     ]
    },
    {
     "cell_type": "markdown",
     "metadata": {},
     "source": [
      "<h2>Python algorithm using FFT</h2>"
     ]
    },
    {
     "cell_type": "markdown",
     "metadata": {},
     "source": [
      "(<a href='#Table of Contents'>Top</a>)<a id='Goals'></a><h3>Goals</h3>\n",
      "\n",
      "A fast implementation in Mantid of the Fourier transform of the stretched exponential function"
     ]
    },
    {
     "cell_type": "markdown",
     "metadata": {},
     "source": [
      "(<a href='#FFTalgorithm'>Top</a>)<a id='FFTalgorithm.benchmark'></a><h3>Benchmark with Experimental Data</h3> \n",
      "\n",
      "Comparing the Mantid python fitting function <i>StretchedExpFT</i> to the fits Done by Eugene with the software he uses</br>\n",
      "Directory [benchmark/](files/benchmark) contains experimental data for which Eugene used the Fourier transform of a stretched exponential.\n",
      "Files [eugene_fits.dat](files/benchmark/eugene_fits.dat) contains results of the fits done by Eugene.</br>\n",
      "MantidPlot python script [fitscript.py](files/benchmark/fitscript.py) does the fits, obtaining results different than Eugene: [results.dat](files/benchmark/results.dat).We obtain quite higher streteching exponents (closer than one) than Eugene. Relaxation times differ by ~15%."
     ]
    },
    {
     "cell_type": "markdown",
     "metadata": {},
     "source": [
      "(<a href='#FFTalgorithm'>Top</a>)<a id='FFTalgorithm.extent'></a><h3>Increase extent of time</h3> \n",
      "\n",
      "The difference between Eugene's and my results regarding the relaxation times of [benchmark/](files/benchmark) was due to the relatively few time points I was selecting when computing the Stretched exponential in the time domain. The Fourier transform was not fully representative of the Fourier spectrum of the stretched exponential over the whole time domain.<br/>\n",
      "I created Mantid ticket <a href=\"http://trac.mantidproject.org/mantid/ticket/8624\">8624</a> to address this issue. Now the fit shows much better agreement with Eugene's results.<br/>\n",
      "NOTE: the fits are very sensitive now to the initial guess. The previous script [fitscript.py](files/benchmark/fitscript.py) which takes as initial guess for the fit of workspace \"i+1\" the results from the fit of workspace \"i\" does not work anymore. Thus, I manually found the initial guess for each workspace via the fit wizard in mantidplot.\n",
      "\n",
      "<center><a href=\"files/benchmark/workspace_index_2_fit.jpeg\"><img src=\"files/benchmark/workspace_index_2_fit.jpeg\" width=\"400\" height=\"350\" alt=\"benchmark fit\"></a> <br/>\n",
      "<i>benchmark fit</i></center>"
     ]
    },
    {
     "cell_type": "markdown",
     "metadata": {},
     "source": [
      "(<a href='#FFTalgorithm'>Top</a>)<a id='FFTalgorithm.testing'></a><h3>Testing with a Lorentzian and Gaussian</h3> \n",
      "\n",
      "I used a model Lorentzian and Gaussian in order to test ticket <a href=\"http://trac.mantidproject.org/mantid/ticket/8624\">8624</a>. Script [test_ticket_8624.py](files/test_ticket_8624.py) will try to find fits to the Lorentzian and Gaussian models stored within [lorentzian/](files/lorentzian) and [gaussian/](files/gaussian), respectively.\n",
      "\n",
      "<center><table><tr>\n",
      "<td><a href=\"files/lorentzian/lorentzian_fit.jpeg\"><img src=\"files/lorentzian/lorentzian_fit.jpeg\" width=\"300\" height=\"250\" alt=\"lorentzian fit\"></a> <br/>\n",
      "    <center><i>lorentzian fit</i></center></td>\n",
      "<td><a href=\"files/gaussian/gaussian_fit.jpeg\"><img src=\"files/gaussian/gaussian_fit.jpeg\" width=\"300\" height=\"250\" alt=\"gaussian fit\"></a> <br/>\n",
      "    <center><i>gaussian fit</i></center></td>\n",
      "</tr><table></center>"
     ]
    },
    {
     "cell_type": "markdown",
     "metadata": {},
     "source": [
      "<h2>Ken's implementation</h2>"
     ]
    },
    {
     "cell_type": "markdown",
     "metadata": {},
     "source": [
      "(<a href='#KenImplementation'>Top</a>)<a id='KenImplementation.algorithm'></a><h3>Description of Ken's implementation</h3> \n",
      "\n",
      "[Ken's notes](files/KenImplementation/KenFiles/ken_notes.pdf) describe his implementation. These are the main points:\n",
      "\n",
      "* Create tables for the fourier transform in \"reduced\" energy units $\\omega \\tau$ for different values of $\\beta$\n",
      "* the $\\omega \\tau$ domain is not a regular grid. Rather, it is partioned into six contigous domains, each domain is a regular grid, but each domain has a different bin width.\n",
      "* The values of $\\beta$ range from 0.2 to 3.0 with regular bin width.\n",
      "\n",
      "These tables are used to linearly interpolate any value of $\\beta$ and any energy domain, whithin the limits imposed by extent of the tables.\n",
      "\n",
      "His files are under subdirectory <i>KenImplementation/KenFiles/</i>\n",
      "\n",
      "* <code>CalcFTStretched.for</code> produces the tables. Reads <code>Table1.input</code> and produces <code>Table1.out</code>\n",
      "* <code>FITMCT_table.FOR</code> reads <code>Table1.out</code> and intepolates to produce S(Q,E)"
     ]
    },
    {
     "cell_type": "markdown",
     "metadata": {},
     "source": [
      "(<a href='#KenImplementation'>Top</a>)<a id='KenImplementation.tabulated'></a><h3>Implementation of StretchedExFtTabulated in Mantid</h3> \n",
      "\n",
      "GitHub issue [16074](https://github.com/mantidproject/mantid/issues/16074)  \n",
      "GitHub pull request"
     ]
    },
    {
     "cell_type": "markdown",
     "metadata": {},
     "source": [
      "<h2>Meetings</h2>"
     ]
    },
    {
     "cell_type": "markdown",
     "metadata": {},
     "source": [
      "(<a href='#meetings'>Top</a>)<a id='meetings.May_04_2016'></a><h3>May 04, 2016. Meeting with Ken to discuss his implementation</h3> \n",
      "\n",
      "Ken showed me his code to calculate tables of the Fourier transform, the limits in $\\beta$ and $\\omega\\tau$, and the code that uses the tables to evaluate the function. He gave table files and source files."
     ]
    },
    {
     "cell_type": "code",
     "collapsed": false,
     "input": [],
     "language": "python",
     "metadata": {},
     "outputs": []
    }
   ],
   "metadata": {}
  }
 ]
}