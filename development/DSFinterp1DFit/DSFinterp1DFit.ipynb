{
 "metadata": {
  "name": ""
 },
 "nbformat": 3,
 "nbformat_minor": 0,
 "worksheets": [
  {
   "cells": [
    {
     "cell_type": "markdown",
     "metadata": {},
     "source": [
      "<h1>DSFinterp1DFit</h1>\n"
     ]
    },
    {
     "cell_type": "markdown",
     "metadata": {},
     "source": [
      "<h3>Algorithm showcase with experimental data</h3>\n",
      "I store data and simulation files in [showcase](files/showcase/) corresponding to NAMD simulations (/projects/research/POSS/me8t8/charmm/nmolec_1) of the octa-methyl silsesquioxane. \n",
      "\n",
      "Python script [DSFinterp1DFitTest.py](files/showcase/DSFinterp1DFitTest.py) can be loaded into MantidPlot and does:\n",
      "\n",
      "* Load a series of simulated S(Q,E) convolved with the elastic line as a function of dihedral barrier in the range 0.02Kcal/mol to 0.15Kcal/mol.\n",
      "\n",
      "* Fit to experimental quasielastic data at 200K\n",
      "\n",
      "It was experimentally determined that K=0.068Kcal/mol, while the optimization should yield Kopt~-.064Kcal/mol, which is close enough."
     ]
    },
    {
     "cell_type": "code",
     "collapsed": false,
     "input": [],
     "language": "python",
     "metadata": {},
     "outputs": []
    }
   ],
   "metadata": {}
  }
 ]
}