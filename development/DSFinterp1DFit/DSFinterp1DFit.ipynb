{
 "metadata": {
  "name": ""
 },
 "nbformat": 3,
 "nbformat_minor": 0,
 "worksheets": [
  {
   "cells": [
    {
     "cell_type": "markdown",
     "metadata": {},
     "source": [
      "<h1>DSFinterp1DFit</h1>\n",
      "<a id='Table of Contents'></a><h3>Table of Contents</h3>\n",
      "<a href='#Syntax'>HTML and MARKDOWN SYNTAX EXAMPLES</a></br>\n",
      "<a href='#showcase'>Algorithm showcase with experimental data</a></br>\n",
      "<a href='#tutorial'>How-to tutorial at the CAMM and personal website</a></br>"
     ]
    },
    {
     "cell_type": "markdown",
     "metadata": {},
     "source": [
      "(<a href='#Table of Contents'>Top</a>)<a id='Syntax'></a><h3>Syntax Examples</h3>\n",
      "local link: [link](files/link)</br>\n",
      "remote link: <a href=\"http://ambermd.org/\">http://ambermd.org</a>\n",
      "<font face=\"courier new\"> font face=\"courier new\" </font><br/>\n",
      "$$S_{model}(Q,E)=A(Q)\\cdot S_{elastic}(E) + B(Q)\\cdot S_{simulation}(Q,E)\\otimes S_{elastic}(E) + C(Q)+D(Q)\\cdot E$$\n",
      "<pre> Quoted text </pre>\n",
      "<center><table><tr>\n",
      "<td><a href=\"files/image.png\"><img src=\"files/image.png\" width=\"300\" height=\"250\" alt=\"image here\"></a> <br/>\n",
      "    <i>image caption</i></td>\n",
      "<td>some text</td>\n",
      "</tr></table></center>"
     ]
    },
    {
     "cell_type": "markdown",
     "metadata": {},
     "source": [
      "(<a href='#Table of Contents'>Top</a>)<a id='showcase'></a><h3>Algorithm showcase with experimental data</h3>\n",
      "I store data and simulation files within directory [showcase](files/showcase/) corresponding to NAMD simulations (/projects/research/POSS/me8t8/charmm/nmolec_1) of the octa-methyl silsesquioxane. \n",
      "\n",
      "Python script [DSFinterp1DFitTest.py](files/showcase/DSFinterp1DFitTest.py) can be loaded into MantidPlot and does:\n",
      "\n",
      "* Load a series of simulated S(Q,E) convolved with the elastic line as a function of dihedral barrier in the range 0.02Kcal/mol to 0.15Kcal/mol.\n",
      "\n",
      "* Fit to experimental quasielastic data at 200K\n",
      "\n",
      "It was experimentally determined that K=0.068Kcal/mol, while the optimization should yield Kopt~-.064Kcal/mol, which is close enough."
     ]
    },
    {
     "cell_type": "markdown",
     "metadata": {},
     "source": [
      "(<a href='#Table of Contents'>Top</a>)<a id='tutorial'></a><h3>How to tutorial at the CAMM and personal website</h3>\n",
      "A detailed tutorial on how to use the fit function has been posted in <a href=\"https://sites.google.com/site/drjosemborreguero/how-to-s/Simulation-Modeling/mantid/dsfinterp1dfit\">my personal page</a> as well as in the <a href=\"http://camm.ornl.gov/users/dsfinterp1dfit/\">CAMM website</a>.\n"
     ]
    },
    {
     "cell_type": "code",
     "collapsed": false,
     "input": [],
     "language": "python",
     "metadata": {},
     "outputs": []
    }
   ],
   "metadata": {}
  }
 ]
}