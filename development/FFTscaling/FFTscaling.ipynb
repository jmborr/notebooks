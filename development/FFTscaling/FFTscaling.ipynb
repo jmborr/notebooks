{
 "metadata": {
  "name": "",
  "signature": "sha256:61c0fbfd656da0101a745e69b0bd7a5f1e2631a7f05f20bfd277773d1996e736"
 },
 "nbformat": 3,
 "nbformat_minor": 0,
 "worksheets": [
  {
   "cells": [
    {
     "cell_type": "markdown",
     "metadata": {},
     "source": [
      "<h1>FFTscaling</h1>\n",
      "<a id='Table of Contents'></a><h3>Table of Contents</h3>\n",
      "<a href='#Syntax'>HTML and MARKDOWN SYNTAX EXAMPLES</a></br>\n",
      "<a href='#Goal'>Goals</a></br>\n",
      "<a href='#Padding'>Changes in S(Q,E) after padding I(Q,t) with an extra zero</a></br>"
     ]
    },
    {
     "cell_type": "markdown",
     "metadata": {},
     "source": [
      "(<a href='#Table of Contents'>Top</a>)<a id='Syntax'></a><h3>Syntax Examples</h3>\n",
      "local link: [link](files/link)</br>\n",
      "remote link: <a href=\"http://ambermd.org/\">http://ambermd.org</a>\n",
      "<font face=\"courier new\"> font face=\"courier new\" </font><br/>\n",
      "$$S_{model}(Q,E)=A(Q)\\cdot S_{elastic}(E) + B(Q)\\cdot S_{simulation}(Q,E)\\otimes S_{elastic}(E) + C(Q)+D(Q)\\cdot E$$\n",
      "<pre> Quoted text </pre>\n",
      "<center><table><tr>\n",
      "<td><a href=\"files/image.png\"><img src=\"files/image.png\" width=\"300\" height=\"250\" alt=\"image here\"></a> <br/>\n",
      "    <i>image caption</i></td>\n",
      "<td>some text</td>\n",
      "</tr></table></center>"
     ]
    },
    {
     "cell_type": "markdown",
     "metadata": {},
     "source": [
      "(<a href='#Table of Contents'>Top</a>)<a id='Goals'></a><h3>Goal</h3>\n",
      "Study the intermediate structure factor I(Q,t) and its Fourier transform S(Q,E) from simulations of different time span, but with equal number of conformations sampled. The scheme is the following:\n",
      "<center><table>\n",
      "<tr><tr><td>Simulation ID</td><td>Span (ns)</td><td>sampling time (fs)</td></tr>\n",
      "<tr><td>1</td><td>0.1</td><td>10</td></tr>\n",
      "<tr><td>2</td><td>1</td><td>100</td></tr>\n",
      "<tr><td>3</td><td>10</td><td>1000</td></tr>\n",
      "</table></center>\n",
      "\n",
      "Can we combine the structre factors to produce a more robust stucture factor?\n",
      "\n",
      "We have simulated a system composed of 8 polystyrene polymers, each 32 units long, with LAMMPS simulations and at T=450K. Global translations and rotations were removed and the structure factors computed with Sassena."
     ]
    },
    {
     "cell_type": "markdown",
     "metadata": {},
     "source": [
      "(<a href='#Table of Contents'>Top</a>)<a id='Padding'></a><h3>Changes in S(Q,E) after padding I(Q,t) with an extra zero</h3>\n",
      "What happens if we padd with an extra point the I(Q,t)? python script [padding.py](files/python/padding.py) extracts one particular spectrum and padds it with an extra zero at the end tails:\n",
      "<center><a href=\"files/analysis/IQt_padded.png\"><img src=\"files/analysis/IQt_padded.png\" width=\"400\" height=\"600\" alt=\"analysis/IQt_padded.png\"></a> <br/><i>analysis/IQt_padded.png</i></center>\n",
      "\n",
      "At first sight, the Fourier transform does seem unchanged, but a zoom shows a split in positive and negative frequencies\n",
      "<center><table>\n",
      "<tr>\n",
      "<td><a href=\"files/analysis/SQE_padded.v2.png\"><img src=\"files/analysis/SQE_padded.v2.png\" width=\"400\" height=\"600\" alt=\"analysis/SQE_padded.v2.png\"></a> <br/><i>analysis/SQE_padded.v2.png</i></td>\n",
      "<td><a href=\"files/analysis/SQE_padded.png\"><img src=\"files/analysis/SQE_padded.png\" width=\"400\" height=\"600\" alt=\"analysis/SQE_padded.png\"></a> <br/><i>analysis/SQE_padded.png</i></td>\n",
      "</tr></table></center>\n",
      "\n",
      "The split is also present in the non-padded version, but much smaller.\n",
      "\n",
      "Note that the shape of the padded I(Q,t) can be appromaximated by the step function in the range [-1000,1000] plus a sharp peak at the origin of energies. The real part of the Fourier transform of the step function which in non-zero in the [$-t_0$, $t_0$] domain is:\n",
      "\n",
      "<center> $\\frac{Sin(2\\pi E t_0)}{\\pi E}$ </center>\n",
      "<center><a href=\"files/analysis/step_function_Fourier.png\"><img src=\"files/analysis/step_function_Fourier.png\" width=\"400\" height=\"300\" alt=\"analysis/step_function_Fourier.png\"></a> <br/><i>analysis/step_function_Fourier.png(agr)</i></center>\n",
      "\n",
      "Notice the similarity between the positive and negative enveloping curves of this fuction, and the observed split in the Fourier transform of the padded I(Q,t)"
     ]
    },
    {
     "cell_type": "code",
     "collapsed": false,
     "input": [],
     "language": "python",
     "metadata": {},
     "outputs": []
    }
   ],
   "metadata": {}
  }
 ]
}