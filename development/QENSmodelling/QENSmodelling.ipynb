{
 "metadata": {
  "name": "",
  "signature": "sha256:c040aaf6b333e04d3d3c8e89553d69203ead92a04edcf7dc29e37f41fa038352"
 },
 "nbformat": 3,
 "nbformat_minor": 0,
 "worksheets": [
  {
   "cells": [
    {
     "cell_type": "markdown",
     "metadata": {},
     "source": [
      "<h1>QENS Fitting Scripts</h1>\n",
      "\n",
      "<a id='Table of Contents'></a><h3>Table of Contents</h3>  \n",
      "<a href='#Setup'>Setup (imports)</a>  \n",
      "<a href='#Collaborators'>Collaborators</a>  \n",
      "<a href='#Goals'>Goals</a>  \n",
      "\n",
      "<a id='participant'></a>Participants  \n",
      "<a href='#participant.HERE2016'>Student for the HERE-2106 program</a>  \n",
      "<a id='benchmarks'></a>Benchmarks  \n",
      "<a href='#benchmarks.53554_53425'>Runs 53554 and 53425</a>  \n",
      "<a id='Models'></a>Models  \n",
      "<a href='#Models.TwoQENSPlusLinearBackground'>Two Lorentzians plus a linear background</a>  \n",
      "<a href='#Models.resolutionConvolutionEffects'>Artifacts from the resolution function and the convolution</a>  \n",
      "<a href='#Models.lmfitTwoQENSPlusLinearBackground'>Two Lorentzians plus a linear background using lmfit</a>  \n",
      "<a href='#Models.extendModelDomain'>Extending the energy domain to avoid convolution artifacts</a>  \n",
      "<a id='ConvolutionStudy'></a>Convolution Study  \n",
      "<a href='#ConvolutionStudy.manualTimmy'>\"Manual\" formula by Timmy</a>  \n",
      "<a href='#ConvolutionStudy.benchmarks'>Benchmarks to test convolution in Mantid</a>  \n",
      "<a href='#ConvolutionStudy.i15954'>Incorrect convolution in Mantid when uneven domains</a>  \n",
      "\n",
      "<a id='Meetings'></a>Meetings  \n",
      "<a href='#Meetings.2016.03.30'>Meeting with Timmy</a>  \n",
      "\n",
      "<a href='#Syntax'>HTML and MARKDOWN SYNTAX EXAMPLES</a></br>"
     ]
    },
    {
     "cell_type": "markdown",
     "metadata": {},
     "source": [
      "(<a href='#Table of Contents'>Top</a>)<a id='Setup'></a><h3>Setup (imports)</h3>"
     ]
    },
    {
     "cell_type": "code",
     "collapsed": false,
     "input": [
      "%matplotlib inline\n",
      "import numpy as np\n",
      "import scipy as sc\n",
      "import lmfit as lm\n",
      "import matplotlib.pyplot as plt"
     ],
     "language": "python",
     "metadata": {},
     "outputs": [],
     "prompt_number": 2
    },
    {
     "cell_type": "markdown",
     "metadata": {},
     "source": [
      "(<a href='#Table of Contents'>Top</a>)<a id='Collaborators'></a><h3>Collaborators</h3>\n",
      "\n",
      "* Eugene Mamontov\n",
      "* Souleymane Diallo\n",
      "* Anibal Ramirez-Cuesta"
     ]
    },
    {
     "cell_type": "markdown",
     "metadata": {},
     "source": [
      "(<a href='#Table of Contents'>Top</a>)<a id='Goals'></a><h3>Goals</h3>\n",
      "\n",
      "Creation of a set of python scripts to be run in Mantid for the purpose of fitting QENS spectra\n",
      "\n",
      "* Constraints, ties\n",
      "* Sequential fitting, global fitting\n",
      "* Many different models"
     ]
    },
    {
     "cell_type": "markdown",
     "metadata": {},
     "source": [
      "<h2>Participants</h2>"
     ]
    },
    {
     "cell_type": "markdown",
     "metadata": {},
     "source": [
      "(<a href='#participant'>Top</a>)<a id='participant.HERE2016'></a><h3>Student for the HERE-2106 program</h3>  \n",
      "We have all data to candidates in the notebook ($work \\rightarrow mentoring \\rightarrow HERE \\rightarrow 2016$). We found candidates in the [Zintellect](https://www.zintellect.com/Account/LogOn) webpage.  "
     ]
    },
    {
     "cell_type": "markdown",
     "metadata": {},
     "source": [
      "<a id='benchmarks'></a><h2>Benchmarks</h2>"
     ]
    },
    {
     "cell_type": "markdown",
     "metadata": {},
     "source": [
      "(<a href='#benchmarks'>Top</a>)<a id='benchmarks.53554_53425'></a><h3>Runs 53554 and 53425</h3>  \n",
      "In directory <i>benchmark</i> we have Dave group files for resolution (53554) and QENS signal (53425)."
     ]
    },
    {
     "cell_type": "markdown",
     "metadata": {},
     "source": [
      "<a id='Models'></a><h2>Models</h2>"
     ]
    },
    {
     "cell_type": "markdown",
     "metadata": {},
     "source": [
      "(<a href='#Models'>Top</a>)<a id='Models.TwoQENSPlusLinearBackground'></a><h3>Two Lorentzians plus a linear background</h3>\n",
      "Script [twoLorentziansPlusLinearBackground.py](https://github.com/mantidproject/scriptrepository/blob/master/indirect%20inelastic/BASIS/models/twoLorentziansPlusLinearBackground.py) fits the benchmark against an elastic term plus two lorentzians.  \n",
      "\n",
      "* We have imposed ties between the center peaks of the three components.\n",
      "* We set constraints for the FWHM and Amplitudes of the lorentzians. They have to be positive."
     ]
    },
    {
     "cell_type": "markdown",
     "metadata": {},
     "source": [
      "(<a href='#Models'>Top</a>)<a id='Models.resolutionConvolutionEffects'></a><h3>Artifacts from the resolution function and the convolution</h3>\n",
      "We use Script [twoLorentziansPlusLinearBackground.py](https://github.com/mantidproject/scriptrepository/blob/master/indirect%20inelastic/BASIS/models/twoLorentziansPlusLinearBackground.py) to study\n",
      "the effects that changing the resolution function has on the fit.  \n",
      "The resolution is defined on the [-0.12,0.52]meV range.\n",
      "<center><table><tr>\n",
      "<td><a href=\"files/analysis/resolution.v1.png\"><img src=\"files/analysis/resolution.v1.png\" width=\"300\" height=\"250\" alt=\"analysis/resolution.v1.png\"></a> <br/>\n",
      "    <i>analysis/resolution.v1.png</i></td>\n",
      "<td><a href=\"files/analysis/resolution.v2.png\"><img src=\"files/analysis/resolution.v2.png\" width=\"300\" height=\"250\" alt=\"analysis/resolution.v2.png\"></a> <br/>\n",
      "    <i>analysis/resolution.v2.png</i></td>\n",
      "</tr></table></center>\n",
      "With this resolution, we do the fit with the previous model. We obtain:\n",
      "<center><a href=\"files/analysis/artifact.v1.png\"><img src=\"files/analysis/artifact.v1.png\" width=\"300\" height=\"250\" alt=\"analysis/resolution.v1.png\"></a> <br/>\n",
      "    <i>analysis/artifact.v1.png</i></center>\n",
      "\n",
      "* Minimum energy has a dip, maximum energy has a surge in intensity\n",
      "* Convolution of the Lorentzians have a well at high energies\n",
      "\n",
      "<b>Clipping the resolution function</b>  \n",
      "We clip the resolution function, so that the signal is set to zero outside the [-0.1, 0.1]meV range.  \n",
      "<code>resolution=Rebin(resolution,[-0.1,0.0004,0.1])</code>  \n",
      "We redo the fit:\n",
      "<center><a href=\"files/analysis/artifact.v2.png\"><img src=\"files/analysis/artifact.v2.png\" width=\"300\" height=\"250\" alt=\"analysis/resolution.v1.png\"></a>  \n",
      "    <i>analysis/artifact.v2.png</i></center>\n",
      "It seems the well has widened, and the extrema artifacts remain.\n",
      "\n",
      "We clip the fitting range to [-0.11, 0.11]mev, but we do left the resolution function unchanged. On the left we plot the new fit. On the right\n",
      "we plot the fit with the original [-0.12, 0.52]meV range (file artifact.v1.png) but only showing the fit in the [-0.11, 0.11]mev.\n",
      "Both fits are the same.\n",
      "\n",
      "<a href=\"files/analysis/artifact.v3.png\"><img src=\"files/analysis/artifact.v3.png\" width=\"300\" height=\"250\" alt=\"analysis/resolution.v1.png\"></a>\n",
      "<a href=\"files/analysis/artifact.v4.png\"><img src=\"files/analysis/artifact.v4.png\" width=\"300\" height=\"250\" alt=\"analysis/resolution.v1.png\"></a>  \n",
      "\n",
      "<b>Multiplying the resolution with a Gaussian</b>  \n",
      "We can multiply the resolution with a Gaussian so that the tails will decrease smoothly to zero, and extend the tails to the\n",
      "even range [-0.5, 0.5]. We chose gaussian with sigma=0.5meV\n",
      "<a href=\"files/analysis/artifact.v5.png\"><img src=\"files/analysis/artifact.v5.png\" width=\"300\" height=\"250\" alt=\"analysis/resolution.v1.png\"></a>\n",
      "<a href=\"files/analysis/artifact.v6.png\"><img src=\"files/analysis/artifact.v6.png\" width=\"300\" height=\"250\" alt=\"analysis/resolution.v1.png\"></a>\n",
      "The increase in the intensity of the tails result in the linear background trying to compensate.\n",
      "Plus the extreme effects are not removed."
     ]
    },
    {
     "cell_type": "markdown",
     "metadata": {},
     "source": [
      "(<a href='#Models'>Top</a>)<a id='Models.lmfitTwoQENSPlusLinearBackground'></a><h3>Two Lorentzians plus a linear background using lmfit</h3>\n",
      "\n",
      "Script [lmfitTwoQENSPlusLinearBackground.py](files/convolutionStudy/lmfitTwoQENSPlusLinearBackground.py) fits the benchmark against an elastic term plus two lorentzians using [numpy](http://www.numpy.org), [scipy](https://www.scipy.org), and [lmfit](https://lmfit.github.io/lmfit-py) python packages.\n",
      "\n",
      "* No ties.\n",
      "* Shiting only in the resolution function (same effect as shifting all the components models with a tie among all the shifts).\n",
      "* FWHM bounded to be positive\n",
      "\n",
      "The fits are much slower than in Mantid, but of much better quality.  \n",
      "We saved a mantid session with all the fits in subdirectory <i>convolutionStudy/lmfit/</i>."
     ]
    },
    {
     "cell_type": "markdown",
     "metadata": {},
     "source": [
      "(<a href='#Models'>Top</a>)<a id='Models.extendModelDomain'></a><h3>Extending the energy domain to avoid convolution artifacts</h3>\n",
      "\n",
      "When the energy range $[E_{min},E_{max}]$ is not even, $E_{min}\\ne E_{max}$, convolution of the resolution with the model gives rise to the artifacts seen in the Mantid fits. Using the <a href='#Models.lmfitTwoQENSPlusLinearBackground'>fits with lmfit</a>, we obtain the following curve when using the following convolution:  \n",
      "<code>np.convolve(resolution, model, mode='same')</code>\n",
      "<center><a href=\"files/convolutionStudy/lmfit/artifact.png\"><img src=\"files/convolutionStudy/lmfit/artifact.png\" width=\"200\" height=\"200\" alt=\"files/convolutionStudy/lmfit/artifact.png\"></a>  <i>files/convolutionStudy/lmfit/artifact.png</i></center>  \n",
      "However, when we evaluate the model on a extended energy range, $[-(E_{max}-E_{min}), E_{max}-E_{min}]$ and we use this convolution:  \n",
      "<code>np.convolve(resolution, model, mode='valid')</code>,  \n",
      "then we obtain this fit:  \n",
      "<center><a href=\"files/convolutionStudy/lmfit/best.png\"><img src=\"files/convolutionStudy/lmfit/best.png\" width=\"300\" height=\"300\" alt=\"files/convolutionStudy/lmfit/best.png\"></a></center>  \n",
      "Mind you, the model is evaluated in the range $[-(E_{max}-E_{min}), E_{max}-E_{min}]$ but the resolution is still constrained to the $[E_{min},E_{max}]$ range.  \n",
      "\n",
      "In the plot below we show a comparison with the Mantid fit and the two lmfits:  \n",
      "<center><a href=\"files/convolutionStudy/lmfit/comparison.png\"><img src=\"files/convolutionStudy/lmfit/comparison.png\" width=\"300\" height=\"300\" alt=\"files/convolutionStudy/lmfit/comparison.png\"></a></center>"
     ]
    },
    {
     "cell_type": "markdown",
     "metadata": {},
     "source": [
      "(<a href='#ConvolutionStudy'>Top</a>)<a id='ConvolutionStudy.manualTimmy'></a><h3>\"Manual\" formula by Timmy</h3>\n",
      "Timmy wrote the following formula for the convolution:"
     ]
    },
    {
     "cell_type": "code",
     "collapsed": false,
     "input": [
      "def ManualConvolution(Lore,Lori):\n",
      "    Summa=[]\n",
      "    for i in range(0,len(Lore)):\n",
      "        Aux=0.\n",
      "        for j in range(0,min(i,len(Lori))):\n",
      "            Aux+=Lore[i-j]*Lori[j]\n",
      "        Summa.append((i,Aux))   \n",
      "    return Summa"
     ],
     "language": "python",
     "metadata": {},
     "outputs": [],
     "prompt_number": 3
    },
    {
     "cell_type": "markdown",
     "metadata": {},
     "source": [
      "with the following assumptions:  \n",
      "* <code>Lore</code> refers to the Signal\n",
      "* <code>Lori</code> refers to the Resolution\n",
      "\n",
      "Let's assume that <code>Lore</code> has $N$ elements, and <code>Lori</code> has $M=2N$ elements (thus $M>N$) and let's evaluate the inner loop for different values of <code>i</code>.\n",
      "\n",
      "When <code>i=0</code> we have <code>range(0,min(0,len(Lori)))=range(0,min(0,N))=(0,)</code>, thus <code>Aux=Lore[0]*Lori[0]</code>, which corresponds to only one point overlap, as in the figure:\n",
      "<center><a href=\"files/manualConv/conv_i0.png\"><img src=\"files/manualConv/conv_i0.png\" width=\"300\" height=\"300\" alt=\"files/manualConv/conv_i0.png\"></a></center>  \n",
      "\n",
      "When <code>i=1</code> we have <code>range(0,min(1,N)=(0,1,)</code>, thus <code>Aux=Lore[1]*Lori[0]+Lore[0]*Lori[1]</code>, which corresponds to two points overlap, as in the figure:\n",
      "<center><a href=\"files/manualConv/conv_i1.png\"><img src=\"files/manualConv/conv_i1.png\" width=\"300\" height=\"300\" alt=\"files/manualConv/conv_i1.png\"></a></center>  \n",
      "\n",
      "When <code>i=N</code> we have <code>range(0,min(N,N))=(0,..,N-1)</code> thus <code>Aux=Lore[N-1]*Lori[0]+..+Lore[0]*Lori[N-1]</code>, which corresponds to full overlap, as in the figure:\n",
      "<center><a href=\"files/manualConv/conv_iNminus1.png\"><img src=\"files/manualConv/conv_iNminus1.png\" width=\"300\" height=\"300\" alt=\"files/manualConv/conv_iNminus1.png\"></a></center> \n",
      "\n",
      "Then on, we have full overlap, until we get to the final element when <code>i=M</code>. Then <code>range(0,min(M,N))=(0,..,N-1)</code> and <code>Aux=Lore[M]*Lori[0]+..+Lore[M-(N-1)]*Lori[N-1]</code>, as in the figure:\n",
      "<center><a href=\"files/manualConv/conv_iM.png\"><img src=\"files/manualConv/conv_iM.png\" width=\"300\" height=\"300\" alt=\"files/manualConv/conv_iM.png\"></a></center> \n",
      "\n",
      "Thus <code>Summa</code> has $N$ elements, as many as the resolution function <code>Lore</code>, starting from no overlap to full overlap. An example below:  "
     ]
    },
    {
     "cell_type": "code",
     "collapsed": false,
     "input": [
      "# Resolution\n",
      "E=np.arange(-0.12, 0.5204, 0.0004)\n",
      "Lori=0.1/(0.1*0.1+E*E)\n",
      "# Signal\n",
      "E2=np.arange(-0.44, 0.8404, 0.0004)\n",
      "Lore=1/(1+E*E)\n",
      "# Convolution\n",
      "conv = ManualConvolution(Lore,Lori)"
     ],
     "language": "python",
     "metadata": {},
     "outputs": [],
     "prompt_number": 4
    },
    {
     "cell_type": "code",
     "collapsed": false,
     "input": [
      "E, Y = zip(*conv)\n",
      "plt.plot(E,Y)\n",
      "plt.show()"
     ],
     "language": "python",
     "metadata": {},
     "outputs": [
      {
       "metadata": {},
       "output_type": "display_data",
       "png": "[encoded data removed]",
       "text": [
        "<matplotlib.figure.Figure at 0x7f9b5cc9f590>"
       ]
      }
     ],
     "prompt_number": 5
    },
    {
     "cell_type": "markdown",
     "metadata": {},
     "source": [
      "(<a href='#ConvolutionStudy'>Top</a>)<a id='ConvolutionStudy.benchmarks'></a><h3>Benchmarks to test convolution in Mantid</h3>\n",
      "\n",
      "We devise two benchmars:  \n",
      "\n",
      "* Subdirectory <i>benchmar1</i> contains data and python script to convolve a resolution workspace and a signal workspace with the <code>ConvolveWorkspaces</code> algorithm.\n",
      "* Subdirectory <i>benchmark2</i> contains data and python script to fit a two-lorentzian model against data. This involves convolution."
     ]
    },
    {
     "cell_type": "markdown",
     "metadata": {},
     "source": [
      "(<a href='#ConvolutionStudy'>Top</a>)<a id='ConvolutionStudy.i15954'></a><h3>Incorrect convolution in Mantid when uneven domains</h3>\n",
      "\n",
      "Github issue [15954](https://github.com/mantidproject/mantid/issues/15954)\n",
      "Pull request [16013](https://github.com/mantidproject/mantid/pull/16013)\n",
      "\n",
      "In subdirectory <i>i15954</i> we have three benchmarks to test changes to <code>Convolution.cpp</code>.\n",
      "\n",
      "* The purpose of <i>i15954/benchmark1/</i> is to convolve two workspaces. The result should not change after modifications to <code>Convolution.cpp</code>.\n",
      "* The purpose of <i>i15954/benchmark2/</i> is to fit an elastic line plus a two lorentzians to a signal. Errors should be corrected after modifications. The signal and resolutions are two data sets from BASIS runs.\n",
      "* The purpose of <i>i15954/benchmark3/</i> is to fit two lorentzians to a signal. Errors should be corrected after modifications. The signal and resolutions are syntheticly created.\n",
      "\n",
      "As showcase, in <i>i15954/benchmark2/</i> we convolve the resolution against the model with the following initial parameters: elastic-line-intensity=1; Lorentzian1-intensity=1; Lorentzian1-FWHM=0.01meV; Lorentzian2-intensity=1; Lorentzian2-FWHM=0.001meV; No linear background. Below is the model compare to the data:\n",
      "\n",
      "<center><a href=\"files/i15954/benchmark2/maxIterationsZero.png\"><img src=\"files/i15954/benchmark2/maxIterationsZero.png\" width=\"300\" height=\"300\" alt=\"files/i15954/benchmark2/maxIterationsZero.png\"></a></center> \n",
      "\n",
      "We didn't expect a nice fit with the initial parameters. The problem lies in the steep decrease in model intensity at $E=(E_{max}-E{min})/2=(0.52-(-0.12))/2=0.34meV$.\n",
      "\n",
      "To fix this problem, we have to modify <code>Convolution.cpp</code> to introduce the same convolution as we did in subsection <a href='#Models.extendModelDomain'>Extending the energy domain to avoid convolution artifacts</a>."
     ]
    },
    {
     "cell_type": "markdown",
     "metadata": {},
     "source": [
      "<a id='Meetings'></a><h2>Meetings</h2>"
     ]
    },
    {
     "cell_type": "markdown",
     "metadata": {},
     "source": [
      "(<a href='#Meetings'>Top</a>)<a id='Meetings.2016.03.30'></a><h3>Meeting with Timmy</h3>\n"
     ]
    },
    {
     "cell_type": "markdown",
     "metadata": {},
     "source": [
      "(<a href='#Table of Contents'>Top</a>)<a id='Syntax'></a><h3>Syntax Examples</h3>\n",
      "local link: [link](files/link)</br>\n",
      "remote link: <a href=\"http://ambermd.org/\">http://ambermd.org</a>\n",
      "<font face=\"courier new\"> font face=\"courier new\" </font><br/>\n",
      "$$S_{model}(Q,E)=A(Q)\\cdot S_{elastic}(E) + B(Q)\\cdot S_{simulation}(Q,E)\\otimes S_{elastic}(E) + C(Q)+D(Q)\\cdot E$$\n",
      "<pre> Quoted text </pre>\n",
      "<center><table><tr>\n",
      "<td><a href=\"files/image.png\"><img src=\"files/image.png\" width=\"300\" height=\"250\" alt=\"image here\"></a> <br/>\n",
      "    <i>image caption</i></td>\n",
      "<td>some text</td>\n",
      "</tr></table></center>"
     ]
    },
    {
     "cell_type": "code",
     "collapsed": false,
     "input": [],
     "language": "python",
     "metadata": {},
     "outputs": []
    }
   ],
   "metadata": {}
  }
 ]
}