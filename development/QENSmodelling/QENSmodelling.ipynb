{
 "metadata": {
  "name": "",
  "signature": "sha256:32e9e39e1f33ebeabefffa63642939f992a931ba381ba03880e00da7a1870768"
 },
 "nbformat": 3,
 "nbformat_minor": 0,
 "worksheets": [
  {
   "cells": [
    {
     "cell_type": "markdown",
     "metadata": {},
     "source": [
      "<h1>QENS Fitting Scripts</h1>\n",
      "\n",
      "<a id='Table of Contents'></a><h3>Table of Contents</h3>  \n",
      "<a href='#Collaborators'>Collaborators</a>  \n",
      "<a href='#Goals'>Goals</a>  \n",
      "\n",
      "<a id='participant'></a>Participants  \n",
      "<a href='#participant.HERE2016'>Student for the HERE-2106 program</a>  \n",
      "<a id='benchmarks'></a>Benchmarks  \n",
      "<a href='#benchmarks.53554_53425'>Runs 53554 and 53425</a>  \n",
      "<a id='Models'></a>Models  \n",
      "<a href='#Models.TwoQENSPlusLinearBackground'>Two Lorentzians plus a linear background</a>  \n",
      "<a href='#Models.resolutionConvolutionEffects'>Artifacts from the resolution function and the convolution</a>  \n",
      "<a href='#Models.lmfitTwoQENSPlusLinearBackground'>Two Lorentzians plus a linear background using lmfit</a>  \n",
      "<a href='#Models.extendModelDomain'>Extending the energy domain to avoid convolution artifacts</a>  \n",
      "<a id='Meetings'></a>Meetings  \n",
      "<a href='#Meetings.2016.03.30'>Meeting with Timmy</a>  \n",
      "\n",
      "<a href='#Syntax'>HTML and MARKDOWN SYNTAX EXAMPLES</a></br>"
     ]
    },
    {
     "cell_type": "markdown",
     "metadata": {},
     "source": [
      "(<a href='#Table of Contents'>Top</a>)<a id='Collaborators'></a><h3>Collaborators</h3>\n",
      "\n",
      "* Eugene Mamontov\n",
      "* Souleymane Diallo\n",
      "* Anibal Ramirez-Cuesta"
     ]
    },
    {
     "cell_type": "markdown",
     "metadata": {},
     "source": [
      "(<a href='#Table of Contents'>Top</a>)<a id='Goals'></a><h3>Goals</h3>\n",
      "\n",
      "Creation of a set of python scripts to be run in Mantid for the purpose of fitting QENS spectra\n",
      "\n",
      "* Constraints, ties\n",
      "* Sequential fitting, global fitting\n",
      "* Many different models"
     ]
    },
    {
     "cell_type": "markdown",
     "metadata": {},
     "source": [
      "<h2>Participants</h2>"
     ]
    },
    {
     "cell_type": "markdown",
     "metadata": {},
     "source": [
      "(<a href='#participant'>Top</a>)<a id='participant.HERE2016'></a><h3>Student for the HERE-2106 program</h3>  \n",
      "We have all data to candidates in the notebook ($work \\rightarrow mentoring \\rightarrow HERE \\rightarrow 2016$). We found candidates in the [Zintellect](https://www.zintellect.com/Account/LogOn) webpage.  "
     ]
    },
    {
     "cell_type": "markdown",
     "metadata": {},
     "source": [
      "<a id='benchmarks'></a><h2>Benchmarks</h2>"
     ]
    },
    {
     "cell_type": "markdown",
     "metadata": {},
     "source": [
      "(<a href='#benchmarks'>Top</a>)<a id='benchmarks.53554_53425'></a><h3>Runs 53554 and 53425</h3>  \n",
      "In directory <i>benchmark</i> we have Dave group files for resolution (53554) and QENS signal (53425)."
     ]
    },
    {
     "cell_type": "markdown",
     "metadata": {},
     "source": [
      "<a id='Models'></a><h2>Models</h2>"
     ]
    },
    {
     "cell_type": "markdown",
     "metadata": {},
     "source": [
      "(<a href='#Models'>Top</a>)<a id='Models.TwoQENSPlusLinearBackground'></a><h3>Two Lorentzians plus a linear background</h3>\n",
      "Script [twoLorentziansPlusLinearBackground.py](https://github.com/mantidproject/scriptrepository/blob/master/indirect%20inelastic/BASIS/models/twoLorentziansPlusLinearBackground.py) fits the benchmark against an elastic term plus two lorentzians.  \n",
      "\n",
      "* We have imposed ties between the center peaks of the three components.\n",
      "* We set constraints for the FWHM and Amplitudes of the lorentzians. They have to be positive."
     ]
    },
    {
     "cell_type": "markdown",
     "metadata": {},
     "source": [
      "(<a href='#Models'>Top</a>)<a id='Models.resolutionConvolutionEffects'></a><h3>Artifacts from the resolution function and the convolution</h3>\n",
      "We use Script [twoLorentziansPlusLinearBackground.py](https://github.com/mantidproject/scriptrepository/blob/master/indirect%20inelastic/BASIS/models/twoLorentziansPlusLinearBackground.py) to study\n",
      "the effects that changing the resolution function has on the fit.  \n",
      "The resolution is defined on the [-0.12,0.52]meV range.\n",
      "<center><table><tr>\n",
      "<td><a href=\"files/analysis/resolution.v1.png\"><img src=\"files/analysis/resolution.v1.png\" width=\"300\" height=\"250\" alt=\"analysis/resolution.v1.png\"></a> <br/>\n",
      "    <i>analysis/resolution.v1.png</i></td>\n",
      "<td><a href=\"files/analysis/resolution.v2.png\"><img src=\"files/analysis/resolution.v2.png\" width=\"300\" height=\"250\" alt=\"analysis/resolution.v2.png\"></a> <br/>\n",
      "    <i>analysis/resolution.v2.png</i></td>\n",
      "</tr></table></center>\n",
      "With this resolution, we do the fit with the previous model. We obtain:\n",
      "<center><a href=\"files/analysis/artifact.v1.png\"><img src=\"files/analysis/artifact.v1.png\" width=\"300\" height=\"250\" alt=\"analysis/resolution.v1.png\"></a> <br/>\n",
      "    <i>analysis/artifact.v1.png</i></center>\n",
      "\n",
      "* Minimum energy has a dip, maximum energy has a surge in intensity\n",
      "* Convolution of the Lorentzians have a well at high energies\n",
      "\n",
      "<b>Clipping the resolution function</b>  \n",
      "We clip the resolution function, so that the signal is set to zero outside the [-0.1, 0.1]meV range.  \n",
      "<code>resolution=Rebin(resolution,[-0.1,0.0004,0.1])</code>  \n",
      "We redo the fit:\n",
      "<center><a href=\"files/analysis/artifact.v2.png\"><img src=\"files/analysis/artifact.v2.png\" width=\"300\" height=\"250\" alt=\"analysis/resolution.v1.png\"></a> <br/>\n",
      "    <i>analysis/artifact.v2.png</i></center>\n",
      "It seems the well has widened, and the extrema artifacts remain.\n",
      "\n",
      "We clip the fitting range to [-0.11, 0.11]mev, but we do left the resolution function unchanged. On the left we plot the new fit. On the right\n",
      "we plot the fit with the original [-0.12, 0.52]meV range (file artifact.v1.png) but only showing the fit in the [-0.11, 0.11]mev.\n",
      "Both fits are the same.\n",
      "<center><table><tr>\n",
      "<td><a href=\"files/analysis/artifact.v3.png\"><img src=\"files/analysis/artifact.v3.png\" width=\"300\" height=\"250\" alt=\"analysis/resolution.v1.png\"></a> <br/>\n",
      "<i>analysis/artifact.v3.png</i></td>\n",
      "<td><a href=\"files/analysis/artifact.v4.png\"><img src=\"files/analysis/artifact.v4.png\" width=\"300\" height=\"250\" alt=\"analysis/resolution.v1.png\"></a> <br/>\n",
      "<i>analysis/artifact.v4.png</i></td>\n",
      "</tr></table></center>\n",
      "\n",
      "<b>Multiplying the resolution with a Gaussian</b>  \n",
      "We can multiply the resolution with a Gaussian so that the tails will decrease smoothly to zero, and extend the tails to the\n",
      "even range [-0.5, 0.5]. We chose gaussian with sigma=0.5meV\n",
      "<center><table><tr>\n",
      "<td><a href=\"files/analysis/artifact.v5.png\"><img src=\"files/analysis/artifact.v5.png\" width=\"300\" height=\"250\" alt=\"analysis/resolution.v1.png\"></a> <br/>\n",
      "<i>analysis/artifact.v5.png</i></td>\n",
      "<td><a href=\"files/analysis/artifact.v6.png\"><img src=\"files/analysis/artifact.v6.png\" width=\"300\" height=\"250\" alt=\"analysis/resolution.v1.png\"></a> <br/>\n",
      "<i>analysis/artifact.v6.png</i></td>\n",
      "</tr></table></center>\n",
      "The crease in the intensity of the tails result in the linear background trying to compensate.\n",
      "Plus the extreme effects are not removed.\n",
      "\n",
      "<b>Extending the tails with exponential fits</b>\n"
     ]
    },
    {
     "cell_type": "markdown",
     "metadata": {},
     "source": [
      "(<a href='#Models'>Top</a>)<a id='Models.lmfitTwoQENSPlusLinearBackground'></a><h3>Two Lorentzians plus a linear background using lmfit</h3>\n",
      "\n",
      "Script [lmfitTwoQENSPlusLinearBackground.py](files/convolutionStudy/lmfitTwoQENSPlusLinearBackground.py) fits the benchmark against an elastic term plus two lorentzians using [numpy](http://www.numpy.org), [scipy](https://www.scipy.org), and [lmfit](https://lmfit.github.io/lmfit-py) python packages.\n",
      "\n",
      "* No ties.\n",
      "* Shiting only in the resolution function (same effect as shifting all the components models with a tie among all the shifts).\n",
      "* FWHM bounded to be positive\n",
      "\n",
      "The fits are much slower than in Mantid, but of much better quality.  \n",
      "We saved a mantid session with all the fits in subdirectory <i>convolutionStudy/lmfit/</i>."
     ]
    },
    {
     "cell_type": "markdown",
     "metadata": {},
     "source": [
      "(<a href='#Models'>Top</a>)<a id='Models.extendModelDomain'></a><h3>Extending the energy domain to avoid convolution artifacts</h3>\n",
      "\n",
      "When the energy range $[E_{min},E_{max}]$ is not even, $E_{min}\\ne E_{max}$, convolution of the resolution with the model gives rise to the artifacts seen in the Mantid fits. Using the <a href='#Models.lmfitTwoQENSPlusLinearBackground'>fits with lmfit</a>, we obtain the following curve when using the following convolution:  \n",
      "<code>np.convolve(resolution, model, mode='same')</code>\n",
      "<center><a href=\"files/convolutionStudy/lmfit/artifact.png\"><img src=\"files/convolutionStudy/lmfit/artifact.png\" width=\"200\" height=\"200\" alt=\"files/convolutionStudy/lmfit/artifact.png\"></a>  <i>files/convolutionStudy/lmfit/artifact.png</i></center>  \n",
      "However, when we evaluate the model on a extended energy range, $[-(E_{max}-E_{min}), E_{max}-E_{min}]$ and we use this convolution:  \n",
      "<code>np.convolve(resolution, model, mode='valid')</code>,  \n",
      "then we obtain this fit:  \n",
      "<center><a href=\"files/convolutionStudy/lmfit/best.png\"><img src=\"files/convolutionStudy/lmfit/best.png\" width=\"300\" height=\"300\" alt=\"files/convolutionStudy/lmfit/best.png\"></a></center>  \n",
      "Mind you, the model is evaluated in the range $[-(E_{max}-E_{min}), E_{max}-E_{min}]$ but the resolution is still constrained to the $[E_{min},E_{max}]$ range.  \n",
      "\n",
      "In the plot below we show a comparison with the Mantid fit and the two lmfits:  \n",
      "<center><a href=\"files/convolutionStudy/lmfit/comparison.png\"><img src=\"files/convolutionStudy/lmfit/comparison.png\" width=\"300\" height=\"300\" alt=\"files/convolutionStudy/lmfit/comparison.png\"></a></center>"
     ]
    },
    {
     "cell_type": "markdown",
     "metadata": {},
     "source": [
      "<a id='Meetings'></a><h2>Meetings</h2>"
     ]
    },
    {
     "cell_type": "markdown",
     "metadata": {},
     "source": [
      "(<a href='#Meetings'>Top</a>)<a id='Meetings.2016.03.30'></a><h3>Meeting with Timmy</h3>\n"
     ]
    },
    {
     "cell_type": "markdown",
     "metadata": {},
     "source": [
      "(<a href='#Table of Contents'>Top</a>)<a id='Syntax'></a><h3>Syntax Examples</h3>\n",
      "local link: [link](files/link)</br>\n",
      "remote link: <a href=\"http://ambermd.org/\">http://ambermd.org</a>\n",
      "<font face=\"courier new\"> font face=\"courier new\" </font><br/>\n",
      "$$S_{model}(Q,E)=A(Q)\\cdot S_{elastic}(E) + B(Q)\\cdot S_{simulation}(Q,E)\\otimes S_{elastic}(E) + C(Q)+D(Q)\\cdot E$$\n",
      "<pre> Quoted text </pre>\n",
      "<center><table><tr>\n",
      "<td><a href=\"files/image.png\"><img src=\"files/image.png\" width=\"300\" height=\"250\" alt=\"image here\"></a> <br/>\n",
      "    <i>image caption</i></td>\n",
      "<td>some text</td>\n",
      "</tr></table></center>"
     ]
    },
    {
     "cell_type": "code",
     "collapsed": false,
     "input": [],
     "language": "python",
     "metadata": {},
     "outputs": []
    }
   ],
   "metadata": {}
  }
 ]
}