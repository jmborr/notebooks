{
 "metadata": {
  "name": "",
  "signature": "sha256:61c0fbfd656da0101a745e69b0bd7a5f1e2631a7f05f20bfd277773d1996e736"
 },
 "nbformat": 3,
 "nbformat_minor": 0,
 "worksheets": [
  {
   "cells": [
    {
     "cell_type": "markdown",
     "metadata": {},
     "source": [
      "<h1>ModeratorTzero</h1>\n",
      "\n",
      "<a id='Table of Contents'></a><h3>Table of Contents</h3>\n",
      "\n",
      "<a href='#noise'>Addition of noise to remove original data artifacts</a></br>\n",
      "\n",
      "<a href='#issue13087'><h4>Generalise ModeratorTzero to work with Direct and Elastic</h4></a>\n",
      "\n",
      "* <a href='#issue13087.test'>Test</a></br>\n",
      "\n",
      "<a href='#SectionTag'><h4>Section title here</h4></a>\n",
      "\n",
      "* <a href='#SectionTag.subsection1Tag'>Subsection 1 title here</a></br>\n",
      "* <a href='#SectionTag.subsection2Tag'>Subsection 2 title here</a></br>\n",
      "\n",
      "<a href='#Syntax'>HTML and MARKDOWN SYNTAX EXAMPLES</a></br>"
     ]
    },
    {
     "cell_type": "markdown",
     "metadata": {},
     "source": [
      "(<a href='#Table of Contents'>Top</a>)<a id='noise'></a><h3>Addition of noise to remove original data artifacts</h3>\n",
      "The original tof values have an accuracy of 0.1\u03bcs. One would think that values for the histogram at neighboring tof values, that is, H(tof-0.1\u03bcs),  H(tof-0.1\u03bcs), and H(tof-0.1\u03bcs) would be very similar. However, there are wild differences, as can be seen in a histogram with bin width=0.1\u03bcs of the data VIS_1085_event.nxs.\n",
      "\n",
      "In the scatter-plot below in the left, the histogram looks like it is actually made of three histograms (two are clearly visible, the this is just made of zeros). A zoom to the right shows values of the histogram for neighboring points, showhing values of zero, ~2,000 and ~4000. This weird looking histogram is a consequence of the 0.1\u03bcs accuracy of the original tof, plus the fact that some decimals are more favored than others for some unknown reason to me.\n",
      "\n",
      "<center><table><tr>\n",
      "<td><a href=\"files/analysis/histogram_0.1microsec_binning.jpeg\"><img src=\"files/analysis/histogram_0.1microsec_binning.jpeg\" width=\"300\" height=\"250\" alt=\"analysis/histogram_0.1microsec_binning.jpeg\"></a><br/>   <i>analysis/histogram_0.1microsec_binning.jpeg</i></td>\n",
      "<td><a href=\"files/analysis/histogram_0.1microsec_binning_detail.jpeg\"><img src=\"files/analysis/histogram_0.1microsec_binning_detail.jpeg\" width=\"300\" height=\"250\" alt=\"analysis/histogram_0.1microsec_binning_detail.jpeg\"></a><br/>   <i>analysis/histogram_0.1microsec_binning_detail.jpeg</i></td>\n",
      "</tr></table></center>\n",
      "\n",
      "Unfortunately, these artifacts produce aberrant effects in the histogram of tof after substracting t0. However, the artifacts can be avoided if whe \u2018fuzzy\u2019 the above histogram. This is achieved by adding a random time tr to each of the origina tof values. tr is a random variable with a flat distribution in the segment [-0.1, 0.1]\u03bcs, and zero elsewhere. Thus, a histogram of the {tof+tr} values with bin width 0.1\u03bcs will only show a line, instead of the previous three. Substraction of t0 to the tof+tr values yields new tof values that produce no aberrant effects when binned to a histogram. Below is the histogram of {tof+ tr+ t0} values with a bin width of 0.1 \u03bcs.\n",
      "\n",
      "<center><a href=\"files/analysis/histogram_0.1microsec_binning_after.jpeg\"><img src=\"files/analysis/histogram_0.1microsec_binning_after.jpeg\" width=\"300\" height=\"250\" alt=\"analysis/histogram_0.1microsec_binning_after.jpeg\"></a><br/>   <i>analysis/histogram_0.1microsec_binning_after.jpeg</i></center>\n",
      "\n",
      "A comparision of histograms before and after shows the effect of substractin t0.\n",
      "\n",
      "<center><a href=\"files/analysis/histograms_1.0microsec_binning.jpeg\"><img src=\"files/analysis/histograms_1.0microsec_binning.jpeg\" width=\"600\" height=\"350\" alt=\"analysis/histograms_1.0microsec_binning.jpeg\"></a><br/>   <i>analysis/histograms_1.0microsec_binning.jpeg</i></center>\n",
      "\n",
      "<center><a href=\"files/analysis/histograms_1.0microsec_binning_detail.jpeg\"><img src=\"files/analysis/histograms_1.0microsec_binning_detail.jpeg\" width=\"600\" height=\"350\" alt=\"analysis/histograms_1.0microsec_binning_detail.jpeg\"></a><br/>   <i>analysis/histogram_0.1microsec_binning_after.jpeg</i></center>\n"
     ]
    },
    {
     "cell_type": "markdown",
     "metadata": {},
     "source": [
      "(<a href='#Table of Contents'>Top</a>)<a id='issue13087'></a><h2>Generalise ModeratorTzero to work with Direct and Elastic</h2>\n",
      "Mantid issue [13087](https://github.com/mantidproject/mantid/issues/13087)\n",
      "\n",
      "<b>Purpose:</b> The ModeratorTzero Algorithm can be expanded to work with Direct Inelastic and Elastic\n",
      "\n",
      "<b>Means:</b> Introduce a pull-down menu in the algorithm to choose among \"Indirect\", \"Direct\", and \"Elastic\" modes."
     ]
    },
    {
     "cell_type": "markdown",
     "metadata": {},
     "source": [
      "(<a href='#Table of Contents'>Top</a>)<a id='issue13087.test'></a><h3>Test</h3>\n",
      "Pull request [13126](https://github.com/mantidproject/mantid/pull/13126)\n",
      "\n",
      "In subdirectory <i>13087_ModeratorTzero_Extend/test</i>, we have file <i>CORELLI_11326.nxs.h5</i> from IPTS-14608, as well as mask file <i>roi.xml</i> and python script [test.py](files/13087_ModeratorTzero_Extend/test/test.py). This test will compare the $t_0$ times obtained after application of the algorithm against the expected values calculated directly using the t0_formula."
     ]
    },
    {
     "cell_type": "markdown",
     "metadata": {},
     "source": [
      "(<a href='#Table of Contents'>Top</a>)<a id='SectionTag'></a><h2>Section title here</h2>"
     ]
    },
    {
     "cell_type": "markdown",
     "metadata": {},
     "source": [
      "(<a href='#Table of Contents'>Top</a>)<a id='SectionTag.subsection1Tag'></a><h3>Subsection 1 title here</h3>\n",
      "Some text"
     ]
    },
    {
     "cell_type": "markdown",
     "metadata": {},
     "source": [
      "(<a href='#Table of Contents'>Top</a>)<a id='SectionTag.subsection2Tag'></a><h3>Subsection 2 title here</h3>\n",
      "Some text"
     ]
    },
    {
     "cell_type": "markdown",
     "metadata": {},
     "source": [
      "(<a href='#Table of Contents'>Top</a>)<a id='Syntax'></a><h3>Syntax Examples</h3>\n",
      "local link: [link](files/link)</br>\n",
      "remote link: <a href=\"http://ambermd.org/\">http://ambermd.org</a>\n",
      "<font face=\"courier new\"> font face=\"courier new\" </font><br/>\n",
      "$$S_{model}(Q,E)=A(Q)\\cdot S_{elastic}(E) + B(Q)\\cdot S_{simulation}(Q,E)\\otimes S_{elastic}(E) + C(Q)+D(Q)\\cdot E$$\n",
      "<pre> Quoted text </pre>\n",
      "<center><table><tr>\n",
      "<td><a href=\"files/image.png\"><img src=\"files/image.png\" width=\"300\" height=\"250\" alt=\"image here\"></a> <br/>\n",
      "    <i>image caption</i></td>\n",
      "<td>some text</td>\n",
      "</tr></table></center>"
     ]
    },
    {
     "cell_type": "code",
     "collapsed": false,
     "input": [],
     "language": "python",
     "metadata": {},
     "outputs": []
    }
   ],
   "metadata": {}
  }
 ]
}