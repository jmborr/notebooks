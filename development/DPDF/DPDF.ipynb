{
 "metadata": {
  "name": "",
  "signature": "sha256:9cb12decc792563c74cf443844a61783a1970536a604fa859d5d11a672ee96de"
 },
 "nbformat": 3,
 "nbformat_minor": 0,
 "worksheets": [
  {
   "cells": [
    {
     "cell_type": "markdown",
     "metadata": {},
     "source": [
      "<h1>Dynamics Pair Distribution Function (DPDF)</h1>\n",
      "\n",
      "<a id='Table of Contents'></a><h3>Table of Contents</h3>  \n",
      "<a href='#Collaborators'>Collaborators</a>  \n",
      "<a href='#Goals'>Goals</a>  \n",
      "\n",
      "<a id='benchmarks'></a>Benchmarks  \n",
      "<a href='#benchmarks.Ni'>Ni</a>  \n",
      "<a id='Reduction'></a>Reduction  \n",
      "<a href='#Reduction.benchmarkRun'>Benchmark run</a>  \n",
      "<a href='#Reduction.detectorGaps'>Gaps in ARCS detectors</a>  \n",
      "<a href='#Reduction.reduceBenchmark'>Early reduction of benchmark</a>  \n",
      "<a href='#Reduction.DPDFreduction'>DPDFreduction algorithm</a>  \n",
      "<a href='#Reduction.i15588'>Ensure correct units of the output reduced workspace</a>  \n",
      "<a id='SL'></a>Slice Selector  \n",
      "<a href='#SL.slidingBar'>Insert a sliding line in the 2D view</a>  \n",
      "<a id='BRI'></a>Background Removal Interface  \n",
      "<a href='#BRI.Mockup'>Mockup</a>  \n",
      "<a href='#BRI.GI15091'>Qt-designer plugin class for MantidWidget::PreviewPlot</a>  \n",
      "<a href='#BRI.GI15275'>Migrate QScienceSpinBox widget from MantidQt/SliceViewer to MantidQt/API</a>  \n",
      "<a href='#BRI.GI15276'>Migrate ColorBarWidget from MantidQt/SliceViewer to MantidQt/MantidWidgets</a>  \n",
      "<a href='#BRI.GI14936'>Show the SliceSelector widget when invoquing the DynamicPDF custom-interface</a>  \n",
      "<a href='#BRI.GI15304'>MantidWidget for plotting results of a Curve Fitting</a>  \n",
      "<a href='#BRI.GI15632'>PreviewPlot uses the bin boundaries instead of the bin centers</a>  \n",
      "<a href='#BRI.GI15429'>Integrate a FitPropertyBrowser and a DisplayCurveFit</a>  \n",
      "<a id='meetings'></a>Meetings  \n",
      "<a href='#meetings.meeting1'>First meeting with Wojciech</a>  \n",
      "<a href='#meetings.June26'>June 26, 2015</a>  \n",
      "<a href='#meetings.October15_2015'>October 15, 2015</a>  \n",
      "<a href='#meetings.April_13_2016'>April 13, 2016</a>  \n",
      "\n",
      "<a id='UQ'></a>Users Questions  \n",
      "<a href='#UQ.sshfs'>How to mount /SNS wiht SSH</a>  \n",
      "\n",
      "<a href='#Syntax'>HTML and MARKDOWN SYNTAX EXAMPLES</a></br>"
     ]
    },
    {
     "cell_type": "markdown",
     "metadata": {},
     "source": [
      "(<a href='#Table of Contents'>Top</a>)<a id='Collaborators'></a><h3>Collaborators</h3>\n",
      "\n",
      "* Wojciech Dmowski <wdmowski@utk.edu>\n",
      "* Doug Abernathy\n",
      "* Xun Li Wang <xlwang@cityu.edu.hk>, <neutron.wang@gmail.com>\n",
      "* Stuart Campbell\n",
      "* Andrei Savici"
     ]
    },
    {
     "cell_type": "markdown",
     "metadata": {},
     "source": [
      "(<a href='#Table of Contents'>Top</a>)<a id='Goals'></a><h3>Goals</h3>\n",
      "\n",
      "Reduction workflow including:\n",
      "\n",
      "* Data reduction\n",
      "* Removal of trends in S(Q,E) via model fitting\n",
      "* Fourier transform"
     ]
    },
    {
     "cell_type": "markdown",
     "metadata": {},
     "source": [
      "(<a href='#Table of Contents'>Top</a>)<a id='benchmarks'></a><h2>Benchmarks</h2>"
     ]
    },
    {
     "cell_type": "markdown",
     "metadata": {},
     "source": [
      "(<a href='#Table of Contents'>Top</a>)<a id='benchmarks.Ni'></a><h3>Ni</h3>  \n",
      "Doug Abernathy took measurements of Ni. Run numbers and brieg lab logbook in [Ni_DPDF_ARCS_logbook.pdf](files/benchmark_Ni/Ni_DPDF_ARCS_logbook.pdf). Some excerpts:\n",
      "\n",
      "* IPTS-8124\n",
      "* runs 37570 through 37576 for Vanadium\n",
      "* runs 37561 through 37568 for sample\n"
     ]
    },
    {
     "cell_type": "markdown",
     "metadata": {},
     "source": [
      "(<a href='#Table of Contents'>Top</a>)<a id='meetings'></a><h2>Meetings</h2>"
     ]
    },
    {
     "cell_type": "markdown",
     "metadata": {},
     "source": [
      "(<a href='#meetings'>Top</a>)<a id='meetings.meeting1'></a><h3>First meeting with Wojciech</h3>\n",
      "Wojciech described for us the workflow that he follows to produce g(r,E) starting from the auto-reduced \"nxspe\" file. The worflow is detailed in the script [flow.txt](files/meetings/June_11_2015/flow.txt)\n",
      "\n",
      "Step 0. Translate from nxspe to spe format with [spe_rw2.f](files/meetings/June_11_2015/spe_rw2.f). The nxspe file is a histogram $S(\\theta,\\phi,E)$, which is then integrated in $\\phi$ to yield $S(\\theta,E)$ and saved as an \"spe\" file (ASCII).\n",
      "\n",
      "Step 1.  This histogram shows sudden changes in intensity for certain values of $\\theta$, namely:\n",
      "<pre>7\n",
      "74.85\n",
      "75.346\n",
      "75.746\n",
      "76.746\n",
      "105.85\n",
      "106.35\n",
      "106.85</pre>\n",
      "\n",
      "These are thought to be due to gaps in the detectors of the <b>ARCS</b> beamline. Values stored in [det.txt](files/meetings/June_11_2015/det.txt). Wojciech uses a linear interpolation routine ([spe_interp.f](files/meetings/June_11_2015/spe_interp.f)) to assign intensity values at these angles, based on neighboring values along an iso-energy line. in the $(\\theta,E)$ phase space.\n",
      "\n",
      "Step 2. A background file containing the empty can is treated in the same way, then substracted from the data.\n",
      "\n",
      "Step 3. A $\\theta$ range is considered, outside of which the data is not considered trustworthy.\n",
      "\n",
      "Step 4. Conversion $S(\\theta,E) \\rightarrow S(Q,E)$.\n",
      "\n",
      "Step 5. Slicing of S(Q,E) as a rebin in inergy with \"thick\" energy binning (typical values in the 0.5 to 2 meV range), in order to gain enough statistical significance. The resulting number of slices, or spectra, is in the order of $10^2$. Slicing performed with \n",
      "[qcutall.f](files/meetings/June_11_2015/qcutall.f)\n",
      " \n",
      "<center><a href=\"files/meetings/June_11_2015/step5.png\"><img src=\"files/meetings/June_11_2015/step5.png\" width=\"300\" height=\"250\" alt=\"meetings/June_11_2015/step5.png\"></a> <br/><i>meetings/June_11_2015/step5.png</i></center>\n",
      "    \n",
      "Step6. Removal of the trend over which the fluctuations are superimposed.\n",
      "\n",
      "<center><a href=\"files/meetings/June_11_2015/step6.png\"><img src=\"files/meetings/June_11_2015/step6.png\" width=\"300\" height=\"250\" alt=\"meetings/June_11_2015/step6.png\"></a> <br/><i>meetings/June_11_2015/step6.png</i></center>\n",
      "\n",
      "This is the most complex step, and includes a fitting of the spectra to different models based on phonon expansion. The model most commonly used to fit the trend is a Gaussian. The fit is done to every spectrum, and independently of each other. A sequential fitting of the spectra is usually performed, however the chosen model may stop being useful when certain ranges of the energy are reached.\n",
      "\n",
      "The fits models are coded in the following fortran programs: \n",
      "\n",
      "* [dbfit0.f](files/meetings/June_11_2015/dbfit0.f), $YFIT=ac(1) + ac(2)x + ac(3)x^2$ (Quadratic)\n",
      "* [dbfit1.f](files/meetings/June_11_2015/dbfit1.f), $YFIT=ac(1)+ac(2)e^{-ac(3)x^2}$ (Gaussian)\n",
      "* [dbfit2.f](files/meetings/June_11_2015/dbfit2.f), $YFIT=ac(1)+[ac(2)+ac(3)x^2]e^{-ac(4)x^2}$\n",
      "* [dbfit2sm.f](files/meetings/June_11_2015/dbfit2sm.f) same a above but data is box-smmothed before fit\n",
      "* [dbfit3.f](files/meetings/June_11_2015/dbfit3.f) $YFIT=ac(1)+[ac(2)x^2+ac(3)x^4]e^{-ac(4)x^2}$\n",
      "\n",
      "The effects of the interpolation step can be observed as high frequency oscillations in the spectra at particular values of Q\n",
      "\n",
      "<center><a href=\"files/meetings/June_11_2015/step6b.png\"><img src=\"files/meetings/June_11_2015/step6b.png\" width=\"300\" height=\"250\" alt=\"meetings/June_11_2015/step6b.png\"></a> <br/><i>meetings/June_11_2015/step6b.png</i></center>\n",
      "\n",
      "Step 7. If the fitting is good, the spectra should fluctuate around S(Q,E)=0. Wojciech substract a flat background to make sure.\n",
      "\n",
      "<center><a href=\"files/meetings/June_11_2015/step7.png\"><img src=\"files/meetings/June_11_2015/step7.png\" width=\"300\" height=\"250\" alt=\"meetings/June_11_2015/step7.png\"></a> <br/><i>meetings/June_11_2015/step7.png</i></center>\n",
      "\n",
      "Step 8. Fourier transform $S(Q,E) \\rightarrow g(r,E)$. Wojciech had bad results with DFT, thus he uses the regular Fourier transform. Performed with [rdf-b4.f](files/meetings/June_11_2015/rdf-b4.f)\n",
      "\n",
      "<center><a href=\"files/meetings/June_11_2015/step8.png\"><img src=\"files/meetings/June_11_2015/step8.png\" width=\"300\" height=\"250\" alt=\"meetings/June_11_2015/step8.png\"></a> <br/><i>meetings/June_11_2015/step8.png</i></center>\n",
      "\n",
      "To summarize, these are the contents of workflow [flow.txt](files/meetings/June_11_2015/flow.txt) showing how to call the fortran programs:\n",
      "<pre>./spe_rw2 sep_in spe_out - small format conversion \n",
      "./spe_interp spe_in spe_out (reads det.dat) detector interpolation in 2th\n",
      "./spe_sub-plain data.specan.spe -> data-csub.spe\n",
      "./spe_rw3 data.spe data-esums.spe -80.25 (E_min) 4 (number of summed esteps) 2.4633 (Phi min) 135.80 (Phi max)\n",
      "sqe1 data.spe data.sqe  (reads sqe.inp file)\n",
      "./qcutall data.sqe dir/data\n",
      "run fits on q-cuts\n",
      "dbfit0          YFIT=ac(1) + ac(2)*x + ac(3)*x^2\n",
      "dbfit1          YFIT=AC(1)+ac(2)*exp(-ac(3)*x^2)\n",
      "dbfit2          YFIT=AC(1)+(ac(2)+ac(3)*x^2)*exp(-ac(4)*x^2)\n",
      "dbfit2sm        same a above but data is box-smmothed before fit\n",
      "dbfit3          YFIT=AC(1)+(ac(2)*x^2+ac(3)*x^2)*exp(-ac(4)*x^2)\n",
      "rdf-b4          reads *FIT* file and makes FT transform</pre>\n",
      "\n",
      "We end up with ~$10^2$ different $g(r,E)$ spectra, which Wojciech wishes to see as a 3D plot (or colored 2D plot). Also of interest would be a colored 3D plot of $g(r,E,T)$, with T being temperature or some other interetesting physical parameter."
     ]
    },
    {
     "cell_type": "markdown",
     "metadata": {},
     "source": [
      "(<a href='#meetings'>Top</a>)<a id='meetings.June26'></a><h3>June 26</h3>\n",
      "Requests regarding reduction:\n",
      "\n",
      "* Energy binning should be such that the bin containing the elastic line should have the center bin at E=0. Thus, if energy slice is $\\DeltaE$, the boundaries of the bin containing the elastic line shoudl be $-\\Delta E/2$ and $\\Delta E/2$.\n",
      "* Add option to remove background due to an empty can run.\n",
      "\n",
      "Request/comments regarding fitting procedure:\n",
      "\n",
      "* Make sure that the energy values used to label the fit workspaces for each slice should correspond to the center value of the slice.\n",
      "* Ability to interact with each fit, one by one. No need to do the fittings all at once. The best solution is an interface containing the fit wizard.\n",
      "\n",
      "Exploration of problems installing Mantid in RedHat 6:\n",
      "\n",
      "* Install a virtual RedHat 6 machine in my workstation and try to build Mantid."
     ]
    },
    {
     "cell_type": "markdown",
     "metadata": {},
     "source": [
      "(<a href='#meetings'>Top</a>)<a id='meetings.October15_2015'></a><h3>October 15, 2015</h3>\n",
      "Regarding the future interface to remove background from energy slices:\n",
      "\n",
      "* The fit window should have sliders to set the Q-range over which to carry out the fitting  \n",
      "* The fit should extend beyond the fitting Q-range, so that one can compare the model against the data outside the fitting Q-range  \n",
      "<center><a href=\"files/meetings/October_15_2015/fit_ranges.PNG\"><img src=\"files/meetings/October_15_2015/fit_ranges.PNG\" width=\"300\" height=\"300\" alt=\"meetings/October_15_2015/fit_ranges.PNG\"></a> <br/><i>meetings/October_15_2015/fit_ranges.PNG</i></center></br>\n",
      "\n",
      "* Highlight the selected energy slice in the sliceviewer plot \n",
      "<center><a href=\"files/meetings/October_15_2015/highlight_slice.PNG\"><img src=\"files/meetings/October_15_2015/highlight_slice.PNG\" width=\"300\" height=\"300\" alt=\"meetings/October_15_2015/highlight_slice.PNG\"></a> <br/><i>meetings/October_15_2015/highlight_slice.PNG</i></center></br>  \n",
      "\n",
      "Regarding the reduction algorith:\n",
      "\n",
      "* Substract empty can  \n",
      "\n",
      "Using mscat program with Matlab and also [analysis.zip](files/meetings/October_15_2015/analysis.zip) (with all needed code).  \n",
      "Instructions from Adroja, DT (Devashibhai) <D.T.Adroja@rl.ac.uk>  \n",
      "\n",
      "Here is a MATLAB version of DISCUS programme, to phonon corrections. It works with MSLICE. Here are instructions to use\n",
      "it:  \n",
      "\n",
      "1. unzip above folder,  says in c:\\mprogs\\analysis\n",
      "2. Start MATLAB\n",
      "3. start MSLICE\n",
      "4. cd c:\\mprogs\\analysis\n",
      "5. read your HET, MARI or MAPS data in MSLICE\n",
      "6. run corrections  (this is the programme to run DISCUS, you will see a new Window opens)\n",
      "7. use powder mode\n",
      "8. Viewing Axes u1=2Theta and u2=Energy\n",
      "9. calculate projection\n",
      "10. cut along Energy (i.e.u2) and thickness use higher angle data only as a DOS of phonon for input. For HET 110 to 140 for the high angles banks.\n",
      "11. say from 5meV to 80% of Ei (this is just to make phonon peaks)\n",
      "12. Outputfile  select 'xye'  browse file in the same folder where correction programme is there (i.e. analysis folder) and give file name say 'PDAIa.dat'\n",
      "13. plot CUT  (this will plot the cut and write the ASCII file also)\n",
      "14. now click on DATA Correction window, Correction program, DISCUS, create DISCUS header the you will see new window.\n",
      "15. fill all the informations. For sample name for TbB2C2  type Tb1B2C2. For Enter angles to simulate : The first left hand side box is for average input angle, from where you made the cut (HET 124 deg). Then you can give maximum 9 angles for phonon simulation, says 5, 10, 15, 20, 25, 30,....\n",
      "16. for Enter energy (three lines below) Peak1   Peak Energy  (give maximum energy up to you have seen phonon peaks And for Fraction contribution give   '1 1 1'  for three elements (Tb, B, C) or '1 1 1 1' for four elements No need to use peak2 and peak3\n",
      "17. Write/load header/...   in box below  give the same file name, but'PDAI1.header' different extension.  Then click write file.\n",
      "18. Now see MATLAB command window, which says that 'PDAI1.Z' file written.\n",
      "19. Now you are ready to run DISCUS.\n",
      "20. click on correction prgrame, DISCIS, RUN DISCUS. This will automatically pickup last file. Then click RUN DISCUS, this will take some time 20-30 minutes.\n",
      "21. When the calculation is finished you will see message in the command window.\n",
      "22. to see the results, Correction programme, DISCUS view RESULTS this will bring new window. In right hand side two boxes input Min and Max angles of your phonon DOS cut.\n",
      "23. click Subtract phonon or view phonon\n",
      "24. then you can plot data in E vs Q\n",
      "25. this is all you need.\n",
      "26. good luck."
     ]
    },
    {
     "cell_type": "markdown",
     "metadata": {},
     "source": [
      "(<a href='#meetings'>Top</a>)<a id='meetings.April_13_2016'></a><h3>April 13, 2016</h3>\n",
      "Showed the \"zero\" version of the background remover interface to Stuart, Wojtek, and his student.\n",
      "\n",
      "Request/comments:\n",
      "\n",
      "* Errors in the resulting G(r,E). Code in <code>PDFFourierTransform</code> algorithm should be reviewed.\n",
      "* Save the G(r,E) cuts both as a bidimensional plots and in a Group-Workspace. Same with the residuals.\n",
      "* A guess curve should be added, and the fitted curve should store the values. The guess and fitted curve should be visible in all three displays (fiting, residuals, and Fourier-transformed displays).\n",
      "* Implement the functionality for the custom models."
     ]
    },
    {
     "cell_type": "markdown",
     "metadata": {},
     "source": [
      "(<a href='#UQ'>Top</a>)<a id='UQ.sshfs'></a><h3>How to mount /SNS wiht SSH</h3>\n",
      "Mount /SNS through SSH, no need to transfer the files to your machine hardrive. You would type in a terminal:\n",
      "\n",
      "<code>sudo mkdir /SNS\n",
      "sudo sshfs -o allow_other w82@analysis.sns.gov:/SNS /SNS</code>\n",
      "\n",
      "If you don't have command sshfs, install it with yum:\n",
      "<code>sudo yum install sshfs</code>\n",
      "\n",
      "After this, you can actually navigave to /SNS as you would if logged in the analysis machines. For instance, to access raw data fo IPTS-12530 of ARCS:\n",
      "<code>cd /SNS/lustre/ARCS/IPTS-12530/data</code>\n",
      "\n",
      "Now that you have the data in a directory (either\n",
      "/home/wojtek/workingdir/ or /SNS/lustre/ARCS/IPTS-12530/data), you have to add it to the list of <i>Data Search Directories</i> in Mantid. To do this, open MantidPlot and then select <i>Manage User Directories</i> from the <i>File</i> menu. You'll get a popup like this:\n",
      "\n",
      "<center><a href=\"files/other/screenshot_manage_user_directories_1.png\"><img src=\"files/other/screenshot_manage_user_directories_1.png\" width=\"300\" height=\"300\" alt=\"other/screenshot_manage_user_directories_1.png\"></a> <br/><i>other/screenshot_manage_user_directories_1.png</i></center></br>\n",
      "\n",
      "Now either type in the path of the directory, or use the <i>Browse To Directory button</i>. Also, be sure to uncheck the <i>Search Data Archive</i> box. You have something like this:\n",
      "\n",
      "<center><a href=\"files/other/screenshot_manage_user_directories_2.png\"><img src=\"files/other/screenshot_manage_user_directories_2.png\" width=\"300\" height=\"300\" alt=\"other/screenshot_manage_user_directories_2.png\"></a> <br/><i>other/screenshot_manage_user_directories_2.png</i></center></br>\n",
      "\n",
      "Now click in the <i>Add Directory</i> button and this directory will be added to the list of <i>Data Search Directories</i>. You can add more directories to the list in the same fashion.\n",
      "\n",
      "Once you have done this, you can use the DPDF algorithm and enter the run numbers for the event Nexus files as usual. Mantid will search in the list of <i>Data Search Directories</i> for the raw data files."
     ]
    },
    {
     "cell_type": "markdown",
     "metadata": {},
     "source": [
      "(<a href='#Table of Contents'>Top</a>)<a id='Reduction'></a><h2>Reduction</h2>"
     ]
    },
    {
     "cell_type": "markdown",
     "metadata": {},
     "source": [
      "(<a href='#Reduction'>Top</a>)<a id='Reduction.benchmarkRun'></a><h3>Benchmark run</h3>\n",
      "We'll be using the folling run as a benchmark of our workflow:\n",
      "<pre>-----------VANADIUM CALIBRATION AND MASKING-----------\n",
      "Calibration loaded from /SNS/lustre/ARCS/IPTS-8124/shared/AlMelt_Jan2015/mantidreduction/van56293.nxs\n",
      "\n",
      "-----------DATA REDUCTION-----------------------------\n",
      "Loaded data run from /SNS/ARCS/IPTS-8124/0/56415/NeXus/ARCS_56415_event.nxs\n",
      "Added data run from /SNS/ARCS/IPTS-8124/0/56416/NeXus/ARCS_56416_event.nxs\n",
      "Added data run from /SNS/ARCS/IPTS-8124/0/56417/NeXus/ARCS_56417_event.nxs\n",
      "Added data run from /SNS/ARCS/IPTS-8124/0/56418/NeXus/ARCS_56418_event.nxs\n",
      "Added data run from /SNS/ARCS/IPTS-8124/0/56419/NeXus/ARCS_56419_event.nxs\n",
      "Added data run from /SNS/ARCS/IPTS-8124/0/56420/NeXus/ARCS_56420_event.nxs\n",
      "Bad pulses have been filterd from the data file(s).\n",
      "Incident energy is calculated from monitor data.\n",
      "Ei =116.782810853 meV, t0 =20.0620963024 microseconds\n",
      "No time-independent background subtraction performed.\n",
      "Data normalized by proton charge (5403.77269707 micro-Ah), (19.4535817095 C).\n",
      "Data corrected for He3 Tube Efficiency.\n",
      "ki/kf factor has been applied to the data.\n",
      "Data binned with emin=-120.0, emax=115.0, ebin=0.5 meV.\n",
      "Data converted to differential cross section by dividing by the energy bin width.\n",
      "Data have been normalized and masked by the calibration file.</pre>\n",
      "These are the contents of file [Al_Melting_120meV_120p00_summary.txt](files/meetings/June_11_2015/Al_Melting_120meV_120p00_summary.txt).\n",
      "\n",
      "In subdirectory <i>benchmark/</i> we have the nexus events files (ARCS_56415_event.nxs, ARCS_56416_event.nxs, ARCS_56417_event.nxs,ARCS_56418_event.nxs, ARCS_56419_event.nxs, ARCS_56420_event.nxs) and the processed vandium file (van56293.nxs)."
     ]
    },
    {
     "cell_type": "markdown",
     "metadata": {},
     "source": [
      "(<a href='#Reduction'>Top</a>)<a id='Reduction.detectorGaps'></a><h3>Gaps in ARCS detectors</h3>\n",
      "ARCS has three rows of detectors, each divided into squares. There are gaps between squares:\n",
      "\n",
      "<center><a href=\"files/detector_gaps/gaps.v2.png\"><img src=\"files/detector_gaps/gaps.v2.png\" width=\"400\" height=\"400\" alt=\"meetings/detector_gaps/gaps.v2.png\"></a> <br/><i>detector_gaps/gaps.v2.png</i></center>\n",
      "\n",
      "The above image shows the intensity of the benchmark set on the ARCS instrument. At 105 and 75 degrees, there is no intensity recorded because there is no cross section between detector area and the intensity rings corresponding to $\\theta$ equal to these angles."
     ]
    },
    {
     "cell_type": "markdown",
     "metadata": {},
     "source": [
      "(<a href='#Reduction'>Top</a>)<a id='Reduction.reduceBenchmark'></a><h3>Early reduction of benchmark</h3>\n",
      "In subdirectory <i>benchmark/</i> we have script [reduce.py](files/benchmark/reduce.py) which takes the events files and the processed vanadium for the benchmark and generates histograms S(\\theta,E), S(Q,E).\n",
      "The steps for the reduction are:\n",
      "\n",
      "* Load event files into a sinle workspace\n",
      "* Load the vanadium file\n",
      "* Retrieve the mask from the vanadium workspace, and apply it to the data\n",
      "* Obtain incident energy as the mean of the nominal Ei values. There is one nominal value per events file\n",
      "* Convert to energy transger. The output workspace is $S(detector-id,E)$\n",
      "* Convert to $S(\\theta,E)$\n",
      "* Convert vanadium data to $S(\\theta)$. For the processed vanadium, every detector has all energies into a single bin, so we get $S(\\theta)$ instead of $S(\\theta,E)$.\n",
      "* Convert $S(\\theta,E)$ to $S(Q,E)$, then rebin in |Q| and E. The output workspace is of type MDworkspace.\n",
      "* Slice the data by transforming to a Matrix2Dworkspace, with energy transfer along the vertical axis."
     ]
    },
    {
     "cell_type": "markdown",
     "metadata": {},
     "source": [
      "(<a href='#Reduction'>Top</a>)<a id='Reduction.DPDFreduction'></a><h3>DPDFreduction algorithm</h3>\n",
      "We create Mantid algorithm [DPDFreduction.py](files/reduction/DPDFreduction.py) that includes the following steps:\n",
      "\n",
      "* Load several event files into a sinle workspace.\n",
      "* Load the vanadium file\n",
      "* Retrieve the mask from the vanadium workspace, and apply it to the data\n",
      "* If not supplied by the user, obtain incident energy as the mean of the nominal indicent energy values in the logs\n",
      "* Convert to energy transger. The output workspace is $S(detector-id,E)$\n",
      "* Obtain maximum and minimum |Q| values, as well as dQ if not supplied by the user\n",
      "* Convert to $S(\\theta,E)$\n",
      "* Convert vanadium data to $S(\\theta)$. For the processed vanadium, every detector has all energies into a single bin, so we get $S(\\theta)$ instead of $S(\\theta,E)$.\n",
      "* Normalize by the vanadium intensity\n",
      "* Linear interpolation at angles $\\theta^*$ for which $S(\\theta^*,E)=0 \\ \\forall \\ E$\n",
      "* Convert $S(\\theta,E)$ to $S(Q,E)$, then rebin in |Q| and E. The output workspace is of type MDworkspace.\n",
      "* Slice the data by transforming to a Matrix2Dworkspace, with energy transfer along the vertical axis.\n",
      "\n",
      "The last step in the reduction, the slicing by executing algorithm <i>ConvertMDHistoToMatrixWorkspace</i> requires normalization <i>NumEventsNormalization</i>. Our input workspace has as many spectra as instrument detectors. Each detector has a 2D binning in Q and E. Each detector is at a particular $\\theta$ angle, thus E and Q are related by:\n",
      "\n",
      "$E(Q) \\rightarrow \\frac{\\hbar Q^2}{2m} =  2E_i + E -2\\sqrt{(E_i+E)E_i} \\ \\ \\cos\\theta$\n",
      "\n",
      "That means that only (Q,E) bins satisfying the above condition have counts. Thus for detector <i>i</i> we have number of counts $N_i(Q_j,E_k) \\neq 0$ if the $(Q_j, E_k)$ pair satisfy the above condition. This represents a trajectory in Q-E space.\n",
      "\n",
      "When we execute algorithm <i>ConvertMDHistoToMatrixWorkspace</i> with Q binning $\\Delta Q$ and E binning $\\Delta E$, we go detector by detectory and we look at the fragment of the Q(E) trajectory enclosed in the cell of Q-E phase space denoted by the corners $(Q,E)$, $(Q+\\Delta Q,E)$, $(Q,E+\\Delta E)$ and $(Q+\\Delta Q,E+\\Delta E)$. Thus we have for detector $i$ to look at the $(Q_j, E_k)$ pairs whithin this cell for detector $i$, with associated $N_i(Q_j,E_k)$ counts and associated scattering cross-section:\n",
      "\n",
      "($\\frac{d\\sigma^2}{dE d\\Omega})_{i,j,k} \\ \\ (Q_j,E_k) = \\frac{N_i(Q_j,E_k)}{d\\Omega \\delta E}$\n",
      "\n",
      "The scattering cross-section in the aforemention cell of dimensions $\\Delta Q$ x $\\Delta E$ is the <i>average</i> of all the scattering cross sections:\n",
      "\n",
      "$\\frac{d\\sigma^2}{\\Delta E d\\Omega}(Q,E) = \\sum\\limits_{i,j,k}(\\frac{d\\sigma^2}{\\delta E d\\Omega})_{i,j,k} \\ \\ (Q_j,E_k) \\cdot \\Pi_{Q,Q+\\Delta Q} \\ \\ \\ (Q_j) \\cdot \\Pi_{E,E+\\Delta E} \\ \\ \\ (E_k) / \\sum\\limits_{i,j,k} \\Pi_{Q,Q+\\Delta Q} \\ \\ \\ (Q_j) \\cdot \\Pi_{E,E+\\Delta E} \\ \\ \\ (E_k)$\n",
      "\n",
      "where $\\Pi_{a,b} \\ (x)$ is the [boxcar function](http://mathworld.wolfram.com/BoxcarFunction.html)\n",
      "\n",
      "<center><a href=\"files/reduction/DPDFreduction_window.png\"><img src=\"files/reduction/DPDFreduction_window.png\" width=\"300\" height=\"300\" alt=\"reduction/DPDFreduction_window.png\"></a> <br/><i>reduction/DPDFreduction_window.png</i></center>\n",
      "\n",
      "If we apply the reduction algorithm to the benchmark data, we obtain reduced file [DPDFreduction.nxs](files/benchmark/DPDFreduction.nxs) (downloadable from [here](https://www.dropbox.com/s/ipsrtvrh9oq8mt6/DPDFreduction.nxs?dl=0))\n",
      "\n",
      "The Structure factor stored in <i>DPDFreduction.nxs</i> viewed with sliceviewer from MantidPlot:\n",
      "\n",
      "<center><a href=\"files/benchmark/DPDFreduction.png\"><img src=\"files/benchmark/DPDFreduction.png\" width=\"300\" height=\"300\" alt=\"benchmark/DPDFreduction.png\"></a> <br/><i>benchmark/DPDFreduction.png</i></center>\n",
      "\n",
      "If we take a slice of this 2D view of the structure factor, we see the phonon peaks on top of the multiphonon background.\n",
      "\n",
      "<center><a href=\"files/benchmark/DPDFreduction_E_7.5.png\"><img src=\"files/benchmark/DPDFreduction_E_7.5.png\" width=\"300\" height=\"300\" alt=\"benchmark/DPDFreduction_E_7.5.png\"></a> <br/><i>benchmark/DPDFreduction_E_7.5.png</i></center>\n"
     ]
    },
    {
     "cell_type": "markdown",
     "metadata": {},
     "source": [
      "(<a href='#Reduction'>Top</a>)<a id='Reduction.i15588'></a><h3>Ensure correct units of the output reduced workspace</h3>\n",
      "[Github issue i15588](https://github.com/mantidproject/mantid/issues/15588)\n",
      "[Github pull request ???]\n",
      "\n",
      "We test the amended reduction with script [reduction_test.py](files/i15588/reduction_test.py). Prior to running the test, we have to add directory <i>/projects/development/DPDF/benchmark</i> to mantid preferences.\n",
      "\n",
      "The same test using the dialog is shown here.\n",
      "<center><a href=\"files/i15588/dialog.png\"><img src=\"files/i15588/dialog.png\" width=\"500\" height=\"300\" alt=\"i15588/dialog.png\"></a> <br/><i>i15588/dialog.png</i></center>\n"
     ]
    },
    {
     "cell_type": "markdown",
     "metadata": {},
     "source": [
      "(<a href='#SL'>Top</a>)<h2>Slice Selector</h2>\n",
      "This is the graphical user interface that loads the workspace, shows it as a 2D view and 1D slices, and opens the background removal interface."
     ]
    },
    {
     "cell_type": "markdown",
     "metadata": {},
     "source": [
      "(<a href='#SL'>Top</a>)<a id='SL.slidingBar'></a><h3>Insert a sliding line in the 2D view</h3>\n",
      "In subdirectory <i>i15582/</i>.  \n",
      "[Github issue 15582](https://github.com/mantidproject/mantid/issues/15582)  \n",
      "[Pull request 15592](https://github.com/mantidproject/mantid/pull/15592) \n",
      "\n",
      "<center><table><tr>\n",
      "<td><a href=\"files/i15582/replace_slider.png\"><img src=\"files/i15582/replace_slider.png\" width=\"300\" height=\"300\" alt=\"i15582/replace_slider.png\"></a> <i>BEFORE: i15582/replace_slider.png</i></td>\n",
      "<td><a href=\"files/i15582/slider_replaced.png\"><img src=\"files/i15582/slider_replaced.png\" width=\"300\" height=\"300\" alt=\"i15582/slider_replaced.png\"></a> <i>AFTER: i15582/slider_replaced.png</i></td>\n",
      "</tr></table></center>"
     ]
    },
    {
     "cell_type": "markdown",
     "metadata": {},
     "source": [
      "(<a href='#Table of Contents'>Top</a>)<a id='BRI'></a><h2>Background Removal Interface</h2>\n",
      "This is the graphical user interface to be implemented as an interface in Mantid. For every energy slice, we remove the multi-phonon contribution and other background."
     ]
    },
    {
     "cell_type": "markdown",
     "metadata": {},
     "source": [
      "(<a href='#BRI'>Top</a>)<a id='BRI.Mockup'></a><h3>Mockup</h3>\n",
      "In the windows computer (<i>work\\projects\\development\\DPDF</i>) we create a mockup for the interface with Balsamiq. Here's a snapshot:\n",
      "\n",
      "<center><a href=\"files/background_removal_interface/mockup/background_removal_tool_mockup.png\"><img src=\"files/background_removal_interface/mockup/background_removal_tool_mockup.png\" width=\"500\" height=\"300\" alt=\"other/background_removal_interface/mockup/background_removal_tool_mockup.png\"></a> <br/><i>background_removal_interface/mockup/background_removal_tool_mockup.png</i></center></br>"
     ]
    },
    {
     "cell_type": "markdown",
     "metadata": {},
     "source": [
      "(<a href='#BRI'>Top</a>)<a id='BRI.GI15091'></a><h3>Qt-designer plugin class for MantidWidget::PreviewPlot</h3>\n",
      "[Issue 15091](https://github.com/mantidproject/mantid/issues/15091)  \n",
      "[Pull Request 15099](https://github.com/mantidproject/mantid/pull/15099)"
     ]
    },
    {
     "cell_type": "markdown",
     "metadata": {},
     "source": [
      "(<a href='#BRI'>Top</a>)<a id='BRI.GI15275'></a><h3>Migrate QScienceSpinBox widget from MantidQt/SliceViewer to MantidQt/API</h3>\n",
      "[Issue 15275](https://github.com/mantidproject/mantid/issues/15275)  \n",
      "[Pull Request 15298](https://github.com/mantidproject/mantid/pull/15298)"
     ]
    },
    {
     "cell_type": "markdown",
     "metadata": {},
     "source": [
      "(<a href='#BRI'>Top</a>)<a id='BRI.GI15276'></a><h3>Migrate ColorBarWidget from MantidQt/SliceViewer to MantidQt/MantidWidgets</h3>\n",
      "[Issue 15276](https://github.com/mantidproject/mantid/issues/15276)  \n",
      "[Pull Request 15333](https://github.com/mantidproject/mantid/pull/15333)"
     ]
    },
    {
     "cell_type": "markdown",
     "metadata": {},
     "source": [
      "(<a href='#BRI'>Top</a>)<a id='BRI.GI14936'></a><h3>Show the SliceSelector widget when invoquing the DynamicPDF custom-interface</h3>\n",
      "[Issue 14936](https://github.com/mantidproject/mantid/issues/14936)  \n",
      "[Pull Request 15256](https://github.com/mantidproject/mantid/pull/15256)"
     ]
    },
    {
     "cell_type": "markdown",
     "metadata": {},
     "source": [
      "(<a href='#BRI'>Top</a>)<a id='BRI.GI15304'></a><h3>MantidWidget for plotting results of a Curve Fitting</h3>\n",
      "[Issue 15304](https://github.com/mantidproject/mantid/issues/15304)  \n",
      "[Pull Request 15391](https://github.com/mantidproject/mantid/pull/15391)"
     ]
    },
    {
     "cell_type": "markdown",
     "metadata": {},
     "source": [
      "(<a href='#BRI'>Top</a>)<a id='BRI.GI15632'></a><h3>PreviewPlot uses the bin boundaries instead of the bin centers</h3>\n",
      "Directory <i>i15632/</i> with test script [test.py](files/i15632/test.py).  \n",
      "[Issue 15632](https://github.com/mantidproject/mantid/issues/15632)  \n",
      "[Pull Request 15639](https://github.com/mantidproject/mantid/pull/15639)"
     ]
    },
    {
     "cell_type": "markdown",
     "metadata": {},
     "source": [
      "(<a href='#BRI'>Top</a>)<a id='BRI.GI15429'></a><h3>Integrate a FitPropertyBrowser and a DisplayCurveFit</h3>\n",
      "Directory <i>i15429/</i>  \n",
      "[Issue 15429](https://github.com/mantidproject/mantid/issues/15429)  \n",
      "[Pull Request 15920](https://github.com/mantidproject/mantid/pull/15920)\n",
      "\n",
      "A minimum functionality for the background remover interface of the DynamicPDF project is now in place. The interface as is now will be evaluated by a friendly external user to get feedback.\n",
      "\n",
      "<center><a href=\"files/i15429/interface_snapshot.png\"><img src=\"files/i15429/interface_snapshot.png\" width=\"500\" height=\"300\" alt=\"i15429/interface_snapshot.png\"></a>  <i>i15429/interface_snapshot.png</i></center>\n",
      "\n"
     ]
    },
    {
     "cell_type": "markdown",
     "metadata": {},
     "source": [
      "(<a href='#Table of Contents'>Top</a>)<a id='Syntax'></a><h3>Syntax Examples</h3>\n",
      "local link: [link](files/link)</br>\n",
      "remote link: <a href=\"http://ambermd.org/\">http://ambermd.org</a>\n",
      "<font face=\"courier new\"> font face=\"courier new\" </font><br/>\n",
      "$$S_{model}(Q,E)=A(Q)\\cdot S_{elastic}(E) + B(Q)\\cdot S_{simulation}(Q,E)\\otimes S_{elastic}(E) + C(Q)+D(Q)\\cdot E$$\n",
      "<pre> Quoted text </pre>\n",
      "<center><table><tr>\n",
      "<td><a href=\"files/image.png\"><img src=\"files/image.png\" width=\"300\" height=\"250\" alt=\"image here\"></a> <br/>\n",
      "    <i>image caption</i></td>\n",
      "<td>some text</td>\n",
      "</tr></table></center>"
     ]
    },
    {
     "cell_type": "code",
     "collapsed": false,
     "input": [],
     "language": "python",
     "metadata": {},
     "outputs": []
    }
   ],
   "metadata": {}
  }
 ]
}